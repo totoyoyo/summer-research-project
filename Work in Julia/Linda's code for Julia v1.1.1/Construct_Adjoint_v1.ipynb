{
 "cells": [
  {
   "cell_type": "markdown",
   "metadata": {},
   "source": [
    "# Construct Adjoint for Julia v1\n",
    "\n",
    "* Date created: June 12, 2019\n",
    "* Name: Sultan Aitzhan\n",
    "* Description: The relevant code for constructing an adjoint matrix is copypasted here from $\\textit{Fokas_method_code_v1.ipynb}$ and the test functions are updated."
   ]
  },
  {
   "cell_type": "markdown",
   "metadata": {
    "heading_collapsed": true
   },
   "source": [
    "## Importing packages and modules"
   ]
  },
  {
   "cell_type": "code",
   "execution_count": 12,
   "metadata": {
    "collapsed": true,
    "hidden": true
   },
   "outputs": [],
   "source": [
    "using SymPy\n",
    "# using Roots\n",
    "using Distributions\n",
    "# using IntervalArithmetic\n",
    "# using IntervalRootFinding\n",
    "using ApproxFun"
   ]
  },
  {
   "cell_type": "markdown",
   "metadata": {
    "heading_collapsed": true
   },
   "source": [
    "## Global variables"
   ]
  },
  {
   "cell_type": "code",
   "execution_count": 13,
   "metadata": {
    "hidden": true
   },
   "outputs": [
    {
     "data": {
      "text/plain": [
       "10"
      ]
     },
     "execution_count": 13,
     "metadata": {},
     "output_type": "execute_result"
    }
   ],
   "source": [
    "TOL = 1e-05\n",
    "DIGITS = 3\n",
    "INFTY = 10"
   ]
  },
  {
   "cell_type": "markdown",
   "metadata": {},
   "source": [
    "## Helper functions"
   ]
  },
  {
   "cell_type": "markdown",
   "metadata": {},
   "source": [
    "### `check_all`"
   ]
  },
  {
   "cell_type": "code",
   "execution_count": 14,
   "metadata": {},
   "outputs": [
    {
     "data": {
      "text/plain": [
       "check_all (generic function with 1 method)"
      ]
     },
     "execution_count": 14,
     "metadata": {},
     "output_type": "execute_result"
    }
   ],
   "source": [
    "# Check whether all elements in a not necessarily homogeneous array satisfy a given condition.\n",
    "function check_all(array, condition)\n",
    "    for x in array\n",
    "        if !condition(x)\n",
    "            return false\n",
    "        end\n",
    "    end\n",
    "    return true\n",
    "end"
   ]
  },
  {
   "cell_type": "markdown",
   "metadata": {},
   "source": [
    "### `set_tol`"
   ]
  },
  {
   "cell_type": "code",
   "execution_count": 15,
   "metadata": {},
   "outputs": [
    {
     "data": {
      "text/plain": [
       "set_tol (generic function with 1 method)"
      ]
     },
     "execution_count": 15,
     "metadata": {},
     "output_type": "execute_result"
    }
   ],
   "source": [
    "function set_tol(x::Union{Number, Array}, y::Union{Number, Array}; atol = TOL)\n",
    "    if isa(x, Number) && isa(y, Number)\n",
    "       return atol * mean([x y])\n",
    "    elseif isa(x, Array) && isa(y, Array)\n",
    "        if size(x) != size(y)\n",
    "            throw(error(\"Array dimensions do not match\"))\n",
    "        end\n",
    "        # Avoid InexactError() when taking norm()\n",
    "        x = convert(Array{Complex}, x)\n",
    "        y = convert(Array{Complex}, y)\n",
    "        return atol * (LinearAlgebra.norm(x) + LinearAlgebra.norm(y))\n",
    "    else\n",
    "        throw(error(\"Invalid input\"))\n",
    "    end\n",
    "end"
   ]
  },
  {
   "cell_type": "markdown",
   "metadata": {},
   "source": [
    "### `evaluate`"
   ]
  },
  {
   "cell_type": "code",
   "execution_count": 16,
   "metadata": {},
   "outputs": [
    {
     "data": {
      "text/plain": [
       "evaluate (generic function with 1 method)"
      ]
     },
     "execution_count": 16,
     "metadata": {},
     "output_type": "execute_result"
    }
   ],
   "source": [
    "function evaluate(func::Union{Function, SymPy.Sym, Number}, a::Number)\n",
    "    if isa(func, Function)\n",
    "        funcA = func(a)\n",
    "    elseif isa(func, SymPy.Sym) # SymPy.Sym must come before Number because SymPy.Sym will be recognized as Number\n",
    "        freeSymbols = free_symbols(func)\n",
    "        if length(freeSymbols) > 1\n",
    "            throw(error(\"func should be univariate\"))\n",
    "        elseif length(freeSymbols) == 1\n",
    "            t = free_symbols(func)[1,1]\n",
    "            if isa(a, SymPy.Sym) # if x is SymPy.Sym, do not convert result to Number to preserve pretty printing\n",
    "                funcA = subs(func, t, a)\n",
    "            else\n",
    "                funcA = SymPy.N(subs(func, t, a))\n",
    "            end\n",
    "        else\n",
    "            funcA = func\n",
    "        end\n",
    "    else # func is Number\n",
    "        funcA = func\n",
    "    end\n",
    "    return funcA\n",
    "end"
   ]
  },
  {
   "cell_type": "markdown",
   "metadata": {},
   "source": [
    "### `partition`"
   ]
  },
  {
   "cell_type": "code",
   "execution_count": 17,
   "metadata": {},
   "outputs": [
    {
     "data": {
      "text/plain": [
       "partition (generic function with 1 method)"
      ]
     },
     "execution_count": 17,
     "metadata": {},
     "output_type": "execute_result"
    }
   ],
   "source": [
    "# Generate two-integer partitions of n\n",
    "function partition(n::Int)\n",
    "    output = []\n",
    "    for i = 0:n\n",
    "        j = n - i\n",
    "        push!(output, (i,j))\n",
    "    end\n",
    "    return output\n",
    "end"
   ]
  },
  {
   "cell_type": "markdown",
   "metadata": {},
   "source": [
    "### `symDeriv`"
   ]
  },
  {
   "cell_type": "code",
   "execution_count": 18,
   "metadata": {},
   "outputs": [
    {
     "data": {
      "text/plain": [
       "get_deriv (generic function with 1 method)"
      ]
     },
     "execution_count": 18,
     "metadata": {},
     "output_type": "execute_result"
    }
   ],
   "source": [
    "function get_deriv(u::Union{SymPy.Sym, Number}, k::Int)\n",
    "    if k < 0\n",
    "        throw(error(\"Non-negative k required\"))\n",
    "    end\n",
    "    if isa(u, SymPy.Sym)\n",
    "        freeSymbols = free_symbols(u)\n",
    "        if length(freeSymbols) > 1\n",
    "            throw(error(\"u should be univariate\"))\n",
    "        elseif length(freeSymbols) == 1\n",
    "            t = freeSymbols[1]\n",
    "            y = u\n",
    "            for i = 1:k\n",
    "                newY = diff(y, t) # diff is from SymPy\n",
    "                y = newY\n",
    "            end\n",
    "            return y\n",
    "        else\n",
    "            if k > 0\n",
    "                return 0\n",
    "            else\n",
    "                return u\n",
    "            end\n",
    "        end\n",
    "    else\n",
    "        if k > 0\n",
    "            return 0\n",
    "        else\n",
    "            return u\n",
    "        end\n",
    "    end\n",
    "end"
   ]
  },
  {
   "cell_type": "markdown",
   "metadata": {},
   "source": [
    "### `add_func`"
   ]
  },
  {
   "cell_type": "code",
   "execution_count": 19,
   "metadata": {},
   "outputs": [
    {
     "data": {
      "text/plain": [
       "add_func (generic function with 1 method)"
      ]
     },
     "execution_count": 19,
     "metadata": {},
     "output_type": "execute_result"
    }
   ],
   "source": [
    "# Function addition (f + g)(x) := f(x) + g(x)\n",
    "function add_func(f::Union{Number, Function}, g::Union{Number, Function})\n",
    "    function h(x)\n",
    "        if isa(f, Number)\n",
    "            if isa(g, Number)\n",
    "                return f + g\n",
    "            else\n",
    "                return f + g(x)\n",
    "            end\n",
    "        elseif isa(f, Function)\n",
    "            if isa(g, Number)\n",
    "                return f(x) + g\n",
    "            else\n",
    "                return f(x) + g(x)\n",
    "            end\n",
    "        end\n",
    "    end\n",
    "    return h\n",
    "end"
   ]
  },
  {
   "cell_type": "markdown",
   "metadata": {},
   "source": [
    "### `mult_func`"
   ]
  },
  {
   "cell_type": "code",
   "execution_count": 20,
   "metadata": {},
   "outputs": [
    {
     "data": {
      "text/plain": [
       "mult_func (generic function with 1 method)"
      ]
     },
     "execution_count": 20,
     "metadata": {},
     "output_type": "execute_result"
    }
   ],
   "source": [
    "# Function multiplication (f * g)(x) := f(x) * g(x)\n",
    "function mult_func(f::Union{Number, Function}, g::Union{Number, Function})\n",
    "    function h(x)\n",
    "        if isa(f, Number)\n",
    "            if isa(g, Number)\n",
    "                return f * g\n",
    "            else\n",
    "                return f * g(x)\n",
    "            end\n",
    "        elseif isa(f, Function)\n",
    "            if isa(g, Number)\n",
    "                return f(x) * g\n",
    "            else\n",
    "                return f(x) * g(x)\n",
    "            end\n",
    "        end\n",
    "    end\n",
    "    return h\n",
    "end"
   ]
  },
  {
   "cell_type": "markdown",
   "metadata": {},
   "source": [
    "### `evaluate_matrix`"
   ]
  },
  {
   "cell_type": "code",
   "execution_count": 10,
   "metadata": {},
   "outputs": [
    {
     "data": {
      "text/plain": [
       "evaluate_matrix (generic function with 2 methods)"
      ]
     },
     "execution_count": 10,
     "metadata": {},
     "output_type": "execute_result"
    }
   ],
   "source": [
    "# Evaluate a matrix at t=a.\n",
    "# Entries of B may be Function, Number, or Sympy.Sym.\n",
    "function evaluate_matrix(matrix::Array, a::Number, t=nothing)\n",
    "    (m, n) = size(matrix)\n",
    "    matrixA = Array{Number}(m,n)\n",
    "    for i = 1:m\n",
    "        for j = 1:n\n",
    "            matrixA[i,j] = evaluate(matrix[i,j], a, t)\n",
    "        end\n",
    "    end\n",
    "    return matrixA\n",
    "end"
   ]
  },
  {
   "cell_type": "markdown",
   "metadata": {},
   "source": [
    "### `get_polynomial`"
   ]
  },
  {
   "cell_type": "code",
   "execution_count": 11,
   "metadata": {},
   "outputs": [
    {
     "data": {
      "text/plain": [
       "get_polynomial (generic function with 1 method)"
      ]
     },
     "execution_count": 11,
     "metadata": {},
     "output_type": "execute_result"
    }
   ],
   "source": [
    "# Implement a polynomial in the form of Julia function given an array containing coefficients of x^n, x^{n-1},..., x^2, x, 1.\n",
    "function get_polynomial(coeffList::Array)\n",
    "    polynomial = 0\n",
    "    n = length(coeffList)-1\n",
    "    for i in 0:n\n",
    "        newTerm = t -> coeffList[i+1] * t^(n-i)\n",
    "        polynomial = add_func(polynomial, newTerm)\n",
    "    end\n",
    "    return polynomial\n",
    "end"
   ]
  },
  {
   "cell_type": "markdown",
   "metadata": {},
   "source": [
    "### `get_polynomialDeriv`"
   ]
  },
  {
   "cell_type": "code",
   "execution_count": 12,
   "metadata": {},
   "outputs": [
    {
     "data": {
      "text/plain": [
       "get_polynomialDeriv (generic function with 1 method)"
      ]
     },
     "execution_count": 12,
     "metadata": {},
     "output_type": "execute_result"
    }
   ],
   "source": [
    "# Get the kth derivative of a polynomial implemented above\n",
    "function get_polynomialDeriv(coeffList::Array, k::Int)\n",
    "    if k < 0\n",
    "        throw(error(\"Only nonnegative degrees are allowed\"))\n",
    "    elseif k == 0\n",
    "        newCoeffList = coeffList\n",
    "    else\n",
    "        for counter = 1:k\n",
    "            n = length(coeffList)\n",
    "            newCoeffList = hcat([0],[(n-i)*coeffList[i] for i in 1:(n-1)]')\n",
    "            coeffList = newCoeffList\n",
    "        end\n",
    "    end\n",
    "    return get_polynomial(newCoeffList)\n",
    "end"
   ]
  },
  {
   "cell_type": "markdown",
   "metadata": {},
   "source": [
    "## Structs"
   ]
  },
  {
   "cell_type": "markdown",
   "metadata": {},
   "source": [
    "### `StructDefinitionError`"
   ]
  },
  {
   "cell_type": "code",
   "execution_count": 10,
   "metadata": {
    "collapsed": true
   },
   "outputs": [],
   "source": [
    "struct StructDefinitionError <: Exception\n",
    "    msg::String\n",
    "end"
   ]
  },
  {
   "cell_type": "markdown",
   "metadata": {},
   "source": [
    "### `SymLinearDifferentialOperator`"
   ]
  },
  {
   "cell_type": "code",
   "execution_count": 21,
   "metadata": {},
   "outputs": [
    {
     "data": {
      "text/plain": [
       "check_symLinearDifferentialOperator_input (generic function with 1 method)"
      ]
     },
     "execution_count": 21,
     "metadata": {},
     "output_type": "execute_result"
    }
   ],
   "source": [
    "struct SymLinearDifferentialOperator\n",
    "    # Entries in the array should be SymPy.Sym or Number. SymPy.Sym seems to be a subtype of Number, i.e., Array{Union{Number,SymPy.Sym}} returns Array{Number}. But specifying symPFunctions as Array{Number,2} gives a MethodError when the entries are Sympy.Sym objects.\n",
    "    symPFunctions::Array\n",
    "    interval::Tuple{Number,Number}\n",
    "    t::SymPy.Sym\n",
    "    SymLinearDifferentialOperator(symPFunctions::Array, interval::Tuple{Number,Number}, t::SymPy.Sym) =\n",
    "    try\n",
    "        symL = new(symPFunctions, interval, t)\n",
    "        check_symLinearDifferentialOperator_input(symL)\n",
    "        return symL\n",
    "    catch err\n",
    "        throw(err)\n",
    "    end\n",
    "end\n",
    "\n",
    "function check_symLinearDifferentialOperator_input(symL::SymLinearDifferentialOperator)\n",
    "    symPFunctions, (a,b), t = symL.symPFunctions, symL.interval, symL.t\n",
    "    for symPFunc in symPFunctions\n",
    "        if isa(symPFunc, SymPy.Sym)\n",
    "            if size(free_symbols(symPFunc)) != (1,) && size(free_symbols(symPFunc)) != (0,)\n",
    "                throw(StructDefinitionError(:\"Only one free symbol is allowed in symP_k\"))\n",
    "            end\n",
    "        elseif !isa(symPFunc, Number)\n",
    "            throw(StructDefinitionError(:\"symP_k should be SymPy.Sym or Number\"))\n",
    "        end\n",
    "    end\n",
    "    return true\n",
    "end"
   ]
  },
  {
   "cell_type": "markdown",
   "metadata": {},
   "source": [
    "### `LinearDifferentialOperator`"
   ]
  },
  {
   "cell_type": "code",
   "execution_count": 15,
   "metadata": {},
   "outputs": [
    {
     "data": {
      "text/plain": [
       "check_linearDifferentialOperator_input (generic function with 1 method)"
      ]
     },
     "execution_count": 15,
     "metadata": {},
     "output_type": "execute_result"
    }
   ],
   "source": [
    "# A linear differential operator of order n is encoded by an 1 x (n+1) array of functions, an interval [a,b], and its symbolic expression.\n",
    "# symL is an attribute of L that needs to be input by the user. There are checks to make sure symL is indeed the symbolic version of L.\n",
    "# Principle: Functionalities of Julia Functions >= Functionalities of SymPy. If p_k has no SymPy representation, the only consequence should be that outputs by functions that take L as arugment has no symbolic expression. E.g., we allow L.pFunctions and L.symL.pFunctions to differ.\n",
    "struct LinearDifferentialOperator\n",
    "    pFunctions::Array # Array of julia functions or numbers representing constant functions\n",
    "    interval::Tuple{Number,Number}\n",
    "    symL::SymLinearDifferentialOperator\n",
    "    LinearDifferentialOperator(pFunctions::Array, interval::Tuple{Number,Number}, symL::SymLinearDifferentialOperator) =\n",
    "    try\n",
    "        L = new(pFunctions, interval, symL)\n",
    "        check_linearDifferentialOperator_input(L)\n",
    "        return L\n",
    "    catch err\n",
    "        throw(err)\n",
    "    end\n",
    "end\n",
    "\n",
    "# Assume symFunc has only one free symbol, as required by the definition of SymLinearDifferentialOperator. \n",
    "# That is, assume the input symFunc comes from SymLinearDifferentialOperator.\n",
    "function check_func_sym_equal(func::Union{Function,Number}, symFunc, interval::Tuple{Number,Number}, t::SymPy.Sym) # symFunc should be Union{SymPy.Sym, Number}, but somehow SymPy.Sym gets ignored\n",
    "    (a,b) = interval\n",
    "    # Randomly sample 1000 points from (a,b) and check if func and symFunc agree on them\n",
    "    for i = 1:1000\n",
    "        # Check endpoints\n",
    "        if i == 1\n",
    "            x = a\n",
    "        elseif i == 2\n",
    "            x = b\n",
    "        else\n",
    "            x = rand(Uniform(a,b), 1)[1,1]\n",
    "        end\n",
    "        funcEvalX = evaluate(func, x)\n",
    "        if isa(symFunc, SymPy.Sym)\n",
    "            symFuncEvalX = SymPy.N(subs(symFunc,t,x))\n",
    "            # N() converts SymPy.Sym to Number\n",
    "            # https://docs.sympy.org/latest/modules/evalf.html\n",
    "            # subs() works no matter symFunc is Number or SymPy.Sym\n",
    "        else\n",
    "            symFuncEvalX = symFunc\n",
    "        end\n",
    "        tol = set_tol(funcEvalX, symFuncEvalX)\n",
    "        if !isapprox(real(funcEvalX), real(symFuncEvalX); atol = real(tol)) ||\n",
    "            !isapprox(imag(funcEvalX), imag(symFuncEvalX); atol = imag(tol))\n",
    "            println(\"x = $x\")\n",
    "            println(\"symFunc = $symFunc\")\n",
    "            println(\"funcEvalX = $funcEvalX\")\n",
    "            println(\"symFuncEvalX = $symFuncEvalX\")\n",
    "            return false\n",
    "        end\n",
    "    end\n",
    "    return true\n",
    "end\n",
    "\n",
    "# Check whether the inputs of L are valid.\n",
    "function check_linearDifferentialOperator_input(L::LinearDifferentialOperator)\n",
    "    pFunctions, (a,b), symL = L.pFunctions, L.interval, L.symL\n",
    "    symPFunctions, t = symL.symPFunctions, symL.t\n",
    "    # domainC = Complex(a..b, 0..0) # Domain [a,b] represented in the complex plane\n",
    "    p0 = pFunctions[1]\n",
    "    # p0Chebyshev = Fun(p0, a..b) # Chebysev polynomial approximation of p0 on [a,b]\n",
    "    if !check_all(pFunctions, pFunc -> (isa(pFunc, Function) || isa(pFunc, Number)))\n",
    "        throw(StructDefinitionError(:\"p_k should be Function or Number\"))\n",
    "    elseif length(pFunctions) != length(symPFunctions)\n",
    "        throw(StructDefinitionError(:\"Number of p_k and symP_k do not match\"))\n",
    "    elseif (a,b) != symL.interval\n",
    "        throw(StructDefinitionError(:\"Intervals of L and symL do not match\"))\n",
    "    # # Assume p_k are in C^{n-k}. Check whether p0 vanishes on [a,b]. \n",
    "    # # roots() in IntervalRootFinding doesn't work if p0 is sth like t*im - 2*im. Neither does find_zero() in Roots.\n",
    "    # # ApproxFun.roots() \n",
    "    # elseif (isa(p0, Function) && (!isempty(roots(p0Chebyshev)) || all(x->x>b, roots(p0Chebyshev)) || all(x->x<b, roots(p0Chebyshev)) || p0(a) == 0 || p0(b) == 0)) || p0 == 0 \n",
    "    #     throw(StructDefinitionError(:\"p0 vanishes on [a,b]\"))\n",
    "    elseif !all(i -> check_func_sym_equal(pFunctions[i], symPFunctions[i], (a,b), t), 1:length(pFunctions))\n",
    "        # throw(StructDefinitionError(:\"symP_k does not agree with p_k on [a,b]\"))\n",
    "        warn(\"symP_k does not agree with p_k on [a,b]\") # Make this a warning instead of an error because the functionalities of Julia Functions may be more than those of SymPy objects; we do not want to compromise the functionalities of LinearDifferentialOperator because of the restrictions on SymPy.\n",
    "    else\n",
    "        return true\n",
    "    end\n",
    "end"
   ]
  },
  {
   "cell_type": "markdown",
   "metadata": {},
   "source": [
    "### `VectorBoundaryForm`"
   ]
  },
  {
   "cell_type": "code",
   "execution_count": 16,
   "metadata": {},
   "outputs": [
    {
     "data": {
      "text/plain": [
       "check_vectorBoundaryForm_input (generic function with 1 method)"
      ]
     },
     "execution_count": 16,
     "metadata": {},
     "output_type": "execute_result"
    }
   ],
   "source": [
    "# A boundary condition Ux = 0 is encoded by an ordered pair of two matrices (M, N) whose entries are Numbers.\n",
    "struct VectorBoundaryForm\n",
    "    M::Array # Why can't I specify Array{Number,2} without having a MethodError?\n",
    "    N::Array\n",
    "    VectorBoundaryForm(M::Array, N::Array) =\n",
    "    try\n",
    "        U = new(M, N)\n",
    "        check_vectorBoundaryForm_input(U)\n",
    "        return U\n",
    "    catch err\n",
    "        throw(err)\n",
    "    end\n",
    "end\n",
    "\n",
    "# Check whether the input matrices that characterize U are valid\n",
    "function check_vectorBoundaryForm_input(U::VectorBoundaryForm)\n",
    "    # M, N = U.M, U.N\n",
    "    # Avoid Inexact() error when taking rank()\n",
    "    M = convert(Array{Complex}, U.M)\n",
    "    N = convert(Array{Complex}, U.N)\n",
    "    if !(check_all(U.M, x -> isa(x, Number)) && check_all(U.N, x -> isa(x, Number)))\n",
    "        throw(StructDefinitionError(:\"Entries of M, N should be Number\"))\n",
    "    elseif size(U.M) != size(U.N)\n",
    "        throw(StructDefinitionError(:\"M, N dimensions do not match\"))\n",
    "    elseif size(U.M)[1] != size(U.M)[2]\n",
    "        throw(StructDefinitionError(:\"M, N should be square matrices\"))\n",
    "    elseif rank(hcat(M, N)) != size(M)[1] # rank() throws weird \"InexactError()\" when taking some complex matrices\n",
    "        throw(StructDefinitionError(:\"Boundary operators not linearly independent\"))\n",
    "    else\n",
    "        return true\n",
    "    end\n",
    "end"
   ]
  },
  {
   "cell_type": "markdown",
   "metadata": {},
   "source": [
    "## Main functions"
   ]
  },
  {
   "cell_type": "markdown",
   "metadata": {},
   "source": [
    "### `get_L`"
   ]
  },
  {
   "cell_type": "code",
   "execution_count": 17,
   "metadata": {},
   "outputs": [
    {
     "data": {
      "text/plain": [
       "get_L (generic function with 1 method)"
      ]
     },
     "execution_count": 17,
     "metadata": {},
     "output_type": "execute_result"
    }
   ],
   "source": [
    "# Construct L from symL by turning symPFunctions to Julia Function objects\n",
    "function get_L(symL::SymLinearDifferentialOperator)\n",
    "    symPFunctions, (a,b), t = symL.symPFunctions, symL.interval, symL.t\n",
    "    pFunctions = Array{Union{Function, Number}}(1,length(symPFunctions))\n",
    "    for i =1:length(symPFunctions)\n",
    "        symPFunc = symPFunctions[i]\n",
    "        if isa(symPFunc, SymPy.Sym) # if symPFunc is a SymPy.Sym object\n",
    "            if t in free_symbols(symPFunc)\n",
    "                pFunc = lambdify(symPFunc)\n",
    "            else\n",
    "                pFunc = SymPy.N(symPFunc)\n",
    "            end\n",
    "        else # symPFunc could be a Number object\n",
    "            pFunc = symPFunc\n",
    "        end\n",
    "        pFunctions[i] = pFunc\n",
    "    end\n",
    "    L = LinearDifferentialOperator(pFunctions, (a,b), symL)\n",
    "    return L\n",
    "end"
   ]
  },
  {
   "cell_type": "markdown",
   "metadata": {},
   "source": [
    "### `get_URank`"
   ]
  },
  {
   "cell_type": "code",
   "execution_count": 18,
   "metadata": {},
   "outputs": [
    {
     "data": {
      "text/plain": [
       "get_URank (generic function with 1 method)"
      ]
     },
     "execution_count": 18,
     "metadata": {},
     "output_type": "execute_result"
    }
   ],
   "source": [
    "# Calculate the rank of U, i.e., rank(M:N)\n",
    "function get_URank(U::VectorBoundaryForm)\n",
    "    # Avoid InexactError() when taking hcat() and rank()\n",
    "    M = convert(Array{Complex}, U.M)\n",
    "    N = convert(Array{Complex}, U.N)\n",
    "    MHcatN = hcat(M, N)\n",
    "    return rank(MHcatN)\n",
    "end"
   ]
  },
  {
   "cell_type": "markdown",
   "metadata": {},
   "source": [
    "### `get_Uc`"
   ]
  },
  {
   "cell_type": "code",
   "execution_count": 19,
   "metadata": {},
   "outputs": [
    {
     "data": {
      "text/plain": [
       "get_Uc (generic function with 1 method)"
      ]
     },
     "execution_count": 19,
     "metadata": {},
     "output_type": "execute_result"
    }
   ],
   "source": [
    "# Find Uc, a complementary form of U\n",
    "function get_Uc(U::VectorBoundaryForm)\n",
    "    try\n",
    "        check_vectorBoundaryForm_input(U)\n",
    "        n = get_URank(U)\n",
    "        I = complex(eye(2*n))\n",
    "        M, N = U.M, U.N\n",
    "        MHcatN = hcat(M, N)\n",
    "        # Avoid InexactError() when taking rank()\n",
    "        mat = convert(Array{Complex}, MHcatN)\n",
    "        for i = 1:(2*n)\n",
    "            newMat = vcat(mat, I[i:i,:])\n",
    "            newMat = convert(Array{Complex}, newMat)\n",
    "            if rank(newMat) == rank(mat) + 1\n",
    "                mat = newMat\n",
    "            end\n",
    "        end\n",
    "        UcHcat = mat[(n+1):(2n),:]\n",
    "        Uc = VectorBoundaryForm(UcHcat[:,1:n], UcHcat[:,(n+1):(2n)])\n",
    "        return Uc\n",
    "    catch err\n",
    "        return err\n",
    "    end\n",
    "end"
   ]
  },
  {
   "cell_type": "markdown",
   "metadata": {},
   "source": [
    "### `get_H`"
   ]
  },
  {
   "cell_type": "code",
   "execution_count": 20,
   "metadata": {},
   "outputs": [
    {
     "data": {
      "text/plain": [
       "get_H (generic function with 1 method)"
      ]
     },
     "execution_count": 20,
     "metadata": {},
     "output_type": "execute_result"
    }
   ],
   "source": [
    "# Construct H from M, N, Mc, Nc\n",
    "function get_H(U::VectorBoundaryForm, Uc::VectorBoundaryForm)\n",
    "    MHcatN = hcat(convert(Array{Complex}, U.M), convert(Array{Complex}, U.N))\n",
    "    McHcatNc = hcat(convert(Array{Complex}, Uc.M), convert(Array{Complex}, Uc.N))\n",
    "    H = vcat(MHcatN, McHcatNc)\n",
    "    return H\n",
    "end"
   ]
  },
  {
   "cell_type": "markdown",
   "metadata": {},
   "source": [
    "### `get_pStringMatrix`"
   ]
  },
  {
   "cell_type": "code",
   "execution_count": 21,
   "metadata": {},
   "outputs": [
    {
     "data": {
      "text/plain": [
       "get_pStringMatrix (generic function with 1 method)"
      ]
     },
     "execution_count": 21,
     "metadata": {},
     "output_type": "execute_result"
    }
   ],
   "source": [
    "# Construct a matrix whose ij-entry is a string \"pij\" which denotes the (j-1)th derivative of p_(i-1)\n",
    "function get_pStringMatrix(L::LinearDifferentialOperator)\n",
    "    if isa(L, LinearDifferentialOperator)\n",
    "        pFunctions = L.pFunctions\n",
    "    else\n",
    "        pFunctions = L.symPFunctions\n",
    "    end\n",
    "    n = length(pFunctions)-1\n",
    "    pStringMatrix = Array{String}(n,n)\n",
    "    for i in 0:(n-1)\n",
    "        for j in 0:(n-1)\n",
    "            pStringMatrix[i+1,j+1] = string(\"p\", i,j)\n",
    "        end\n",
    "    end\n",
    "    return pStringMatrix\n",
    "end"
   ]
  },
  {
   "cell_type": "markdown",
   "metadata": {},
   "source": [
    "### `get_symPDerivMatrix`"
   ]
  },
  {
   "cell_type": "code",
   "execution_count": 22,
   "metadata": {},
   "outputs": [
    {
     "data": {
      "text/plain": [
       "get_symPDerivMatrix (generic function with 1 method)"
      ]
     },
     "execution_count": 22,
     "metadata": {},
     "output_type": "execute_result"
    }
   ],
   "source": [
    "# Construct a matrix whose ij-entry is the symbolic expression of the (j-1)th derivative of p_(i-1).\n",
    "# Functions with keyword arguments are defined using a semicolon in the signature.\n",
    "\n",
    "function get_symPDerivMatrix(L::LinearDifferentialOperator; substitute = true)\n",
    "    symL = L.symL\n",
    "    symPFunctions, t = symL.symPFunctions, symL.t\n",
    "    n = length(symPFunctions)-1\n",
    "    symPDerivMatrix = Array{SymPy.Sym}(n,n)\n",
    "    if substitute\n",
    "        pFunctionSymbols = symPFunctions\n",
    "    else\n",
    "        pFunctionSymbols = [SymFunction(string(\"p\", i))(t) for i in 0:(n-1)]\n",
    "    end\n",
    "    for i in 1:n\n",
    "        for j in 1:n\n",
    "            index, degree = i-1, j-1\n",
    "            symP = pFunctionSymbols[index+1]\n",
    "            if !isa(symP, SymPy.Sym)\n",
    "                if degree > 0\n",
    "                    symPDeriv = 0\n",
    "                else\n",
    "                    symPDeriv = symP\n",
    "                end\n",
    "            else\n",
    "                symPDeriv = symDeriv(symP, t, degree)\n",
    "            end\n",
    "            symPDerivMatrix[i,j] = symPDeriv\n",
    "        end\n",
    "    end\n",
    "    return symPDerivMatrix\n",
    "end\n",
    "\n",
    "# function get_symPDerivMatrix(L::LinearDifferentialOperator; substitute = true)\n",
    "#     symL = L.symL\n",
    "#     symPFunctions, t = symL.symPFunctions, symL.t\n",
    "#     n = length(symPFunctions)-1\n",
    "#     symPDerivMatrix = Array{SymPy.Sym}(n,n)\n",
    "#     if substitute\n",
    "#         pFunctionSymbols = symPFunctions\n",
    "#     else\n",
    "#         pFunctionSymbols = [SymFunction(string(\"p\", i))(t) for i in 0:(n-1)]\n",
    "#     end\n",
    "#     for i in 1:n\n",
    "#         for j in 1:n\n",
    "#             index, degree = i-1, j-1\n",
    "#             symPDeriv = pFunctionSymbols[index+1]\n",
    "#             symPDerivMatrix[i,j] = symDeriv(symPDeriv, t, degree)\n",
    "#         end\n",
    "#     end\n",
    "#     return symPDerivMatrix\n",
    "# end\n",
    "\n",
    "# For L, the above matrix would need to be constructed by hand."
   ]
  },
  {
   "cell_type": "markdown",
   "metadata": {},
   "source": [
    "### `get_symUvForm`"
   ]
  },
  {
   "cell_type": "code",
   "execution_count": 23,
   "metadata": {},
   "outputs": [
    {
     "data": {
      "text/plain": [
       "get_symUvForm (generic function with 1 method)"
      ]
     },
     "execution_count": 23,
     "metadata": {},
     "output_type": "execute_result"
    }
   ],
   "source": [
    "# Create the symbolic expression for [uv](t).\n",
    "# If substitute is true: Substitute the p_k SymFunctions with SymPy.Sym definitions, e.g., substitute p0 by t + 1.\n",
    "function get_symUvForm(L::LinearDifferentialOperator, u::SymPy.Sym, v::SymPy.Sym; substitute = true)\n",
    "    symL = L.symL\n",
    "    symPFunctions, t = symL.symPFunctions, symL.t\n",
    "    n = length(symPFunctions)-1\n",
    "    if substitute\n",
    "        pFunctionSymbols = symPFunctions\n",
    "    else\n",
    "        pFunctionSymbols = [SymFunction(string(\"p\", i))(t) for i in 0:(n-1)]\n",
    "    end\n",
    "    sum = 0\n",
    "    for m = 1:n\n",
    "        for (j,k) in partition(m-1)\n",
    "            summand = (-1)^j * symDeriv(u, t, k) * symDeriv(pFunctionSymbols[n-m+1] * conj(v), t, j)\n",
    "            sum += summand\n",
    "        end\n",
    "    end\n",
    "    sum = expand(sum)\n",
    "    return sum\n",
    "end"
   ]
  },
  {
   "cell_type": "markdown",
   "metadata": {},
   "source": [
    "### `get_Bjk`"
   ]
  },
  {
   "cell_type": "code",
   "execution_count": 24,
   "metadata": {},
   "outputs": [
    {
     "data": {
      "text/plain": [
       "get_Bjk (generic function with 1 method)"
      ]
     },
     "execution_count": 24,
     "metadata": {},
     "output_type": "execute_result"
    }
   ],
   "source": [
    "# Find Bjk using explicit formula\n",
    "function get_Bjk(L::LinearDifferentialOperator, j::Int, k::Int; symbolic = false, substitute = true, pDerivMatrix::Array = [])\n",
    "    n = length(L.pFunctions)-1\n",
    "    sum = 0\n",
    "    if symbolic\n",
    "        symPDerivMatrix = get_symPDerivMatrix(L; substitute = substitute)\n",
    "        for l = (j-1):(n-k)\n",
    "            summand = binomial(l, j-1) * symPDerivMatrix[n-k-l+1, l-j+1+1] * (-1)^l\n",
    "            sum += summand\n",
    "        end\n",
    "    else\n",
    "        if isempty(pDerivMatrix)\n",
    "            throw(error(\"pDerivMatrix required\"))\n",
    "        elseif size(pDerivMatrix) != (n,n)\n",
    "            throw(error(\"Size of pDerivMatrix should be ($n,$n)\"))\n",
    "        end\n",
    "        for l = (j-1):(n-k)\n",
    "            summand = mult_func(binomial(l, j-1) * (-1)^l, pDerivMatrix[n-k-l+1, l-j+1+1])\n",
    "            sum = add_func(sum, summand)\n",
    "        end\n",
    "    end\n",
    "    return sum\n",
    "end"
   ]
  },
  {
   "cell_type": "markdown",
   "metadata": {},
   "source": [
    "### `get_B`"
   ]
  },
  {
   "cell_type": "code",
   "execution_count": 25,
   "metadata": {},
   "outputs": [
    {
     "data": {
      "text/plain": [
       "get_B (generic function with 1 method)"
      ]
     },
     "execution_count": 25,
     "metadata": {},
     "output_type": "execute_result"
    }
   ],
   "source": [
    "# Construct the B matrix using explicit formula\n",
    "function get_B(L::LinearDifferentialOperator; symbolic = false, substitute = true, pDerivMatrix::Array = [])\n",
    "    n = length(L.pFunctions)-1\n",
    "    B = Array{Union{Function, Number}}(n,n)\n",
    "    for j = 1:n\n",
    "        for k = 1:n\n",
    "            B[j,k] = get_Bjk(L, j, k; symbolic = symbolic, substitute = substitute, pDerivMatrix = pDerivMatrix)\n",
    "        end\n",
    "    end\n",
    "    return B\n",
    "end"
   ]
  },
  {
   "cell_type": "markdown",
   "metadata": {},
   "source": [
    "### `get_BHat`"
   ]
  },
  {
   "cell_type": "code",
   "execution_count": 26,
   "metadata": {},
   "outputs": [
    {
     "data": {
      "text/plain": [
       "get_BHat (generic function with 1 method)"
      ]
     },
     "execution_count": 26,
     "metadata": {},
     "output_type": "execute_result"
    }
   ],
   "source": [
    "# Construct B_hat. Since all entries of B_hat are evaluated, BHat is a numeric matrix.\n",
    "function get_BHat(L::LinearDifferentialOperator, B::Array)\n",
    "    pFunctions, (a,b) = L.pFunctions, L.interval\n",
    "    n = length(pFunctions)-1\n",
    "    BHat = Array{Complex}(2n,2n)\n",
    "    BEvalA = evaluate_matrix(B, a)\n",
    "    BEvalB = evaluate_matrix(B, b)\n",
    "    BHat[1:n,1:n] = -BEvalA\n",
    "    BHat[(n+1):(2n),(n+1):(2n)] = BEvalB\n",
    "    BHat[1:n, (n+1):(2n)] = 0\n",
    "    BHat[(n+1):(2n), 1:n] = 0\n",
    "    return BHat\n",
    "end"
   ]
  },
  {
   "cell_type": "markdown",
   "metadata": {},
   "source": [
    "### `get_J`"
   ]
  },
  {
   "cell_type": "code",
   "execution_count": 27,
   "metadata": {},
   "outputs": [
    {
     "data": {
      "text/plain": [
       "get_J (generic function with 1 method)"
      ]
     },
     "execution_count": 27,
     "metadata": {},
     "output_type": "execute_result"
    }
   ],
   "source": [
    "# Construct J = (B_hat * H^{(-1)})^*, where ^* denotes conjugate transpose\n",
    "function get_J(BHat, H)\n",
    "    n = size(H)[1]\n",
    "    H = convert(Array{Complex}, H)\n",
    "    J = (BHat * inv(H))'\n",
    "    # J = convert(Array{Complex}, J)\n",
    "    return J\n",
    "end"
   ]
  },
  {
   "cell_type": "markdown",
   "metadata": {},
   "source": [
    "### `get_adjoint`"
   ]
  },
  {
   "cell_type": "code",
   "execution_count": 28,
   "metadata": {},
   "outputs": [
    {
     "data": {
      "text/plain": [
       "get_adjoint (generic function with 1 method)"
      ]
     },
     "execution_count": 28,
     "metadata": {},
     "output_type": "execute_result"
    }
   ],
   "source": [
    "# Construct U+\n",
    "function get_adjoint(J)\n",
    "    n = convert(Int, size(J)[1]/2)\n",
    "    J = convert(Array{Complex}, J)\n",
    "    PStar = J[(n+1):2n,1:n]\n",
    "    QStar = J[(n+1):2n, (n+1):2n]\n",
    "    adjointU = VectorBoundaryForm(PStar, QStar)\n",
    "    return adjointU\n",
    "end"
   ]
  },
  {
   "cell_type": "markdown",
   "metadata": {},
   "source": [
    "### `get_symXi`"
   ]
  },
  {
   "cell_type": "code",
   "execution_count": 29,
   "metadata": {},
   "outputs": [
    {
     "data": {
      "text/plain": [
       "get_symXi (generic function with 1 method)"
      ]
     },
     "execution_count": 29,
     "metadata": {},
     "output_type": "execute_result"
    }
   ],
   "source": [
    "# Construct the symbolic expression of \\xi = [x; x'; x''; ...], an n x 1 vector of derivatives of x(t)\n",
    "function get_symXi(L::LinearDifferentialOperator; substitute = false, xDef = nothing)\n",
    "    n = length(L.pFunctions)-1\n",
    "    t = symbols(\"t\")\n",
    "    symXi = Array{SymPy.Sym}(n,1)\n",
    "    if !substitute\n",
    "        xDef = SymFunction(\"x\")(t)\n",
    "    end\n",
    "    for i = 1:n\n",
    "        try\n",
    "            symXi[i] = symDeriv(xDef,t,i-1)\n",
    "        catch err\n",
    "            if isa(err, MethodError)\n",
    "                throw(error(\"Definition of x required\"))\n",
    "            end\n",
    "        end\n",
    "    end\n",
    "    return symXi\n",
    "end\n",
    "\n",
    "# For L, \\xi needs to be contructed by hand, e.g., xi = [t->t^2+1; t->2t; t->2; ...]"
   ]
  },
  {
   "cell_type": "markdown",
   "metadata": {},
   "source": [
    "### `evaluate_xi`"
   ]
  },
  {
   "cell_type": "code",
   "execution_count": 30,
   "metadata": {},
   "outputs": [
    {
     "data": {
      "text/plain": [
       "evaluate_xi (generic function with 1 method)"
      ]
     },
     "execution_count": 30,
     "metadata": {},
     "output_type": "execute_result"
    }
   ],
   "source": [
    "# Evaluate \\xi at a.\n",
    "# \\xi could be Function, SymPy.Sym, or Number.\n",
    "function evaluate_xi(L::LinearDifferentialOperator, a::Number, xi)\n",
    "    if any(xDeriv->isa(xDeriv, SymPy.Sym), xi)\n",
    "        t = L.symL.t\n",
    "    else\n",
    "        t = nothing\n",
    "    end\n",
    "    n = length(xi)\n",
    "    xiEvalA = Array{Number}(n,1)\n",
    "    for i = 1:n\n",
    "        xiEvalA[i,1] = evaluate(xi[i,1],a,t)\n",
    "    end\n",
    "    return xiEvalA\n",
    "end"
   ]
  },
  {
   "cell_type": "markdown",
   "metadata": {},
   "source": [
    "### `get_boundaryCondition`"
   ]
  },
  {
   "cell_type": "code",
   "execution_count": 31,
   "metadata": {},
   "outputs": [
    {
     "data": {
      "text/plain": [
       "get_boundaryCondition (generic function with 1 method)"
      ]
     },
     "execution_count": 31,
     "metadata": {},
     "output_type": "execute_result"
    }
   ],
   "source": [
    "# Get boundary condition Ux = M\\xi(a) + N\\xi(b)\n",
    "function get_boundaryCondition(L::LinearDifferentialOperator, U::VectorBoundaryForm, xi)\n",
    "    # xi cannot contain other types than Function or Number\n",
    "    if !all(xDeriv->isa(xDeriv, Union{Function, Number}), xi)\n",
    "        typeXi = typeof(xi)\n",
    "        throw(error(\"xi of type $typeXi does not match L of type LinearDifferentialOperator\"))\n",
    "    end\n",
    "    (a,b) = L.interval\n",
    "    M, N = U.M, U.N\n",
    "    xiEvalA = evaluate_xi(L, a, xi)\n",
    "    xiEvalB = evaluate_xi(L, b, xi)\n",
    "    Ux = M*xiEvalA + N*xiEvalB\n",
    "    return Ux\n",
    "end"
   ]
  },
  {
   "cell_type": "markdown",
   "metadata": {},
   "source": [
    "### `check_adjoint`"
   ]
  },
  {
   "cell_type": "code",
   "execution_count": 32,
   "metadata": {},
   "outputs": [
    {
     "data": {
      "text/plain": [
       "check_adjoint (generic function with 1 method)"
      ]
     },
     "execution_count": 32,
     "metadata": {},
     "output_type": "execute_result"
    }
   ],
   "source": [
    "# Check if U+ is valid (only works for homogeneous cases Ux=0)\n",
    "function check_adjoint(L::LinearDifferentialOperator, U::VectorBoundaryForm, adjointU::VectorBoundaryForm, B::Array)\n",
    "    (a,b) = L.interval\n",
    "    M, N = U.M, U.N\n",
    "    P, Q = (adjointU.M)', (adjointU.N)'\n",
    "    # Avoid InexactError() when taking inv()\n",
    "    BEvalA = convert(Array{Complex}, evaluate_matrix(B, a))\n",
    "    BEvalB = convert(Array{Complex}, evaluate_matrix(B, b))\n",
    "    left = M * inv(BEvalA) * P\n",
    "    right = N * inv(BEvalB) * Q\n",
    "    # println(\"M * inv(BEvalA) * P = $left\")\n",
    "    # println(\"N * inv(BEvalB) * Q = $right\")\n",
    "    tol = set_tol_matrix(left, right)\n",
    "    return all(i -> isapprox(left[i], right[i]; atol = tol), length(left)) # Can't use == to deterimine equality because left and right are arrays of floats\n",
    "end"
   ]
  },
  {
   "cell_type": "markdown",
   "metadata": {},
   "source": [
    "### `construct_validAdjoint`"
   ]
  },
  {
   "cell_type": "code",
   "execution_count": 33,
   "metadata": {},
   "outputs": [
    {
     "data": {
      "text/plain": [
       "construct_validAdjoint (generic function with 1 method)"
      ]
     },
     "execution_count": 33,
     "metadata": {},
     "output_type": "execute_result"
    }
   ],
   "source": [
    "# Find a valid adjoint\n",
    "function construct_validAdjoint(L::LinearDifferentialOperator, U::VectorBoundaryForm, pDerivMatrix::Array)\n",
    "    B = get_B(L; pDerivMatrix = pDerivMatrix)\n",
    "    BHat = get_BHat(L, B)\n",
    "    Uc = get_Uc(U)\n",
    "    H = get_H(U, Uc)\n",
    "    J = get_J(BHat, H)\n",
    "    adjointU = get_adjoint(J)\n",
    "    if check_adjoint(L, U, adjointU, B)\n",
    "        return adjointU\n",
    "    else\n",
    "        throw(error(\"Adjoint found not valid\"))\n",
    "    end\n",
    "end"
   ]
  },
  {
   "cell_type": "markdown",
   "metadata": {},
   "source": [
    "## Testing"
   ]
  },
  {
   "cell_type": "markdown",
   "metadata": {},
   "source": [
    "### Helper functions"
   ]
  },
  {
   "cell_type": "markdown",
   "metadata": {},
   "source": [
    "#### `generate_symPFunctions`"
   ]
  },
  {
   "cell_type": "code",
   "execution_count": 1,
   "metadata": {},
   "outputs": [
    {
     "data": {
      "text/plain": [
       "generate_symPFunctions (generic function with 1 method)"
      ]
     },
     "execution_count": 1,
     "metadata": {},
     "output_type": "execute_result"
    }
   ],
   "source": [
    "function generate_symPFunctions(n; random = false, constant = false)\n",
    "    global t = symbols(\"t\")\n",
    "    if random\n",
    "        symPFunctions = Array{Number}(undef, 1,n+1)\n",
    "        for i = 1:(n+1)\n",
    "            seed = rand(0:1)\n",
    "            if seed == 0 # constant\n",
    "                symPFunctionRe = rand(Uniform(1.0,10.0), 1, 1)[1]\n",
    "                symPFunctionIm = rand(Uniform(1.0,10.0), 1, 1)[1]\n",
    "                symPFunction = symPFunctionRe + symPFunctionIm*im\n",
    "            else # variable\n",
    "                coeffsNo = rand(1:5)\n",
    "                pFunctionCoeffsRe = rand(Uniform(1.0,10.0), 1, coeffsNo)\n",
    "                pFunctionCoeffsIm = rand(Uniform(1.0,10.0), 1,  coeffsNo)\n",
    "                pFunctionCoeffs = pFunctionCoeffsRe + pFunctionCoeffsIm*im\n",
    "                symPFunction = sum([pFunctionCoeffs[i+1]*t^(length(pFunctionCoeffs)-1-i) for i in 0:(length(pFunctionCoeffs)-1)])\n",
    "            end\n",
    "            symPFunctions[i] = symPFunction\n",
    "        end\n",
    "    else\n",
    "        if constant # constant\n",
    "            symPFunctionsRe = rand(Uniform(1.0,10.0), 1, (n+1))\n",
    "            symPFunctionsIm = rand(Uniform(1.0,10.0), 1, (n+1))\n",
    "            symPFunctions = symPFunctionsRe + symPFunctionsIm*im\n",
    "        else # variable\n",
    "            symPFunctions = Array{Number}(undef, 1,n+1)\n",
    "            for i = 1:(n+1)\n",
    "                # Each p_k is a polynomial function with random degree between 0 to 4 and random coefficients between 0 and 10\n",
    "                coeffsNo = rand(1:5)\n",
    "                pFunctionCoeffsRe = rand(Uniform(1.0,10.0), 1, coeffsNo)\n",
    "                pFunctionCoeffsIm = rand(Uniform(1.0,10.0), 1,  coeffsNo)\n",
    "                pFunctionCoeffs = pFunctionCoeffsRe + pFunctionCoeffsIm*im\n",
    "                symPFunction = sum([pFunctionCoeffs[i+1]*t^(length(pFunctionCoeffs)-1-i) for i in 0:(length(pFunctionCoeffs)-1)])\n",
    "                symPFunctions[i] = symPFunction\n",
    "            end\n",
    "        end\n",
    "    end\n",
    "    return symPFunctions\n",
    "end "
   ]
  },
  {
   "cell_type": "markdown",
   "metadata": {},
   "source": [
    "#### `generate_pFunctions`"
   ]
  },
  {
   "cell_type": "code",
   "execution_count": 2,
   "metadata": {},
   "outputs": [
    {
     "data": {
      "text/plain": [
       "generate_pFunctions (generic function with 1 method)"
      ]
     },
     "execution_count": 2,
     "metadata": {},
     "output_type": "execute_result"
    }
   ],
   "source": [
    "function generate_pFunctions(n; random = false, constant = false)\n",
    "    if random\n",
    "        pFunctions = Array{Union{Function, Number}}(undef,1,n+1)\n",
    "        pDerivMatrix = Array{Union{Function, Number}}(undef, n,n)\n",
    "        for i = 1:(n+1)\n",
    "            seed = rand(0:1)\n",
    "            if seed == 0 # constant\n",
    "                pFunctionRe = rand(Uniform(1.0,10.0), 1, 1)[1]\n",
    "                pFunctionIm = rand(Uniform(1.0,10.0), 1, 1)[1]\n",
    "                pFunction = pFunctionRe + pFunctionIm*im\n",
    "                if i < n+1\n",
    "                    pDerivMatrix[i,1] = pFunction\n",
    "                    pDerivMatrix[i:i, 2:n] = zeros(1, n-1)\n",
    "                end\n",
    "            else # variable\n",
    "                coeffsNo = rand(1:5)\n",
    "                pFunctionCoeffsRe = rand(Uniform(1.0,10.0), 1, coeffsNo)\n",
    "                pFunctionCoeffsIm = rand(Uniform(1.0,10.0), 1, coeffsNo)\n",
    "                pFunctionCoeffs = pFunctionCoeffsRe + pFunctionCoeffsIm*im\n",
    "                pFunction = get_polynomial(pFunctionCoeffs)\n",
    "                if i < n+1\n",
    "                    pDerivMatrix[i:i, 1:n] = [get_polynomialDeriv(pFunctionCoeffs, k) for k = 0:(n-1)]\n",
    "                end\n",
    "            end\n",
    "            pFunctions[i] = pFunction\n",
    "        end\n",
    "    else\n",
    "        if constant # constant\n",
    "            pFunctionsRe = rand(Uniform(1.0,10.0), 1, (n+1))\n",
    "            pFunctionsIm = rand(Uniform(1.0,10.0), 1, (n+1))\n",
    "            pFunctions = pFunctionsRe + pFunctionsIm*im\n",
    "            pDerivMatrix = complex(Matrix{Float64}(LinearAlgebra.I, n, n))\n",
    "            for i = 1:n\n",
    "                for j = 1:n\n",
    "                    if j == 1\n",
    "                        pDerivMatrix[i,j] = pFunctions[i]\n",
    "                    else\n",
    "                        pDerivMatrix[i,j] = 0\n",
    "                    end\n",
    "                end\n",
    "            end\n",
    "        else # variable\n",
    "            pFunctions = Array{Union{Function, Number}}(undef,1,n+1)\n",
    "            pDerivMatrix = Array{Union{Function, Number}}(undef,n,n)\n",
    "            for i = 1:(n+1)\n",
    "                # Each p_k is a polynomial function with random degree between 0 to 4 and random coefficients between 0 and 10\n",
    "                coeffsNo = rand(1:5)\n",
    "                pFunctionCoeffsRe = rand(Uniform(1.0,10.0), 1, coeffsNo)\n",
    "                pFunctionCoeffsIm = rand(Uniform(1.0,10.0), 1, coeffsNo)\n",
    "                pFunctionCoeffs = pFunctionCoeffsRe + pFunctionCoeffsIm*im\n",
    "                if i < n+1\n",
    "                    pDerivMatrix[i:i, 1:n] = [get_polynomialDeriv(pFunctionCoeffs, k) for k = 0:(n-1)]\n",
    "                end\n",
    "                pFunction = get_polynomial(pFunctionCoeffs)\n",
    "                pFunctions[i] = pFunction\n",
    "            end\n",
    "        end\n",
    "    end\n",
    "    return pFunctions, pDerivMatrix\n",
    "end"
   ]
  },
  {
   "cell_type": "markdown",
   "metadata": {},
   "source": [
    "#### `generate_pFunctionsAndSymPFunctions`"
   ]
  },
  {
   "cell_type": "code",
   "execution_count": 3,
   "metadata": {},
   "outputs": [
    {
     "data": {
      "text/plain": [
       "generate_pFunctionsAndSymPFunctions (generic function with 1 method)"
      ]
     },
     "execution_count": 3,
     "metadata": {},
     "output_type": "execute_result"
    }
   ],
   "source": [
    "function generate_pFunctionsAndSymPFunctions(n; random = false, constant = false)\n",
    "    global t = symbols(\"t\")\n",
    "    if random\n",
    "        pFunctions = Array{Union{Function, Number}}(undef,1,n+1)\n",
    "        symPFunctions = Array{Number}(undef, 1,n+1)\n",
    "        pDerivMatrix = Array{Union{Function, Number}}(undef,n,n)\n",
    "        for i = 1:(n+1)\n",
    "            seed = rand(0:1)\n",
    "            if seed == 0 # constant\n",
    "                pFunctionRe = rand(Uniform(1.0,10.0), 1, 1)[1]\n",
    "                pFunctionIm = rand(Uniform(1.0,10.0), 1, 1)[1]\n",
    "                pFunction = pFunctionRe + pFunctionIm*im\n",
    "                symPFunction = pFunction\n",
    "                if i < n+1\n",
    "                    pDerivMatrix[i,1] = pFunction\n",
    "                    pDerivMatrix[i:i, 2:n] = zeros(1, n-1)\n",
    "                end\n",
    "            else # variable\n",
    "                coeffsNo = rand(1:5)\n",
    "                pFunctionCoeffsRe = rand(Uniform(1.0,10.0), 1, coeffsNo)\n",
    "                pFunctionCoeffsIm = rand(Uniform(1.0,10.0), 1, coeffsNo)\n",
    "                pFunctionCoeffs = pFunctionCoeffsRe + pFunctionCoeffsIm*im\n",
    "                if i < n+1\n",
    "                    pDerivMatrix[i:i, 1:n] = [get_polynomialDeriv(pFunctionCoeffs, k) for k = 0:(n-1)]\n",
    "                end\n",
    "                pFunction = get_polynomial(pFunctionCoeffs)\n",
    "                symPFunction = sum([pFunctionCoeffs[i+1]*t^(length(pFunctionCoeffs)-1-i) for i in 0:(length(pFunctionCoeffs)-1)])\n",
    "            end\n",
    "            pFunctions[i] = pFunction\n",
    "            symPFunctions[i] = symPFunction\n",
    "        end\n",
    "    else\n",
    "        if constant # constant\n",
    "            pFunctionsRe = rand(Uniform(1.0,10.0), 1, (n+1))\n",
    "            pFunctionsIm = rand(Uniform(1.0,10.0), 1, (n+1))\n",
    "            pFunctions = pFunctionsRe + pFunctionsIm*im\n",
    "            symPFunctions = pFunctions\n",
    "            pDerivMatrix = Array{Union{Function, Number}}(undef,n,n)\n",
    "            for i = 1:n\n",
    "                for j = 1:n\n",
    "                    if j == 1\n",
    "                        pDerivMatrix[i,j] = pFunctions[i]\n",
    "                    else\n",
    "                        pDerivMatrix[i,j] = 0\n",
    "                    end\n",
    "                end\n",
    "            end\n",
    "        else # variable\n",
    "            t = symbols(\"t\")\n",
    "            pFunctions = Array{Function}(undef,1,n+1)\n",
    "            symPFunctions = Array{Number}(undef, 1,n+1)\n",
    "            pDerivMatrix = Array{Union{Function, Number}}(undef, n,n)\n",
    "            for i = 1:(n+1)\n",
    "                # Each p_k is a polynomial function with random degree between 0 to 4 and random coefficients between 0 and 10\n",
    "                coeffsNo = rand(1:5)\n",
    "                pFunctionCoeffsRe = rand(Uniform(1.0,10.0), 1, coeffsNo)\n",
    "                pFunctionCoeffsIm = rand(Uniform(1.0,10.0), 1, coeffsNo)\n",
    "                pFunctionCoeffs = pFunctionCoeffsRe + pFunctionCoeffsIm*im\n",
    "                if i < n+1\n",
    "                    pDerivMatrix[i:i, 1:n] = [get_polynomialDeriv(pFunctionCoeffs, k) for k = 0:(n-1)]\n",
    "                end\n",
    "                pFunction = get_polynomial(pFunctionCoeffs)\n",
    "                pFunctions[i] = pFunction\n",
    "                symPFunction = sum([pFunctionCoeffs[i+1]*t^(length(pFunctionCoeffs)-1-i) for i in 0:(length(pFunctionCoeffs)-1)])\n",
    "                symPFunctions[i] = symPFunction\n",
    "            end\n",
    "        end\n",
    "    end\n",
    "    \n",
    "    return pFunctions, symPFunctions, pDerivMatrix\n",
    "end"
   ]
  },
  {
   "cell_type": "markdown",
   "metadata": {},
   "source": [
    "### Tests"
   ]
  },
  {
   "cell_type": "markdown",
   "metadata": {},
   "source": [
    "#### `test_generate_adjoint`"
   ]
  },
  {
   "cell_type": "code",
   "execution_count": 4,
   "metadata": {},
   "outputs": [
    {
     "data": {
      "text/plain": [
       "test_generate_adjoint (generic function with 1 method)"
      ]
     },
     "execution_count": 4,
     "metadata": {},
     "output_type": "execute_result"
    }
   ],
   "source": [
    "# Test the algorithm to generate valid adjoint U+\n",
    "function test_generate_adjoint(n, k)\n",
    "    global results = [true]\n",
    "    global t = symbols(\"t\")\n",
    "    global (a,b) = (0,1)\n",
    "\n",
    "    for counter = 1:k\n",
    "        println(\"Test $counter\")\n",
    "        println(\"Testing the algorithm to generate valid adjoint U+: Constant p_k\")\n",
    "        (pFunctions, symPFunctions, pDerivMatrix) = generate_pFunctionsAndSymPFunctions(n; random = false, constant = true)\n",
    "        symL = SymLinearDifferentialOperator(symPFunctions, (a,b), t)\n",
    "        L = LinearDifferentialOperator(pFunctions, (a,b), symL)\n",
    "        MCandRe = rand(Uniform(1.0,10.0), n, n)\n",
    "        MCandIm = rand(Uniform(1.0,10.0), n, n)\n",
    "        MCand = MCandRe + MCandIm*im\n",
    "        NCandRe = rand(Uniform(1.0,10.0), n, n)\n",
    "        NCandIm = rand(Uniform(1.0,10.0), n, n)\n",
    "        NCand = NCandRe + NCandIm*im\n",
    "        U = VectorBoundaryForm(MCand, NCand)\n",
    "        println(\"Testing: order of L = $n\")\n",
    "        passed = false\n",
    "        try\n",
    "            adjoint = construct_validAdjoint(L, U, pDerivMatrix)\n",
    "            passed = true\n",
    "            append!(results, passed)\n",
    "        catch err\n",
    "            println(\"Failed with $err\")\n",
    "        end\n",
    "        if passed\n",
    "            println(\"Passed!\")\n",
    "        end\n",
    "\n",
    "        println(\"Testing the algorithm to generate valid adjoint U+: Variable p_k\")\n",
    "        # Generate variable p_k\n",
    "        (pFunctions, symPFunctions, pDerivMatrix) = generate_pFunctionsAndSymPFunctions(n; random = false, constant = false)\n",
    "        symL = SymLinearDifferentialOperator(symPFunctions, (a,b), t)\n",
    "        L = LinearDifferentialOperator(pFunctions, (a,b), symL)\n",
    "        MCandRe = rand(Uniform(1.0,10.0), n, n)\n",
    "        MCandIm = rand(Uniform(1.0,10.0), n, n)\n",
    "        MCand = MCandRe + MCandIm*im\n",
    "        NCandRe = rand(Uniform(1.0,10.0), n, n)\n",
    "        NCandIm = rand(Uniform(1.0,10.0), n, n)\n",
    "        NCand = NCandRe + NCandIm*im\n",
    "        U = VectorBoundaryForm(MCand, NCand)\n",
    "        println(\"Testing: order of L = $n\")\n",
    "        try\n",
    "            adjoint = construct_validAdjoint(L, U, pDerivMatrix)\n",
    "            passed = true\n",
    "            append!(results, passed)\n",
    "        catch err\n",
    "            println(\"Failed with $err\")\n",
    "        end\n",
    "        if passed\n",
    "            println(\"Passed!\")\n",
    "        end\n",
    "\n",
    "        println(\"Testing the algorithm to generate valid adjoint U+: Constant or variable p_k\")\n",
    "        # Generate p_k\n",
    "        (pFunctions, symPFunctions, pDerivMatrix) = generate_pFunctionsAndSymPFunctions(n; random = true)\n",
    "        symL = SymLinearDifferentialOperator(symPFunctions, (a,b), t)\n",
    "        L = LinearDifferentialOperator(pFunctions, (a,b), symL)\n",
    "        MCandRe = rand(Uniform(1.0,10.0), n, n)\n",
    "        MCandIm = rand(Uniform(1.0,10.0), n, n)\n",
    "        MCand = MCandRe + MCandIm*im\n",
    "        NCandRe = rand(Uniform(1.0,10.0), n, n)\n",
    "        NCandIm = rand(Uniform(1.0,10.0), n, n)\n",
    "        NCand = NCandRe + NCandIm*im\n",
    "        U = VectorBoundaryForm(MCand, NCand)\n",
    "        println(\"Testing: order of L = $n\")\n",
    "        try\n",
    "            adjoint = construct_validAdjoint(L, U, pDerivMatrix)\n",
    "            passed = true\n",
    "            append!(results, passed)\n",
    "        catch err\n",
    "            println(\"Failed with $err\")\n",
    "        end\n",
    "        if passed\n",
    "            println(\"Passed!\")\n",
    "        end\n",
    "    end\n",
    "\n",
    "    return all(results)\n",
    "end"
   ]
  },
  {
   "cell_type": "code",
   "execution_count": 5,
   "metadata": {},
   "outputs": [],
   "source": [
    "#for n = 1:10\n",
    " #    println(test_generate_adjoint(n, 10))\n",
    "#end"
   ]
  },
  {
   "cell_type": "markdown",
   "metadata": {},
   "source": [
    "#### `test_symLinearDifferentialOperatorDef`"
   ]
  },
  {
   "cell_type": "code",
   "execution_count": 6,
   "metadata": {},
   "outputs": [
    {
     "data": {
      "text/plain": [
       "test_symLinearDifferentialOperatorDef (generic function with 1 method)"
      ]
     },
     "execution_count": 6,
     "metadata": {},
     "output_type": "execute_result"
    }
   ],
   "source": [
    "# Test the SymLinearDifferentialOperator definition\n",
    "function test_symLinearDifferentialOperatorDef(n, k)\n",
    "    global results = [true]\n",
    "    global t = symbols(\"t\")\n",
    "    global (a,b) = (0,1)\n",
    "\n",
    "    for counter = 1:k\n",
    "        println(\"Test $counter\")\n",
    "        println(\"Testing definition of SymLinearDifferentialOperator: symP_k are Function\")\n",
    "        symPFunctions = generate_symPFunctions(n; random = false, constant = false)\n",
    "        passed = false\n",
    "        try\n",
    "            SymLinearDifferentialOperator(symPFunctions, (a,b), t)\n",
    "            passed = true\n",
    "        catch err\n",
    "            println(\"Failed with $err\")\n",
    "        end\n",
    "        if passed\n",
    "            println(\"Passed!\")\n",
    "        end\n",
    "        append!(results, passed)\n",
    "\n",
    "        println(\"Testing definition of SymLinearDifferentialOperator: symP_k are constant\")\n",
    "        symPFunctions = generate_symPFunctions(n; random = false, constant = true)\n",
    "        passed = false\n",
    "        try\n",
    "            SymLinearDifferentialOperator(symPFunctions, (a,b), t)\n",
    "            passed = true\n",
    "        catch err\n",
    "            println(\"Failed with $err\")\n",
    "        end\n",
    "        if passed\n",
    "            println(\"Passed!\")\n",
    "        end\n",
    "        append!(results, passed)\n",
    "\n",
    "        println(\"Testing definition of SymLinearDifferentialOperator: symP_k are SymPy.Sym and Number\")\n",
    "        symPFunctions = generate_symPFunctions(n; random = true)\n",
    "        passed = false\n",
    "        try\n",
    "            SymLinearDifferentialOperator(symPFunctions, (a,b), t)\n",
    "            passed = true\n",
    "        catch err\n",
    "            println(\"Failed with $err\")\n",
    "        end\n",
    "        if passed\n",
    "            println(\"Passed!\")\n",
    "        end\n",
    "        append!(results, passed)\n",
    "\n",
    "        println(\"Testing StructDefinitionError: symP_k should be SymPy.Sym or Number\")\n",
    "        symPFunctions = hcat(generate_symPFunctions(n-1; random = true), [\"str\"])\n",
    "        passed = false\n",
    "        try\n",
    "            SymLinearDifferentialOperator(symPFunctions, (a,b), t)\n",
    "        catch err\n",
    "            if isa(err,StructDefinitionError) && err.msg == \"symP_k should be SymPy.Sym or Number\"\n",
    "                passed = true\n",
    "                println(\"Passed!\")\n",
    "            else\n",
    "                println(\"Failed with $err\")\n",
    "            end\n",
    "        end\n",
    "        if !passed\n",
    "            println(\"Failed!\")\n",
    "        end\n",
    "        append!(results, passed)\n",
    "\n",
    "        println(\"Testing StructDefinitionError: Only one free symbol is allowed in symP_k\")\n",
    "        r = symbols(\"r\")\n",
    "        passed = false\n",
    "        try\n",
    "            SymLinearDifferentialOperator([t+1 t+1 r*t+1], (a,b), t)\n",
    "        catch err\n",
    "            if isa(err,StructDefinitionError) && err.msg == \"Only one free symbol is allowed in symP_k\"\n",
    "                passed = true\n",
    "                println(\"Passed!\")\n",
    "            else\n",
    "                println(\"Failed with $err\")\n",
    "            end\n",
    "        end\n",
    "        if !passed\n",
    "            println(\"Failed!\")\n",
    "        end\n",
    "        append!(results, passed)\n",
    "    end\n",
    "\n",
    "    return all(results)\n",
    "end"
   ]
  },
  {
   "cell_type": "code",
   "execution_count": null,
   "metadata": {
    "collapsed": true
   },
   "outputs": [],
   "source": [
    "for n = 1:10\n",
    "    println(test_symLinearDifferentialOperatorDef(n, 10))\n",
    "end"
   ]
  },
  {
   "cell_type": "markdown",
   "metadata": {},
   "source": [
    "#### `test_linearDifferentialOperatorDef`"
   ]
  },
  {
   "cell_type": "code",
   "execution_count": 9,
   "metadata": {},
   "outputs": [
    {
     "data": {
      "text/plain": [
       "test_linearDifferentialOperatorDef (generic function with 1 method)"
      ]
     },
     "execution_count": 9,
     "metadata": {},
     "output_type": "execute_result"
    }
   ],
   "source": [
    "# Test the LinearDifferentialOperator definition\n",
    "function test_linearDifferentialOperatorDef(n, k)\n",
    "    global results = [true]\n",
    "    global t = symbols(\"t\")\n",
    "    global (a,b) = (0,1)\n",
    "    \n",
    "    for counter = 1:k\n",
    "        println(\"Test $counter\")\n",
    "\n",
    "        # Variable p_k\n",
    "        println(\"Testing definition of LinearDifferentialOperator: p_k are Function\")\n",
    "        (pFunctions, symPFunctions, pDerivMatrix) = generate_pFunctionsAndSymPFunctions(n; random = false, constant = false)\n",
    "        symL = SymLinearDifferentialOperator(symPFunctions, (a,b), t)\n",
    "        passed = false\n",
    "        try\n",
    "            L = LinearDifferentialOperator(pFunctions, (a,b), symL)\n",
    "            passed = true\n",
    "        catch err\n",
    "            println(\"Failed with $err\")\n",
    "        end\n",
    "        if passed\n",
    "            println(\"Passed!\")\n",
    "        end\n",
    "        append!(results, passed)\n",
    "\n",
    "        # Constant coefficients\n",
    "        println(\"Testing definition of LinearDifferentialOperator: p_k are Constants\")\n",
    "        (pFunctions, symPFunctions, pDerivMatrix) = generate_pFunctionsAndSymPFunctions(n; random = false, constant = true)\n",
    "        symL = SymLinearDifferentialOperator(symPFunctions, (a,b), t)\n",
    "        passed = false\n",
    "        try\n",
    "            LinearDifferentialOperator(pFunctions, (a,b), symL)\n",
    "            passed = true\n",
    "        catch err\n",
    "            println(\"Failed with $err\")\n",
    "        end\n",
    "        if passed\n",
    "            println(\"Passed!\")\n",
    "        end\n",
    "        append!(results, passed)\n",
    "\n",
    "        # Mixed coefficients\n",
    "        println(\"Testing definition of LinearDifferentialOperator: p_k are mixed\")\n",
    "        # (pFunctions, symPFunctions, pDerivMatrix) = generate_pFunctionsAndSymPFunctions(n; random = true)\n",
    "        symL = SymLinearDifferentialOperator([1 1 t+1], (a,b), t)\n",
    "        passed = false\n",
    "        try\n",
    "            LinearDifferentialOperator([1 t->1 t->t+1], (a,b), symL)\n",
    "            passed = true\n",
    "        catch err\n",
    "            println(\"Failed with $err\")\n",
    "        end\n",
    "        if passed\n",
    "            println(\"Passed!\")\n",
    "        end\n",
    "        append!(results, passed)\n",
    "\n",
    "        println(\"Testing StructDefinitionError: p_k should be Function or Number\")\n",
    "        pFunctions = hcat(generate_pFunctions(n-1; random = true)[1], [\"str\"])\n",
    "        passed = false\n",
    "        try\n",
    "            LinearDifferentialOperator(['s' 1 1], (a,b), symL)\n",
    "        catch err\n",
    "            if err.msg == \"p_k should be Function or Number\" && (isa(err,StructDefinitionError))\n",
    "                passed = true\n",
    "                println(\"Passed!\")\n",
    "            else\n",
    "                println(\"Failed with $err\")\n",
    "            end\n",
    "        end\n",
    "        if !passed\n",
    "            println(\"Failed!\")\n",
    "        end\n",
    "        append!(results, passed)\n",
    "\n",
    "        println(\"Testing StructDefinitionError: Number of p_k and symP_k do not match\")\n",
    "        symL = SymLinearDifferentialOperator([1 1 t+1], (a,b), t)\n",
    "        passed = false\n",
    "        try\n",
    "            LinearDifferentialOperator([1 t->1], (a,b), symL)\n",
    "        catch err\n",
    "            if err.msg == \"Number of p_k and symP_k do not match\" && (isa(err, StructDefinitionError))\n",
    "                passed = true\n",
    "                println(\"Passed!\")\n",
    "            else\n",
    "                println(\"Failed with $err\")\n",
    "            end\n",
    "        end\n",
    "        if !passed\n",
    "            println(\"Failed!\")\n",
    "        end\n",
    "        append!(results, passed)\n",
    "\n",
    "        println(\"Testing StructDefinitionError: Intervals of L and symL do not match\")\n",
    "        symL = SymLinearDifferentialOperator([1 1 t+1], (a,b), t)\n",
    "        passed = false\n",
    "        try\n",
    "            LinearDifferentialOperator([1 t->1 t->t+1], (-b,a), symL)\n",
    "        catch err\n",
    "            if err.msg == \"Intervals of L and symL do not match\" && (isa(err, StructDefinitionError))\n",
    "                passed = true\n",
    "                println(\"Passed!\")\n",
    "            else\n",
    "                println(\"Failed with $err\")\n",
    "            end\n",
    "        end\n",
    "        if !passed\n",
    "            println(\"Failed!\")\n",
    "        end\n",
    "        append!(results, passed)\n",
    "    \n",
    "    end\n",
    "    return all(results)\n",
    "end"
   ]
  },
  {
   "cell_type": "markdown",
   "metadata": {},
   "source": [
    "#### `test_vectorBoundaryFormDef`"
   ]
  },
  {
   "cell_type": "code",
   "execution_count": 8,
   "metadata": {},
   "outputs": [
    {
     "data": {
      "text/plain": [
       "test_vectorBoundaryFormDef (generic function with 1 method)"
      ]
     },
     "execution_count": 8,
     "metadata": {},
     "output_type": "execute_result"
    }
   ],
   "source": [
    "# Test the VectorBoundaryForm definition\n",
    "function test_vectorBoundaryFormDef(n, k)\n",
    "    global results = [true]\n",
    "\n",
    "    for counter = 1:k\n",
    "        println(\"Test $counter\")\n",
    "\n",
    "        println(\"Testing the definition of VectorBoundaryForm\")\n",
    "        MRe = rand(Uniform(1.0,10.0), n, n)\n",
    "        MIm = rand(Uniform(1.0,10.0), n, n)\n",
    "        M = MRe + MIm*im\n",
    "        NRe = rand(Uniform(1.0,10.0), n, n)\n",
    "        NIm = rand(Uniform(1.0,10.0), n, n)\n",
    "        N = NRe + NIm*im\n",
    "        passed = false\n",
    "        try\n",
    "            VectorBoundaryForm(M, N)\n",
    "            passed = true\n",
    "        catch err\n",
    "            println(\"Failed with $err\")\n",
    "        end\n",
    "        if passed\n",
    "            println(\"Passed!\")\n",
    "        end\n",
    "        append!(results, passed)\n",
    "\n",
    "        println(\"Testing StructDefinitionError: Entries of M, N should be Number\")\n",
    "        M = ['a' 2; 3 4]\n",
    "        N = M\n",
    "        passed = false\n",
    "        try\n",
    "            VectorBoundaryForm(M, N)\n",
    "        catch err\n",
    "            if err.msg == \"Entries of M, N should be Number\" && isa(err, StructDefinitionError)\n",
    "                passed = true\n",
    "                println(\"Passed!\")\n",
    "            else\n",
    "                println(\"Failed with $err\")\n",
    "            end\n",
    "        end\n",
    "        if !passed\n",
    "            println(\"Failed!\")\n",
    "        end\n",
    "        append!(results, passed)\n",
    "\n",
    "        println(\"Testing StructDefinitionError: M, N dimensions do not match\")\n",
    "        M = rand(Uniform(1.0,10.0), n, n-1)\n",
    "        N = rand(Uniform(1.0,10.0), n, n)\n",
    "        passed = false\n",
    "        try\n",
    "            VectorBoundaryForm(M, N)\n",
    "        catch err\n",
    "            if err.msg == \"M, N dimensions do not match\" && isa(err,StructDefinitionError)\n",
    "                passed = true\n",
    "                println(\"Passed!\")\n",
    "            else\n",
    "                println(\"Failed with $err\")\n",
    "            end\n",
    "        end\n",
    "        if !passed\n",
    "            println(\"Failed!\")\n",
    "        end\n",
    "        append!(results, passed)\n",
    "\n",
    "        println(\"Testing StructDefinitionError: M, N should be square matrices\")\n",
    "        M = rand(Uniform(1.0,10.0), n, n-1)\n",
    "        N = rand(Uniform(1.0,10.0), n, n-1)\n",
    "        passed = false\n",
    "        try\n",
    "            VectorBoundaryForm(M, N)\n",
    "        catch err\n",
    "            if err.msg == \"M, N should be square matrices\" && isa(err,StructDefinitionError)\n",
    "                passed = true\n",
    "                println(\"Passed!\")\n",
    "            else\n",
    "                println(\"Failed with $err\")\n",
    "            end\n",
    "        end\n",
    "        if !passed\n",
    "            println(\"Failed!\")\n",
    "        end\n",
    "        append!(results, passed)\n",
    "\n",
    "        println(\"Testing StructDefinitionError: Boundary operators not linearly independent\")\n",
    "        M = [1 2*im; 2 4*im]\n",
    "        N = [3 4*im; 6 8*im]\n",
    "        passed = false\n",
    "        try\n",
    "            VectorBoundaryForm(M, N)\n",
    "        catch err\n",
    "            if err.msg == \"Boundary operators not linearly independent\" && isa(err,StructDefinitionError)\n",
    "                passed = true\n",
    "                println(\"Passed!\")\n",
    "            end\n",
    "        end\n",
    "        if !passed\n",
    "            println(\"Failed!\")\n",
    "        end\n",
    "        append!(results, passed)\n",
    "    end\n",
    "\n",
    "    return all(results)\n",
    "end"
   ]
  }
 ],
 "metadata": {
  "kernelspec": {
   "display_name": "Julia 0.6.4",
   "language": "julia",
   "name": "julia-0.6"
  },
  "language_info": {
   "file_extension": ".jl",
   "mimetype": "application/julia",
   "name": "julia",
   "version": "0.6.4"
  },
  "toc": {
   "base_numbering": 1,
   "nav_menu": {},
   "number_sections": true,
   "sideBar": true,
   "skip_h1_title": false,
   "title_cell": "Table of Contents",
   "title_sidebar": "Contents",
   "toc_cell": false,
   "toc_position": {
    "height": "calc(100% - 180px)",
    "left": "10px",
    "top": "150px",
    "width": "165px"
   },
   "toc_section_display": true,
   "toc_window_display": false
  }
 },
 "nbformat": 4,
 "nbformat_minor": 2
}
