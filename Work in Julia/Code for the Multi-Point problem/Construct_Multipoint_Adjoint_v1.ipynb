{
 "cells": [
  {
   "cell_type": "markdown",
   "metadata": {},
   "source": [
    "Constructing Multipoint Adjoint in Julia v1\n",
    "\n",
    "* Date created: June 13, 2019\n",
    "* Name: Sultan Aitzhan\n",
    "* Description: The construction of the multipoint adjoint is encoded and the test functions in the spirit of \\textit{Construct_Adjoint_v1.ipynb} are implemented."
   ]
  },
  {
   "cell_type": "markdown",
   "metadata": {},
   "source": [
    "# Importing packages and modules"
   ]
  },
  {
   "cell_type": "code",
   "execution_count": 1,
   "metadata": {},
   "outputs": [],
   "source": [
    "using SymPy\n",
    "using Distributions\n",
    "using ApproxFun\n",
    "import LinearAlgebra"
   ]
  },
  {
   "cell_type": "markdown",
   "metadata": {},
   "source": [
    "# Global variables"
   ]
  },
  {
   "cell_type": "code",
   "execution_count": 2,
   "metadata": {},
   "outputs": [
    {
     "data": {
      "text/plain": [
       "10"
      ]
     },
     "execution_count": 2,
     "metadata": {},
     "output_type": "execute_result"
    }
   ],
   "source": [
    "TOL = 1e-05\n",
    "DIGITS = 3\n",
    "INFTY = 10"
   ]
  },
  {
   "cell_type": "markdown",
   "metadata": {},
   "source": [
    "# Helper functions\n",
    "All functions from this section are copy-and-pasted from $\\textit{The_Fokas_Method_documentation_v1.ipynb}.$ Thus, the explanations and examples are omitted."
   ]
  },
  {
   "cell_type": "markdown",
   "metadata": {},
   "source": [
    "## `check_all(array, condition)`"
   ]
  },
  {
   "cell_type": "code",
   "execution_count": 3,
   "metadata": {},
   "outputs": [
    {
     "data": {
      "text/plain": [
       "check_all (generic function with 1 method)"
      ]
     },
     "execution_count": 3,
     "metadata": {},
     "output_type": "execute_result"
    }
   ],
   "source": [
    "function check_all(array, condition)\n",
    "    for x in array\n",
    "        if !condition(x)\n",
    "            return false\n",
    "        end\n",
    "    end\n",
    "    return true\n",
    "end"
   ]
  },
  {
   "cell_type": "markdown",
   "metadata": {},
   "source": [
    "## `set_tol(x, y)`"
   ]
  },
  {
   "cell_type": "code",
   "execution_count": 4,
   "metadata": {},
   "outputs": [
    {
     "data": {
      "text/plain": [
       "set_tol (generic function with 1 method)"
      ]
     },
     "execution_count": 4,
     "metadata": {},
     "output_type": "execute_result"
    }
   ],
   "source": [
    "function set_tol(x::Union{Number, Array}, y::Union{Number, Array}; atol = TOL)\n",
    "    if isa(x, Number) && isa(y, Number)\n",
    "       return atol * mean([x y])\n",
    "    elseif isa(x, Array) && isa(y, Array)\n",
    "        if size(x) != size(y)\n",
    "            throw(error(\"Array dimensions do not match\"))\n",
    "        end\n",
    "        # Avoid InexactError() when taking norm()\n",
    "        x = convert(Array{Complex}, x)\n",
    "        y = convert(Array{Complex}, y)\n",
    "        return atol * (LinearAlgebra.norm(x) + LinearAlgebra.norm(y))\n",
    "    else\n",
    "        throw(error(\"Invalid input\"))\n",
    "    end\n",
    "end"
   ]
  },
  {
   "cell_type": "markdown",
   "metadata": {},
   "source": [
    "## `evaluate(func, a)`"
   ]
  },
  {
   "cell_type": "code",
   "execution_count": 5,
   "metadata": {},
   "outputs": [
    {
     "data": {
      "text/plain": [
       "evaluate (generic function with 1 method)"
      ]
     },
     "execution_count": 5,
     "metadata": {},
     "output_type": "execute_result"
    }
   ],
   "source": [
    "function evaluate(func::Union{Function, SymPy.Sym, Number}, a::Number)\n",
    "    if isa(func, Function)\n",
    "        funcA = func(a)\n",
    "    elseif isa(func, SymPy.Sym) # SymPy.Sym must come before Number because SymPy.Sym will be recognized as Number\n",
    "        freeSymbols = free_symbols(func)\n",
    "        if length(freeSymbols) > 1\n",
    "            throw(error(\"func should be univariate\"))\n",
    "        elseif length(freeSymbols) == 1\n",
    "            t = free_symbols(func)[1,1]\n",
    "            if isa(a, SymPy.Sym) # if x is SymPy.Sym, do not convert result to Number to preserve pretty printing\n",
    "                funcA = subs(func, t, a)\n",
    "            else\n",
    "                funcA = SymPy.N(subs(func, t, a))\n",
    "            end\n",
    "        else\n",
    "            funcA = func\n",
    "        end\n",
    "    else # func is Number\n",
    "        funcA = func\n",
    "    end\n",
    "    return funcA\n",
    "end"
   ]
  },
  {
   "cell_type": "markdown",
   "metadata": {},
   "source": [
    "## `partition(n)`"
   ]
  },
  {
   "cell_type": "code",
   "execution_count": 6,
   "metadata": {},
   "outputs": [
    {
     "data": {
      "text/plain": [
       "partition (generic function with 1 method)"
      ]
     },
     "execution_count": 6,
     "metadata": {},
     "output_type": "execute_result"
    }
   ],
   "source": [
    "function partition(n::Int)\n",
    "    output = []\n",
    "    for i = 0:n\n",
    "        j = n - i\n",
    "        push!(output, (i,j))\n",
    "    end\n",
    "    return output\n",
    "end"
   ]
  },
  {
   "cell_type": "markdown",
   "metadata": {},
   "source": [
    "## `get_deriv(u, k)`"
   ]
  },
  {
   "cell_type": "code",
   "execution_count": 7,
   "metadata": {},
   "outputs": [
    {
     "data": {
      "text/plain": [
       "get_deriv (generic function with 1 method)"
      ]
     },
     "execution_count": 7,
     "metadata": {},
     "output_type": "execute_result"
    }
   ],
   "source": [
    "function get_deriv(u::Union{SymPy.Sym, Number}, k::Int)\n",
    "    if k < 0\n",
    "        throw(error(\"Non-negative k required\"))\n",
    "    end\n",
    "    if isa(u, SymPy.Sym)\n",
    "        freeSymbols = free_symbols(u)\n",
    "        if length(freeSymbols) > 1\n",
    "            throw(error(\"u should be univariate\"))\n",
    "        elseif length(freeSymbols) == 1\n",
    "            t = freeSymbols[1]\n",
    "            y = u\n",
    "            for i = 1:k\n",
    "                newY = diff(y, t) # diff is from SymPy\n",
    "                y = newY\n",
    "            end\n",
    "            return y\n",
    "        else\n",
    "            if k > 0\n",
    "                return 0\n",
    "            else\n",
    "                return u\n",
    "            end\n",
    "        end\n",
    "    else\n",
    "        if k > 0\n",
    "            return 0\n",
    "        else\n",
    "            return u\n",
    "        end\n",
    "    end\n",
    "end"
   ]
  },
  {
   "cell_type": "markdown",
   "metadata": {},
   "source": [
    "## `add_func(f, g)`"
   ]
  },
  {
   "cell_type": "code",
   "execution_count": 8,
   "metadata": {},
   "outputs": [
    {
     "data": {
      "text/plain": [
       "add_func (generic function with 1 method)"
      ]
     },
     "execution_count": 8,
     "metadata": {},
     "output_type": "execute_result"
    }
   ],
   "source": [
    "# Function addition (f + g)(x) := f(x) + g(x)\n",
    "function add_func(f::Union{Number, Function}, g::Union{Number, Function})\n",
    "    function h(x)\n",
    "        if isa(f, Number)\n",
    "            if isa(g, Number)\n",
    "                return f + g\n",
    "            else\n",
    "                return f + g(x)\n",
    "            end\n",
    "        elseif isa(f, Function)\n",
    "            if isa(g, Number)\n",
    "                return f(x) + g\n",
    "            else\n",
    "                return f(x) + g(x)\n",
    "            end\n",
    "        end\n",
    "    end\n",
    "    return h\n",
    "end"
   ]
  },
  {
   "cell_type": "markdown",
   "metadata": {},
   "source": [
    "## `mult_func(f, g)`"
   ]
  },
  {
   "cell_type": "code",
   "execution_count": 9,
   "metadata": {},
   "outputs": [
    {
     "data": {
      "text/plain": [
       "mult_func (generic function with 1 method)"
      ]
     },
     "execution_count": 9,
     "metadata": {},
     "output_type": "execute_result"
    }
   ],
   "source": [
    "# Function multiplication (f * g)(x) := f(x) * g(x)\n",
    "function mult_func(f::Union{Number, Function}, g::Union{Number, Function})\n",
    "    function h(x)\n",
    "        if isa(f, Number)\n",
    "            if isa(g, Number)\n",
    "                return f * g\n",
    "            else\n",
    "                return f * g(x)\n",
    "            end\n",
    "        elseif isa(f, Function)\n",
    "            if isa(g, Number)\n",
    "                return f(x) * g\n",
    "            else\n",
    "                return f(x) * g(x)\n",
    "            end\n",
    "        end\n",
    "    end\n",
    "    return h\n",
    "end"
   ]
  },
  {
   "cell_type": "markdown",
   "metadata": {},
   "source": [
    "## `sym_to_func(sym)`"
   ]
  },
  {
   "cell_type": "code",
   "execution_count": 10,
   "metadata": {},
   "outputs": [
    {
     "data": {
      "text/plain": [
       "sym_to_func (generic function with 1 method)"
      ]
     },
     "execution_count": 10,
     "metadata": {},
     "output_type": "execute_result"
    }
   ],
   "source": [
    "function sym_to_func(sym::Union{SymPy.Sym, Number})\n",
    "    try\n",
    "        freeSymbols = free_symbols(sym)\n",
    "        if length(freeSymbols) > 1\n",
    "            throw(error(\"sym should be univariate\"))\n",
    "        else\n",
    "            function func(x)\n",
    "                if length(freeSymbols) == 0\n",
    "                    result = SymPy.N(sym)\n",
    "                else\n",
    "                    result = SymPy.N(subs(sym, freeSymbols[1], x))\n",
    "                end\n",
    "                return result\n",
    "            end\n",
    "            return func\n",
    "        end\n",
    "    catch\n",
    "        function func(x)\n",
    "            return sym\n",
    "        end\n",
    "        return func\n",
    "    end\n",
    "end"
   ]
  },
  {
   "cell_type": "markdown",
   "metadata": {},
   "source": [
    "## `get_polynomial(coeffs)`\n",
    "Implement a polynomial in the form of Julia function given an array containing coefficients of $x^n, x^{n-1},..., x^2, x, 1.$\n"
   ]
  },
  {
   "cell_type": "code",
   "execution_count": 11,
   "metadata": {},
   "outputs": [
    {
     "data": {
      "text/plain": [
       "get_polynomial (generic function with 1 method)"
      ]
     },
     "execution_count": 11,
     "metadata": {},
     "output_type": "execute_result"
    }
   ],
   "source": [
    "function get_polynomial(coeffList::Array)\n",
    "    polynomial = 0\n",
    "    n = length(coeffList)-1\n",
    "    for i in 0:n\n",
    "        newTerm = t -> coeffList[i+1] * t^(n-i)\n",
    "        polynomial = add_func(polynomial, newTerm)\n",
    "    end\n",
    "    return polynomial\n",
    "end"
   ]
  },
  {
   "cell_type": "markdown",
   "metadata": {},
   "source": [
    "## `get_polynomialDeriv(coeffs, k)`\n",
    "Get the $k$-th derivative of a polynomial implemented above."
   ]
  },
  {
   "cell_type": "code",
   "execution_count": 12,
   "metadata": {},
   "outputs": [
    {
     "data": {
      "text/plain": [
       "get_polynomialDeriv (generic function with 1 method)"
      ]
     },
     "execution_count": 12,
     "metadata": {},
     "output_type": "execute_result"
    }
   ],
   "source": [
    "function get_polynomialDeriv(coeffList::Array, k::Int)\n",
    "    if k < 0\n",
    "        throw(error(\"Only nonnegative degrees are allowed\"))\n",
    "    elseif k == 0\n",
    "        newCoeffList = coeffList\n",
    "    else\n",
    "        for counter = 1:k\n",
    "            n = length(coeffList)\n",
    "            newCoeffList = hcat([0],[(n-i)*coeffList[i] for i in 1:(n-1)]')\n",
    "            coeffList = newCoeffList\n",
    "        end\n",
    "    end\n",
    "    return get_polynomial(newCoeffList)\n",
    "end"
   ]
  },
  {
   "cell_type": "markdown",
   "metadata": {},
   "source": [
    "## `prettyRound(x, digits)`"
   ]
  },
  {
   "cell_type": "code",
   "execution_count": 13,
   "metadata": {},
   "outputs": [
    {
     "data": {
      "text/plain": [
       "prettyRound (generic function with 1 method)"
      ]
     },
     "execution_count": 13,
     "metadata": {},
     "output_type": "execute_result"
    }
   ],
   "source": [
    "function prettyRound(x::Number; digs::Int = DIGITS)\n",
    "    if isa(x, Int)\n",
    "        return x\n",
    "    elseif isa(x, Real)\n",
    "        if isa(x, Rational) || isa(x, Irrational) # If x is rational or irrational numbers like e, pi\n",
    "            return x\n",
    "        elseif round(abs(x); digits = digs) == floor(abs(x))\n",
    "            return Int(round(x))\n",
    "        else\n",
    "            return round(x; digits = digs)\n",
    "        end\n",
    "    elseif isa(x, Complex)\n",
    "        roundedReal = prettyRound(real(x); digs = digs)\n",
    "        roundedComplex = prettyRound(imag(x); digs = digs)\n",
    "        return roundedReal + im*roundedComplex\n",
    "    else\n",
    "        return round(x; digits = digs)\n",
    "    end\n",
    "end"
   ]
  },
  {
   "cell_type": "markdown",
   "metadata": {},
   "source": [
    "## `prettyPrint(x)`"
   ]
  },
  {
   "cell_type": "code",
   "execution_count": 14,
   "metadata": {},
   "outputs": [
    {
     "data": {
      "text/plain": [
       "prettyPrint (generic function with 1 method)"
      ]
     },
     "execution_count": 14,
     "metadata": {},
     "output_type": "execute_result"
    }
   ],
   "source": [
    "function prettyPrint(x::Union{Number, SymPy.Sym})\n",
    "    expr = x\n",
    "    if isa(expr, SymPy.Sym)\n",
    "        prettyExpr = expr\n",
    "        for a in sympy.preorder_traversal(expr)\n",
    "            if length(free_symbols(a)) == 0 && length(a.args) == 0\n",
    "                if !(a in [sympy.E, PI]) && length(intersect(a.args, [sympy.E, PI])) == 0 # keep the transcendental numbers as symbols\n",
    "                    prettyA = prettyRound.(SymPy.N(a))\n",
    "                    prettyExpr = subs(prettyExpr, (a, prettyA))\n",
    "                end\n",
    "            end\n",
    "        end\n",
    "    else\n",
    "        prettyExpr = prettyRound.(expr)\n",
    "        prettyExpr = convert(SymPy.Sym, prettyExpr)\n",
    "    end\n",
    "    return prettyExpr\n",
    "end"
   ]
  },
  {
   "cell_type": "code",
   "execution_count": 323,
   "metadata": {},
   "outputs": [
    {
     "data": {
      "text/latex": [
       "\\begin{equation*}\\frac{t}{3} + e^{2 t} + \\frac{1}{6} + \\sqrt{2} + \\frac{\\pi}{2} + 1.0 i\\end{equation*}"
      ],
      "text/plain": [
       "t    2⋅t   1        π        \n",
       "─ + ℯ    + ─ + √2 + ─ + 1.0⋅ⅈ\n",
       "3          6        2        "
      ]
     },
     "execution_count": 323,
     "metadata": {},
     "output_type": "execute_result"
    }
   ],
   "source": [
    "t = symbols(\"t\")\n",
    "x = 1//3*t + (sympy.E)^(2t) + PI/2 + 1.00001*im + sympy.sqrt(2) + 1//6\n",
    "prettyPrint(x)"
   ]
  },
  {
   "cell_type": "code",
   "execution_count": 324,
   "metadata": {},
   "outputs": [
    {
     "data": {
      "text/latex": [
       "\\[\\left[ \\begin{array}{rr}\\frac{t}{3}&\\pi\\\\\\frac{t^{2}}{6} + t&1\\end{array}\\right]\\]"
      ],
      "text/plain": [
       "2×2 Array{Sym,2}:\n",
       "       t/3  pi\n",
       " t^2/6 + t   1"
      ]
     },
     "execution_count": 324,
     "metadata": {},
     "output_type": "execute_result"
    }
   ],
   "source": [
    "t = symbols(\"t\")\n",
    "x = [1//3*t PI; 1//6*t^2+t 1]\n",
    "prettyPrint.(x)"
   ]
  },
  {
   "cell_type": "code",
   "execution_count": 325,
   "metadata": {},
   "outputs": [
    {
     "data": {
      "text/latex": [
       "\\[\\left[ \\begin{array}{rrrr}i&1&-1&- i\\end{array}\\right]\\]"
      ],
      "text/plain": [
       "1×4 Array{Sym,2}:\n",
       " I  1  -1  -I"
      ]
     },
     "execution_count": 325,
     "metadata": {},
     "output_type": "execute_result"
    }
   ],
   "source": [
    "x = [0.0+1.0*im 1.0+0.0*im -1.0+0.0*im 0.0-1.0*im]\n",
    "prettyPrint.(x)"
   ]
  },
  {
   "cell_type": "markdown",
   "metadata": {
    "heading_collapsed": true
   },
   "source": [
    "# Structs\n",
    "\n",
    "In this section, we developed the relevant structs. "
   ]
  },
  {
   "cell_type": "markdown",
   "metadata": {
    "heading_collapsed": true,
    "hidden": true
   },
   "source": [
    "## `StructDefinitionError`\n",
    "A struct definition error type is the class of all errors in struct definitions."
   ]
  },
  {
   "cell_type": "code",
   "execution_count": 15,
   "metadata": {
    "collapsed": true,
    "hidden": true
   },
   "outputs": [],
   "source": [
    "struct StructDefinitionError <: Exception\n",
    "    msg::String\n",
    "end"
   ]
  },
  {
   "cell_type": "markdown",
   "metadata": {
    "heading_collapsed": true,
    "hidden": true
   },
   "source": [
    "## `SymLinearDifferentialOperator(symPFunctions, interval, t)`"
   ]
  },
  {
   "cell_type": "code",
   "execution_count": 16,
   "metadata": {
    "hidden": true
   },
   "outputs": [],
   "source": [
    "struct SymLinearDifferentialOperator\n",
    "    # Entries in the array should be SymPy.Sym or Number. SymPy.Sym seems to be a subtype of Number, i.e., Array{Union{Number,SymPy.Sym}} returns Array{Number}. But specifying symPFunctions as Array{Number,2} gives a MethodError when the entries are Sympy.Sym objects.\n",
    "    symPFunctions::Array\n",
    "    interval::Tuple\n",
    "    t::SymPy.Sym\n",
    "    SymLinearDifferentialOperator(symPFunctions::Array, interval::Tuple, t::SymPy.Sym) =\n",
    "    try\n",
    "        symL = new(symPFunctions, interval, t)\n",
    "        check_symLinearDifferentialOperator_input(symL)\n",
    "        return symL\n",
    "    catch err\n",
    "        throw(err)\n",
    "    end\n",
    "end"
   ]
  },
  {
   "cell_type": "code",
   "execution_count": 17,
   "metadata": {
    "hidden": true
   },
   "outputs": [
    {
     "data": {
      "text/plain": [
       "check_symLinearDifferentialOperator_input (generic function with 1 method)"
      ]
     },
     "execution_count": 17,
     "metadata": {},
     "output_type": "execute_result"
    }
   ],
   "source": [
    "function check_symLinearDifferentialOperator_input(symL::SymLinearDifferentialOperator)\n",
    "    symPFunctions, interval_tuple, t = symL.symPFunctions, symL.interval, symL.t\n",
    "    for symPFunc in symPFunctions\n",
    "        if isa(symPFunc, SymPy.Sym)\n",
    "            if size(free_symbols(symPFunc)) != (1,) && size(free_symbols(symPFunc)) != (0,)\n",
    "                throw(StructDefinitionError(:\"Only one free symbol is allowed in symP_k\"))\n",
    "            end\n",
    "        elseif !isa(symPFunc, Number)\n",
    "            throw(StructDefinitionError(:\"symP_k should be SymPy.Sym or Number\"))\n",
    "        end\n",
    "    end\n",
    "    for x_i in interval_tuple\n",
    "        if !isa(x_i, Number)\n",
    "            throw(StructDefinitionError(:\"Interval must consist of numbers\"))\n",
    "        end\n",
    "    end\n",
    "    for i=1:length(interval_tuple)-1\n",
    "        if (interval_tuple[i] < interval_tuple[i+1]) == false\n",
    "            throw(StructDefinitionError(:\"Terms in interval must be strictly increasing\"))\n",
    "        end\n",
    "    end\n",
    "    return true\n",
    "end"
   ]
  },
  {
   "cell_type": "markdown",
   "metadata": {
    "hidden": true
   },
   "source": [
    "**Parameters**\n",
    "* `symPFunctions`: `Array` of `SymPy.Sym` or `Number`\n",
    "    * Array $[symP_0, symP_1, \\ldots, symP_n]$ of length $n+1$, corresponding to the symbolic linear differential operator $symL$ of order $n$ given by \n",
    "    $$symLx = symP_0x^{(n)} + symP_1x^{(n-1)} + \\cdots + symP_{n-1}x^{(1)} + symP_n x.$$\n",
    "* `interval`: `Tuple` \n",
    "    * Tuple of $k+1$ numbers $(a=x_0, x_1, \\ldots, x_{k-1}, x_k = b)$ corresponding to the real interval $[a=x_0, x_1, \\ldots, x_{k-1}, x_k = b]$ on which the symbolic differential operator $symL$ is defined. Note that the length of the tuple is not specified in the above, in order to provide flexibility.\n",
    "* `t`: `Sym` \n",
    "    * Free symbol in each entry of `symPFunctions`.\n",
    "\n",
    "**Returns**\n",
    "* `SymLinearDifferentialOperator`\n",
    "    * Returns a `SymLinearDifferentialOperator` of order $n$ with attributes `symPFunctions`, `interval`, and `t`.\n",
    "\n",
    "**Example**"
   ]
  },
  {
   "cell_type": "code",
   "execution_count": 656,
   "metadata": {
    "hidden": true
   },
   "outputs": [
    {
     "data": {
      "text/plain": [
       "SymLinearDifferentialOperator(Sym[1 t + 1 t^2 + t + 1], (0, 0.5, 1), t)"
      ]
     },
     "execution_count": 656,
     "metadata": {},
     "output_type": "execute_result"
    }
   ],
   "source": [
    "t = symbols(\"t\")\n",
    "symPFunctions = [1 t+1 t^2+t+1]\n",
    "interval = (0, 0.5, 1)\n",
    "symL = SymLinearDifferentialOperator(symPFunctions, interval, t)"
   ]
  },
  {
   "cell_type": "markdown",
   "metadata": {
    "heading_collapsed": true,
    "hidden": true
   },
   "source": [
    "## `LinearDifferentialOperator(pFunctions, interval, symL)`\n",
    "\n",
    "A linear differential operator $L$ of order $n$ given by \n",
    "$$Lx = p_0x^{(n)} + p_1x^{(n-1)} + \\cdots + p_{n-1}x^{(1)} + p_n x$$\n",
    "is encoded by an $1 \\times (n+1)$ array of univariate functions, a tuple $(a= x_0, x_1, \\ldots, x_{k-1},x_k = b)$, and its symbolic expression."
   ]
  },
  {
   "cell_type": "code",
   "execution_count": 18,
   "metadata": {
    "hidden": true
   },
   "outputs": [],
   "source": [
    "struct LinearDifferentialOperator\n",
    "    pFunctions::Array # Array of julia functions or numbers representing constant functions\n",
    "    interval::Tuple\n",
    "    symL::SymLinearDifferentialOperator\n",
    "    LinearDifferentialOperator(pFunctions::Array, interval::Tuple, symL::SymLinearDifferentialOperator) =\n",
    "    try\n",
    "        L = new(pFunctions, interval, symL)\n",
    "        check_linearDifferentialOperator_input(L)\n",
    "        return L\n",
    "    catch err\n",
    "        throw(err)\n",
    "    end\n",
    "end"
   ]
  },
  {
   "cell_type": "code",
   "execution_count": 19,
   "metadata": {
    "hidden": true
   },
   "outputs": [
    {
     "data": {
      "text/plain": [
       "check_linearDifferentialOperator_input (generic function with 1 method)"
      ]
     },
     "execution_count": 19,
     "metadata": {},
     "output_type": "execute_result"
    }
   ],
   "source": [
    "# Assume symFunc has only one free symbol, as required by the definition of SymLinearDifferentialOperator. \n",
    "# That is, assume the input symFunc comes from SymLinearDifferentialOperator.\n",
    "function check_func_sym_equal(func::Union{Function,Number}, symFunc, interval::Tuple, t::SymPy.Sym) # symFunc should be Union{SymPy.Sym, Number}, but somehow SymPy.Sym gets ignored\n",
    "    a = interval[1]\n",
    "    b = interval[length(interval)]\n",
    "    # Randomly sample 1000 points from (a,b) and check if func and symFunc agree on them\n",
    "    for i = 1:1000\n",
    "        # Check endpoints\n",
    "        if i == 1\n",
    "            x = a\n",
    "        elseif i == 2\n",
    "            x = b\n",
    "        else\n",
    "            x = rand(Uniform(a,b), 1)[1,1]\n",
    "        end\n",
    "        funcEvalX = evaluate(func, x)\n",
    "        if isa(symFunc, SymPy.Sym)\n",
    "            symFuncEvalX = SymPy.N(subs(symFunc,t,x))\n",
    "            # N() converts SymPy.Sym to Number\n",
    "            # https://docs.sympy.org/latest/modules/evalf.html\n",
    "            # subs() works no matter symFunc is Number or SymPy.Sym\n",
    "        else\n",
    "            symFuncEvalX = symFunc\n",
    "        end\n",
    "        tol = set_tol(funcEvalX, symFuncEvalX)\n",
    "        if !isapprox(real(funcEvalX), real(symFuncEvalX); atol = real(tol)) ||\n",
    "            !isapprox(imag(funcEvalX), imag(symFuncEvalX); atol = imag(tol))\n",
    "            println(\"x = $x\")\n",
    "            println(\"symFunc = $symFunc\")\n",
    "            println(\"funcEvalX = $funcEvalX\")\n",
    "            println(\"symFuncEvalX = $symFuncEvalX\")\n",
    "            return false\n",
    "        end\n",
    "    end\n",
    "    return true\n",
    "end\n",
    "\n",
    "# Check whether the inputs of L are valid.\n",
    "function check_linearDifferentialOperator_input(L::LinearDifferentialOperator)\n",
    "    pFunctions, interval, symL = L.pFunctions, L.interval, L.symL\n",
    "    symPFunctions, t = symL.symPFunctions, symL.t\n",
    "    # domainC = Complex(a..b, 0..0) # Domain [a,b] represented in the complex plane\n",
    "    p0 = pFunctions[1]\n",
    "    # p0Chebyshev = Fun(p0, a..b) # Chebysev polynomial approximation of p0 on [a,b]\n",
    "    if !check_all(pFunctions, pFunc -> (isa(pFunc, Function) || isa(pFunc, Number)))\n",
    "        throw(StructDefinitionError(:\"p_k should be Function or Number\"))\n",
    "    elseif length(pFunctions) != length(symPFunctions)\n",
    "        throw(StructDefinitionError(:\"Number of p_k and symP_k do not match\"))\n",
    "    elseif interval != symL.interval\n",
    "        throw(StructDefinitionError(:\"Intervals of L and symL do not match\"))\n",
    "    # # Assume p_k are in C^{n-k}. Check whether p0 vanishes on [a,b]. \n",
    "    # # roots() in IntervalRootFinding doesn't work if p0 is sth like t*im - 2*im. Neither does find_zero() in Roots.\n",
    "    # # ApproxFun.roots() \n",
    "    # elseif (isa(p0, Function) && (!isempty(roots(p0Chebyshev)) || all(x->x>b, roots(p0Chebyshev)) || all(x->x<b, roots(p0Chebyshev)) || p0(a) == 0 || p0(b) == 0)) || p0 == 0 \n",
    "    #     throw(StructDefinitionError(:\"p0 vanishes on [a,b]\"))\n",
    "    elseif !all(i -> check_func_sym_equal(pFunctions[i], symPFunctions[i], interval, t), 1:length(pFunctions))\n",
    "        # throw(StructDefinitionError(:\"symP_k does not agree with p_k on [a,b]\"))\n",
    "        warn(\"symP_k does not agree with p_k on the interval\") # Make this a warning instead of an error because the functionalities of Julia Functions may be more than those of SymPy objects; we do not want to compromise the functionalities of LinearDifferentialOperator because of the restrictions on SymPy.\n",
    "    else\n",
    "        return true\n",
    "    end\n",
    "end"
   ]
  },
  {
   "cell_type": "markdown",
   "metadata": {
    "hidden": true
   },
   "source": [
    "**Parameters**\n",
    "* `pFunctions`: `Array` of `Function` or `Number` \n",
    "    * Array $[p_0, p_1, \\ldots, p_n]$ of length $n+1$, corresponding to the linear differential operator $L$ of order $n$ given by\n",
    "    $$Lx = p_0x^{(n)} + p_1x^{(n-1)} + \\cdots + p_{n-1}x^{(1)} + p_n x.$$\n",
    "* `interval`: `Tuple`\n",
    "    * Tuple of $k+1$ numbers $(a = x_0, x_1,\\ldots, x_{k-1}, x_k = b)$ corresponding to the real interval $[a = x_0, x_1,\\ldots, x_{k-1}, x_k = b]$ on which the differential operator $L$ is defined.\n",
    "* `symL`: `SymLinearDifferentialOperator`\n",
    "    * Symbolic linear differential operator corresponding to $L$.\n",
    "    \n",
    "**Returns**\n",
    "* `LinearDifferentialOperator`\n",
    "    * Returns a `LinearDifferentialOperator` of order $n$ with attributes `pFunctions`, `interval`, and `symL`.\n",
    "    \n",
    "**Example**"
   ]
  },
  {
   "cell_type": "code",
   "execution_count": 359,
   "metadata": {
    "hidden": true
   },
   "outputs": [
    {
     "data": {
      "text/plain": [
       "LinearDifferentialOperator(Function[##120#123() ##121#124() ##122#125()], (0, 0.5, 1), SymLinearDifferentialOperator(Sym[1 t + 1 t^2 + t + 1], (0, 0.5, 1), t))"
      ]
     },
     "execution_count": 359,
     "metadata": {},
     "output_type": "execute_result"
    }
   ],
   "source": [
    "t = symbols(\"t\")\n",
    "interval = (0, 0.5, 1)\n",
    "\n",
    "symPFunctions = [1 t+1 t^2+t+1]\n",
    "symL = SymLinearDifferentialOperator(symPFunctions, interval, t)\n",
    "# Direct construction\n",
    "pFunctions = [t->1 t->t+1 t->t^2+t+1]\n",
    "L = LinearDifferentialOperator(pFunctions, interval, symL)"
   ]
  },
  {
   "cell_type": "markdown",
   "metadata": {
    "heading_collapsed": true,
    "hidden": true
   },
   "source": [
    "## `VectorMultiBoundaryForm`\n",
    "A set of homogeneous boundary conditions in vector form\n",
    "$$Uq = \\begin{bmatrix}U_1\\\\\\vdots\\\\ U_m\\end{bmatrix}q = \\sum^k_{l=1}\\sum_{j=1}^n\\begin{bmatrix} M_{1jl}q_l^{(j)}(x_{l-1}) + N_{1jl}q_l^{(j)}(x_{l})\\\\\\vdots\\\\  M_{mjl}q_l^{(j)}(x_{l-1}) + N_{mjl}q_l^{(j)}(x_{l})\\end{bmatrix} = \\begin{bmatrix}0\\\\\\vdots\\\\ 0\\end{bmatrix}$$\n",
    "is encoded by a list of $k+1$ ordered pairs of two linearly independent $m\\times n$ matrices $(M_l, N_l)$ where\n",
    "$$M_l = \\begin{bmatrix}M_{11l} & \\cdots & M_{1nl}\\\\ \\vdots & \\ddots & \\vdots\\\\ M_{m1l} & \\cdots & M_{mnl}\\end{bmatrix},\\quad N_l = \\begin{bmatrix}N_{11l} & \\cdots & N_{1nl}\\\\ \\vdots & \\ddots & \\vdots\\\\ N_{m1l} & \\cdots & N_{mnl}\\end{bmatrix}.$$"
   ]
  },
  {
   "cell_type": "code",
   "execution_count": 20,
   "metadata": {
    "collapsed": true,
    "hidden": true
   },
   "outputs": [],
   "source": [
    "struct VectorMultiBoundaryForm\n",
    "    MM::Array\n",
    "    NN::Array\n",
    "    VectorMultiBoundaryForm(MM::Array, NN::Array) =\n",
    "    try\n",
    "        U = new(MM, NN)\n",
    "        check_vectorMultiBoundaryForm_input(U)\n",
    "        return U\n",
    "    catch err\n",
    "        throw(err)\n",
    "    end\n",
    "end"
   ]
  },
  {
   "cell_type": "code",
   "execution_count": 21,
   "metadata": {
    "hidden": true
   },
   "outputs": [
    {
     "data": {
      "text/plain": [
       "check_vectorMultiBoundaryForm_input (generic function with 1 method)"
      ]
     },
     "execution_count": 21,
     "metadata": {},
     "output_type": "execute_result"
    }
   ],
   "source": [
    "function check_vectorMultiBoundaryForm_input(U::VectorMultiBoundaryForm)\n",
    "    # M, N = U.M, U.N\n",
    "    # Avoid Inexact() error when taking rank()\n",
    "    M = U.MM\n",
    "    N = U.NN\n",
    "    checker = Array{Bool}(undef, 1, length(M))\n",
    "    for i = 1:length(M)\n",
    "        M_i, N_i = M[i], N[i]\n",
    "        if !(check_all(M_i, x -> isa(x, Number)) && check_all(N_i, x -> isa(x, Number)))\n",
    "            throw(StructDefinitionError(:\"Entries of M_i, N_i should be Number\"))\n",
    "        elseif size(M_i) != size(N_i)\n",
    "            throw(StructDefinitionError(:\"M_i, N_i dimensions do not match\"))\n",
    "        elseif size(M_i)[1] != size(M_i)[2]\n",
    "            throw(StructDefinitionError(:\"M_i, N_i should be square matrices\"))\n",
    "        elseif LinearAlgebra.rank(hcat(convert(Array{Complex}, M[i]), convert(Array{Complex}, N[i]))) != size(convert(Array{Complex}, M[i]))[1] # rank() throws weird \"InexactError()\" when taking some complex matrices\n",
    "            throw(StructDefinitionError(:\"Boundary operators not linearly independent\"))\n",
    "        else\n",
    "            checker[i] = true\n",
    "        end\n",
    "    end\n",
    "    for x in checker\n",
    "        if !(x == true)\n",
    "            return false\n",
    "        end\n",
    "    return true\n",
    "    end\n",
    "end"
   ]
  },
  {
   "cell_type": "markdown",
   "metadata": {
    "hidden": true
   },
   "source": [
    "**Parameters**\n",
    "* `M`, `N`: `Array` of `Array`\n",
    "    * Two arrays whose elements are matrices of the same dimension. These matrices are required to be linearly independent in a sense that $M[i]$ and $N[i]$ are linearly independent for all $i.$\n",
    "\n",
    "**Returns**\n",
    "* `VectorMultiBoundaryForm`\n",
    "    * Returns a `VectorMultiBoundaryForm` with attributes `MM` and `NN`. $MM$ and $NN$ are chosen to avoid confusion with `VectorBoundaryForm` where attributes are `M` and `N`.\n",
    "\n",
    "**Example**"
   ]
  },
  {
   "cell_type": "code",
   "execution_count": 292,
   "metadata": {
    "hidden": true
   },
   "outputs": [
    {
     "data": {
      "text/plain": [
       "VectorMultiBoundaryForm(Array{Float64,2}[[1.0 2.0; 1.0 0.0], [1.0 0.0; 0.0 2.0]], Array{Float64,2}[[3.0 7.0; 0.0 3.0], [1.0 0.0; 0.0 10.0]])"
      ]
     },
     "execution_count": 292,
     "metadata": {},
     "output_type": "execute_result"
    }
   ],
   "source": [
    "M1 = [1. 2.; 1. 0.]\n",
    "M2 = [1. 0.; 0. 2.]\n",
    "M = [M1, M2]\n",
    "N1 = [3. 7.; 0. 3.]\n",
    "N2 = [1. 0.; 0. 10.]\n",
    "N = [N1, N2]\n",
    "U = VectorMultiBoundaryForm(M, N)"
   ]
  },
  {
   "cell_type": "markdown",
   "metadata": {
    "heading_collapsed": true
   },
   "source": [
    "# Main functions\n",
    "Constructs a valid adjoint boundary condition from a given (homogeneous) multi boundary condition based on IMVP-Adjoint-Construction.pdf."
   ]
  },
  {
   "cell_type": "markdown",
   "metadata": {
    "heading_collapsed": true,
    "hidden": true
   },
   "source": [
    "## `get_L(symL)`\n",
    "Constructs a `LinearDifferentialOperator` from a given `SymLinearDifferentialOperator`."
   ]
  },
  {
   "cell_type": "code",
   "execution_count": 22,
   "metadata": {
    "hidden": true
   },
   "outputs": [
    {
     "data": {
      "text/plain": [
       "get_L (generic function with 1 method)"
      ]
     },
     "execution_count": 22,
     "metadata": {},
     "output_type": "execute_result"
    }
   ],
   "source": [
    "function get_L(symL::SymLinearDifferentialOperator)\n",
    "    symPFunctions, interval, t = symL.symPFunctions, symL.interval, symL.t\n",
    "    if check_all(symPFunctions, x->!isa(x, SymPy.Sym))\n",
    "        pFunctions = symPFunctions\n",
    "    else\n",
    "        pFunctions = sym_to_func.(symPFunctions)\n",
    "    end\n",
    "    L = LinearDifferentialOperator(pFunctions, interval, symL)\n",
    "    return L\n",
    "end"
   ]
  },
  {
   "cell_type": "markdown",
   "metadata": {
    "hidden": true
   },
   "source": [
    "**Parameters**\n",
    "* `symL`: `SymLinearDifferentialOperator`\n",
    "    * Symbolic linear differential operator to be converted.\n",
    "\n",
    "**Returns**\n",
    "* `get_L`: `LinearDifferentialOperator`\n",
    "    * Returns the linear differential operator converted from `symL`.\n",
    "\n",
    "**Example**"
   ]
  },
  {
   "cell_type": "code",
   "execution_count": 360,
   "metadata": {
    "hidden": true
   },
   "outputs": [
    {
     "data": {
      "text/plain": [
       "LinearDifferentialOperator(getfield(Main, Symbol(\"#func#85\")){Sym,Array{Sym,1}}[#func#85{Sym,Array{Sym,1}}(1, Sym[]) #func#85{Sym,Array{Sym,1}}(t + 1, Sym[t]) #func#85{Sym,Array{Sym,1}}(t^2 + t + 1, Sym[t])], (0, 0.5, 1), SymLinearDifferentialOperator(Sym[1 t + 1 t^2 + t + 1], (0, 0.5, 1), t))"
      ]
     },
     "execution_count": 360,
     "metadata": {},
     "output_type": "execute_result"
    }
   ],
   "source": [
    "t = symbols(\"t\")\n",
    "symPFunctions = [1 t+1 t^2+t+1]\n",
    "interval = (0, 0.5, 1)\n",
    "symL = SymLinearDifferentialOperator(symPFunctions, interval, t)\n",
    "L = get_L(symL)"
   ]
  },
  {
   "cell_type": "markdown",
   "metadata": {
    "heading_collapsed": true,
    "hidden": true
   },
   "source": [
    "## `get_URank(U)`\n",
    "Computes the rank of a vector boundary form $U$ by computing the equivalent $\\text{rank}(M:N)$, where $M, N$ are the matrices associated with $U$ and\n",
    "$$(M:N) = \\begin{bmatrix}M_{11} & \\cdots & M_{1n} & N_{11} & \\cdots & N_{1n}\\\\ \\vdots & \\ddots & \\vdots & \\vdots & \\ddots & \\vdots\\\\ M_{m1} & \\cdots & M_{mn} & N_{m1} & \\cdots & N_{mn}\\end{bmatrix}.$$"
   ]
  },
  {
   "cell_type": "code",
   "execution_count": 23,
   "metadata": {
    "hidden": true
   },
   "outputs": [
    {
     "data": {
      "text/plain": [
       "get_URank (generic function with 1 method)"
      ]
     },
     "execution_count": 23,
     "metadata": {},
     "output_type": "execute_result"
    }
   ],
   "source": [
    "function get_URank(U::VectorMultiBoundaryForm)\n",
    "    # Avoid InexactError() when taking hcat() and rank()\n",
    "    M = U.MM\n",
    "    N = U.NN\n",
    "    checker = Array{Int64}(undef, 1, length(M))\n",
    "    for i=1:length(M) \n",
    "        M_i = convert(Array{Complex}, M[i])\n",
    "        N_i = convert(Array{Complex}, N[i])\n",
    "        MHcatN = hcat(M_i, N_i)\n",
    "        checker[i] = LinearAlgebra.rank(MHcatN)\n",
    "    end\n",
    "    if all(y->y == checker[1], checker) == true\n",
    "        return checker[1]\n",
    "    else\n",
    "        throw(StructDefinitionError(:\"Matrices M_i, N_i are not appropriate.\"))\n",
    "    end\n",
    "end"
   ]
  },
  {
   "cell_type": "markdown",
   "metadata": {
    "hidden": true
   },
   "source": [
    "**Parameters**\n",
    "* `U`: `VectoBoundaryForm`\n",
    "    * Vector boundary form whose rank is to be computed.\n",
    "\n",
    "**Returns**\n",
    "* `get_URank`: `Number`\n",
    "    * Returns the rank of `U`.\n",
    "\n",
    "**Example**"
   ]
  },
  {
   "cell_type": "code",
   "execution_count": 293,
   "metadata": {
    "hidden": true
   },
   "outputs": [
    {
     "data": {
      "text/plain": [
       "2"
      ]
     },
     "execution_count": 293,
     "metadata": {},
     "output_type": "execute_result"
    }
   ],
   "source": [
    "M1 = [1. 2.; 1. 0.]\n",
    "M2 = [1. 0.; 0. 2.]\n",
    "M = [M1, M2]\n",
    "N1 = [3. 7.; 0. 3.]\n",
    "N2 = [1. 0.; 0. 10.]\n",
    "N = [N1, N2]\n",
    "U = VectorMultiBoundaryForm(M, N)\n",
    "get_URank(U)"
   ]
  },
  {
   "cell_type": "markdown",
   "metadata": {
    "heading_collapsed": true,
    "hidden": true
   },
   "source": [
    "## `get_Uc(U)`\n",
    "Given a vector boundary form $U = \\begin{bmatrix}U_1\\\\ \\vdots\\\\ U_m\\end{bmatrix}$ of rank $m$, finds a complementary form $U_c = \\begin{bmatrix}U_{m+1}\\\\ \\vdots\\\\ U_{2n}\\end{bmatrix}$ of rank $2n-m$ such that $\\begin{bmatrix}U_1\\\\ \\vdots\\\\ U_{2n}\\end{bmatrix}$ has rank $2n$."
   ]
  },
  {
   "cell_type": "code",
   "execution_count": 24,
   "metadata": {
    "hidden": true
   },
   "outputs": [
    {
     "data": {
      "text/plain": [
       "get_Uc (generic function with 1 method)"
      ]
     },
     "execution_count": 24,
     "metadata": {},
     "output_type": "execute_result"
    }
   ],
   "source": [
    "# Find Uc, a complementary form of U\n",
    "function get_Uc(U::VectorMultiBoundaryForm)\n",
    "    try\n",
    "        check_vectorMultiBoundaryForm_input(U)\n",
    "        M, N = copy(U.MM), copy(U.NN)\n",
    "        P = convert.(Array{Complex}, M)\n",
    "        Q = convert.(Array{Complex}, N)       \n",
    "        n = get_URank(U)\n",
    "        I = complex(Matrix{Float64}(LinearAlgebra.I, 2n, 2n))\n",
    "        for i=1:length(M) \n",
    "            M_i = convert(Array{Complex}, M[i])\n",
    "            N_i = convert(Array{Complex}, N[i])\n",
    "            mat_i = hcat(M_i, N_i)\n",
    "            for k = 1:(2*n)\n",
    "                newMat_k = vcat(mat_i, I[k:k,:])\n",
    "                if LinearAlgebra.rank(newMat_k) == LinearAlgebra.rank(mat_i) + 1\n",
    "                mat_i = newMat_k\n",
    "            end\n",
    "        end\n",
    "        UcHcat_i = mat_i[(n+1):(2n),:]\n",
    "        P[i] = UcHcat_i[:,1:n]\n",
    "        Q[i] = UcHcat_i[:,(n+1):(2n)]\n",
    "        end\n",
    "        Uc = VectorMultiBoundaryForm(P, Q)\n",
    "        return Uc\n",
    "    catch err\n",
    "        return err\n",
    "    end\n",
    "end"
   ]
  },
  {
   "cell_type": "markdown",
   "metadata": {
    "hidden": true
   },
   "source": [
    "**Parameters**\n",
    "* `U`: `VectoBoundaryForm`\n",
    "    * Vector boundary form whose complementary boundary form is to be found.\n",
    "\n",
    "**Returns**\n",
    "* `get_Uc`: `VectorBoundaryForm`\n",
    "    * Returns a vectory boundary form complementary to `U`.\n",
    "\n",
    "**Example**"
   ]
  },
  {
   "cell_type": "code",
   "execution_count": 313,
   "metadata": {
    "hidden": true
   },
   "outputs": [
    {
     "name": "stdout",
     "output_type": "stream",
     "text": [
      "VectorMultiBoundaryForm(Array{Complex,2}[[1.0+0.0im 0.0+0.0im; 0.0+0.0im 1.0+0.0im], [1.0+0.0im 0.0+0.0im; 0.0+0.0im 1.0+0.0im]], Array{Complex,2}[[0.0+0.0im 0.0+0.0im; 0.0+0.0im 0.0+0.0im], [0.0+0.0im 0.0+0.0im; 0.0+0.0im 0.0+0.0im]])\n"
     ]
    }
   ],
   "source": [
    "M1 = [1. 2.; 1. 0.]\n",
    "M2 = [1. 0.; 0. 2.]\n",
    "M = [M1, M2]\n",
    "N1 = [3. 7.; 0. 3.]\n",
    "N2 = [1. 0.; 0. 10.]\n",
    "N = [N1, N2]\n",
    "U = VectorMultiBoundaryForm(M, N)\n",
    "Uc = get_Uc(U)\n",
    "println(Uc)"
   ]
  },
  {
   "cell_type": "markdown",
   "metadata": {
    "heading_collapsed": true,
    "hidden": true
   },
   "source": [
    "## `get_H(U, Uc)`\n",
    "Given a vector boundary form $U$ and a complementary vector boundary form $U_c$, constructs \n",
    "$$H = \\begin{bmatrix}M&N\\\\ M_c & N_c\\end{bmatrix},$$\n",
    "where $M, N$ are the matrices associated with $U$ and $M_c, N_c$ are associated with $U_c$."
   ]
  },
  {
   "cell_type": "code",
   "execution_count": 25,
   "metadata": {
    "hidden": true
   },
   "outputs": [
    {
     "data": {
      "text/plain": [
       "get_H (generic function with 1 method)"
      ]
     },
     "execution_count": 25,
     "metadata": {},
     "output_type": "execute_result"
    }
   ],
   "source": [
    "function get_H(U::VectorMultiBoundaryForm, Uc::VectorMultiBoundaryForm)\n",
    "    M, N = copy(U.MM), copy(U.NN) # need to use copies of U and Uc, not the actual things\n",
    "    P, Q = copy(Uc.MM), copy(Uc.NN)\n",
    "    H = convert.(Array{Complex}, M)\n",
    "    for i=1:length(M)\n",
    "        MHcatN = hcat(convert(Array{Complex}, M[i]), convert(Array{Complex}, N[i]))\n",
    "        McHcatNc = hcat(convert(Array{Complex}, P[i]), convert(Array{Complex}, Q[i]))\n",
    "        H[i] = vcat(MHcatN, McHcatNc)\n",
    "    end\n",
    "    return H\n",
    "end"
   ]
  },
  {
   "cell_type": "markdown",
   "metadata": {
    "hidden": true
   },
   "source": [
    "**Parameters**\n",
    "* `U`: `VectorBoundaryForm`\n",
    "    * Vector boundary form.\n",
    "* `Uc`: `VectorBoundaryForm`\n",
    "    * Vector boundary form complementary to `U`.\n",
    "\n",
    "**Returns**\n",
    "* `get_H`: `Array`\n",
    "    * Returns the matrix $H$ defined above.\n",
    "\n",
    "**Example**"
   ]
  },
  {
   "cell_type": "code",
   "execution_count": 314,
   "metadata": {
    "hidden": true
   },
   "outputs": [
    {
     "data": {
      "text/plain": [
       "2-element Array{Array{Complex,2},1}:\n",
       " [1.0+0.0im 2.0+0.0im 3.0+0.0im 7.0+0.0im; 1.0+0.0im 0.0+0.0im 0.0+0.0im 3.0+0.0im; 1.0+0.0im 0.0+0.0im 0.0+0.0im 0.0+0.0im; 0.0+0.0im 1.0+0.0im 0.0+0.0im 0.0+0.0im] \n",
       " [1.0+0.0im 0.0+0.0im 1.0+0.0im 0.0+0.0im; 0.0+0.0im 2.0+0.0im 0.0+0.0im 10.0+0.0im; 1.0+0.0im 0.0+0.0im 0.0+0.0im 0.0+0.0im; 0.0+0.0im 1.0+0.0im 0.0+0.0im 0.0+0.0im]"
      ]
     },
     "execution_count": 314,
     "metadata": {},
     "output_type": "execute_result"
    }
   ],
   "source": [
    "M1 = [1. 2.; 1. 0.]\n",
    "M2 = [1. 0.; 0. 2.]\n",
    "M = [M1, M2]\n",
    "N1 = [3. 7.; 0. 3.]\n",
    "N2 = [1. 0.; 0. 10.]\n",
    "N = [N1, N2]\n",
    "U = VectorMultiBoundaryForm(M, N)\n",
    "Uc = get_Uc(U)\n",
    "get_H(U, Uc)"
   ]
  },
  {
   "cell_type": "markdown",
   "metadata": {
    "heading_collapsed": true,
    "hidden": true
   },
   "source": [
    "## `get_symPDerivMatrix(L; symbolic)`\n",
    "Given a `LinearDifferentialOperator` `L` where `L.pFunctions` is the array\n",
    "$$[p_0, p_1, \\ldots, p_n],$$\n",
    "constructs an $n\\times n$ matrix whose $(i+1)(j+1)$-entry is a function corresponding to the $j$th derivative of $p_i$:\n",
    "$$\\begin{bmatrix}p_0 & \\cdots & p_0^{(n-1)}\\\\ \\vdots & \\ddots & \\vdots\\\\ p_{n-1} & \\cdots & p_{n-1}^{(n-1)}\\end{bmatrix}.$$"
   ]
  },
  {
   "cell_type": "code",
   "execution_count": 26,
   "metadata": {
    "hidden": true
   },
   "outputs": [
    {
     "data": {
      "text/plain": [
       "get_pDerivMatrix (generic function with 1 method)"
      ]
     },
     "execution_count": 26,
     "metadata": {},
     "output_type": "execute_result"
    }
   ],
   "source": [
    "function get_pDerivMatrix(L::LinearDifferentialOperator; symbolic = false)\n",
    "    if symbolic\n",
    "        symL = L.symL\n",
    "        symPFunctions, t = symL.symPFunctions, symL.t\n",
    "        n = length(symPFunctions)-1\n",
    "        symPDerivMatrix = Array{SymPy.Sym}(undef, n,n)\n",
    "        pFunctionSymbols = symPFunctions\n",
    "        for i in 0:(n-1)\n",
    "            for j in 0:(n-1)\n",
    "                index, degree = i, j\n",
    "                symP = pFunctionSymbols[index+1]\n",
    "                # If symP is not a Sympy.Sym object (e.g., is a Number instead), then cannot use get_deriv()\n",
    "                if !isa(symP, SymPy.Sym)\n",
    "                    if degree > 0\n",
    "                        symPDeriv = 0\n",
    "                    else\n",
    "                        symPDeriv = symP\n",
    "                    end\n",
    "                else\n",
    "                    symPDeriv = get_deriv(symP, degree)\n",
    "                end\n",
    "                symPDerivMatrix[i+1,j+1] = symPDeriv\n",
    "            end\n",
    "        end\n",
    "        return symPDerivMatrix\n",
    "    else\n",
    "        symPDerivMatrix = get_pDerivMatrix(L; symbolic = true)\n",
    "        n = length(L.pFunctions)-1\n",
    "        pDerivMatrix = sym_to_func.(symPDerivMatrix)\n",
    "    end\n",
    "    return pDerivMatrix\n",
    "end"
   ]
  },
  {
   "cell_type": "markdown",
   "metadata": {
    "hidden": true
   },
   "source": [
    "**Parameters**\n",
    "* `L`: `LinearDifferentialOperator`\n",
    "    * Linear differential operator whose `pDerivMatrix` is to be constructed.\n",
    "* `symbolic*`: `Bool`\n",
    "    * Boolean indicating whether the output is symbolic.\n",
    "\n",
    "**Returns**\n",
    "* `get_pDerivMatrix`: `Array` of `Function`, `Number` or `SymPy.Sym`\n",
    "    * Returns an $n\\times n$ matrix whose $(i+1)(j+1)$-entry is\n",
    "        * the $j$th derivative of $p_i$ (`L.pFunctions[i]`) if `symbolic = false`, or\n",
    "        * the symbolic expression of the $j$th derivative of $p_i$ (`L.symL.symPFunctions[i]`) if `symbolic = true`.\n",
    "\n",
    "**Example**"
   ]
  },
  {
   "cell_type": "code",
   "execution_count": 361,
   "metadata": {
    "hidden": true
   },
   "outputs": [
    {
     "name": "stdout",
     "output_type": "stream",
     "text": [
      "pDerivMatrix(2) = [1 0; 3 1]\n"
     ]
    },
    {
     "data": {
      "text/latex": [
       "\\[\\left[ \\begin{array}{rr}1&0\\\\t + 1&1\\end{array}\\right]\\]"
      ],
      "text/plain": [
       "2×2 Array{Sym,2}:\n",
       "     1  0\n",
       " t + 1  1"
      ]
     },
     "execution_count": 361,
     "metadata": {},
     "output_type": "execute_result"
    }
   ],
   "source": [
    "t = symbols(\"t\")\n",
    "symPFunctions = [1 t+1 t^2+t+1]\n",
    "interval = (0, 0.5, 1)\n",
    "symL = SymLinearDifferentialOperator(symPFunctions, interval, t)\n",
    "L = get_L(symL)\n",
    "\n",
    "tVal = 2\n",
    "pDerivMatrix = get_pDerivMatrix(L; symbolic = false)\n",
    "println(\"pDerivMatrix($tVal) = $(evaluate.(pDerivMatrix,tVal))\")\n",
    "\n",
    "symPDerivMatrix = get_pDerivMatrix(L; symbolic = true)"
   ]
  },
  {
   "cell_type": "markdown",
   "metadata": {
    "heading_collapsed": true,
    "hidden": true
   },
   "source": [
    "## `get_Bjk(L, j, k; symbolic, pDerivMatrix)`\n",
    "Given a `LinearDifferentialOperator` `L` of order $n$, for $j, k \\in \\{1,\\ldots,n\\}$, computes $B_{jk}$ defined as\n",
    "$$B_{jk}(t) := \\sum_{\\ell=j-1}^{n-k}\\binom{\\ell}{j-1}p^{(\\ell-j+1)}_{n-k-\\ell}(t)(-1)^\\ell.$$"
   ]
  },
  {
   "cell_type": "code",
   "execution_count": 27,
   "metadata": {
    "hidden": true
   },
   "outputs": [
    {
     "data": {
      "text/plain": [
       "get_Bjk (generic function with 1 method)"
      ]
     },
     "execution_count": 27,
     "metadata": {},
     "output_type": "execute_result"
    }
   ],
   "source": [
    "# Find Bjk using explicit formula\n",
    "function get_Bjk(L::LinearDifferentialOperator, j::Int, k::Int; symbolic = false, pDerivMatrix = get_pDerivMatrix(L; symbolic = symbolic))\n",
    "    n = length(L.pFunctions)-1\n",
    "    if j <= 0 || j > n || k <= 0 || k > n\n",
    "        throw(\"j, k should be in {1, ..., n}\")\n",
    "    end\n",
    "    sum = 0\n",
    "    if symbolic\n",
    "        symPDerivMatrix = get_pDerivMatrix(L; symbolic = true)\n",
    "        for l = (j-1):(n-k)\n",
    "            summand = binomial(l, j-1) * symPDerivMatrix[n-k-l+1, l-j+1+1] * (-1)^l\n",
    "            sum += summand\n",
    "        end\n",
    "    else\n",
    "        for l = (j-1):(n-k)\n",
    "            summand = mult_func(binomial(l, j-1) * (-1)^l, pDerivMatrix[n-k-l+1, l-j+1+1])\n",
    "            sum = add_func(sum, summand)\n",
    "        end\n",
    "    end\n",
    "    return sum\n",
    "end"
   ]
  },
  {
   "cell_type": "markdown",
   "metadata": {
    "hidden": true
   },
   "source": [
    "**Parameters**\n",
    "* `L`: `LinearDifferentialOperator`\n",
    "    * Linear differential operator whose `L.pFunctions` are to become the $p_{n-k-l}^{l-j+1}$ in $B_{jk}(t)$.\n",
    "* `j`, `k`: `Int`\n",
    "    * Integers corresponding to the $j$ and $k$ in $B_{jk}$.\n",
    "* `symbolic*`: `Bool`\n",
    "    * Boolean indicating whether the output is symbolic.\n",
    "* `pDerivMatrix*`: `Array`\n",
    "    * If `symbolic = false`, an $n\\times n$ matrix whose $(i+1)(j+1)$-entry is the $j$th derivative of $p_i$ (`L.pFunctions[i]`) implemented as a `Function`, `Number`, or `SymPy.Sym`. Default to the output of `get_pDerivMatrix(L)`.\n",
    "\n",
    "**Returns**\n",
    "* `get_Bjk`: `SymPy.Sym`, `Function`, or `Number`\n",
    "    * Returns $B_{jk}(t)$ defined above, \n",
    "        * as `Function` if `symbolic = false`, or\n",
    "        * as `SymPy.Sym` object if `symbolic = true`, where each $p_i$ is the generic expression $p_i(t)$.\n",
    "        \n",
    "**Example**"
   ]
  },
  {
   "cell_type": "code",
   "execution_count": 362,
   "metadata": {
    "hidden": true
   },
   "outputs": [
    {
     "data": {
      "text/latex": [
       "\\begin{equation*}t + 1\\end{equation*}"
      ],
      "text/plain": [
       "t + 1"
      ]
     },
     "execution_count": 362,
     "metadata": {},
     "output_type": "execute_result"
    }
   ],
   "source": [
    "t = symbols(\"t\")\n",
    "symPFunctions = [1 t+1 t^2+t+1]\n",
    "interval = (0, 0.5, 1)\n",
    "symL = SymLinearDifferentialOperator(symPFunctions, interval, t)\n",
    "L = get_L(symL)\n",
    "\n",
    "j, k = 1, 1\n",
    "BjkSym = get_Bjk(L, j, k; symbolic = true)"
   ]
  },
  {
   "cell_type": "code",
   "execution_count": 363,
   "metadata": {
    "hidden": true
   },
   "outputs": [
    {
     "name": "stdout",
     "output_type": "stream",
     "text": [
      "Bjk(1) = 2\n",
      "BjkSym(1) = 2\n"
     ]
    }
   ],
   "source": [
    "tVal = 1\n",
    "Bjk = get_Bjk(L, j, k; symbolic = false)\n",
    "println(\"Bjk($tVal) = $(Bjk(tVal))\")\n",
    "println(\"BjkSym($tVal) = $(evaluate.(BjkSym, tVal))\")"
   ]
  },
  {
   "cell_type": "markdown",
   "metadata": {
    "heading_collapsed": true,
    "hidden": true
   },
   "source": [
    "## `get_B(L; symbolic, pDerivMatrix)`\n",
    "\n",
    "Given a `LinearDifferentialOperator` `L` where `L.pFunctions` is the array\n",
    "$$[p_0, p_1, \\ldots, p_n],$$ \n",
    "constructs the matrix $B(t)$ whose $ij$-entry is given by\n",
    "$$B_{jk}(t) := \\sum_{\\ell=j-1}^{n-k}\\binom{\\ell}{j-1}p^{(\\ell-j+1)}_{n-k-\\ell}(t)(-1)^\\ell.$$"
   ]
  },
  {
   "cell_type": "code",
   "execution_count": 28,
   "metadata": {
    "hidden": true
   },
   "outputs": [
    {
     "data": {
      "text/plain": [
       "get_B (generic function with 1 method)"
      ]
     },
     "execution_count": 28,
     "metadata": {},
     "output_type": "execute_result"
    }
   ],
   "source": [
    "function get_B(L::LinearDifferentialOperator; symbolic = false, pDerivMatrix = get_pDerivMatrix(L; symbolic = symbolic))\n",
    "    n = length(L.pFunctions)-1\n",
    "    B = Array{Union{Function, Number, SymPy.Sym}}(undef, n, n)\n",
    "    for j = 1:n\n",
    "        for k = 1:n\n",
    "            B[j,k] = get_Bjk(L, j, k; symbolic = symbolic, pDerivMatrix = pDerivMatrix)\n",
    "        end\n",
    "    end\n",
    "    return B\n",
    "end"
   ]
  },
  {
   "cell_type": "markdown",
   "metadata": {
    "hidden": true
   },
   "source": [
    "**Parameters**\n",
    "* `L`: `LinearDifferentialOperator`\n",
    "    * Linear differential operator whose `L.pFunctions` are to become the $p_{n-k-l}^{l-j+1}$ in $B_{jk}(t)$.\n",
    "* `symbolic*`: `Bool`\n",
    "    * Boolean indicating whether the output is symbolic.\n",
    "* `substitute*`: `Bool`\n",
    "    * If `symbolic = true`, boolean indicating whether to substitute the symbolic expression of $p_i$ in `L.pFunctions` for the generic expression $p_i(t)$ created using `SymFunction(\"pi\")(t)`. If `symbolic = false`, the value of `substitute` does not matter.\n",
    "* `pDerivMatrix*`: `Array`\n",
    "    * If `symbolic = false`, the non-symbolic version of `symPDerivMatrix`, i.e., an $n\\times n$ matrix whose $(i+1)(j+1)$-entry is the $j$th derivative of $p_i$ (`L.pFunctions[i]`) implemented as a `Function` or `Number`.\n",
    "\n",
    "**Returns**\n",
    "* `get_B`: `Array` of `Function`, `SymPy.Sym`, or `Number`\n",
    "    * Returns $B(t)$ defined above, where $B_{jk}(t)$ is\n",
    "        * `Function` if `symbolic = false`, or\n",
    "        * `SymPy.Sym` object if `symbolic = true`, where each $p_i$ is\n",
    "            * the generic expression $p_i(t)$ if `substitute = false`, or\n",
    "            * the symbolic expression of $p_i(t)$ (`L.symL.symPFunctions[i]`) if `substitute = true`.\n",
    "\n",
    "**Example**"
   ]
  },
  {
   "cell_type": "code",
   "execution_count": 364,
   "metadata": {
    "hidden": true
   },
   "outputs": [
    {
     "data": {
      "text/latex": [
       "\\[\\left[ \\begin{array}{rr}t + 1&1\\\\-1&0\\end{array}\\right]\\]"
      ],
      "text/plain": [
       "2×2 Array{Sym,2}:\n",
       " t + 1  1\n",
       "    -1  0"
      ]
     },
     "execution_count": 364,
     "metadata": {},
     "output_type": "execute_result"
    }
   ],
   "source": [
    "t = symbols(\"t\")\n",
    "symPFunctions = [1 t+1 t^2+t+1]\n",
    "interval = (0, 0.5, 1)\n",
    "symL = SymLinearDifferentialOperator(symPFunctions, interval, t)\n",
    "L = get_L(symL)\n",
    "\n",
    "BSym = get_B(L; symbolic = true)\n",
    "prettyPrint.(BSym)"
   ]
  },
  {
   "cell_type": "code",
   "execution_count": 365,
   "metadata": {
    "hidden": true
   },
   "outputs": [
    {
     "name": "stdout",
     "output_type": "stream",
     "text": [
      "B(1) = [2 1; -1 0]\n",
      "BSym(1) = Number[2 1; -1 0]\n"
     ]
    }
   ],
   "source": [
    "B = get_B(L; symbolic = false)\n",
    "tVal = 1\n",
    "println(\"B($tVal) = $(evaluate.(B, tVal))\")\n",
    "println(\"BSym($tVal) = $(evaluate.(BSym, tVal))\")"
   ]
  },
  {
   "cell_type": "markdown",
   "metadata": {
    "heading_collapsed": true,
    "hidden": true
   },
   "source": [
    "## `get_BHat(L, B)`\n",
    "Given a `LinearDifferentialOperator` `L` where `L.pFunctions` is the array\n",
    "$$[p_0, p_1, \\ldots, p_n]$$\n",
    "and `L.interval` is $[x_0, x_1, x_2, \\ldots, x_{k-1}, x_k]$, constructs a tuple of \n",
    "$$\\{ \\widehat{B_l}\\}_{l=1}^k, \\mbox{ where } \\widehat{B_l} :=\\begin{bmatrix}-B(x_{l-1}) & 0_n\\\\0_n & B(x_l)\\end{bmatrix}.$$"
   ]
  },
  {
   "cell_type": "code",
   "execution_count": 29,
   "metadata": {
    "hidden": true
   },
   "outputs": [
    {
     "data": {
      "text/plain": [
       "get_BHat (generic function with 1 method)"
      ]
     },
     "execution_count": 29,
     "metadata": {},
     "output_type": "execute_result"
    }
   ],
   "source": [
    "# Construct B_hat. Since all entries of B_hat are evaluated, BHat is a numeric matrix.\n",
    "function get_BHat(L::LinearDifferentialOperator, B::Array)\n",
    "    pFunctions, interval = L.pFunctions, L.interval\n",
    "    k = length(interval) - 1\n",
    "    BHats_Array = Array{Any}(undef, 1, k)\n",
    "    n = length(pFunctions)-1\n",
    "    for i=1:k\n",
    "        BHat = Array{Float64, 2}(undef, 2n, 2n)\n",
    "        BHat = convert(Array{Complex}, BHat)\n",
    "        BEvalA = evaluate.(B, interval[i]) # B at x_{l-1} \n",
    "        BEvalB = evaluate.(B, interval[i+1]) # B at x_l\n",
    "        BHat[1:n,1:n] = -BEvalA\n",
    "        BHat[(n+1):(2n),(n+1):(2n)] = BEvalB\n",
    "        BHat[1:n, (n+1):(2n)] = zeros(n, n)\n",
    "        BHat[(n+1):(2n), 1:n] = zeros(n, n)\n",
    "        BHats_Array[i] = BHat\n",
    "    end\n",
    "    return BHats_Array\n",
    "end"
   ]
  },
  {
   "cell_type": "markdown",
   "metadata": {
    "hidden": true
   },
   "source": [
    "**Parameters**\n",
    "* `L`: `LinearDifferentialOperator`\n",
    "    * Linear differential operator whose `L.pFunctions` are to become the $p_{n-k-l}^{l-j+1}$ in $B_{jk}(t)$.\n",
    "* `B`: `Array` of `Number`\n",
    "    * Output of `get_B(L; symbolic = false)`.\n",
    "    \n",
    "**Returns**\n",
    "* `get_BHat`: `Array` of `Number`\n",
    "    * Returns $\\hat{B}$ defined above.\n",
    "\n",
    "**Example**"
   ]
  },
  {
   "cell_type": "code",
   "execution_count": 366,
   "metadata": {
    "hidden": true
   },
   "outputs": [
    {
     "data": {
      "text/plain": [
       "1×2 Array{Any,2}:\n",
       " Complex[-1+0im -1+0im 0.0+0.0im 0.0+0.0im; 1+0im 0+0im 0.0+0.0im 0.0+0.0im; 0.0+0.0im 0.0+0.0im 1.5+0.0im 1+0im; 0.0+0.0im 0.0+0.0im -1+0im 0+0im]  …  Complex[-1.5+0.0im -1+0im 0.0+0.0im 0.0+0.0im; 1+0im 0+0im 0.0+0.0im 0.0+0.0im; 0.0+0.0im 0.0+0.0im 2+0im 1+0im; 0.0+0.0im 0.0+0.0im -1+0im 0+0im]"
      ]
     },
     "execution_count": 366,
     "metadata": {},
     "output_type": "execute_result"
    }
   ],
   "source": [
    "t = symbols(\"t\")\n",
    "symPFunctions = [1 t+1 t^2+t+1]\n",
    "interval = (0, 0.5, 1)\n",
    "symL = SymLinearDifferentialOperator(symPFunctions, interval, t)\n",
    "L = get_L(symL)\n",
    "\n",
    "B = get_B(L; symbolic = false)\n",
    "BHat_Arr = get_BHat(L, B)"
   ]
  },
  {
   "cell_type": "markdown",
   "metadata": {
    "heading_collapsed": true,
    "hidden": true
   },
   "source": [
    "## `get_J(BHat_Array, H_Array)`\n",
    "Given $\\{\\widehat{B_l}\\}_{l=1}^k$ and $\\{H_l\\}_{l=1}^k$, constructs $\\{ J_l \\}_{l=1}$ defined as \n",
    "$$J_l:=(\\widehat{B_l} H_l^{-1})^\\star$$\n",
    "where $^*$ denotes conjugate transpose."
   ]
  },
  {
   "cell_type": "code",
   "execution_count": 30,
   "metadata": {
    "hidden": true
   },
   "outputs": [
    {
     "data": {
      "text/plain": [
       "get_J (generic function with 1 method)"
      ]
     },
     "execution_count": 30,
     "metadata": {},
     "output_type": "execute_result"
    }
   ],
   "source": [
    "function get_J(BHat_Array, H_Array)\n",
    "    k = length(BHat_Array)\n",
    "    J = Array{Any}(undef, 1, k)\n",
    "    for i=1:k\n",
    "        BHat_i = BHat_Array[i]\n",
    "        H_i = H_Array[i] \n",
    "        n = size(H_i)[1]\n",
    "        H_i = convert(Array{Complex}, H_i)\n",
    "        J_i = (BHat_i * inv(H_i))'\n",
    "        J[i] = J_i\n",
    "    end\n",
    "    return J\n",
    "end"
   ]
  },
  {
   "cell_type": "markdown",
   "metadata": {
    "hidden": true
   },
   "source": [
    "**Parameters**\n",
    "* `BHat_Array`: `Array` of `Array`\n",
    "    * Output of `get_BHat()`.\n",
    "* `H_Array`: `Array` of `Array`\n",
    "    * Output of `get_H()`.\n",
    "\n",
    "**Returns**\n",
    "* `get_J`: `Array` of `Array`\n",
    "    * Returns a tuple of $J_l$ defined above.\n",
    "\n",
    "**Example**"
   ]
  },
  {
   "cell_type": "code",
   "execution_count": 367,
   "metadata": {
    "hidden": true
   },
   "outputs": [
    {
     "data": {
      "text/plain": [
       "1×2 Array{Any,2}:\n",
       " Any[0.0-0.0im 0.0-0.0im 0.5-0.0im -0.333333-0.0im; 0.0-0.0im 0.0-0.0im -0.833333-0.0im 0.777778-0.0im; -1.0-0.0im 1.0-0.0im 0.333333-0.0im -0.444444-0.0im; -1.0-0.0im 0.0-0.0im -1.0-0.0im 0.666667-0.0im]  …  Any[0.0-0.0im 0.0-0.0im 2.0-0.0im -1.0-0.0im; 0.0-0.0im 0.0-0.0im 0.1-0.0im 0.0-0.0im; -1.5-0.0im 1.0-0.0im -2.0-0.0im 1.0-0.0im; -1.0-0.0im 0.0-0.0im -0.2-0.0im 0.0-0.0im]"
      ]
     },
     "execution_count": 367,
     "metadata": {},
     "output_type": "execute_result"
    }
   ],
   "source": [
    "t = symbols(\"t\")\n",
    "symPFunctions = [1 t+1 t^2+t+1]\n",
    "interval = (0, 0.5, 1)\n",
    "symL = SymLinearDifferentialOperator(symPFunctions, interval, t)\n",
    "L = get_L(symL)\n",
    "\n",
    "B = get_B(L; symbolic = false)\n",
    "BHat_Arr = get_BHat(L, B)\n",
    "\n",
    "M1 = [1. 2.; 1. 0.]\n",
    "M2 = [1. 0.; 0. 2.]\n",
    "M = [M1, M2]\n",
    "N1 = [3. 7.; 0. 3.]\n",
    "N2 = [1. 0.; 0. 10.]\n",
    "N = [N1, N2]\n",
    "U = VectorMultiBoundaryForm(M, N)\n",
    "Uc = get_Uc(U)\n",
    "H_Arr = get_H(U, Uc)\n",
    "J_Arr = get_J(BHat_Arr, H_Arr)"
   ]
  },
  {
   "cell_type": "markdown",
   "metadata": {
    "heading_collapsed": true,
    "hidden": true
   },
   "source": [
    "## `get_adjoint_Candidate(J_Array)`\n",
    "Given $\\{ J_l \\}_{l=1}^k$, constructs a candidate adjoint vector boundary form $U^+$ from two tuples $\\{P^\\star_l\\}_{l=1}^k$, $\\{Q^\\star_l\\}_{l=1}^k,$ whose elements are matrices $P^\\star_l$, $Q^\\star_l$, which are the lower-left $n\\times n$ submatrix of $J_l$, and the lower-right $n\\times n$ submatrix of $J_l$, respectively."
   ]
  },
  {
   "cell_type": "code",
   "execution_count": 31,
   "metadata": {
    "hidden": true
   },
   "outputs": [
    {
     "data": {
      "text/plain": [
       "get_adjoint_Candidate (generic function with 1 method)"
      ]
     },
     "execution_count": 31,
     "metadata": {},
     "output_type": "execute_result"
    }
   ],
   "source": [
    "# Construct U+\n",
    "function get_adjoint_Candidate(J_Array)\n",
    "    PStar = Array{Any}(undef, 1, length(J_Array))\n",
    "    QStar = Array{Any}(undef, 1, length(J_Array))\n",
    "    for i=1:length(J_Array)\n",
    "        J_i = J_Array[i]\n",
    "        n = convert(Int, size(J_i)[1]/2)\n",
    "        J = convert(Array{Complex}, J_i)\n",
    "        PStar[i] = J_i[(n+1):2n,1:n]\n",
    "        QStar[i] = J_i[(n+1):2n, (n+1):2n]\n",
    "    end\n",
    "    adjointU = VectorMultiBoundaryForm(PStar, QStar)\n",
    "    return adjointU\n",
    "end"
   ]
  },
  {
   "cell_type": "markdown",
   "metadata": {
    "hidden": true
   },
   "source": [
    "**Parameters**\n",
    "* `J`: `Array` of `Array`\n",
    "    * Output of `get_J`.\n",
    "\n",
    "**Returns**\n",
    "* `get_adjoint`: `VectorMultiBoundaryForm`\n",
    "    * Returns $U^+$ defined above.\n",
    "\n",
    "**Example**"
   ]
  },
  {
   "cell_type": "code",
   "execution_count": 374,
   "metadata": {
    "hidden": true
   },
   "outputs": [
    {
     "data": {
      "text/plain": [
       "VectorMultiBoundaryForm(Any[Any[-1.0-0.0im 1.0-0.0im; -1.0-0.0im 0.0-0.0im] Any[-1.5-0.0im 1.0-0.0im; -1.0-0.0im 0.0-0.0im]], Any[Any[0.333333-0.0im -0.444444-0.0im; -1.0-0.0im 0.666667-0.0im] Any[-2.0-0.0im 1.0-0.0im; -0.2-0.0im 0.0-0.0im]])"
      ]
     },
     "execution_count": 374,
     "metadata": {},
     "output_type": "execute_result"
    }
   ],
   "source": [
    "t = symbols(\"t\")\n",
    "symPFunctions = [1 t+1 t^2+t+1]\n",
    "interval = (0, 0.5, 1)\n",
    "symL = SymLinearDifferentialOperator(symPFunctions, interval, t)\n",
    "L = get_L(symL)\n",
    "\n",
    "B = get_B(L; symbolic = false)\n",
    "BHat_Arr = get_BHat(L, B)\n",
    "\n",
    "M1 = [1. 2.; 1. 0.]\n",
    "M2 = [1. 0.; 0. 2.]\n",
    "M = [M1, M2]\n",
    "N1 = [3. 7.; 0. 3.]\n",
    "N2 = [1. 0.; 0. 10.]\n",
    "N = [N1, N2]\n",
    "U = VectorMultiBoundaryForm(M, N)\n",
    "Uc = get_Uc(U)\n",
    "H_Arr = get_H(U, Uc)\n",
    "J_Arr = get_J(BHat_Arr, H_Arr)\n",
    "adjoint = get_adjoint_Candidate(J_Arr)"
   ]
  },
  {
   "cell_type": "markdown",
   "metadata": {
    "heading_collapsed": true,
    "hidden": true
   },
   "source": [
    "## `get_symXi(L; symbolic, xSym)`\n",
    "Given a `LinearDifferentialOperator` `L` of order $n$ in the differential equation $Lx=0$, constructs $\\xi(t)$, which is defined as the vector of derivatives of $x(t)$\n",
    "$$\\xi(t) := \\begin{bmatrix}x(t)\\\\ x^{(1)}(t)\\\\ x^{(2)}(t)\\\\ \\vdots\\\\ x^{(n-1)}(t)\\end{bmatrix}.$$"
   ]
  },
  {
   "cell_type": "code",
   "execution_count": 32,
   "metadata": {
    "hidden": true
   },
   "outputs": [
    {
     "data": {
      "text/plain": [
       "get_xi (generic function with 1 method)"
      ]
     },
     "execution_count": 32,
     "metadata": {},
     "output_type": "execute_result"
    }
   ],
   "source": [
    "function get_xi(L::LinearDifferentialOperator; symbolic = true, xSym= nothing)\n",
    "    if symbolic\n",
    "        t = L.symL.t\n",
    "        n = length(L.pFunctions)-1\n",
    "        symXi = Array{SymPy.Sym}(undef, n,1)\n",
    "        if isa(xSym, Nothing)\n",
    "            throw(error(\"xSymrequired\"))\n",
    "        else\n",
    "            for i = 1:n\n",
    "                symXi[i] = get_deriv(xSym, i-1)\n",
    "            end\n",
    "            return symXi\n",
    "        end\n",
    "    else\n",
    "        if isa(xSym, Nothing)\n",
    "            throw(error(\"xSym required\"))\n",
    "        elseif !isa(xSym, SymPy.Sym) && !isa(xSym, Number)\n",
    "            throw(error(\"xSym should be SymPy.Sym or Number\"))\n",
    "        else\n",
    "            symXi = get_xi(L; symbolic = true, xSym = xSym)\n",
    "            xi = sym_to_func.(symXi)\n",
    "        end\n",
    "    end\n",
    "end"
   ]
  },
  {
   "cell_type": "markdown",
   "metadata": {
    "hidden": true
   },
   "source": [
    "**Parameters**\n",
    "* `L`: `LinearDifferentialOperator`\n",
    "    * Linear differential operator in the differential equation $Lx=0$; derivatives of $x(t)$ will be entries of $\\xi(t)$.\n",
    "* `symbolic`: `Bool`\n",
    "    * Boolean indicating whether the output is symbolic.\n",
    "* `substitute*`: `Bool`\n",
    "    * If `symbolic = true`, boolean indicating whether to substitute the symbolic expression of $x(t)$ for the generic expression created using `SymFunction`.\n",
    "* `xSym*`: `SymPy.Sym`\n",
    "    * If `substitute = true`, symbolic expression of $x(t)$ to replace the generic expression with.\n",
    "\n",
    "**Returns**\n",
    "* `get_xi`: `Array` of `SymPy.Sym`\n",
    "    * Returns an array whose $i$th entry is\n",
    "        * the generic expression $\\displaystyle\\frac{d^{i-1}}{dt^{i-1}}x(t)$ if `substitute = false`, or\n",
    "        * the symbolic expression of the ($i-1$)th derivative of $x(t)$ if `substitute = true`.\n",
    "\n",
    "**Example**"
   ]
  },
  {
   "cell_type": "code",
   "execution_count": 376,
   "metadata": {
    "hidden": true
   },
   "outputs": [
    {
     "data": {
      "text/plain": [
       "LinearDifferentialOperator(getfield(Main, Symbol(\"#func#85\")){Sym,Array{Sym,1}}[#func#85{Sym,Array{Sym,1}}(1, Sym[]) #func#85{Sym,Array{Sym,1}}(t + 1, Sym[t]) #func#85{Sym,Array{Sym,1}}(t^2 + t + 1, Sym[t])], (0, 0.5, 1), SymLinearDifferentialOperator(Sym[1 t + 1 t^2 + t + 1], (0, 0.5, 1), t))"
      ]
     },
     "execution_count": 376,
     "metadata": {},
     "output_type": "execute_result"
    }
   ],
   "source": [
    "t = symbols(\"t\")\n",
    "symPFunctions = [1 t+1 t^2+t+1]\n",
    "interval = (0, 0.5, 1)\n",
    "symL = SymLinearDifferentialOperator(symPFunctions, interval, t)\n",
    "L = get_L(symL)"
   ]
  },
  {
   "cell_type": "code",
   "execution_count": 377,
   "metadata": {
    "hidden": true
   },
   "outputs": [
    {
     "data": {
      "text/latex": [
       "\\[\\left[ \\begin{array}{r}t^{2} + 2 t\\\\2 t + 2\\end{array}\\right]\\]"
      ],
      "text/plain": [
       "2×1 Array{Sym,2}:\n",
       " t^2 + 2*t\n",
       "   2*t + 2"
      ]
     },
     "execution_count": 377,
     "metadata": {},
     "output_type": "execute_result"
    }
   ],
   "source": [
    "xSym = t^2+2t\n",
    "symXi = get_xi(L; symbolic = true, xSym = xSym)"
   ]
  },
  {
   "cell_type": "code",
   "execution_count": 378,
   "metadata": {
    "hidden": true
   },
   "outputs": [
    {
     "name": "stdout",
     "output_type": "stream",
     "text": [
      "xi(1) = [3; 4]\n",
      "symXi(1) = [3; 4]\n"
     ]
    }
   ],
   "source": [
    "xi = get_xi(L; symbolic=false, xSym = xSym)\n",
    "tVal = 1\n",
    "println(\"xi($tVal) = $(evaluate.(xi, tVal))\")\n",
    "println(\"symXi($tVal) = $(evaluate.(symXi, tVal))\")"
   ]
  },
  {
   "cell_type": "markdown",
   "metadata": {
    "heading_collapsed": true,
    "hidden": true
   },
   "source": [
    "## `get_Ux(L, U, xSym)`\n",
    "Given a `LinearDifferentialOperator` `L` and a `VectorBoundaryForm` `U`, constructs the left hand side of the homogeneous boundary condition $Uq=0$, where\n",
    "$$\\begin{align*}\n",
    "    Uq &= \\sum_{l=1}^k \\begin{bmatrix}\n",
    "        \\sum_{j=1}^n (M_{1jl}q^{(j-1)}(x_{l-1}) + N_{1jl}q^{(j-1)}(x_{l}))\\\\\n",
    "        \\vdots\\\\\n",
    "        \\sum_{j=1}^n (M_{mjl}q^{(j-1)}(x_{l-1}) + N_{mjl}q^{(j-1)}(x_{l}))\n",
    "    \\end{bmatrix}\\\\\n",
    "    &= \\sum_{l=1}^k \\begin{bmatrix}\n",
    "        M_{11l} & \\cdots & M_{1nl} & N_{11} & \\cdots & N_{1nl}\\\\\n",
    "        \\vdots &  & \\vdots & \\vdots & & \\vdots\\\\\n",
    "        M_{m1l} & \\cdots & M_{mnl} & N_{m1} & \\cdots & N_{mnl}\n",
    "    \\end{bmatrix} \\begin{bmatrix}q(x_{l-1})\\\\\\vdots\\\\q^{(n-1)}(x_{l-1})\\\\ q(x_l)\\\\\\vdots\\\\q^{(n-1)}(x_l)\\end{bmatrix}\\\\\n",
    "    &= \\sum_{l=1}^k (M_l:N_l)\\begin{bmatrix}\n",
    "        \\xi(x_{l-1})\\\\\n",
    "        \\xi(x_l)\n",
    "    \\end{bmatrix}.\n",
    "\\end{align*}$$"
   ]
  },
  {
   "cell_type": "code",
   "execution_count": 33,
   "metadata": {
    "hidden": true
   },
   "outputs": [
    {
     "data": {
      "text/plain": [
       "get_Ux (generic function with 1 method)"
      ]
     },
     "execution_count": 33,
     "metadata": {},
     "output_type": "execute_result"
    }
   ],
   "source": [
    "function get_Ux(L::LinearDifferentialOperator, U::VectorMultiBoundaryForm, xSym)\n",
    "    interval = L.interval\n",
    "    k = length(interval)-1\n",
    "    xi = get_xi(L; symbolic = false, xSym = xSym)\n",
    "    summand = zeros(k,1)\n",
    "    M, N = copy(U.MM), copy(U.NN)\n",
    "    for i=1:k\n",
    "        xiEvalA = evaluate.(xi, interval[i])\n",
    "        xiEvalB = evaluate.(xi, interval[i+1])\n",
    "        Ux = M[i]*xiEvalA + N[i]*xiEvalB\n",
    "        summand = Ux + summand \n",
    "    end\n",
    "    return summand\n",
    "end"
   ]
  },
  {
   "cell_type": "code",
   "execution_count": 380,
   "metadata": {
    "hidden": true
   },
   "outputs": [
    {
     "data": {
      "text/plain": [
       "VectorMultiBoundaryForm(Array{Float64,2}[[1.0 2.0; 1.0 0.0], [1.0 0.0; 0.0 2.0]], Array{Float64,2}[[3.0 7.0; 0.0 3.0], [1.0 0.0; 0.0 10.0]])"
      ]
     },
     "execution_count": 380,
     "metadata": {},
     "output_type": "execute_result"
    }
   ],
   "source": [
    "t = symbols(\"t\")\n",
    "symPFunctions = [1 t+1 t^2+t+1]\n",
    "interval = (0, 0.5, 1)\n",
    "symL = SymLinearDifferentialOperator(symPFunctions, interval, t)\n",
    "L = get_L(symL)\n",
    "\n",
    "M1 = [1. 2.; 1. 0.]\n",
    "M2 = [1. 0.; 0. 2.]\n",
    "M = [M1, M2]\n",
    "N1 = [3. 7.; 0. 3.]\n",
    "N2 = [1. 0.; 0. 10.]\n",
    "N = [N1, N2]\n",
    "U = VectorMultiBoundaryForm(M, N)"
   ]
  },
  {
   "cell_type": "code",
   "execution_count": 381,
   "metadata": {
    "hidden": true
   },
   "outputs": [
    {
     "name": "stdout",
     "output_type": "stream",
     "text": [
      "U(t^2 + 2*t) = [33.0; 55.0]\n"
     ]
    }
   ],
   "source": [
    "xSym = t^2+2t\n",
    "Ux = get_Ux(L, U, xSym)\n",
    "println(\"U($xSym) = $Ux\")"
   ]
  },
  {
   "cell_type": "markdown",
   "metadata": {
    "heading_collapsed": true,
    "hidden": true
   },
   "source": [
    "## `check_adjoint(L, U, adjointU, B)`\n",
    "Given a multi-point boundary value problem\n",
    "$$Lq = 0,\\quad Uq=0$$\n",
    "with linear differential operator $L$ and vector multi-boundary form $U$, a candidate adjoint vector multi-boundary form $U^+$, and the matrix $B$ associated with $L$, checks whether the boundary condition\n",
    "$$U^+q = 0$$\n",
    "is indeed adjoint to the boundary condition\n",
    "$$Uq=0.$$"
   ]
  },
  {
   "cell_type": "code",
   "execution_count": 34,
   "metadata": {
    "hidden": true
   },
   "outputs": [
    {
     "data": {
      "text/plain": [
       "check_adjoint (generic function with 1 method)"
      ]
     },
     "execution_count": 34,
     "metadata": {},
     "output_type": "execute_result"
    }
   ],
   "source": [
    "function check_adjoint(L::LinearDifferentialOperator, U::VectorMultiBoundaryForm, adjointU::VectorMultiBoundaryForm, B::Array)\n",
    "    interval = L.interval\n",
    "    k = length(interval)-1\n",
    "    M, N = U.MM, U.NN\n",
    "    P, Q = (adjointU.MM)', (adjointU.NN)'\n",
    "    # Avoid InexactError() when taking inv()\n",
    "    checker = Array{Bool}(undef, 1, k)\n",
    "    for i=1:k\n",
    "        BEvalA = convert(Array{Complex}, evaluate.(B, interval[i]))\n",
    "        BEvalB = convert(Array{Complex}, evaluate.(B, interval[i+1]))\n",
    "        left = M[i] * inv(BEvalA) * P[i]\n",
    "        right = N[i] * inv(BEvalB) * Q[i]\n",
    "        tol = set_tol(left, right)\n",
    "        checker[i] = all(j -> isapprox(left[j], right[j]; atol = tol), 1:length(left)) # Can't use == to deterimine equality because left and right are arrays of floats\n",
    "    end\n",
    "    for x in checker\n",
    "        if x != true\n",
    "            return false\n",
    "        end\n",
    "        return true\n",
    "    end\n",
    "end"
   ]
  },
  {
   "cell_type": "markdown",
   "metadata": {
    "hidden": true
   },
   "source": [
    "**Parameters**\n",
    "* `L`: `LinearDifferentialOperator`\n",
    "    * Linear differential operator in the differential equation $Lx=0$.\n",
    "* `U`: `VectorBoundaryForm`\n",
    "    * Vector boundary form in the boundary condition $Ux=0$.\n",
    "* `adjointU`: `VectorBoundaryForm`\n",
    "    * Vector boundary form in the candidate adjoint boundary condition $U^+x=0$.\n",
    "* `B`: `Array` of `Number`\n",
    "    * Output of `get_B(L)`.\n",
    "\n",
    "**Returns**\n",
    "* `check_adjoint`: `Bool`\n",
    "    * Returns \n",
    "        * `true` if `adjointU` is indeed adjoint to `U`, or\n",
    "        * `false` otherwise.\n",
    "\n",
    "**Example**"
   ]
  },
  {
   "cell_type": "code",
   "execution_count": 385,
   "metadata": {
    "hidden": true
   },
   "outputs": [
    {
     "data": {
      "text/plain": [
       "true"
      ]
     },
     "execution_count": 385,
     "metadata": {},
     "output_type": "execute_result"
    }
   ],
   "source": [
    "t = symbols(\"t\")\n",
    "symPFunctions = [1 t+1 t^2+t+1]\n",
    "interval = (0, 0.5, 1)\n",
    "symL = SymLinearDifferentialOperator(symPFunctions, interval, t)\n",
    "L = get_L(symL)\n",
    "\n",
    "B = get_B(L; symbolic = false)\n",
    "BHat_Arr = get_BHat(L, B)\n",
    "\n",
    "M1 = [1. 2.; 1. 0.]\n",
    "M2 = [1. 0.; 0. 2.]\n",
    "M = [M1, M2]\n",
    "N1 = [3. 7.; 0. 3.]\n",
    "N2 = [1. 0.; 0. 10.]\n",
    "N = [N1, N2]\n",
    "U = VectorMultiBoundaryForm(M, N)\n",
    "Uc = get_Uc(U)\n",
    "\n",
    "H_Arr = get_H(U, Uc)\n",
    "J_Arr = get_J(BHat_Arr, H_Arr)\n",
    "adjointU = get_adjoint_Candidate(J_Arr)\n",
    "\n",
    "check_adjoint(L, U, adjointU, B)"
   ]
  },
  {
   "cell_type": "markdown",
   "metadata": {
    "heading_collapsed": true,
    "hidden": true
   },
   "source": [
    "## `get_adjointU(L, U, pDerivMatrix)`\n",
    "\n",
    "Given a multi-point boundary value problem\n",
    "$$Lq = p_0q^{(n)} + p_1q^{(n-1)} + \\cdots + p_{n-1}q^{(1)} + p_n q = 0,\\quad Uq=0$$\n",
    "with linear differential operator $L$ and vector boundary form $U$, an $n\\times n$ matrix of derivatives\n",
    "$$\\begin{bmatrix}p_0 & \\cdots & p_0^{(n-1)}\\\\ \\vdots & \\ddots & \\vdots\\\\ p_{n-1} & \\cdots & p_{n-1}^{(n-1)}\\end{bmatrix},$$\n",
    "construct $U^+$ such that the boundary condition $U^+q=0$ is adjoint to the original boundary condition $Uq=0$."
   ]
  },
  {
   "cell_type": "code",
   "execution_count": 35,
   "metadata": {
    "hidden": true
   },
   "outputs": [
    {
     "data": {
      "text/plain": [
       "get_adjointU (generic function with 2 methods)"
      ]
     },
     "execution_count": 35,
     "metadata": {},
     "output_type": "execute_result"
    }
   ],
   "source": [
    "function get_adjointU(L::LinearDifferentialOperator, U::VectorMultiBoundaryForm, pDerivMatrix=get_pDerivMatrix(L))\n",
    "    B = get_B(L; pDerivMatrix = pDerivMatrix)\n",
    "    BHat_Arr = get_BHat(L, B)\n",
    "    Uc = get_Uc(U)\n",
    "    H_Arr = get_H(U, Uc)\n",
    "    J_Arr = get_J(BHat_Arr, H_Arr)\n",
    "    adjointU = get_adjoint_Candidate(J_Arr)\n",
    "    if check_adjoint(L, U, adjointU, B)\n",
    "        return adjointU\n",
    "    else\n",
    "        throw(error(\"Adjoint found not valid\"))\n",
    "    end\n",
    "end"
   ]
  },
  {
   "cell_type": "markdown",
   "metadata": {
    "hidden": true
   },
   "source": [
    "**Parameters**\n",
    "* `L`: `LinearDifferentialOperator`\n",
    "    * Linear differential operator in the differential equation $Lq=0$.\n",
    "* `U`: `VectorMultiBoundaryForm`\n",
    "    * Vector multi boundary form in the boundary condition $Uq=0$.\n",
    "* `pDerivMatrix`: `Array` of `Function`, `Number`, or `SymPy.#`\n",
    "    * An $n\\times n$ matrix defined above, which can be\n",
    "        * output of `get_pDerivMatrix` (`SymPy.#`), or\n",
    "        * user input.\n",
    "\n",
    "**Returns**\n",
    "* `get_adjointU`: `VectorMultiBoundaryForm`\n",
    "    * Returns a valid vector boundary form $U^+$ such that the boundary condition $U^+q=0$ is adjoint to $Uq=0$.\n",
    "\n",
    "**Example**"
   ]
  },
  {
   "cell_type": "code",
   "execution_count": 389,
   "metadata": {
    "hidden": true
   },
   "outputs": [
    {
     "data": {
      "text/plain": [
       "2×2 Array{getfield(Main, Symbol(\"#func#85\")){Sym,Array{Sym,1}},2}:\n",
       " #func#85{Sym,Array{Sym,1}}(1, Sym[])       …  #func#85{Sym,Array{Sym,1}}(0, Sym[])\n",
       " #func#85{Sym,Array{Sym,1}}(t + 1, Sym[t])     #func#85{Sym,Array{Sym,1}}(1, Sym[])"
      ]
     },
     "execution_count": 389,
     "metadata": {},
     "output_type": "execute_result"
    }
   ],
   "source": [
    "t = symbols(\"t\")\n",
    "symPFunctions = [1 t+1 t^2+t+1]\n",
    "interval = (0, 0.5, 1)\n",
    "symL = SymLinearDifferentialOperator(symPFunctions, interval, t)\n",
    "# pFunctions = [t->1 t->t+1 t->t^2+t+1]\n",
    "# L = LinearDifferentialOperator(pFunctions, interval, symL)\n",
    "L = get_L(symL)\n",
    "M1 = [1. 2.; 1. 0.]\n",
    "M2 = [1. 0.; 0. 2.]\n",
    "M = [M1, M2]\n",
    "N1 = [3. 7.; 0. 3.]\n",
    "N2 = [1. 0.; 0. 10.]\n",
    "N = [N1, N2]\n",
    "U = VectorMultiBoundaryForm(M, N)\n",
    "\n",
    "adjointU = get_adjointU(L, U)\n",
    "\n",
    "pDerivMatrix = get_pDerivMatrix(L)"
   ]
  },
  {
   "cell_type": "code",
   "execution_count": 390,
   "metadata": {
    "hidden": true
   },
   "outputs": [
    {
     "data": {
      "text/plain": [
       "VectorMultiBoundaryForm(Any[Any[-1.0-0.0im 1.0-0.0im; -1.0-0.0im 0.0-0.0im] Any[-1.5-0.0im 1.0-0.0im; -1.0-0.0im 0.0-0.0im]], Any[Any[0.333333-0.0im -0.444444-0.0im; -1.0-0.0im 0.666667-0.0im] Any[-2.0-0.0im 1.0-0.0im; -0.2-0.0im 0.0-0.0im]])"
      ]
     },
     "execution_count": 390,
     "metadata": {},
     "output_type": "execute_result"
    }
   ],
   "source": [
    "get_adjointU(L, U, pDerivMatrix)"
   ]
  },
  {
   "cell_type": "markdown",
   "metadata": {},
   "source": [
    "# Helper Functions for Testing"
   ]
  },
  {
   "cell_type": "markdown",
   "metadata": {
    "heading_collapsed": true
   },
   "source": [
    "## `generate_symPFunctions`"
   ]
  },
  {
   "cell_type": "code",
   "execution_count": 36,
   "metadata": {
    "hidden": true
   },
   "outputs": [
    {
     "data": {
      "text/plain": [
       "generate_symPFunctions (generic function with 1 method)"
      ]
     },
     "execution_count": 36,
     "metadata": {},
     "output_type": "execute_result"
    }
   ],
   "source": [
    "function generate_symPFunctions(n; random = false, constant = false)\n",
    "    global t = symbols(\"t\")\n",
    "    if random\n",
    "        symPFunctions = Array{Number}(undef, 1,n+1)\n",
    "        for i = 1:(n+1)\n",
    "            seed = rand(0:1)\n",
    "            if seed == 0 # constant\n",
    "                symPFunctionRe = rand(Uniform(1.0,10.0), 1, 1)[1]\n",
    "                symPFunctionIm = rand(Uniform(1.0,10.0), 1, 1)[1]\n",
    "                symPFunction = symPFunctionRe + symPFunctionIm*im\n",
    "            else # variable\n",
    "                coeffsNo = rand(1:5)\n",
    "                pFunctionCoeffsRe = rand(Uniform(1.0,10.0), 1, coeffsNo)\n",
    "                pFunctionCoeffsIm = rand(Uniform(1.0,10.0), 1,  coeffsNo)\n",
    "                pFunctionCoeffs = pFunctionCoeffsRe + pFunctionCoeffsIm*im\n",
    "                symPFunction = sum([pFunctionCoeffs[i+1]*t^(length(pFunctionCoeffs)-1-i) for i in 0:(length(pFunctionCoeffs)-1)])\n",
    "            end\n",
    "            symPFunctions[i] = symPFunction\n",
    "        end\n",
    "    else\n",
    "        if constant # constant\n",
    "            symPFunctionsRe = rand(Uniform(1.0,10.0), 1, (n+1))\n",
    "            symPFunctionsIm = rand(Uniform(1.0,10.0), 1, (n+1))\n",
    "            symPFunctions = symPFunctionsRe + symPFunctionsIm*im\n",
    "        else # variable\n",
    "            symPFunctions = Array{Number}(undef, 1,n+1)\n",
    "            for i = 1:(n+1)\n",
    "                # Each p_k is a polynomial function with random degree between 0 to 4 and random coefficients between 0 and 10\n",
    "                coeffsNo = rand(1:5)\n",
    "                pFunctionCoeffsRe = rand(Uniform(1.0,10.0), 1, coeffsNo)\n",
    "                pFunctionCoeffsIm = rand(Uniform(1.0,10.0), 1,  coeffsNo)\n",
    "                pFunctionCoeffs = pFunctionCoeffsRe + pFunctionCoeffsIm*im\n",
    "                symPFunction = sum([pFunctionCoeffs[i+1]*t^(length(pFunctionCoeffs)-1-i) for i in 0:(length(pFunctionCoeffs)-1)])\n",
    "                symPFunctions[i] = symPFunction\n",
    "            end\n",
    "        end\n",
    "    end\n",
    "    return symPFunctions\n",
    "end "
   ]
  },
  {
   "cell_type": "markdown",
   "metadata": {
    "heading_collapsed": true
   },
   "source": [
    "## `generate_pFunctions`"
   ]
  },
  {
   "cell_type": "code",
   "execution_count": 37,
   "metadata": {
    "hidden": true
   },
   "outputs": [
    {
     "data": {
      "text/plain": [
       "generate_pFunctions (generic function with 1 method)"
      ]
     },
     "execution_count": 37,
     "metadata": {},
     "output_type": "execute_result"
    }
   ],
   "source": [
    "function generate_pFunctions(n; random = false, constant = false)\n",
    "    if random\n",
    "        pFunctions = Array{Union{Function, Number}}(undef,1,n+1)\n",
    "        pDerivMatrix = Array{Union{Function, Number}}(undef, n,n)\n",
    "        for i = 1:(n+1)\n",
    "            seed = rand(0:1)\n",
    "            if seed == 0 # constant\n",
    "                pFunctionRe = rand(Uniform(1.0,10.0), 1, 1)[1]\n",
    "                pFunctionIm = rand(Uniform(1.0,10.0), 1, 1)[1]\n",
    "                pFunction = pFunctionRe + pFunctionIm*im\n",
    "                if i < n+1\n",
    "                    pDerivMatrix[i,1] = pFunction\n",
    "                    pDerivMatrix[i:i, 2:n] = zeros(1, n-1)\n",
    "                end\n",
    "            else # variable\n",
    "                coeffsNo = rand(1:5)\n",
    "                pFunctionCoeffsRe = rand(Uniform(1.0,10.0), 1, coeffsNo)\n",
    "                pFunctionCoeffsIm = rand(Uniform(1.0,10.0), 1, coeffsNo)\n",
    "                pFunctionCoeffs = pFunctionCoeffsRe + pFunctionCoeffsIm*im\n",
    "                pFunction = get_polynomial(pFunctionCoeffs)\n",
    "                if i < n+1\n",
    "                    pDerivMatrix[i:i, 1:n] = [get_polynomialDeriv(pFunctionCoeffs, k) for k = 0:(n-1)]\n",
    "                end\n",
    "            end\n",
    "            pFunctions[i] = pFunction\n",
    "        end\n",
    "    else\n",
    "        if constant # constant\n",
    "            pFunctionsRe = rand(Uniform(1.0,10.0), 1, (n+1))\n",
    "            pFunctionsIm = rand(Uniform(1.0,10.0), 1, (n+1))\n",
    "            pFunctions = pFunctionsRe + pFunctionsIm*im\n",
    "            pDerivMatrix = complex(Matrix{Float64}(LinearAlgebra.I, n, n))\n",
    "            for i = 1:n\n",
    "                for j = 1:n\n",
    "                    if j == 1\n",
    "                        pDerivMatrix[i,j] = pFunctions[i]\n",
    "                    else\n",
    "                        pDerivMatrix[i,j] = 0\n",
    "                    end\n",
    "                end\n",
    "            end\n",
    "        else # variable\n",
    "            pFunctions = Array{Union{Function, Number}}(undef,1,n+1)\n",
    "            pDerivMatrix = Array{Union{Function, Number}}(undef,n,n)\n",
    "            for i = 1:(n+1)\n",
    "                # Each p_k is a polynomial function with random degree between 0 to 4 and random coefficients between 0 and 10\n",
    "                coeffsNo = rand(1:5)\n",
    "                pFunctionCoeffsRe = rand(Uniform(1.0,10.0), 1, coeffsNo)\n",
    "                pFunctionCoeffsIm = rand(Uniform(1.0,10.0), 1, coeffsNo)\n",
    "                pFunctionCoeffs = pFunctionCoeffsRe + pFunctionCoeffsIm*im\n",
    "                if i < n+1\n",
    "                    pDerivMatrix[i:i, 1:n] = [get_polynomialDeriv(pFunctionCoeffs, k) for k = 0:(n-1)]\n",
    "                end\n",
    "                pFunction = get_polynomial(pFunctionCoeffs)\n",
    "                pFunctions[i] = pFunction\n",
    "            end\n",
    "        end\n",
    "    end\n",
    "    return pFunctions, pDerivMatrix\n",
    "end"
   ]
  },
  {
   "cell_type": "markdown",
   "metadata": {},
   "source": [
    "## `generate_interval`"
   ]
  },
  {
   "cell_type": "code",
   "execution_count": 47,
   "metadata": {},
   "outputs": [
    {
     "data": {
      "text/plain": [
       "generate_interval (generic function with 3 methods)"
      ]
     },
     "execution_count": 47,
     "metadata": {},
     "output_type": "execute_result"
    }
   ],
   "source": [
    "function generate_interval(n, a = 0, b = 1)\n",
    "    if n == 1 || n == 2\n",
    "        n = 3\n",
    "    end\n",
    "    array = Array{Any}(undef, 1, n)\n",
    "    t = a\n",
    "    for j=2:(n-1)\n",
    "        array[j] = rand(Uniform(t, b))\n",
    "        t = array[j]\n",
    "    end\n",
    "    array[1] = a\n",
    "    array[n] = b\n",
    "    interval = ntuple(i -> array[i], n)\n",
    "    return interval\n",
    "end"
   ]
  },
  {
   "cell_type": "code",
   "execution_count": 39,
   "metadata": {},
   "outputs": [
    {
     "data": {
      "text/plain": [
       "generate_fake_interval_1 (generic function with 3 methods)"
      ]
     },
     "execution_count": 39,
     "metadata": {},
     "output_type": "execute_result"
    }
   ],
   "source": [
    "function generate_fake_interval_1(n, a = 0, b = 1)\n",
    "    if n == 1 || n == 2\n",
    "        n = 4\n",
    "    end\n",
    "    array = Array{Any}(undef, 1, n)\n",
    "    t = 0\n",
    "    for j=2:(n-1)\n",
    "        array[j] = rand(Uniform(t, b))\n",
    "        t = array[j]\n",
    "    end\n",
    "    array[1] = a\n",
    "    array[n] = \"str\"\n",
    "    interval = ntuple(i -> array[i], n)\n",
    "    return interval\n",
    "end"
   ]
  },
  {
   "cell_type": "code",
   "execution_count": 40,
   "metadata": {},
   "outputs": [
    {
     "data": {
      "text/plain": [
       "generate_fake_interval_2 (generic function with 3 methods)"
      ]
     },
     "execution_count": 40,
     "metadata": {},
     "output_type": "execute_result"
    }
   ],
   "source": [
    "function generate_fake_interval_2(n, a = 0, b = 1)\n",
    "    if n == 1 || n == 2\n",
    "        n = 4\n",
    "    end\n",
    "    array = Array{Any}(undef, 1, n)\n",
    "    t = 0\n",
    "    for j=2:(n-1)\n",
    "        array[n-j+1] = rand(Uniform(t, b))\n",
    "        t = array[n-j+1]\n",
    "    end\n",
    "    array[1] = a\n",
    "    array[n] = b\n",
    "    interval = ntuple(i -> array[i], n)\n",
    "    return interval\n",
    "end"
   ]
  },
  {
   "cell_type": "markdown",
   "metadata": {
    "heading_collapsed": true
   },
   "source": [
    "## `generate_pFunctionsAndSymPFunctions`"
   ]
  },
  {
   "cell_type": "code",
   "execution_count": 41,
   "metadata": {
    "hidden": true
   },
   "outputs": [
    {
     "data": {
      "text/plain": [
       "generate_pFunctionsAndSymPFunctions (generic function with 1 method)"
      ]
     },
     "execution_count": 41,
     "metadata": {},
     "output_type": "execute_result"
    }
   ],
   "source": [
    "function generate_pFunctionsAndSymPFunctions(n; random = false, constant = false)\n",
    "    global t = symbols(\"t\")\n",
    "    interval = generate_interval(n,)\n",
    "    if random\n",
    "        pFunctions = Array{Union{Function, Number}}(undef,1,n+1)\n",
    "        symPFunctions = Array{Number}(undef, 1,n+1)\n",
    "        pDerivMatrix = Array{Union{Function, Number}}(undef,n,n)\n",
    "        for i = 1:(n+1)\n",
    "            seed = rand(0:1)\n",
    "            if seed == 0 # constant\n",
    "                pFunctionRe = rand(Uniform(1.0,10.0), 1, 1)[1]\n",
    "                pFunctionIm = rand(Uniform(1.0,10.0), 1, 1)[1]\n",
    "                pFunction = pFunctionRe + pFunctionIm*im\n",
    "                symPFunction = pFunction\n",
    "                if i < n+1\n",
    "                    pDerivMatrix[i,1] = pFunction\n",
    "                    pDerivMatrix[i:i, 2:n] = zeros(1, n-1)\n",
    "                end\n",
    "            else # variable\n",
    "                coeffsNo = rand(1:5)\n",
    "                pFunctionCoeffsRe = rand(Uniform(1.0,10.0), 1, coeffsNo)\n",
    "                pFunctionCoeffsIm = rand(Uniform(1.0,10.0), 1, coeffsNo)\n",
    "                pFunctionCoeffs = pFunctionCoeffsRe + pFunctionCoeffsIm*im\n",
    "                if i < n+1\n",
    "                    pDerivMatrix[i:i, 1:n] = [get_polynomialDeriv(pFunctionCoeffs, k) for k = 0:(n-1)]\n",
    "                end\n",
    "                pFunction = get_polynomial(pFunctionCoeffs)\n",
    "                symPFunction = sum([pFunctionCoeffs[i+1]*t^(length(pFunctionCoeffs)-1-i) for i in 0:(length(pFunctionCoeffs)-1)])\n",
    "            end\n",
    "            pFunctions[i] = pFunction\n",
    "            symPFunctions[i] = symPFunction\n",
    "        end\n",
    "    else\n",
    "        if constant # constant\n",
    "            pFunctionsRe = rand(Uniform(1.0,10.0), 1, (n+1))\n",
    "            pFunctionsIm = rand(Uniform(1.0,10.0), 1, (n+1))\n",
    "            pFunctions = pFunctionsRe + pFunctionsIm*im\n",
    "            symPFunctions = pFunctions\n",
    "            pDerivMatrix = Array{Union{Function, Number}}(undef, n, n)\n",
    "            for i = 1:n\n",
    "                for j = 1:n\n",
    "                    if j == 1\n",
    "                        pDerivMatrix[i,j] = pFunctions[i]\n",
    "                    else\n",
    "                        pDerivMatrix[i,j] = 0\n",
    "                    end\n",
    "                end\n",
    "            end\n",
    "        else # variable\n",
    "            t = symbols(\"t\")\n",
    "            pFunctions = Array{Function}(undef, 1, n+1)\n",
    "            symPFunctions = Array{Number}(undef, 1, n+1)\n",
    "            pDerivMatrix = Array{Union{Function, Number}}(undef, n,n)\n",
    "            for i = 1:(n+1)\n",
    "                # Each p_k is a polynomial function with random degree between 0 to 4 and random coefficients between 0 and 10\n",
    "                coeffsNo = rand(1:5)\n",
    "                pFunctionCoeffsRe = rand(Uniform(1.0,10.0), 1, coeffsNo)\n",
    "                pFunctionCoeffsIm = rand(Uniform(1.0,10.0), 1, coeffsNo)\n",
    "                pFunctionCoeffs = pFunctionCoeffsRe + pFunctionCoeffsIm*im\n",
    "                if i < n+1\n",
    "                    pDerivMatrix[i:i, 1:n] = [get_polynomialDeriv(pFunctionCoeffs, k) for k = 0:(n-1)]\n",
    "                end\n",
    "                pFunction = get_polynomial(pFunctionCoeffs)\n",
    "                pFunctions[i] = pFunction\n",
    "                symPFunction = sum([pFunctionCoeffs[i+1]*t^(length(pFunctionCoeffs)-1-i) for i in 0:(length(pFunctionCoeffs)-1)])\n",
    "                symPFunctions[i] = symPFunction\n",
    "            end\n",
    "        end\n",
    "    end\n",
    "    \n",
    "    return pFunctions, symPFunctions, pDerivMatrix, interval\n",
    "end"
   ]
  },
  {
   "cell_type": "markdown",
   "metadata": {
    "heading_collapsed": true
   },
   "source": [
    "## `rank_def`\n",
    "Generates rank-deficient matrices"
   ]
  },
  {
   "cell_type": "code",
   "execution_count": 42,
   "metadata": {
    "hidden": true
   },
   "outputs": [
    {
     "data": {
      "text/plain": [
       "rank_def (generic function with 1 method)"
      ]
     },
     "execution_count": 42,
     "metadata": {},
     "output_type": "execute_result"
    }
   ],
   "source": [
    "function rank_def(n)\n",
    "    U = rand(Uniform(1.0,10.0), n, n)\n",
    "    V = rand(Uniform(1.0,10.0), n, n)\n",
    "    Fu = LinearAlgebra.qr(U)\n",
    "    Fv = LinearAlgebra.qr(V)\n",
    "    \n",
    "    diags = rand(Uniform(1.0,10.0), 1, n-2)\n",
    "    diag_vals = Array{Number}(undef, 1, n)\n",
    "    for i=1:(n-2)\n",
    "        diag_vals[i] = diags[i]\n",
    "    end\n",
    "    diag_vals[n], diag_vals[n-1] = 0, 0\n",
    "    S = zeros(n,n)\n",
    "    for i=1:n\n",
    "        S[i,i] = diag_vals[i]\n",
    "    end\n",
    "    return Fu.Q*S*Fv.Q\n",
    "end"
   ]
  },
  {
   "cell_type": "markdown",
   "metadata": {},
   "source": [
    "# Tests"
   ]
  },
  {
   "cell_type": "markdown",
   "metadata": {},
   "source": [
    "## `test_generate_adjoint`"
   ]
  },
  {
   "cell_type": "code",
   "execution_count": 43,
   "metadata": {},
   "outputs": [
    {
     "data": {
      "text/plain": [
       "test_generate_adjoint (generic function with 1 method)"
      ]
     },
     "execution_count": 43,
     "metadata": {},
     "output_type": "execute_result"
    }
   ],
   "source": [
    "# Test the algorithm to generate valid adjoint U+\n",
    "function test_generate_adjoint(n, k)\n",
    "    global results = [true]\n",
    "    global t = symbols(\"t\")\n",
    "\n",
    "    for counter = 1:k\n",
    "        println(\"Test $counter\")\n",
    "        println(\"Testing the algorithm to generate valid adjoint U+: Constant p_k\")\n",
    "        (pFunctions, symPFunctions, pDerivMatrix, interval) = generate_pFunctionsAndSymPFunctions(n; random = false, constant = true)\n",
    "        symL = SymLinearDifferentialOperator(symPFunctions, interval, t)\n",
    "        L = LinearDifferentialOperator(pFunctions, interval, symL)\n",
    "        m = length(interval) - 1\n",
    "        M = Array{Any}(undef, 1, m)\n",
    "        N = Array{Any}(undef, 1, m)\n",
    "        for i=1:m\n",
    "            MCandRe = rand(Uniform(1.0,10.0), n, n)\n",
    "            MCandIm = rand(Uniform(1.0,10.0), n, n)\n",
    "            MCand = MCandRe + MCandIm*im\n",
    "            NCandRe = rand(Uniform(1.0,10.0), n, n)\n",
    "            NCandIm = rand(Uniform(1.0,10.0), n, n)\n",
    "            NCand = NCandRe + NCandIm*im\n",
    "            M[i] = MCand\n",
    "            N[i] = NCand\n",
    "        end\n",
    "        U = VectorMultiBoundaryForm(M, N)\n",
    "        println(\"Testing: order of L = $n\")\n",
    "        passed = false\n",
    "        try\n",
    "            adjoint = get_adjointU(L, U, pDerivMatrix)\n",
    "            passed = true\n",
    "            append!(results, passed)\n",
    "        catch err\n",
    "            println(\"Failed with $err\")\n",
    "        end\n",
    "        if passed\n",
    "            println(\"Passed!\")\n",
    "        end\n",
    "\n",
    "        println(\"Testing the algorithm to generate valid adjoint U+: Variable p_k\")\n",
    "        # Generate variable p_k\n",
    "        (pFunctions, symPFunctions, pDerivMatrix, interval) = generate_pFunctionsAndSymPFunctions(n; random = false, constant = false)\n",
    "        symL = SymLinearDifferentialOperator(symPFunctions, interval, t)\n",
    "        L = LinearDifferentialOperator(pFunctions, interval, symL)\n",
    "        m = length(interval) - 1\n",
    "        M = Array{Any}(undef, 1, m)\n",
    "        N = Array{Any}(undef, 1, m)\n",
    "        for i=1:m\n",
    "            MCandRe = rand(Uniform(1.0,10.0), n, n)\n",
    "            MCandIm = rand(Uniform(1.0,10.0), n, n)\n",
    "            MCand = MCandRe + MCandIm*im\n",
    "            NCandRe = rand(Uniform(1.0,10.0), n, n)\n",
    "            NCandIm = rand(Uniform(1.0,10.0), n, n)\n",
    "            NCand = NCandRe + NCandIm*im\n",
    "            M[i] = MCand\n",
    "            N[i] = NCand\n",
    "        end\n",
    "        U = VectorMultiBoundaryForm(M, N)\n",
    "        println(\"Testing: order of L = $n\")\n",
    "        try\n",
    "            adjoint = get_adjointU(L, U, pDerivMatrix)\n",
    "            passed = true\n",
    "            append!(results, passed)\n",
    "        catch err\n",
    "            println(\"Failed with $err\")\n",
    "        end\n",
    "        if passed\n",
    "            println(\"Passed!\")\n",
    "        end\n",
    "\n",
    "        println(\"Testing the algorithm to generate valid adjoint U+: Constant or variable p_k\")\n",
    "        # Generate p_k\n",
    "        (pFunctions, symPFunctions, pDerivMatrix, interval) = generate_pFunctionsAndSymPFunctions(n; random = true)\n",
    "        symL = SymLinearDifferentialOperator(symPFunctions, interval, t)\n",
    "        L = LinearDifferentialOperator(pFunctions, interval, symL)\n",
    "        m = length(interval) - 1\n",
    "        M = Array{Any}(undef, 1, m)\n",
    "        N = Array{Any}(undef, 1, m)\n",
    "        for i=1:m\n",
    "            MCandRe = rand(Uniform(1.0,10.0), n, n)\n",
    "            MCandIm = rand(Uniform(1.0,10.0), n, n)\n",
    "            MCand = MCandRe + MCandIm*im\n",
    "            NCandRe = rand(Uniform(1.0,10.0), n, n)\n",
    "            NCandIm = rand(Uniform(1.0,10.0), n, n)\n",
    "            NCand = NCandRe + NCandIm*im\n",
    "            M[i] = MCand\n",
    "            N[i] = NCand\n",
    "        end\n",
    "        U = VectorMultiBoundaryForm(M, N)\n",
    "        println(\"Testing: order of L = $n\")\n",
    "        try\n",
    "            adjoint = get_adjointU(L, U, pDerivMatrix)\n",
    "            passed = true\n",
    "            append!(results, passed)\n",
    "        catch err\n",
    "            println(\"Failed with $err\")\n",
    "        end\n",
    "        if passed\n",
    "            println(\"Passed!\")\n",
    "        end\n",
    "    end\n",
    "\n",
    "    return all(results)\n",
    "end"
   ]
  },
  {
   "cell_type": "code",
   "execution_count": 44,
   "metadata": {},
   "outputs": [
    {
     "name": "stdout",
     "output_type": "stream",
     "text": [
      "Test 1\n",
      "Testing the algorithm to generate valid adjoint U+: Constant p_k\n",
      "Testing: order of L = 1\n",
      "Passed!\n",
      "Testing the algorithm to generate valid adjoint U+: Variable p_k\n",
      "Testing: order of L = 1\n",
      "Passed!\n",
      "Testing the algorithm to generate valid adjoint U+: Constant or variable p_k\n",
      "Testing: order of L = 1\n",
      "Passed!\n",
      "Test 2\n",
      "Testing the algorithm to generate valid adjoint U+: Constant p_k\n",
      "Testing: order of L = 1\n",
      "Passed!\n",
      "Testing the algorithm to generate valid adjoint U+: Variable p_k\n",
      "Testing: order of L = 1\n",
      "Passed!\n",
      "Testing the algorithm to generate valid adjoint U+: Constant or variable p_k\n",
      "Testing: order of L = 1\n",
      "Passed!\n",
      "Test 3\n",
      "Testing the algorithm to generate valid adjoint U+: Constant p_k\n",
      "Testing: order of L = 1\n",
      "Passed!\n",
      "Testing the algorithm to generate valid adjoint U+: Variable p_k\n",
      "Testing: order of L = 1\n",
      "Passed!\n",
      "Testing the algorithm to generate valid adjoint U+: Constant or variable p_k\n",
      "Testing: order of L = 1\n",
      "Passed!\n",
      "Test 4\n",
      "Testing the algorithm to generate valid adjoint U+: Constant p_k\n",
      "Testing: order of L = 1\n",
      "Passed!\n",
      "Testing the algorithm to generate valid adjoint U+: Variable p_k\n",
      "Testing: order of L = 1\n",
      "Passed!\n",
      "Testing the algorithm to generate valid adjoint U+: Constant or variable p_k\n",
      "Testing: order of L = 1\n",
      "Passed!\n",
      "Test 5\n",
      "Testing the algorithm to generate valid adjoint U+: Constant p_k\n",
      "Testing: order of L = 1\n",
      "Passed!\n",
      "Testing the algorithm to generate valid adjoint U+: Variable p_k\n",
      "Testing: order of L = 1\n",
      "Passed!\n",
      "Testing the algorithm to generate valid adjoint U+: Constant or variable p_k\n",
      "Testing: order of L = 1\n",
      "Passed!\n",
      "Test 6\n",
      "Testing the algorithm to generate valid adjoint U+: Constant p_k\n",
      "Testing: order of L = 1\n",
      "Passed!\n",
      "Testing the algorithm to generate valid adjoint U+: Variable p_k\n",
      "Testing: order of L = 1\n",
      "Passed!\n",
      "Testing the algorithm to generate valid adjoint U+: Constant or variable p_k\n",
      "Testing: order of L = 1\n",
      "Passed!\n",
      "Test 7\n",
      "Testing the algorithm to generate valid adjoint U+: Constant p_k\n",
      "Testing: order of L = 1\n",
      "Passed!\n",
      "Testing the algorithm to generate valid adjoint U+: Variable p_k\n",
      "Testing: order of L = 1\n",
      "Passed!\n",
      "Testing the algorithm to generate valid adjoint U+: Constant or variable p_k\n",
      "Testing: order of L = 1\n",
      "Passed!\n",
      "Test 8\n",
      "Testing the algorithm to generate valid adjoint U+: Constant p_k\n",
      "Testing: order of L = 1\n",
      "Passed!\n",
      "Testing the algorithm to generate valid adjoint U+: Variable p_k\n",
      "Testing: order of L = 1\n",
      "Passed!\n",
      "Testing the algorithm to generate valid adjoint U+: Constant or variable p_k\n",
      "Testing: order of L = 1\n",
      "Passed!\n",
      "Test 9\n",
      "Testing the algorithm to generate valid adjoint U+: Constant p_k\n",
      "Testing: order of L = 1\n",
      "Passed!\n",
      "Testing the algorithm to generate valid adjoint U+: Variable p_k\n",
      "Testing: order of L = 1\n",
      "Passed!\n",
      "Testing the algorithm to generate valid adjoint U+: Constant or variable p_k\n",
      "Testing: order of L = 1\n",
      "Passed!\n",
      "Test 10\n",
      "Testing the algorithm to generate valid adjoint U+: Constant p_k\n",
      "Testing: order of L = 1\n",
      "Passed!\n",
      "Testing the algorithm to generate valid adjoint U+: Variable p_k\n",
      "Testing: order of L = 1\n",
      "Passed!\n",
      "Testing the algorithm to generate valid adjoint U+: Constant or variable p_k\n",
      "Testing: order of L = 1\n",
      "Passed!\n",
      "true\n",
      "Test 1\n",
      "Testing the algorithm to generate valid adjoint U+: Constant p_k\n",
      "Testing: order of L = 2\n",
      "Passed!\n",
      "Testing the algorithm to generate valid adjoint U+: Variable p_k\n",
      "Testing: order of L = 2\n",
      "Passed!\n",
      "Testing the algorithm to generate valid adjoint U+: Constant or variable p_k\n",
      "Testing: order of L = 2\n",
      "Passed!\n",
      "Test 2\n",
      "Testing the algorithm to generate valid adjoint U+: Constant p_k\n",
      "Testing: order of L = 2\n",
      "Passed!\n",
      "Testing the algorithm to generate valid adjoint U+: Variable p_k\n",
      "Testing: order of L = 2\n",
      "Passed!\n",
      "Testing the algorithm to generate valid adjoint U+: Constant or variable p_k\n",
      "Testing: order of L = 2\n",
      "Passed!\n",
      "Test 3\n",
      "Testing the algorithm to generate valid adjoint U+: Constant p_k\n",
      "Testing: order of L = 2\n",
      "Passed!\n",
      "Testing the algorithm to generate valid adjoint U+: Variable p_k\n",
      "Testing: order of L = 2\n",
      "Passed!\n",
      "Testing the algorithm to generate valid adjoint U+: Constant or variable p_k\n",
      "Testing: order of L = 2\n",
      "Passed!\n",
      "Test 4\n",
      "Testing the algorithm to generate valid adjoint U+: Constant p_k\n",
      "Testing: order of L = 2\n",
      "Passed!\n",
      "Testing the algorithm to generate valid adjoint U+: Variable p_k\n",
      "Testing: order of L = 2\n",
      "Passed!\n",
      "Testing the algorithm to generate valid adjoint U+: Constant or variable p_k\n",
      "Testing: order of L = 2\n",
      "Passed!\n",
      "Test 5\n",
      "Testing the algorithm to generate valid adjoint U+: Constant p_k\n",
      "Testing: order of L = 2\n",
      "Passed!\n",
      "Testing the algorithm to generate valid adjoint U+: Variable p_k\n",
      "Testing: order of L = 2\n",
      "Passed!\n",
      "Testing the algorithm to generate valid adjoint U+: Constant or variable p_k\n",
      "Testing: order of L = 2\n",
      "Passed!\n",
      "Test 6\n",
      "Testing the algorithm to generate valid adjoint U+: Constant p_k\n",
      "Testing: order of L = 2\n",
      "Passed!\n",
      "Testing the algorithm to generate valid adjoint U+: Variable p_k\n",
      "Testing: order of L = 2\n",
      "Passed!\n",
      "Testing the algorithm to generate valid adjoint U+: Constant or variable p_k\n",
      "Testing: order of L = 2\n",
      "Passed!\n",
      "Test 7\n",
      "Testing the algorithm to generate valid adjoint U+: Constant p_k\n",
      "Testing: order of L = 2\n",
      "Passed!\n",
      "Testing the algorithm to generate valid adjoint U+: Variable p_k\n",
      "Testing: order of L = 2\n",
      "Passed!\n",
      "Testing the algorithm to generate valid adjoint U+: Constant or variable p_k\n",
      "Testing: order of L = 2\n",
      "Passed!\n",
      "Test 8\n",
      "Testing the algorithm to generate valid adjoint U+: Constant p_k\n",
      "Testing: order of L = 2\n",
      "Passed!\n",
      "Testing the algorithm to generate valid adjoint U+: Variable p_k\n",
      "Testing: order of L = 2\n",
      "Passed!\n",
      "Testing the algorithm to generate valid adjoint U+: Constant or variable p_k\n",
      "Testing: order of L = 2\n",
      "Passed!\n",
      "Test 9\n",
      "Testing the algorithm to generate valid adjoint U+: Constant p_k\n",
      "Testing: order of L = 2\n",
      "Passed!\n",
      "Testing the algorithm to generate valid adjoint U+: Variable p_k\n",
      "Testing: order of L = 2\n",
      "Passed!\n",
      "Testing the algorithm to generate valid adjoint U+: Constant or variable p_k\n",
      "Testing: order of L = 2\n",
      "Passed!\n",
      "Test 10\n",
      "Testing the algorithm to generate valid adjoint U+: Constant p_k\n",
      "Testing: order of L = 2\n",
      "Passed!\n",
      "Testing the algorithm to generate valid adjoint U+: Variable p_k\n",
      "Testing: order of L = 2\n",
      "Passed!\n",
      "Testing the algorithm to generate valid adjoint U+: Constant or variable p_k\n",
      "Testing: order of L = 2\n",
      "Passed!\n",
      "true\n",
      "Test 1\n",
      "Testing the algorithm to generate valid adjoint U+: Constant p_k\n",
      "Testing: order of L = 3\n",
      "Passed!\n",
      "Testing the algorithm to generate valid adjoint U+: Variable p_k\n",
      "Testing: order of L = 3\n",
      "Passed!\n",
      "Testing the algorithm to generate valid adjoint U+: Constant or variable p_k\n",
      "Testing: order of L = 3\n",
      "Passed!\n",
      "Test 2\n",
      "Testing the algorithm to generate valid adjoint U+: Constant p_k\n",
      "Testing: order of L = 3\n",
      "Passed!\n",
      "Testing the algorithm to generate valid adjoint U+: Variable p_k\n",
      "Testing: order of L = 3\n",
      "Passed!\n",
      "Testing the algorithm to generate valid adjoint U+: Constant or variable p_k\n",
      "Testing: order of L = 3\n",
      "Passed!\n",
      "Test 3\n",
      "Testing the algorithm to generate valid adjoint U+: Constant p_k\n",
      "Testing: order of L = 3\n",
      "Passed!\n",
      "Testing the algorithm to generate valid adjoint U+: Variable p_k\n",
      "Testing: order of L = 3\n",
      "Passed!\n",
      "Testing the algorithm to generate valid adjoint U+: Constant or variable p_k\n",
      "Testing: order of L = 3\n",
      "Passed!\n",
      "Test 4\n",
      "Testing the algorithm to generate valid adjoint U+: Constant p_k\n",
      "Testing: order of L = 3\n",
      "Passed!\n",
      "Testing the algorithm to generate valid adjoint U+: Variable p_k\n",
      "Testing: order of L = 3\n",
      "Passed!\n",
      "Testing the algorithm to generate valid adjoint U+: Constant or variable p_k\n",
      "Testing: order of L = 3\n",
      "Passed!\n",
      "Test 5\n",
      "Testing the algorithm to generate valid adjoint U+: Constant p_k\n",
      "Testing: order of L = 3\n",
      "Passed!\n",
      "Testing the algorithm to generate valid adjoint U+: Variable p_k\n",
      "Testing: order of L = 3\n",
      "Passed!\n",
      "Testing the algorithm to generate valid adjoint U+: Constant or variable p_k\n",
      "Testing: order of L = 3\n",
      "Passed!\n",
      "Test 6\n",
      "Testing the algorithm to generate valid adjoint U+: Constant p_k\n",
      "Testing: order of L = 3\n",
      "Passed!\n",
      "Testing the algorithm to generate valid adjoint U+: Variable p_k\n",
      "Testing: order of L = 3\n",
      "Passed!\n",
      "Testing the algorithm to generate valid adjoint U+: Constant or variable p_k\n",
      "Testing: order of L = 3\n",
      "Passed!\n",
      "Test 7\n",
      "Testing the algorithm to generate valid adjoint U+: Constant p_k\n",
      "Testing: order of L = 3\n",
      "Passed!\n",
      "Testing the algorithm to generate valid adjoint U+: Variable p_k\n"
     ]
    },
    {
     "name": "stdout",
     "output_type": "stream",
     "text": [
      "Testing: order of L = 3\n",
      "Passed!\n",
      "Testing the algorithm to generate valid adjoint U+: Constant or variable p_k\n",
      "Testing: order of L = 3\n",
      "Passed!\n",
      "Test 8\n",
      "Testing the algorithm to generate valid adjoint U+: Constant p_k\n",
      "Testing: order of L = 3\n",
      "Passed!\n",
      "Testing the algorithm to generate valid adjoint U+: Variable p_k\n",
      "Testing: order of L = 3\n",
      "Passed!\n",
      "Testing the algorithm to generate valid adjoint U+: Constant or variable p_k\n",
      "Testing: order of L = 3\n",
      "Passed!\n",
      "Test 9\n",
      "Testing the algorithm to generate valid adjoint U+: Constant p_k\n",
      "Testing: order of L = 3\n",
      "Passed!\n",
      "Testing the algorithm to generate valid adjoint U+: Variable p_k\n",
      "Testing: order of L = 3\n",
      "Passed!\n",
      "Testing the algorithm to generate valid adjoint U+: Constant or variable p_k\n",
      "Testing: order of L = 3\n",
      "Passed!\n",
      "Test 10\n",
      "Testing the algorithm to generate valid adjoint U+: Constant p_k\n",
      "Testing: order of L = 3\n",
      "Passed!\n",
      "Testing the algorithm to generate valid adjoint U+: Variable p_k\n",
      "Testing: order of L = 3\n",
      "Passed!\n",
      "Testing the algorithm to generate valid adjoint U+: Constant or variable p_k\n",
      "Testing: order of L = 3\n",
      "Passed!\n",
      "true\n",
      "Test 1\n",
      "Testing the algorithm to generate valid adjoint U+: Constant p_k\n",
      "Testing: order of L = 4\n",
      "Passed!\n",
      "Testing the algorithm to generate valid adjoint U+: Variable p_k\n",
      "Testing: order of L = 4\n",
      "Passed!\n",
      "Testing the algorithm to generate valid adjoint U+: Constant or variable p_k\n",
      "Testing: order of L = 4\n",
      "Passed!\n",
      "Test 2\n",
      "Testing the algorithm to generate valid adjoint U+: Constant p_k\n",
      "Testing: order of L = 4\n",
      "Passed!\n",
      "Testing the algorithm to generate valid adjoint U+: Variable p_k\n",
      "Testing: order of L = 4\n",
      "Passed!\n",
      "Testing the algorithm to generate valid adjoint U+: Constant or variable p_k\n",
      "Testing: order of L = 4\n",
      "Passed!\n",
      "Test 3\n",
      "Testing the algorithm to generate valid adjoint U+: Constant p_k\n",
      "Testing: order of L = 4\n",
      "Passed!\n",
      "Testing the algorithm to generate valid adjoint U+: Variable p_k\n",
      "Testing: order of L = 4\n",
      "Passed!\n",
      "Testing the algorithm to generate valid adjoint U+: Constant or variable p_k\n",
      "Testing: order of L = 4\n",
      "Passed!\n",
      "Test 4\n",
      "Testing the algorithm to generate valid adjoint U+: Constant p_k\n",
      "Testing: order of L = 4\n",
      "Passed!\n",
      "Testing the algorithm to generate valid adjoint U+: Variable p_k\n",
      "Testing: order of L = 4\n",
      "Passed!\n",
      "Testing the algorithm to generate valid adjoint U+: Constant or variable p_k\n",
      "Testing: order of L = 4\n",
      "Passed!\n",
      "Test 5\n",
      "Testing the algorithm to generate valid adjoint U+: Constant p_k\n",
      "Testing: order of L = 4\n",
      "Passed!\n",
      "Testing the algorithm to generate valid adjoint U+: Variable p_k\n",
      "Testing: order of L = 4\n",
      "Passed!\n",
      "Testing the algorithm to generate valid adjoint U+: Constant or variable p_k\n",
      "Testing: order of L = 4\n",
      "Passed!\n",
      "Test 6\n",
      "Testing the algorithm to generate valid adjoint U+: Constant p_k\n",
      "Testing: order of L = 4\n",
      "Passed!\n",
      "Testing the algorithm to generate valid adjoint U+: Variable p_k\n",
      "Testing: order of L = 4\n",
      "Passed!\n",
      "Testing the algorithm to generate valid adjoint U+: Constant or variable p_k\n",
      "Testing: order of L = 4\n",
      "Passed!\n",
      "Test 7\n",
      "Testing the algorithm to generate valid adjoint U+: Constant p_k\n",
      "Testing: order of L = 4\n",
      "Passed!\n",
      "Testing the algorithm to generate valid adjoint U+: Variable p_k\n",
      "Testing: order of L = 4\n",
      "Passed!\n",
      "Testing the algorithm to generate valid adjoint U+: Constant or variable p_k\n",
      "Testing: order of L = 4\n",
      "Passed!\n",
      "Test 8\n",
      "Testing the algorithm to generate valid adjoint U+: Constant p_k\n",
      "Testing: order of L = 4\n",
      "Passed!\n",
      "Testing the algorithm to generate valid adjoint U+: Variable p_k\n",
      "Testing: order of L = 4\n",
      "Passed!\n",
      "Testing the algorithm to generate valid adjoint U+: Constant or variable p_k\n",
      "Testing: order of L = 4\n",
      "Passed!\n",
      "Test 9\n",
      "Testing the algorithm to generate valid adjoint U+: Constant p_k\n",
      "Testing: order of L = 4\n",
      "Passed!\n",
      "Testing the algorithm to generate valid adjoint U+: Variable p_k\n",
      "Testing: order of L = 4\n",
      "Passed!\n",
      "Testing the algorithm to generate valid adjoint U+: Constant or variable p_k\n",
      "Testing: order of L = 4\n",
      "Passed!\n",
      "Test 10\n",
      "Testing the algorithm to generate valid adjoint U+: Constant p_k\n",
      "Testing: order of L = 4\n",
      "Passed!\n",
      "Testing the algorithm to generate valid adjoint U+: Variable p_k\n",
      "Testing: order of L = 4\n",
      "Passed!\n",
      "Testing the algorithm to generate valid adjoint U+: Constant or variable p_k\n",
      "Testing: order of L = 4\n",
      "Passed!\n",
      "true\n",
      "Test 1\n",
      "Testing the algorithm to generate valid adjoint U+: Constant p_k\n",
      "Testing: order of L = 5\n",
      "Passed!\n",
      "Testing the algorithm to generate valid adjoint U+: Variable p_k\n",
      "Testing: order of L = 5\n",
      "Passed!\n",
      "Testing the algorithm to generate valid adjoint U+: Constant or variable p_k\n",
      "Testing: order of L = 5\n",
      "Passed!\n",
      "Test 2\n",
      "Testing the algorithm to generate valid adjoint U+: Constant p_k\n",
      "Testing: order of L = 5\n",
      "Passed!\n",
      "Testing the algorithm to generate valid adjoint U+: Variable p_k\n",
      "Testing: order of L = 5\n",
      "Passed!\n",
      "Testing the algorithm to generate valid adjoint U+: Constant or variable p_k\n",
      "Testing: order of L = 5\n",
      "Passed!\n",
      "Test 3\n",
      "Testing the algorithm to generate valid adjoint U+: Constant p_k\n",
      "Testing: order of L = 5\n",
      "Passed!\n",
      "Testing the algorithm to generate valid adjoint U+: Variable p_k\n",
      "Testing: order of L = 5\n",
      "Passed!\n",
      "Testing the algorithm to generate valid adjoint U+: Constant or variable p_k\n",
      "Testing: order of L = 5\n",
      "Passed!\n",
      "Test 4\n",
      "Testing the algorithm to generate valid adjoint U+: Constant p_k\n",
      "Testing: order of L = 5\n",
      "Passed!\n",
      "Testing the algorithm to generate valid adjoint U+: Variable p_k\n",
      "Testing: order of L = 5\n",
      "Passed!\n",
      "Testing the algorithm to generate valid adjoint U+: Constant or variable p_k\n"
     ]
    },
    {
     "ename": "InterruptException",
     "evalue": "InterruptException:",
     "output_type": "error",
     "traceback": [
      "InterruptException:",
      "",
      "Stacktrace:",
      " [1] LinearDifferentialOperator(::Array{Union{Function, Number},2}, ::Tuple{Int64,Float64,Float64,Float64,Int64}, ::SymLinearDifferentialOperator) at ./In[18]:11",
      " [2] test_generate_adjoint(::Int64, ::Int64) at ./In[43]:74",
      " [3] top-level scope at ./In[44]:2"
     ]
    }
   ],
   "source": [
    "for n = 1:10\n",
    "    println(test_generate_adjoint(n, 10))\n",
    "end"
   ]
  },
  {
   "cell_type": "markdown",
   "metadata": {},
   "source": [
    "## `test_symLinearDifferentialOperatorDef`"
   ]
  },
  {
   "cell_type": "code",
   "execution_count": 48,
   "metadata": {},
   "outputs": [
    {
     "data": {
      "text/plain": [
       "test_symLinearDifferentialOperatorDef (generic function with 1 method)"
      ]
     },
     "execution_count": 48,
     "metadata": {},
     "output_type": "execute_result"
    }
   ],
   "source": [
    "# Test the SymLinearDifferentialOperator definition\n",
    "function test_symLinearDifferentialOperatorDef(n, k)\n",
    "    global results = [true]\n",
    "    global t = symbols(\"t\")\n",
    "\n",
    "    for counter = 1:k\n",
    "        println(\"Test $counter\")\n",
    "        println(\"Testing definition of SymLinearDifferentialOperator: symP_k are Function\")\n",
    "        symPFunctions = generate_symPFunctions(n; random = false, constant = false)\n",
    "        interval_1 = generate_interval(n)\n",
    "        passed = false\n",
    "        try\n",
    "            SymLinearDifferentialOperator(symPFunctions, interval_1, t)\n",
    "            passed = true\n",
    "        catch err\n",
    "            println(\"Failed with $err\")\n",
    "        end\n",
    "        if passed\n",
    "            println(\"Passed!\")\n",
    "        end\n",
    "        append!(results, passed)\n",
    "\n",
    "        println(\"Testing definition of SymLinearDifferentialOperator: symP_k are constant\")\n",
    "        symPFunctions = generate_symPFunctions(n; random = false, constant = true)\n",
    "        interval_2 = generate_interval(n)\n",
    "        passed = false\n",
    "        try\n",
    "            SymLinearDifferentialOperator(symPFunctions, interval_2, t)\n",
    "            passed = true\n",
    "        catch err\n",
    "            println(\"Failed with $err\")\n",
    "        end\n",
    "        if passed\n",
    "            println(\"Passed!\")\n",
    "        end\n",
    "        append!(results, passed)\n",
    "\n",
    "        println(\"Testing definition of SymLinearDifferentialOperator: symP_k are SymPy.Sym and Number\")\n",
    "        symPFunctions = generate_symPFunctions(n; random = true)\n",
    "        interval_3 = generate_interval(n)\n",
    "        passed = false\n",
    "        try\n",
    "            SymLinearDifferentialOperator(symPFunctions, interval_3, t)\n",
    "            passed = true\n",
    "        catch err\n",
    "            println(\"Failed with $err\")\n",
    "        end\n",
    "        if passed\n",
    "            println(\"Passed!\")\n",
    "        end\n",
    "        append!(results, passed)\n",
    "\n",
    "        println(\"Testing StructDefinitionError: symP_k should be SymPy.Sym or Number\")\n",
    "        symPFunctions = hcat(generate_symPFunctions(n-1; random = true), [\"str\"])\n",
    "        interval_4 = generate_interval(n)\n",
    "        passed = false\n",
    "        try\n",
    "            SymLinearDifferentialOperator(symPFunctions, interval_4, t)\n",
    "        catch err\n",
    "            if isa(err,StructDefinitionError) && err.msg == \"symP_k should be SymPy.Sym or Number\"\n",
    "                passed = true\n",
    "                println(\"Passed!\")\n",
    "            else\n",
    "                println(\"Failed with $err\")\n",
    "            end\n",
    "        end\n",
    "        if !passed\n",
    "            println(\"Failed!\")\n",
    "        end\n",
    "        append!(results, passed)\n",
    "\n",
    "        println(\"Testing StructDefinitionError: Only one free symbol is allowed in symP_k\")\n",
    "        interval_5 = generate_interval(n)\n",
    "        r = symbols(\"r\")\n",
    "        passed = false\n",
    "        try\n",
    "            SymLinearDifferentialOperator([t+1 t+1 r*t+1], interval_5, t)\n",
    "        catch err\n",
    "            if isa(err,StructDefinitionError) && err.msg == \"Only one free symbol is allowed in symP_k\"\n",
    "                passed = true\n",
    "                println(\"Passed!\")\n",
    "            else\n",
    "                println(\"Failed with $err\")\n",
    "            end\n",
    "        end\n",
    "        if !passed\n",
    "            println(\"Failed!\")\n",
    "        end\n",
    "        append!(results, passed)\n",
    "            \n",
    "        println(\"Testing StructDefinitionError: Interval must consist of numbers\")\n",
    "        symPFunctions = generate_symPFunctions(n; random = false, constant = false)\n",
    "        interval_6 = generate_fake_interval_1(n)\n",
    "        passed = false\n",
    "        try\n",
    "            SymLinearDifferentialOperator(symPFunctions, interval_6, t)\n",
    "        catch err\n",
    "            if isa(err,StructDefinitionError) && err.msg == \"Interval must consist of numbers\"\n",
    "                passed = true\n",
    "                println(\"Passed!\")\n",
    "            else\n",
    "                println(\"Failed with $err\")\n",
    "            end\n",
    "        end\n",
    "        if !passed\n",
    "            println(\"Failed!\")\n",
    "        end\n",
    "        append!(results, passed)\n",
    "    \n",
    "        println(\"Testing StructDefinitionError: Terms in interval must be strictly increasing\")\n",
    "        symPFunctions = generate_symPFunctions(n; random = false, constant = false)\n",
    "        interval_7 = generate_fake_interval_2(n)\n",
    "        passed = false\n",
    "        try\n",
    "            SymLinearDifferentialOperator(symPFunctions, interval_7, t)\n",
    "        catch err\n",
    "            if isa(err,StructDefinitionError) && err.msg == \"Terms in interval must be strictly increasing\"\n",
    "                passed = true\n",
    "                println(\"Passed!\")\n",
    "            else\n",
    "                println(\"Failed with $err\")\n",
    "            end\n",
    "        end\n",
    "        if !passed\n",
    "            println(\"Failed!\")\n",
    "        end\n",
    "        append!(results, passed)\n",
    "    end\n",
    "    return all(results)\n",
    "end"
   ]
  },
  {
   "cell_type": "code",
   "execution_count": 49,
   "metadata": {},
   "outputs": [
    {
     "name": "stdout",
     "output_type": "stream",
     "text": [
      "Test 1\n",
      "Testing definition of SymLinearDifferentialOperator: symP_k are Function\n",
      "Passed!\n",
      "Testing definition of SymLinearDifferentialOperator: symP_k are constant\n",
      "Passed!\n",
      "Testing definition of SymLinearDifferentialOperator: symP_k are SymPy.Sym and Number\n",
      "Passed!\n",
      "Testing StructDefinitionError: symP_k should be SymPy.Sym or Number\n",
      "Passed!\n",
      "Testing StructDefinitionError: Only one free symbol is allowed in symP_k\n",
      "Passed!\n",
      "Testing StructDefinitionError: Interval must consist of numbers\n",
      "Passed!\n",
      "Testing StructDefinitionError: Terms in interval must be strictly increasing\n",
      "Passed!\n",
      "Test 2\n",
      "Testing definition of SymLinearDifferentialOperator: symP_k are Function\n",
      "Passed!\n",
      "Testing definition of SymLinearDifferentialOperator: symP_k are constant\n",
      "Passed!\n",
      "Testing definition of SymLinearDifferentialOperator: symP_k are SymPy.Sym and Number\n",
      "Passed!\n",
      "Testing StructDefinitionError: symP_k should be SymPy.Sym or Number\n",
      "Passed!\n",
      "Testing StructDefinitionError: Only one free symbol is allowed in symP_k\n",
      "Passed!\n",
      "Testing StructDefinitionError: Interval must consist of numbers\n",
      "Passed!\n",
      "Testing StructDefinitionError: Terms in interval must be strictly increasing\n",
      "Passed!\n",
      "Test 3\n",
      "Testing definition of SymLinearDifferentialOperator: symP_k are Function\n",
      "Passed!\n",
      "Testing definition of SymLinearDifferentialOperator: symP_k are constant\n",
      "Passed!\n",
      "Testing definition of SymLinearDifferentialOperator: symP_k are SymPy.Sym and Number\n",
      "Passed!\n",
      "Testing StructDefinitionError: symP_k should be SymPy.Sym or Number\n",
      "Passed!\n",
      "Testing StructDefinitionError: Only one free symbol is allowed in symP_k\n",
      "Passed!\n",
      "Testing StructDefinitionError: Interval must consist of numbers\n",
      "Passed!\n",
      "Testing StructDefinitionError: Terms in interval must be strictly increasing\n",
      "Passed!\n",
      "Test 4\n",
      "Testing definition of SymLinearDifferentialOperator: symP_k are Function\n",
      "Passed!\n",
      "Testing definition of SymLinearDifferentialOperator: symP_k are constant\n",
      "Passed!\n",
      "Testing definition of SymLinearDifferentialOperator: symP_k are SymPy.Sym and Number\n",
      "Passed!\n",
      "Testing StructDefinitionError: symP_k should be SymPy.Sym or Number\n",
      "Passed!\n",
      "Testing StructDefinitionError: Only one free symbol is allowed in symP_k\n",
      "Passed!\n",
      "Testing StructDefinitionError: Interval must consist of numbers\n",
      "Passed!\n",
      "Testing StructDefinitionError: Terms in interval must be strictly increasing\n",
      "Passed!\n",
      "Test 5\n",
      "Testing definition of SymLinearDifferentialOperator: symP_k are Function\n",
      "Passed!\n",
      "Testing definition of SymLinearDifferentialOperator: symP_k are constant\n",
      "Passed!\n",
      "Testing definition of SymLinearDifferentialOperator: symP_k are SymPy.Sym and Number\n",
      "Passed!\n",
      "Testing StructDefinitionError: symP_k should be SymPy.Sym or Number\n",
      "Passed!\n",
      "Testing StructDefinitionError: Only one free symbol is allowed in symP_k\n",
      "Passed!\n",
      "Testing StructDefinitionError: Interval must consist of numbers\n",
      "Passed!\n",
      "Testing StructDefinitionError: Terms in interval must be strictly increasing\n",
      "Passed!\n",
      "Test 6\n",
      "Testing definition of SymLinearDifferentialOperator: symP_k are Function\n",
      "Passed!\n",
      "Testing definition of SymLinearDifferentialOperator: symP_k are constant\n",
      "Passed!\n",
      "Testing definition of SymLinearDifferentialOperator: symP_k are SymPy.Sym and Number\n",
      "Passed!\n",
      "Testing StructDefinitionError: symP_k should be SymPy.Sym or Number\n",
      "Passed!\n",
      "Testing StructDefinitionError: Only one free symbol is allowed in symP_k\n",
      "Passed!\n",
      "Testing StructDefinitionError: Interval must consist of numbers\n",
      "Passed!\n",
      "Testing StructDefinitionError: Terms in interval must be strictly increasing\n",
      "Passed!\n",
      "Test 7\n",
      "Testing definition of SymLinearDifferentialOperator: symP_k are Function\n",
      "Passed!\n",
      "Testing definition of SymLinearDifferentialOperator: symP_k are constant\n",
      "Passed!\n",
      "Testing definition of SymLinearDifferentialOperator: symP_k are SymPy.Sym and Number\n",
      "Passed!\n",
      "Testing StructDefinitionError: symP_k should be SymPy.Sym or Number\n",
      "Passed!\n",
      "Testing StructDefinitionError: Only one free symbol is allowed in symP_k\n",
      "Passed!\n",
      "Testing StructDefinitionError: Interval must consist of numbers\n",
      "Passed!\n",
      "Testing StructDefinitionError: Terms in interval must be strictly increasing\n",
      "Passed!\n",
      "Test 8\n",
      "Testing definition of SymLinearDifferentialOperator: symP_k are Function\n",
      "Passed!\n",
      "Testing definition of SymLinearDifferentialOperator: symP_k are constant\n",
      "Passed!\n",
      "Testing definition of SymLinearDifferentialOperator: symP_k are SymPy.Sym and Number\n",
      "Passed!\n",
      "Testing StructDefinitionError: symP_k should be SymPy.Sym or Number\n",
      "Passed!\n",
      "Testing StructDefinitionError: Only one free symbol is allowed in symP_k\n",
      "Passed!\n",
      "Testing StructDefinitionError: Interval must consist of numbers\n",
      "Passed!\n",
      "Testing StructDefinitionError: Terms in interval must be strictly increasing\n",
      "Passed!\n",
      "Test 9\n",
      "Testing definition of SymLinearDifferentialOperator: symP_k are Function\n",
      "Passed!\n",
      "Testing definition of SymLinearDifferentialOperator: symP_k are constant\n",
      "Passed!\n",
      "Testing definition of SymLinearDifferentialOperator: symP_k are SymPy.Sym and Number\n",
      "Passed!\n",
      "Testing StructDefinitionError: symP_k should be SymPy.Sym or Number\n",
      "Passed!\n",
      "Testing StructDefinitionError: Only one free symbol is allowed in symP_k\n",
      "Passed!\n",
      "Testing StructDefinitionError: Interval must consist of numbers\n",
      "Passed!\n",
      "Testing StructDefinitionError: Terms in interval must be strictly increasing\n",
      "Passed!\n",
      "Test 10\n",
      "Testing definition of SymLinearDifferentialOperator: symP_k are Function\n",
      "Passed!\n",
      "Testing definition of SymLinearDifferentialOperator: symP_k are constant\n",
      "Passed!\n",
      "Testing definition of SymLinearDifferentialOperator: symP_k are SymPy.Sym and Number\n",
      "Passed!\n",
      "Testing StructDefinitionError: symP_k should be SymPy.Sym or Number\n",
      "Passed!\n",
      "Testing StructDefinitionError: Only one free symbol is allowed in symP_k\n",
      "Passed!\n",
      "Testing StructDefinitionError: Interval must consist of numbers\n",
      "Passed!\n",
      "Testing StructDefinitionError: Terms in interval must be strictly increasing\n",
      "Passed!\n",
      "true\n",
      "Test 1\n",
      "Testing definition of SymLinearDifferentialOperator: symP_k are Function\n",
      "Passed!\n",
      "Testing definition of SymLinearDifferentialOperator: symP_k are constant\n",
      "Passed!\n",
      "Testing definition of SymLinearDifferentialOperator: symP_k are SymPy.Sym and Number\n",
      "Passed!\n",
      "Testing StructDefinitionError: symP_k should be SymPy.Sym or Number\n",
      "Passed!\n",
      "Testing StructDefinitionError: Only one free symbol is allowed in symP_k\n",
      "Passed!\n",
      "Testing StructDefinitionError: Interval must consist of numbers\n",
      "Passed!\n",
      "Testing StructDefinitionError: Terms in interval must be strictly increasing\n",
      "Passed!\n",
      "Test 2\n",
      "Testing definition of SymLinearDifferentialOperator: symP_k are Function\n",
      "Passed!\n",
      "Testing definition of SymLinearDifferentialOperator: symP_k are constant\n",
      "Passed!\n",
      "Testing definition of SymLinearDifferentialOperator: symP_k are SymPy.Sym and Number\n",
      "Passed!\n",
      "Testing StructDefinitionError: symP_k should be SymPy.Sym or Number\n",
      "Passed!\n",
      "Testing StructDefinitionError: Only one free symbol is allowed in symP_k\n",
      "Passed!\n",
      "Testing StructDefinitionError: Interval must consist of numbers\n",
      "Passed!\n",
      "Testing StructDefinitionError: Terms in interval must be strictly increasing\n",
      "Passed!\n",
      "Test 3\n",
      "Testing definition of SymLinearDifferentialOperator: symP_k are Function\n",
      "Passed!\n",
      "Testing definition of SymLinearDifferentialOperator: symP_k are constant\n",
      "Passed!\n",
      "Testing definition of SymLinearDifferentialOperator: symP_k are SymPy.Sym and Number\n",
      "Passed!\n",
      "Testing StructDefinitionError: symP_k should be SymPy.Sym or Number\n",
      "Passed!\n",
      "Testing StructDefinitionError: Only one free symbol is allowed in symP_k\n",
      "Passed!\n",
      "Testing StructDefinitionError: Interval must consist of numbers\n",
      "Passed!\n",
      "Testing StructDefinitionError: Terms in interval must be strictly increasing\n",
      "Passed!\n",
      "Test 4\n",
      "Testing definition of SymLinearDifferentialOperator: symP_k are Function\n",
      "Passed!\n",
      "Testing definition of SymLinearDifferentialOperator: symP_k are constant\n",
      "Passed!\n",
      "Testing definition of SymLinearDifferentialOperator: symP_k are SymPy.Sym and Number\n",
      "Passed!\n",
      "Testing StructDefinitionError: symP_k should be SymPy.Sym or Number\n",
      "Passed!\n",
      "Testing StructDefinitionError: Only one free symbol is allowed in symP_k\n",
      "Passed!\n",
      "Testing StructDefinitionError: Interval must consist of numbers\n",
      "Passed!\n",
      "Testing StructDefinitionError: Terms in interval must be strictly increasing\n",
      "Passed!\n",
      "Test 5\n",
      "Testing definition of SymLinearDifferentialOperator: symP_k are Function\n",
      "Passed!\n",
      "Testing definition of SymLinearDifferentialOperator: symP_k are constant\n",
      "Passed!\n",
      "Testing definition of SymLinearDifferentialOperator: symP_k are SymPy.Sym and Number\n",
      "Passed!\n",
      "Testing StructDefinitionError: symP_k should be SymPy.Sym or Number\n",
      "Passed!\n",
      "Testing StructDefinitionError: Only one free symbol is allowed in symP_k\n",
      "Passed!\n",
      "Testing StructDefinitionError: Interval must consist of numbers\n",
      "Passed!\n",
      "Testing StructDefinitionError: Terms in interval must be strictly increasing\n",
      "Passed!\n",
      "Test 6\n",
      "Testing definition of SymLinearDifferentialOperator: symP_k are Function\n",
      "Passed!\n",
      "Testing definition of SymLinearDifferentialOperator: symP_k are constant\n",
      "Passed!\n",
      "Testing definition of SymLinearDifferentialOperator: symP_k are SymPy.Sym and Number\n",
      "Passed!\n",
      "Testing StructDefinitionError: symP_k should be SymPy.Sym or Number\n",
      "Passed!\n",
      "Testing StructDefinitionError: Only one free symbol is allowed in symP_k\n",
      "Passed!\n",
      "Testing StructDefinitionError: Interval must consist of numbers\n",
      "Passed!\n",
      "Testing StructDefinitionError: Terms in interval must be strictly increasing\n"
     ]
    },
    {
     "name": "stdout",
     "output_type": "stream",
     "text": [
      "Passed!\n",
      "Test 7\n",
      "Testing definition of SymLinearDifferentialOperator: symP_k are Function\n",
      "Passed!\n",
      "Testing definition of SymLinearDifferentialOperator: symP_k are constant\n",
      "Passed!\n",
      "Testing definition of SymLinearDifferentialOperator: symP_k are SymPy.Sym and Number\n",
      "Passed!\n",
      "Testing StructDefinitionError: symP_k should be SymPy.Sym or Number\n",
      "Passed!\n",
      "Testing StructDefinitionError: Only one free symbol is allowed in symP_k\n",
      "Passed!\n",
      "Testing StructDefinitionError: Interval must consist of numbers\n",
      "Passed!\n",
      "Testing StructDefinitionError: Terms in interval must be strictly increasing\n",
      "Passed!\n",
      "Test 8\n",
      "Testing definition of SymLinearDifferentialOperator: symP_k are Function\n",
      "Passed!\n",
      "Testing definition of SymLinearDifferentialOperator: symP_k are constant\n",
      "Passed!\n",
      "Testing definition of SymLinearDifferentialOperator: symP_k are SymPy.Sym and Number\n",
      "Passed!\n",
      "Testing StructDefinitionError: symP_k should be SymPy.Sym or Number\n",
      "Passed!\n",
      "Testing StructDefinitionError: Only one free symbol is allowed in symP_k\n",
      "Passed!\n",
      "Testing StructDefinitionError: Interval must consist of numbers\n",
      "Passed!\n",
      "Testing StructDefinitionError: Terms in interval must be strictly increasing\n",
      "Passed!\n",
      "Test 9\n",
      "Testing definition of SymLinearDifferentialOperator: symP_k are Function\n",
      "Passed!\n",
      "Testing definition of SymLinearDifferentialOperator: symP_k are constant\n",
      "Passed!\n",
      "Testing definition of SymLinearDifferentialOperator: symP_k are SymPy.Sym and Number\n",
      "Passed!\n",
      "Testing StructDefinitionError: symP_k should be SymPy.Sym or Number\n",
      "Passed!\n",
      "Testing StructDefinitionError: Only one free symbol is allowed in symP_k\n",
      "Passed!\n",
      "Testing StructDefinitionError: Interval must consist of numbers\n",
      "Passed!\n",
      "Testing StructDefinitionError: Terms in interval must be strictly increasing\n",
      "Passed!\n",
      "Test 10\n",
      "Testing definition of SymLinearDifferentialOperator: symP_k are Function\n",
      "Passed!\n",
      "Testing definition of SymLinearDifferentialOperator: symP_k are constant\n",
      "Passed!\n",
      "Testing definition of SymLinearDifferentialOperator: symP_k are SymPy.Sym and Number\n",
      "Passed!\n",
      "Testing StructDefinitionError: symP_k should be SymPy.Sym or Number\n",
      "Passed!\n",
      "Testing StructDefinitionError: Only one free symbol is allowed in symP_k\n",
      "Passed!\n",
      "Testing StructDefinitionError: Interval must consist of numbers\n",
      "Passed!\n",
      "Testing StructDefinitionError: Terms in interval must be strictly increasing\n",
      "Passed!\n",
      "true\n",
      "Test 1\n",
      "Testing definition of SymLinearDifferentialOperator: symP_k are Function\n",
      "Passed!\n",
      "Testing definition of SymLinearDifferentialOperator: symP_k are constant\n",
      "Passed!\n",
      "Testing definition of SymLinearDifferentialOperator: symP_k are SymPy.Sym and Number\n",
      "Passed!\n",
      "Testing StructDefinitionError: symP_k should be SymPy.Sym or Number\n",
      "Passed!\n",
      "Testing StructDefinitionError: Only one free symbol is allowed in symP_k\n",
      "Passed!\n",
      "Testing StructDefinitionError: Interval must consist of numbers\n",
      "Passed!\n",
      "Testing StructDefinitionError: Terms in interval must be strictly increasing\n",
      "Failed!\n",
      "Test 2\n",
      "Testing definition of SymLinearDifferentialOperator: symP_k are Function\n",
      "Passed!\n",
      "Testing definition of SymLinearDifferentialOperator: symP_k are constant\n",
      "Passed!\n",
      "Testing definition of SymLinearDifferentialOperator: symP_k are SymPy.Sym and Number\n",
      "Passed!\n",
      "Testing StructDefinitionError: symP_k should be SymPy.Sym or Number\n",
      "Passed!\n",
      "Testing StructDefinitionError: Only one free symbol is allowed in symP_k\n",
      "Passed!\n",
      "Testing StructDefinitionError: Interval must consist of numbers\n",
      "Passed!\n",
      "Testing StructDefinitionError: Terms in interval must be strictly increasing\n",
      "Failed!\n",
      "Test 3\n",
      "Testing definition of SymLinearDifferentialOperator: symP_k are Function\n",
      "Passed!\n",
      "Testing definition of SymLinearDifferentialOperator: symP_k are constant\n",
      "Passed!\n",
      "Testing definition of SymLinearDifferentialOperator: symP_k are SymPy.Sym and Number\n",
      "Passed!\n",
      "Testing StructDefinitionError: symP_k should be SymPy.Sym or Number\n",
      "Passed!\n",
      "Testing StructDefinitionError: Only one free symbol is allowed in symP_k\n",
      "Passed!\n",
      "Testing StructDefinitionError: Interval must consist of numbers\n",
      "Passed!\n",
      "Testing StructDefinitionError: Terms in interval must be strictly increasing\n",
      "Failed!\n",
      "Test 4\n",
      "Testing definition of SymLinearDifferentialOperator: symP_k are Function\n",
      "Passed!\n",
      "Testing definition of SymLinearDifferentialOperator: symP_k are constant\n",
      "Passed!\n",
      "Testing definition of SymLinearDifferentialOperator: symP_k are SymPy.Sym and Number\n",
      "Passed!\n",
      "Testing StructDefinitionError: symP_k should be SymPy.Sym or Number\n",
      "Passed!\n",
      "Testing StructDefinitionError: Only one free symbol is allowed in symP_k\n",
      "Passed!\n",
      "Testing StructDefinitionError: Interval must consist of numbers\n",
      "Passed!\n",
      "Testing StructDefinitionError: Terms in interval must be strictly increasing\n",
      "Failed!\n",
      "Test 5\n",
      "Testing definition of SymLinearDifferentialOperator: symP_k are Function\n",
      "Passed!\n",
      "Testing definition of SymLinearDifferentialOperator: symP_k are constant\n",
      "Passed!\n",
      "Testing definition of SymLinearDifferentialOperator: symP_k are SymPy.Sym and Number\n",
      "Passed!\n",
      "Testing StructDefinitionError: symP_k should be SymPy.Sym or Number\n",
      "Passed!\n",
      "Testing StructDefinitionError: Only one free symbol is allowed in symP_k\n",
      "Passed!\n",
      "Testing StructDefinitionError: Interval must consist of numbers\n",
      "Passed!\n",
      "Testing StructDefinitionError: Terms in interval must be strictly increasing\n",
      "Failed!\n",
      "Test 6\n",
      "Testing definition of SymLinearDifferentialOperator: symP_k are Function\n",
      "Passed!\n",
      "Testing definition of SymLinearDifferentialOperator: symP_k are constant\n",
      "Passed!\n",
      "Testing definition of SymLinearDifferentialOperator: symP_k are SymPy.Sym and Number\n",
      "Passed!\n",
      "Testing StructDefinitionError: symP_k should be SymPy.Sym or Number\n",
      "Passed!\n",
      "Testing StructDefinitionError: Only one free symbol is allowed in symP_k\n",
      "Passed!\n",
      "Testing StructDefinitionError: Interval must consist of numbers\n",
      "Passed!\n",
      "Testing StructDefinitionError: Terms in interval must be strictly increasing\n",
      "Failed!\n",
      "Test 7\n",
      "Testing definition of SymLinearDifferentialOperator: symP_k are Function\n",
      "Passed!\n",
      "Testing definition of SymLinearDifferentialOperator: symP_k are constant\n",
      "Passed!\n",
      "Testing definition of SymLinearDifferentialOperator: symP_k are SymPy.Sym and Number\n",
      "Passed!\n",
      "Testing StructDefinitionError: symP_k should be SymPy.Sym or Number\n",
      "Passed!\n",
      "Testing StructDefinitionError: Only one free symbol is allowed in symP_k\n",
      "Passed!\n",
      "Testing StructDefinitionError: Interval must consist of numbers\n",
      "Passed!\n",
      "Testing StructDefinitionError: Terms in interval must be strictly increasing\n",
      "Failed!\n",
      "Test 8\n",
      "Testing definition of SymLinearDifferentialOperator: symP_k are Function\n",
      "Passed!\n",
      "Testing definition of SymLinearDifferentialOperator: symP_k are constant\n",
      "Passed!\n",
      "Testing definition of SymLinearDifferentialOperator: symP_k are SymPy.Sym and Number\n",
      "Passed!\n",
      "Testing StructDefinitionError: symP_k should be SymPy.Sym or Number\n",
      "Passed!\n",
      "Testing StructDefinitionError: Only one free symbol is allowed in symP_k\n",
      "Passed!\n",
      "Testing StructDefinitionError: Interval must consist of numbers\n",
      "Passed!\n",
      "Testing StructDefinitionError: Terms in interval must be strictly increasing\n",
      "Failed!\n",
      "Test 9\n",
      "Testing definition of SymLinearDifferentialOperator: symP_k are Function\n",
      "Passed!\n",
      "Testing definition of SymLinearDifferentialOperator: symP_k are constant\n",
      "Passed!\n",
      "Testing definition of SymLinearDifferentialOperator: symP_k are SymPy.Sym and Number\n",
      "Passed!\n",
      "Testing StructDefinitionError: symP_k should be SymPy.Sym or Number\n",
      "Passed!\n",
      "Testing StructDefinitionError: Only one free symbol is allowed in symP_k\n",
      "Passed!\n",
      "Testing StructDefinitionError: Interval must consist of numbers\n",
      "Passed!\n",
      "Testing StructDefinitionError: Terms in interval must be strictly increasing\n",
      "Failed!\n",
      "Test 10\n",
      "Testing definition of SymLinearDifferentialOperator: symP_k are Function\n",
      "Passed!\n",
      "Testing definition of SymLinearDifferentialOperator: symP_k are constant\n",
      "Passed!\n",
      "Testing definition of SymLinearDifferentialOperator: symP_k are SymPy.Sym and Number\n",
      "Passed!\n",
      "Testing StructDefinitionError: symP_k should be SymPy.Sym or Number\n",
      "Passed!\n",
      "Testing StructDefinitionError: Only one free symbol is allowed in symP_k\n",
      "Passed!\n",
      "Testing StructDefinitionError: Interval must consist of numbers\n",
      "Passed!\n",
      "Testing StructDefinitionError: Terms in interval must be strictly increasing\n",
      "Failed!\n",
      "false\n",
      "Test 1\n",
      "Testing definition of SymLinearDifferentialOperator: symP_k are Function\n",
      "Passed!\n",
      "Testing definition of SymLinearDifferentialOperator: symP_k are constant\n",
      "Passed!\n",
      "Testing definition of SymLinearDifferentialOperator: symP_k are SymPy.Sym and Number\n"
     ]
    },
    {
     "name": "stdout",
     "output_type": "stream",
     "text": [
      "Passed!\n",
      "Testing StructDefinitionError: symP_k should be SymPy.Sym or Number\n",
      "Passed!\n",
      "Testing StructDefinitionError: Only one free symbol is allowed in symP_k\n",
      "Passed!\n",
      "Testing StructDefinitionError: Interval must consist of numbers\n",
      "Passed!\n",
      "Testing StructDefinitionError: Terms in interval must be strictly increasing\n",
      "Passed!\n",
      "Test 2\n",
      "Testing definition of SymLinearDifferentialOperator: symP_k are Function\n",
      "Passed!\n",
      "Testing definition of SymLinearDifferentialOperator: symP_k are constant\n",
      "Passed!\n",
      "Testing definition of SymLinearDifferentialOperator: symP_k are SymPy.Sym and Number\n",
      "Passed!\n",
      "Testing StructDefinitionError: symP_k should be SymPy.Sym or Number\n",
      "Passed!\n",
      "Testing StructDefinitionError: Only one free symbol is allowed in symP_k\n",
      "Passed!\n",
      "Testing StructDefinitionError: Interval must consist of numbers\n",
      "Passed!\n",
      "Testing StructDefinitionError: Terms in interval must be strictly increasing\n",
      "Passed!\n",
      "Test 3\n",
      "Testing definition of SymLinearDifferentialOperator: symP_k are Function\n",
      "Passed!\n",
      "Testing definition of SymLinearDifferentialOperator: symP_k are constant\n",
      "Passed!\n",
      "Testing definition of SymLinearDifferentialOperator: symP_k are SymPy.Sym and Number\n",
      "Passed!\n",
      "Testing StructDefinitionError: symP_k should be SymPy.Sym or Number\n",
      "Passed!\n",
      "Testing StructDefinitionError: Only one free symbol is allowed in symP_k\n",
      "Passed!\n",
      "Testing StructDefinitionError: Interval must consist of numbers\n",
      "Passed!\n",
      "Testing StructDefinitionError: Terms in interval must be strictly increasing\n",
      "Passed!\n",
      "Test 4\n",
      "Testing definition of SymLinearDifferentialOperator: symP_k are Function\n",
      "Passed!\n",
      "Testing definition of SymLinearDifferentialOperator: symP_k are constant\n",
      "Passed!\n",
      "Testing definition of SymLinearDifferentialOperator: symP_k are SymPy.Sym and Number\n",
      "Passed!\n",
      "Testing StructDefinitionError: symP_k should be SymPy.Sym or Number\n",
      "Passed!\n",
      "Testing StructDefinitionError: Only one free symbol is allowed in symP_k\n",
      "Passed!\n",
      "Testing StructDefinitionError: Interval must consist of numbers\n",
      "Passed!\n",
      "Testing StructDefinitionError: Terms in interval must be strictly increasing\n",
      "Passed!\n",
      "Test 5\n",
      "Testing definition of SymLinearDifferentialOperator: symP_k are Function\n",
      "Passed!\n",
      "Testing definition of SymLinearDifferentialOperator: symP_k are constant\n",
      "Passed!\n",
      "Testing definition of SymLinearDifferentialOperator: symP_k are SymPy.Sym and Number\n",
      "Passed!\n",
      "Testing StructDefinitionError: symP_k should be SymPy.Sym or Number\n",
      "Passed!\n",
      "Testing StructDefinitionError: Only one free symbol is allowed in symP_k\n",
      "Passed!\n",
      "Testing StructDefinitionError: Interval must consist of numbers\n",
      "Passed!\n",
      "Testing StructDefinitionError: Terms in interval must be strictly increasing\n",
      "Passed!\n",
      "Test 6\n",
      "Testing definition of SymLinearDifferentialOperator: symP_k are Function\n",
      "Passed!\n",
      "Testing definition of SymLinearDifferentialOperator: symP_k are constant\n",
      "Passed!\n",
      "Testing definition of SymLinearDifferentialOperator: symP_k are SymPy.Sym and Number\n",
      "Passed!\n",
      "Testing StructDefinitionError: symP_k should be SymPy.Sym or Number\n",
      "Passed!\n",
      "Testing StructDefinitionError: Only one free symbol is allowed in symP_k\n",
      "Passed!\n",
      "Testing StructDefinitionError: Interval must consist of numbers\n",
      "Passed!\n",
      "Testing StructDefinitionError: Terms in interval must be strictly increasing\n",
      "Passed!\n",
      "Test 7\n",
      "Testing definition of SymLinearDifferentialOperator: symP_k are Function\n",
      "Passed!\n",
      "Testing definition of SymLinearDifferentialOperator: symP_k are constant\n",
      "Passed!\n",
      "Testing definition of SymLinearDifferentialOperator: symP_k are SymPy.Sym and Number\n",
      "Passed!\n",
      "Testing StructDefinitionError: symP_k should be SymPy.Sym or Number\n",
      "Passed!\n",
      "Testing StructDefinitionError: Only one free symbol is allowed in symP_k\n",
      "Passed!\n",
      "Testing StructDefinitionError: Interval must consist of numbers\n",
      "Passed!\n",
      "Testing StructDefinitionError: Terms in interval must be strictly increasing\n",
      "Passed!\n",
      "Test 8\n",
      "Testing definition of SymLinearDifferentialOperator: symP_k are Function\n",
      "Passed!\n",
      "Testing definition of SymLinearDifferentialOperator: symP_k are constant\n",
      "Passed!\n",
      "Testing definition of SymLinearDifferentialOperator: symP_k are SymPy.Sym and Number\n",
      "Passed!\n",
      "Testing StructDefinitionError: symP_k should be SymPy.Sym or Number\n",
      "Passed!\n",
      "Testing StructDefinitionError: Only one free symbol is allowed in symP_k\n",
      "Passed!\n",
      "Testing StructDefinitionError: Interval must consist of numbers\n",
      "Passed!\n",
      "Testing StructDefinitionError: Terms in interval must be strictly increasing\n",
      "Passed!\n",
      "Test 9\n",
      "Testing definition of SymLinearDifferentialOperator: symP_k are Function\n",
      "Passed!\n",
      "Testing definition of SymLinearDifferentialOperator: symP_k are constant\n",
      "Passed!\n",
      "Testing definition of SymLinearDifferentialOperator: symP_k are SymPy.Sym and Number\n",
      "Passed!\n",
      "Testing StructDefinitionError: symP_k should be SymPy.Sym or Number\n",
      "Passed!\n",
      "Testing StructDefinitionError: Only one free symbol is allowed in symP_k\n",
      "Passed!\n",
      "Testing StructDefinitionError: Interval must consist of numbers\n",
      "Passed!\n",
      "Testing StructDefinitionError: Terms in interval must be strictly increasing\n",
      "Passed!\n",
      "Test 10\n",
      "Testing definition of SymLinearDifferentialOperator: symP_k are Function\n",
      "Passed!\n",
      "Testing definition of SymLinearDifferentialOperator: symP_k are constant\n",
      "Passed!\n",
      "Testing definition of SymLinearDifferentialOperator: symP_k are SymPy.Sym and Number\n",
      "Passed!\n",
      "Testing StructDefinitionError: symP_k should be SymPy.Sym or Number\n",
      "Passed!\n",
      "Testing StructDefinitionError: Only one free symbol is allowed in symP_k\n",
      "Passed!\n",
      "Testing StructDefinitionError: Interval must consist of numbers\n",
      "Passed!\n",
      "Testing StructDefinitionError: Terms in interval must be strictly increasing\n",
      "Passed!\n",
      "true\n",
      "Test 1\n",
      "Testing definition of SymLinearDifferentialOperator: symP_k are Function\n",
      "Passed!\n",
      "Testing definition of SymLinearDifferentialOperator: symP_k are constant\n",
      "Passed!\n",
      "Testing definition of SymLinearDifferentialOperator: symP_k are SymPy.Sym and Number\n",
      "Passed!\n",
      "Testing StructDefinitionError: symP_k should be SymPy.Sym or Number\n",
      "Passed!\n",
      "Testing StructDefinitionError: Only one free symbol is allowed in symP_k\n",
      "Passed!\n",
      "Testing StructDefinitionError: Interval must consist of numbers\n",
      "Passed!\n",
      "Testing StructDefinitionError: Terms in interval must be strictly increasing\n",
      "Passed!\n",
      "Test 2\n",
      "Testing definition of SymLinearDifferentialOperator: symP_k are Function\n",
      "Passed!\n",
      "Testing definition of SymLinearDifferentialOperator: symP_k are constant\n",
      "Passed!\n",
      "Testing definition of SymLinearDifferentialOperator: symP_k are SymPy.Sym and Number\n",
      "Passed!\n",
      "Testing StructDefinitionError: symP_k should be SymPy.Sym or Number\n",
      "Passed!\n",
      "Testing StructDefinitionError: Only one free symbol is allowed in symP_k\n",
      "Passed!\n",
      "Testing StructDefinitionError: Interval must consist of numbers\n",
      "Passed!\n",
      "Testing StructDefinitionError: Terms in interval must be strictly increasing\n",
      "Passed!\n",
      "Test 3\n",
      "Testing definition of SymLinearDifferentialOperator: symP_k are Function\n",
      "Passed!\n",
      "Testing definition of SymLinearDifferentialOperator: symP_k are constant\n",
      "Passed!\n",
      "Testing definition of SymLinearDifferentialOperator: symP_k are SymPy.Sym and Number\n",
      "Passed!\n",
      "Testing StructDefinitionError: symP_k should be SymPy.Sym or Number\n",
      "Passed!\n",
      "Testing StructDefinitionError: Only one free symbol is allowed in symP_k\n",
      "Passed!\n",
      "Testing StructDefinitionError: Interval must consist of numbers\n",
      "Passed!\n",
      "Testing StructDefinitionError: Terms in interval must be strictly increasing\n",
      "Passed!\n",
      "Test 4\n",
      "Testing definition of SymLinearDifferentialOperator: symP_k are Function\n",
      "Passed!\n",
      "Testing definition of SymLinearDifferentialOperator: symP_k are constant\n",
      "Passed!\n",
      "Testing definition of SymLinearDifferentialOperator: symP_k are SymPy.Sym and Number\n",
      "Passed!\n",
      "Testing StructDefinitionError: symP_k should be SymPy.Sym or Number\n",
      "Passed!\n",
      "Testing StructDefinitionError: Only one free symbol is allowed in symP_k\n",
      "Passed!\n",
      "Testing StructDefinitionError: Interval must consist of numbers\n",
      "Passed!\n",
      "Testing StructDefinitionError: Terms in interval must be strictly increasing\n",
      "Passed!\n",
      "Test 5\n",
      "Testing definition of SymLinearDifferentialOperator: symP_k are Function\n",
      "Passed!\n",
      "Testing definition of SymLinearDifferentialOperator: symP_k are constant\n",
      "Passed!\n",
      "Testing definition of SymLinearDifferentialOperator: symP_k are SymPy.Sym and Number\n",
      "Passed!\n",
      "Testing StructDefinitionError: symP_k should be SymPy.Sym or Number\n",
      "Passed!\n",
      "Testing StructDefinitionError: Only one free symbol is allowed in symP_k\n",
      "Passed!\n",
      "Testing StructDefinitionError: Interval must consist of numbers\n",
      "Passed!\n",
      "Testing StructDefinitionError: Terms in interval must be strictly increasing\n"
     ]
    },
    {
     "name": "stdout",
     "output_type": "stream",
     "text": [
      "Passed!\n",
      "Test 6\n",
      "Testing definition of SymLinearDifferentialOperator: symP_k are Function\n",
      "Passed!\n",
      "Testing definition of SymLinearDifferentialOperator: symP_k are constant\n",
      "Passed!\n",
      "Testing definition of SymLinearDifferentialOperator: symP_k are SymPy.Sym and Number\n",
      "Passed!\n",
      "Testing StructDefinitionError: symP_k should be SymPy.Sym or Number\n",
      "Passed!\n",
      "Testing StructDefinitionError: Only one free symbol is allowed in symP_k\n",
      "Passed!\n",
      "Testing StructDefinitionError: Interval must consist of numbers\n",
      "Passed!\n",
      "Testing StructDefinitionError: Terms in interval must be strictly increasing\n",
      "Passed!\n",
      "Test 7\n",
      "Testing definition of SymLinearDifferentialOperator: symP_k are Function\n",
      "Passed!\n",
      "Testing definition of SymLinearDifferentialOperator: symP_k are constant\n",
      "Passed!\n",
      "Testing definition of SymLinearDifferentialOperator: symP_k are SymPy.Sym and Number\n",
      "Passed!\n",
      "Testing StructDefinitionError: symP_k should be SymPy.Sym or Number\n",
      "Passed!\n",
      "Testing StructDefinitionError: Only one free symbol is allowed in symP_k\n",
      "Passed!\n",
      "Testing StructDefinitionError: Interval must consist of numbers\n",
      "Passed!\n",
      "Testing StructDefinitionError: Terms in interval must be strictly increasing\n",
      "Passed!\n",
      "Test 8\n",
      "Testing definition of SymLinearDifferentialOperator: symP_k are Function\n",
      "Passed!\n",
      "Testing definition of SymLinearDifferentialOperator: symP_k are constant\n",
      "Passed!\n",
      "Testing definition of SymLinearDifferentialOperator: symP_k are SymPy.Sym and Number\n",
      "Passed!\n",
      "Testing StructDefinitionError: symP_k should be SymPy.Sym or Number\n",
      "Passed!\n",
      "Testing StructDefinitionError: Only one free symbol is allowed in symP_k\n",
      "Passed!\n",
      "Testing StructDefinitionError: Interval must consist of numbers\n",
      "Passed!\n",
      "Testing StructDefinitionError: Terms in interval must be strictly increasing\n",
      "Passed!\n",
      "Test 9\n",
      "Testing definition of SymLinearDifferentialOperator: symP_k are Function\n",
      "Passed!\n",
      "Testing definition of SymLinearDifferentialOperator: symP_k are constant\n",
      "Passed!\n",
      "Testing definition of SymLinearDifferentialOperator: symP_k are SymPy.Sym and Number\n",
      "Passed!\n",
      "Testing StructDefinitionError: symP_k should be SymPy.Sym or Number\n",
      "Passed!\n",
      "Testing StructDefinitionError: Only one free symbol is allowed in symP_k\n",
      "Passed!\n",
      "Testing StructDefinitionError: Interval must consist of numbers\n",
      "Passed!\n",
      "Testing StructDefinitionError: Terms in interval must be strictly increasing\n",
      "Passed!\n",
      "Test 10\n",
      "Testing definition of SymLinearDifferentialOperator: symP_k are Function\n",
      "Passed!\n",
      "Testing definition of SymLinearDifferentialOperator: symP_k are constant\n",
      "Passed!\n",
      "Testing definition of SymLinearDifferentialOperator: symP_k are SymPy.Sym and Number\n",
      "Passed!\n",
      "Testing StructDefinitionError: symP_k should be SymPy.Sym or Number\n",
      "Passed!\n",
      "Testing StructDefinitionError: Only one free symbol is allowed in symP_k\n",
      "Passed!\n",
      "Testing StructDefinitionError: Interval must consist of numbers\n",
      "Passed!\n",
      "Testing StructDefinitionError: Terms in interval must be strictly increasing\n",
      "Passed!\n",
      "true\n",
      "Test 1\n",
      "Testing definition of SymLinearDifferentialOperator: symP_k are Function\n",
      "Passed!\n",
      "Testing definition of SymLinearDifferentialOperator: symP_k are constant\n",
      "Passed!\n",
      "Testing definition of SymLinearDifferentialOperator: symP_k are SymPy.Sym and Number\n",
      "Passed!\n",
      "Testing StructDefinitionError: symP_k should be SymPy.Sym or Number\n",
      "Passed!\n",
      "Testing StructDefinitionError: Only one free symbol is allowed in symP_k\n",
      "Passed!\n",
      "Testing StructDefinitionError: Interval must consist of numbers\n",
      "Passed!\n",
      "Testing StructDefinitionError: Terms in interval must be strictly increasing\n",
      "Passed!\n",
      "Test 2\n",
      "Testing definition of SymLinearDifferentialOperator: symP_k are Function\n",
      "Passed!\n",
      "Testing definition of SymLinearDifferentialOperator: symP_k are constant\n",
      "Passed!\n",
      "Testing definition of SymLinearDifferentialOperator: symP_k are SymPy.Sym and Number\n",
      "Passed!\n",
      "Testing StructDefinitionError: symP_k should be SymPy.Sym or Number\n",
      "Passed!\n",
      "Testing StructDefinitionError: Only one free symbol is allowed in symP_k\n",
      "Passed!\n",
      "Testing StructDefinitionError: Interval must consist of numbers\n",
      "Passed!\n",
      "Testing StructDefinitionError: Terms in interval must be strictly increasing\n",
      "Passed!\n",
      "Test 3\n",
      "Testing definition of SymLinearDifferentialOperator: symP_k are Function\n",
      "Passed!\n",
      "Testing definition of SymLinearDifferentialOperator: symP_k are constant\n",
      "Passed!\n",
      "Testing definition of SymLinearDifferentialOperator: symP_k are SymPy.Sym and Number\n",
      "Passed!\n",
      "Testing StructDefinitionError: symP_k should be SymPy.Sym or Number\n",
      "Passed!\n",
      "Testing StructDefinitionError: Only one free symbol is allowed in symP_k\n",
      "Passed!\n",
      "Testing StructDefinitionError: Interval must consist of numbers\n",
      "Passed!\n",
      "Testing StructDefinitionError: Terms in interval must be strictly increasing\n",
      "Passed!\n",
      "Test 4\n",
      "Testing definition of SymLinearDifferentialOperator: symP_k are Function\n",
      "Passed!\n",
      "Testing definition of SymLinearDifferentialOperator: symP_k are constant\n",
      "Passed!\n",
      "Testing definition of SymLinearDifferentialOperator: symP_k are SymPy.Sym and Number\n",
      "Passed!\n",
      "Testing StructDefinitionError: symP_k should be SymPy.Sym or Number\n",
      "Passed!\n",
      "Testing StructDefinitionError: Only one free symbol is allowed in symP_k\n",
      "Passed!\n",
      "Testing StructDefinitionError: Interval must consist of numbers\n",
      "Passed!\n",
      "Testing StructDefinitionError: Terms in interval must be strictly increasing\n",
      "Passed!\n",
      "Test 5\n",
      "Testing definition of SymLinearDifferentialOperator: symP_k are Function\n",
      "Passed!\n",
      "Testing definition of SymLinearDifferentialOperator: symP_k are constant\n",
      "Passed!\n",
      "Testing definition of SymLinearDifferentialOperator: symP_k are SymPy.Sym and Number\n",
      "Passed!\n",
      "Testing StructDefinitionError: symP_k should be SymPy.Sym or Number\n",
      "Passed!\n",
      "Testing StructDefinitionError: Only one free symbol is allowed in symP_k\n",
      "Passed!\n",
      "Testing StructDefinitionError: Interval must consist of numbers\n",
      "Passed!\n",
      "Testing StructDefinitionError: Terms in interval must be strictly increasing\n",
      "Passed!\n",
      "Test 6\n",
      "Testing definition of SymLinearDifferentialOperator: symP_k are Function\n",
      "Passed!\n",
      "Testing definition of SymLinearDifferentialOperator: symP_k are constant\n",
      "Passed!\n",
      "Testing definition of SymLinearDifferentialOperator: symP_k are SymPy.Sym and Number\n",
      "Passed!\n",
      "Testing StructDefinitionError: symP_k should be SymPy.Sym or Number\n",
      "Passed!\n",
      "Testing StructDefinitionError: Only one free symbol is allowed in symP_k\n",
      "Passed!\n",
      "Testing StructDefinitionError: Interval must consist of numbers\n",
      "Passed!\n",
      "Testing StructDefinitionError: Terms in interval must be strictly increasing\n",
      "Passed!\n",
      "Test 7\n",
      "Testing definition of SymLinearDifferentialOperator: symP_k are Function\n",
      "Passed!\n",
      "Testing definition of SymLinearDifferentialOperator: symP_k are constant\n",
      "Passed!\n",
      "Testing definition of SymLinearDifferentialOperator: symP_k are SymPy.Sym and Number\n",
      "Passed!\n",
      "Testing StructDefinitionError: symP_k should be SymPy.Sym or Number\n",
      "Passed!\n",
      "Testing StructDefinitionError: Only one free symbol is allowed in symP_k\n",
      "Passed!\n",
      "Testing StructDefinitionError: Interval must consist of numbers\n",
      "Passed!\n",
      "Testing StructDefinitionError: Terms in interval must be strictly increasing\n",
      "Passed!\n",
      "Test 8\n",
      "Testing definition of SymLinearDifferentialOperator: symP_k are Function\n",
      "Passed!\n",
      "Testing definition of SymLinearDifferentialOperator: symP_k are constant\n",
      "Passed!\n",
      "Testing definition of SymLinearDifferentialOperator: symP_k are SymPy.Sym and Number\n",
      "Passed!\n",
      "Testing StructDefinitionError: symP_k should be SymPy.Sym or Number\n",
      "Passed!\n",
      "Testing StructDefinitionError: Only one free symbol is allowed in symP_k\n",
      "Passed!\n",
      "Testing StructDefinitionError: Interval must consist of numbers\n",
      "Passed!\n",
      "Testing StructDefinitionError: Terms in interval must be strictly increasing\n",
      "Passed!\n",
      "Test 9\n",
      "Testing definition of SymLinearDifferentialOperator: symP_k are Function\n",
      "Passed!\n",
      "Testing definition of SymLinearDifferentialOperator: symP_k are constant\n",
      "Passed!\n",
      "Testing definition of SymLinearDifferentialOperator: symP_k are SymPy.Sym and Number\n",
      "Passed!\n",
      "Testing StructDefinitionError: symP_k should be SymPy.Sym or Number\n",
      "Passed!\n",
      "Testing StructDefinitionError: Only one free symbol is allowed in symP_k\n",
      "Passed!\n",
      "Testing StructDefinitionError: Interval must consist of numbers\n",
      "Passed!\n",
      "Testing StructDefinitionError: Terms in interval must be strictly increasing\n",
      "Passed!\n",
      "Test 10\n",
      "Testing definition of SymLinearDifferentialOperator: symP_k are Function\n",
      "Passed!\n",
      "Testing definition of SymLinearDifferentialOperator: symP_k are constant\n",
      "Passed!\n",
      "Testing definition of SymLinearDifferentialOperator: symP_k are SymPy.Sym and Number\n",
      "Passed!\n",
      "Testing StructDefinitionError: symP_k should be SymPy.Sym or Number\n"
     ]
    },
    {
     "name": "stdout",
     "output_type": "stream",
     "text": [
      "Passed!\n",
      "Testing StructDefinitionError: Only one free symbol is allowed in symP_k\n",
      "Passed!\n",
      "Testing StructDefinitionError: Interval must consist of numbers\n",
      "Passed!\n",
      "Testing StructDefinitionError: Terms in interval must be strictly increasing\n",
      "Passed!\n",
      "true\n",
      "Test 1\n",
      "Testing definition of SymLinearDifferentialOperator: symP_k are Function\n",
      "Passed!\n",
      "Testing definition of SymLinearDifferentialOperator: symP_k are constant\n",
      "Passed!\n",
      "Testing definition of SymLinearDifferentialOperator: symP_k are SymPy.Sym and Number\n",
      "Passed!\n",
      "Testing StructDefinitionError: symP_k should be SymPy.Sym or Number\n",
      "Passed!\n",
      "Testing StructDefinitionError: Only one free symbol is allowed in symP_k\n",
      "Passed!\n",
      "Testing StructDefinitionError: Interval must consist of numbers\n",
      "Passed!\n",
      "Testing StructDefinitionError: Terms in interval must be strictly increasing\n",
      "Passed!\n",
      "Test 2\n",
      "Testing definition of SymLinearDifferentialOperator: symP_k are Function\n",
      "Passed!\n",
      "Testing definition of SymLinearDifferentialOperator: symP_k are constant\n",
      "Passed!\n",
      "Testing definition of SymLinearDifferentialOperator: symP_k are SymPy.Sym and Number\n",
      "Passed!\n",
      "Testing StructDefinitionError: symP_k should be SymPy.Sym or Number\n",
      "Passed!\n",
      "Testing StructDefinitionError: Only one free symbol is allowed in symP_k\n",
      "Passed!\n",
      "Testing StructDefinitionError: Interval must consist of numbers\n",
      "Passed!\n",
      "Testing StructDefinitionError: Terms in interval must be strictly increasing\n",
      "Passed!\n",
      "Test 3\n",
      "Testing definition of SymLinearDifferentialOperator: symP_k are Function\n",
      "Passed!\n",
      "Testing definition of SymLinearDifferentialOperator: symP_k are constant\n",
      "Passed!\n",
      "Testing definition of SymLinearDifferentialOperator: symP_k are SymPy.Sym and Number\n",
      "Passed!\n",
      "Testing StructDefinitionError: symP_k should be SymPy.Sym or Number\n",
      "Passed!\n",
      "Testing StructDefinitionError: Only one free symbol is allowed in symP_k\n",
      "Passed!\n",
      "Testing StructDefinitionError: Interval must consist of numbers\n",
      "Passed!\n",
      "Testing StructDefinitionError: Terms in interval must be strictly increasing\n",
      "Passed!\n",
      "Test 4\n",
      "Testing definition of SymLinearDifferentialOperator: symP_k are Function\n",
      "Passed!\n",
      "Testing definition of SymLinearDifferentialOperator: symP_k are constant\n",
      "Passed!\n",
      "Testing definition of SymLinearDifferentialOperator: symP_k are SymPy.Sym and Number\n",
      "Passed!\n",
      "Testing StructDefinitionError: symP_k should be SymPy.Sym or Number\n",
      "Passed!\n",
      "Testing StructDefinitionError: Only one free symbol is allowed in symP_k\n",
      "Passed!\n",
      "Testing StructDefinitionError: Interval must consist of numbers\n",
      "Passed!\n",
      "Testing StructDefinitionError: Terms in interval must be strictly increasing\n",
      "Passed!\n",
      "Test 5\n",
      "Testing definition of SymLinearDifferentialOperator: symP_k are Function\n",
      "Passed!\n",
      "Testing definition of SymLinearDifferentialOperator: symP_k are constant\n",
      "Passed!\n",
      "Testing definition of SymLinearDifferentialOperator: symP_k are SymPy.Sym and Number\n",
      "Passed!\n",
      "Testing StructDefinitionError: symP_k should be SymPy.Sym or Number\n",
      "Passed!\n",
      "Testing StructDefinitionError: Only one free symbol is allowed in symP_k\n",
      "Passed!\n",
      "Testing StructDefinitionError: Interval must consist of numbers\n",
      "Passed!\n",
      "Testing StructDefinitionError: Terms in interval must be strictly increasing\n",
      "Passed!\n",
      "Test 6\n",
      "Testing definition of SymLinearDifferentialOperator: symP_k are Function\n",
      "Passed!\n",
      "Testing definition of SymLinearDifferentialOperator: symP_k are constant\n",
      "Passed!\n",
      "Testing definition of SymLinearDifferentialOperator: symP_k are SymPy.Sym and Number\n",
      "Passed!\n",
      "Testing StructDefinitionError: symP_k should be SymPy.Sym or Number\n",
      "Passed!\n",
      "Testing StructDefinitionError: Only one free symbol is allowed in symP_k\n",
      "Passed!\n",
      "Testing StructDefinitionError: Interval must consist of numbers\n",
      "Passed!\n",
      "Testing StructDefinitionError: Terms in interval must be strictly increasing\n",
      "Passed!\n",
      "Test 7\n",
      "Testing definition of SymLinearDifferentialOperator: symP_k are Function\n",
      "Passed!\n",
      "Testing definition of SymLinearDifferentialOperator: symP_k are constant\n",
      "Passed!\n",
      "Testing definition of SymLinearDifferentialOperator: symP_k are SymPy.Sym and Number\n",
      "Passed!\n",
      "Testing StructDefinitionError: symP_k should be SymPy.Sym or Number\n",
      "Passed!\n",
      "Testing StructDefinitionError: Only one free symbol is allowed in symP_k\n",
      "Passed!\n",
      "Testing StructDefinitionError: Interval must consist of numbers\n",
      "Passed!\n",
      "Testing StructDefinitionError: Terms in interval must be strictly increasing\n",
      "Passed!\n",
      "Test 8\n",
      "Testing definition of SymLinearDifferentialOperator: symP_k are Function\n",
      "Passed!\n",
      "Testing definition of SymLinearDifferentialOperator: symP_k are constant\n",
      "Passed!\n",
      "Testing definition of SymLinearDifferentialOperator: symP_k are SymPy.Sym and Number\n",
      "Passed!\n",
      "Testing StructDefinitionError: symP_k should be SymPy.Sym or Number\n",
      "Passed!\n",
      "Testing StructDefinitionError: Only one free symbol is allowed in symP_k\n",
      "Passed!\n",
      "Testing StructDefinitionError: Interval must consist of numbers\n",
      "Passed!\n",
      "Testing StructDefinitionError: Terms in interval must be strictly increasing\n",
      "Passed!\n",
      "Test 9\n",
      "Testing definition of SymLinearDifferentialOperator: symP_k are Function\n",
      "Passed!\n",
      "Testing definition of SymLinearDifferentialOperator: symP_k are constant\n",
      "Passed!\n",
      "Testing definition of SymLinearDifferentialOperator: symP_k are SymPy.Sym and Number\n",
      "Passed!\n",
      "Testing StructDefinitionError: symP_k should be SymPy.Sym or Number\n",
      "Passed!\n",
      "Testing StructDefinitionError: Only one free symbol is allowed in symP_k\n",
      "Passed!\n",
      "Testing StructDefinitionError: Interval must consist of numbers\n",
      "Passed!\n",
      "Testing StructDefinitionError: Terms in interval must be strictly increasing\n",
      "Passed!\n",
      "Test 10\n",
      "Testing definition of SymLinearDifferentialOperator: symP_k are Function\n",
      "Passed!\n",
      "Testing definition of SymLinearDifferentialOperator: symP_k are constant\n",
      "Passed!\n",
      "Testing definition of SymLinearDifferentialOperator: symP_k are SymPy.Sym and Number\n",
      "Passed!\n",
      "Testing StructDefinitionError: symP_k should be SymPy.Sym or Number\n",
      "Passed!\n",
      "Testing StructDefinitionError: Only one free symbol is allowed in symP_k\n",
      "Passed!\n",
      "Testing StructDefinitionError: Interval must consist of numbers\n",
      "Passed!\n",
      "Testing StructDefinitionError: Terms in interval must be strictly increasing\n",
      "Passed!\n",
      "true\n",
      "Test 1\n",
      "Testing definition of SymLinearDifferentialOperator: symP_k are Function\n",
      "Passed!\n",
      "Testing definition of SymLinearDifferentialOperator: symP_k are constant\n",
      "Passed!\n",
      "Testing definition of SymLinearDifferentialOperator: symP_k are SymPy.Sym and Number\n",
      "Passed!\n",
      "Testing StructDefinitionError: symP_k should be SymPy.Sym or Number\n",
      "Passed!\n",
      "Testing StructDefinitionError: Only one free symbol is allowed in symP_k\n",
      "Passed!\n",
      "Testing StructDefinitionError: Interval must consist of numbers\n",
      "Passed!\n",
      "Testing StructDefinitionError: Terms in interval must be strictly increasing\n",
      "Passed!\n",
      "Test 2\n",
      "Testing definition of SymLinearDifferentialOperator: symP_k are Function\n",
      "Passed!\n",
      "Testing definition of SymLinearDifferentialOperator: symP_k are constant\n",
      "Passed!\n",
      "Testing definition of SymLinearDifferentialOperator: symP_k are SymPy.Sym and Number\n",
      "Passed!\n",
      "Testing StructDefinitionError: symP_k should be SymPy.Sym or Number\n",
      "Passed!\n",
      "Testing StructDefinitionError: Only one free symbol is allowed in symP_k\n",
      "Passed!\n",
      "Testing StructDefinitionError: Interval must consist of numbers\n",
      "Passed!\n",
      "Testing StructDefinitionError: Terms in interval must be strictly increasing\n",
      "Passed!\n",
      "Test 3\n",
      "Testing definition of SymLinearDifferentialOperator: symP_k are Function\n",
      "Passed!\n",
      "Testing definition of SymLinearDifferentialOperator: symP_k are constant\n",
      "Passed!\n",
      "Testing definition of SymLinearDifferentialOperator: symP_k are SymPy.Sym and Number\n",
      "Passed!\n",
      "Testing StructDefinitionError: symP_k should be SymPy.Sym or Number\n",
      "Passed!\n",
      "Testing StructDefinitionError: Only one free symbol is allowed in symP_k\n",
      "Passed!\n",
      "Testing StructDefinitionError: Interval must consist of numbers\n",
      "Passed!\n",
      "Testing StructDefinitionError: Terms in interval must be strictly increasing\n",
      "Passed!\n",
      "Test 4\n",
      "Testing definition of SymLinearDifferentialOperator: symP_k are Function\n",
      "Passed!\n",
      "Testing definition of SymLinearDifferentialOperator: symP_k are constant\n",
      "Passed!\n",
      "Testing definition of SymLinearDifferentialOperator: symP_k are SymPy.Sym and Number\n",
      "Passed!\n",
      "Testing StructDefinitionError: symP_k should be SymPy.Sym or Number\n",
      "Passed!\n",
      "Testing StructDefinitionError: Only one free symbol is allowed in symP_k\n",
      "Passed!\n",
      "Testing StructDefinitionError: Interval must consist of numbers\n"
     ]
    },
    {
     "name": "stdout",
     "output_type": "stream",
     "text": [
      "Passed!\n",
      "Testing StructDefinitionError: Terms in interval must be strictly increasing\n",
      "Passed!\n",
      "Test 5\n",
      "Testing definition of SymLinearDifferentialOperator: symP_k are Function\n",
      "Passed!\n",
      "Testing definition of SymLinearDifferentialOperator: symP_k are constant\n",
      "Passed!\n",
      "Testing definition of SymLinearDifferentialOperator: symP_k are SymPy.Sym and Number\n",
      "Passed!\n",
      "Testing StructDefinitionError: symP_k should be SymPy.Sym or Number\n",
      "Passed!\n",
      "Testing StructDefinitionError: Only one free symbol is allowed in symP_k\n",
      "Passed!\n",
      "Testing StructDefinitionError: Interval must consist of numbers\n",
      "Passed!\n",
      "Testing StructDefinitionError: Terms in interval must be strictly increasing\n",
      "Passed!\n",
      "Test 6\n",
      "Testing definition of SymLinearDifferentialOperator: symP_k are Function\n",
      "Passed!\n",
      "Testing definition of SymLinearDifferentialOperator: symP_k are constant\n",
      "Passed!\n",
      "Testing definition of SymLinearDifferentialOperator: symP_k are SymPy.Sym and Number\n",
      "Passed!\n",
      "Testing StructDefinitionError: symP_k should be SymPy.Sym or Number\n",
      "Passed!\n",
      "Testing StructDefinitionError: Only one free symbol is allowed in symP_k\n",
      "Passed!\n",
      "Testing StructDefinitionError: Interval must consist of numbers\n",
      "Passed!\n",
      "Testing StructDefinitionError: Terms in interval must be strictly increasing\n",
      "Passed!\n",
      "Test 7\n",
      "Testing definition of SymLinearDifferentialOperator: symP_k are Function\n",
      "Passed!\n",
      "Testing definition of SymLinearDifferentialOperator: symP_k are constant\n",
      "Passed!\n",
      "Testing definition of SymLinearDifferentialOperator: symP_k are SymPy.Sym and Number\n",
      "Passed!\n",
      "Testing StructDefinitionError: symP_k should be SymPy.Sym or Number\n",
      "Passed!\n",
      "Testing StructDefinitionError: Only one free symbol is allowed in symP_k\n",
      "Passed!\n",
      "Testing StructDefinitionError: Interval must consist of numbers\n",
      "Passed!\n",
      "Testing StructDefinitionError: Terms in interval must be strictly increasing\n",
      "Passed!\n",
      "Test 8\n",
      "Testing definition of SymLinearDifferentialOperator: symP_k are Function\n",
      "Passed!\n",
      "Testing definition of SymLinearDifferentialOperator: symP_k are constant\n",
      "Passed!\n",
      "Testing definition of SymLinearDifferentialOperator: symP_k are SymPy.Sym and Number\n",
      "Passed!\n",
      "Testing StructDefinitionError: symP_k should be SymPy.Sym or Number\n",
      "Passed!\n",
      "Testing StructDefinitionError: Only one free symbol is allowed in symP_k\n",
      "Passed!\n",
      "Testing StructDefinitionError: Interval must consist of numbers\n",
      "Passed!\n",
      "Testing StructDefinitionError: Terms in interval must be strictly increasing\n",
      "Passed!\n",
      "Test 9\n",
      "Testing definition of SymLinearDifferentialOperator: symP_k are Function\n",
      "Passed!\n",
      "Testing definition of SymLinearDifferentialOperator: symP_k are constant\n",
      "Passed!\n",
      "Testing definition of SymLinearDifferentialOperator: symP_k are SymPy.Sym and Number\n",
      "Passed!\n",
      "Testing StructDefinitionError: symP_k should be SymPy.Sym or Number\n",
      "Passed!\n",
      "Testing StructDefinitionError: Only one free symbol is allowed in symP_k\n",
      "Passed!\n",
      "Testing StructDefinitionError: Interval must consist of numbers\n",
      "Passed!\n",
      "Testing StructDefinitionError: Terms in interval must be strictly increasing\n",
      "Passed!\n",
      "Test 10\n",
      "Testing definition of SymLinearDifferentialOperator: symP_k are Function\n",
      "Passed!\n",
      "Testing definition of SymLinearDifferentialOperator: symP_k are constant\n",
      "Passed!\n",
      "Testing definition of SymLinearDifferentialOperator: symP_k are SymPy.Sym and Number\n",
      "Passed!\n",
      "Testing StructDefinitionError: symP_k should be SymPy.Sym or Number\n",
      "Passed!\n",
      "Testing StructDefinitionError: Only one free symbol is allowed in symP_k\n",
      "Passed!\n",
      "Testing StructDefinitionError: Interval must consist of numbers\n",
      "Passed!\n",
      "Testing StructDefinitionError: Terms in interval must be strictly increasing\n",
      "Passed!\n",
      "true\n",
      "Test 1\n",
      "Testing definition of SymLinearDifferentialOperator: symP_k are Function\n",
      "Passed!\n",
      "Testing definition of SymLinearDifferentialOperator: symP_k are constant\n",
      "Passed!\n",
      "Testing definition of SymLinearDifferentialOperator: symP_k are SymPy.Sym and Number\n",
      "Passed!\n",
      "Testing StructDefinitionError: symP_k should be SymPy.Sym or Number\n",
      "Passed!\n",
      "Testing StructDefinitionError: Only one free symbol is allowed in symP_k\n",
      "Passed!\n",
      "Testing StructDefinitionError: Interval must consist of numbers\n",
      "Passed!\n",
      "Testing StructDefinitionError: Terms in interval must be strictly increasing\n",
      "Passed!\n",
      "Test 2\n",
      "Testing definition of SymLinearDifferentialOperator: symP_k are Function\n",
      "Passed!\n",
      "Testing definition of SymLinearDifferentialOperator: symP_k are constant\n",
      "Passed!\n",
      "Testing definition of SymLinearDifferentialOperator: symP_k are SymPy.Sym and Number\n",
      "Passed!\n",
      "Testing StructDefinitionError: symP_k should be SymPy.Sym or Number\n",
      "Passed!\n",
      "Testing StructDefinitionError: Only one free symbol is allowed in symP_k\n",
      "Passed!\n",
      "Testing StructDefinitionError: Interval must consist of numbers\n",
      "Passed!\n",
      "Testing StructDefinitionError: Terms in interval must be strictly increasing\n",
      "Passed!\n",
      "Test 3\n",
      "Testing definition of SymLinearDifferentialOperator: symP_k are Function\n",
      "Passed!\n",
      "Testing definition of SymLinearDifferentialOperator: symP_k are constant\n",
      "Passed!\n",
      "Testing definition of SymLinearDifferentialOperator: symP_k are SymPy.Sym and Number\n",
      "Passed!\n",
      "Testing StructDefinitionError: symP_k should be SymPy.Sym or Number\n",
      "Passed!\n",
      "Testing StructDefinitionError: Only one free symbol is allowed in symP_k\n",
      "Passed!\n",
      "Testing StructDefinitionError: Interval must consist of numbers\n",
      "Passed!\n",
      "Testing StructDefinitionError: Terms in interval must be strictly increasing\n",
      "Passed!\n",
      "Test 4\n",
      "Testing definition of SymLinearDifferentialOperator: symP_k are Function\n",
      "Passed!\n",
      "Testing definition of SymLinearDifferentialOperator: symP_k are constant\n",
      "Passed!\n",
      "Testing definition of SymLinearDifferentialOperator: symP_k are SymPy.Sym and Number\n",
      "Passed!\n",
      "Testing StructDefinitionError: symP_k should be SymPy.Sym or Number\n",
      "Passed!\n",
      "Testing StructDefinitionError: Only one free symbol is allowed in symP_k\n",
      "Passed!\n",
      "Testing StructDefinitionError: Interval must consist of numbers\n",
      "Passed!\n",
      "Testing StructDefinitionError: Terms in interval must be strictly increasing\n",
      "Passed!\n",
      "Test 5\n",
      "Testing definition of SymLinearDifferentialOperator: symP_k are Function\n",
      "Passed!\n",
      "Testing definition of SymLinearDifferentialOperator: symP_k are constant\n",
      "Passed!\n",
      "Testing definition of SymLinearDifferentialOperator: symP_k are SymPy.Sym and Number\n",
      "Passed!\n",
      "Testing StructDefinitionError: symP_k should be SymPy.Sym or Number\n",
      "Passed!\n",
      "Testing StructDefinitionError: Only one free symbol is allowed in symP_k\n",
      "Passed!\n",
      "Testing StructDefinitionError: Interval must consist of numbers\n",
      "Passed!\n",
      "Testing StructDefinitionError: Terms in interval must be strictly increasing\n",
      "Passed!\n",
      "Test 6\n",
      "Testing definition of SymLinearDifferentialOperator: symP_k are Function\n",
      "Passed!\n",
      "Testing definition of SymLinearDifferentialOperator: symP_k are constant\n",
      "Passed!\n",
      "Testing definition of SymLinearDifferentialOperator: symP_k are SymPy.Sym and Number\n",
      "Passed!\n",
      "Testing StructDefinitionError: symP_k should be SymPy.Sym or Number\n",
      "Passed!\n",
      "Testing StructDefinitionError: Only one free symbol is allowed in symP_k\n",
      "Passed!\n",
      "Testing StructDefinitionError: Interval must consist of numbers\n",
      "Passed!\n",
      "Testing StructDefinitionError: Terms in interval must be strictly increasing\n",
      "Passed!\n",
      "Test 7\n",
      "Testing definition of SymLinearDifferentialOperator: symP_k are Function\n",
      "Passed!\n",
      "Testing definition of SymLinearDifferentialOperator: symP_k are constant\n",
      "Passed!\n",
      "Testing definition of SymLinearDifferentialOperator: symP_k are SymPy.Sym and Number\n",
      "Passed!\n",
      "Testing StructDefinitionError: symP_k should be SymPy.Sym or Number\n",
      "Passed!\n",
      "Testing StructDefinitionError: Only one free symbol is allowed in symP_k\n",
      "Passed!\n",
      "Testing StructDefinitionError: Interval must consist of numbers\n",
      "Passed!\n",
      "Testing StructDefinitionError: Terms in interval must be strictly increasing\n",
      "Passed!\n",
      "Test 8\n",
      "Testing definition of SymLinearDifferentialOperator: symP_k are Function\n",
      "Passed!\n",
      "Testing definition of SymLinearDifferentialOperator: symP_k are constant\n",
      "Passed!\n",
      "Testing definition of SymLinearDifferentialOperator: symP_k are SymPy.Sym and Number\n",
      "Passed!\n",
      "Testing StructDefinitionError: symP_k should be SymPy.Sym or Number\n",
      "Passed!\n",
      "Testing StructDefinitionError: Only one free symbol is allowed in symP_k\n",
      "Passed!\n",
      "Testing StructDefinitionError: Interval must consist of numbers\n",
      "Passed!\n",
      "Testing StructDefinitionError: Terms in interval must be strictly increasing\n",
      "Passed!\n",
      "Test 9\n",
      "Testing definition of SymLinearDifferentialOperator: symP_k are Function\n"
     ]
    },
    {
     "name": "stdout",
     "output_type": "stream",
     "text": [
      "Passed!\n",
      "Testing definition of SymLinearDifferentialOperator: symP_k are constant\n",
      "Passed!\n",
      "Testing definition of SymLinearDifferentialOperator: symP_k are SymPy.Sym and Number\n",
      "Passed!\n",
      "Testing StructDefinitionError: symP_k should be SymPy.Sym or Number\n",
      "Passed!\n",
      "Testing StructDefinitionError: Only one free symbol is allowed in symP_k\n",
      "Passed!\n",
      "Testing StructDefinitionError: Interval must consist of numbers\n",
      "Passed!\n",
      "Testing StructDefinitionError: Terms in interval must be strictly increasing\n",
      "Passed!\n",
      "Test 10\n",
      "Testing definition of SymLinearDifferentialOperator: symP_k are Function\n",
      "Passed!\n",
      "Testing definition of SymLinearDifferentialOperator: symP_k are constant\n",
      "Passed!\n",
      "Testing definition of SymLinearDifferentialOperator: symP_k are SymPy.Sym and Number\n",
      "Passed!\n",
      "Testing StructDefinitionError: symP_k should be SymPy.Sym or Number\n",
      "Passed!\n",
      "Testing StructDefinitionError: Only one free symbol is allowed in symP_k\n",
      "Passed!\n",
      "Testing StructDefinitionError: Interval must consist of numbers\n",
      "Passed!\n",
      "Testing StructDefinitionError: Terms in interval must be strictly increasing\n",
      "Passed!\n",
      "true\n",
      "Test 1\n",
      "Testing definition of SymLinearDifferentialOperator: symP_k are Function\n",
      "Passed!\n",
      "Testing definition of SymLinearDifferentialOperator: symP_k are constant\n",
      "Passed!\n",
      "Testing definition of SymLinearDifferentialOperator: symP_k are SymPy.Sym and Number\n",
      "Passed!\n",
      "Testing StructDefinitionError: symP_k should be SymPy.Sym or Number\n",
      "Passed!\n",
      "Testing StructDefinitionError: Only one free symbol is allowed in symP_k\n",
      "Passed!\n",
      "Testing StructDefinitionError: Interval must consist of numbers\n",
      "Passed!\n",
      "Testing StructDefinitionError: Terms in interval must be strictly increasing\n",
      "Passed!\n",
      "Test 2\n",
      "Testing definition of SymLinearDifferentialOperator: symP_k are Function\n",
      "Passed!\n",
      "Testing definition of SymLinearDifferentialOperator: symP_k are constant\n",
      "Passed!\n",
      "Testing definition of SymLinearDifferentialOperator: symP_k are SymPy.Sym and Number\n",
      "Passed!\n",
      "Testing StructDefinitionError: symP_k should be SymPy.Sym or Number\n",
      "Passed!\n",
      "Testing StructDefinitionError: Only one free symbol is allowed in symP_k\n",
      "Passed!\n",
      "Testing StructDefinitionError: Interval must consist of numbers\n",
      "Passed!\n",
      "Testing StructDefinitionError: Terms in interval must be strictly increasing\n",
      "Passed!\n",
      "Test 3\n",
      "Testing definition of SymLinearDifferentialOperator: symP_k are Function\n",
      "Passed!\n",
      "Testing definition of SymLinearDifferentialOperator: symP_k are constant\n",
      "Passed!\n",
      "Testing definition of SymLinearDifferentialOperator: symP_k are SymPy.Sym and Number\n",
      "Passed!\n",
      "Testing StructDefinitionError: symP_k should be SymPy.Sym or Number\n",
      "Passed!\n",
      "Testing StructDefinitionError: Only one free symbol is allowed in symP_k\n",
      "Passed!\n",
      "Testing StructDefinitionError: Interval must consist of numbers\n",
      "Passed!\n",
      "Testing StructDefinitionError: Terms in interval must be strictly increasing\n",
      "Passed!\n",
      "Test 4\n",
      "Testing definition of SymLinearDifferentialOperator: symP_k are Function\n",
      "Passed!\n",
      "Testing definition of SymLinearDifferentialOperator: symP_k are constant\n",
      "Passed!\n",
      "Testing definition of SymLinearDifferentialOperator: symP_k are SymPy.Sym and Number\n",
      "Passed!\n",
      "Testing StructDefinitionError: symP_k should be SymPy.Sym or Number\n",
      "Passed!\n",
      "Testing StructDefinitionError: Only one free symbol is allowed in symP_k\n",
      "Passed!\n",
      "Testing StructDefinitionError: Interval must consist of numbers\n",
      "Passed!\n",
      "Testing StructDefinitionError: Terms in interval must be strictly increasing\n",
      "Passed!\n",
      "Test 5\n",
      "Testing definition of SymLinearDifferentialOperator: symP_k are Function\n",
      "Passed!\n",
      "Testing definition of SymLinearDifferentialOperator: symP_k are constant\n",
      "Passed!\n",
      "Testing definition of SymLinearDifferentialOperator: symP_k are SymPy.Sym and Number\n",
      "Passed!\n",
      "Testing StructDefinitionError: symP_k should be SymPy.Sym or Number\n",
      "Passed!\n",
      "Testing StructDefinitionError: Only one free symbol is allowed in symP_k\n",
      "Passed!\n",
      "Testing StructDefinitionError: Interval must consist of numbers\n",
      "Passed!\n",
      "Testing StructDefinitionError: Terms in interval must be strictly increasing\n",
      "Passed!\n",
      "Test 6\n",
      "Testing definition of SymLinearDifferentialOperator: symP_k are Function\n",
      "Passed!\n",
      "Testing definition of SymLinearDifferentialOperator: symP_k are constant\n",
      "Passed!\n",
      "Testing definition of SymLinearDifferentialOperator: symP_k are SymPy.Sym and Number\n",
      "Passed!\n",
      "Testing StructDefinitionError: symP_k should be SymPy.Sym or Number\n",
      "Passed!\n",
      "Testing StructDefinitionError: Only one free symbol is allowed in symP_k\n",
      "Passed!\n",
      "Testing StructDefinitionError: Interval must consist of numbers\n",
      "Passed!\n",
      "Testing StructDefinitionError: Terms in interval must be strictly increasing\n",
      "Passed!\n",
      "Test 7\n",
      "Testing definition of SymLinearDifferentialOperator: symP_k are Function\n",
      "Passed!\n",
      "Testing definition of SymLinearDifferentialOperator: symP_k are constant\n",
      "Passed!\n",
      "Testing definition of SymLinearDifferentialOperator: symP_k are SymPy.Sym and Number\n",
      "Passed!\n",
      "Testing StructDefinitionError: symP_k should be SymPy.Sym or Number\n",
      "Passed!\n",
      "Testing StructDefinitionError: Only one free symbol is allowed in symP_k\n",
      "Passed!\n",
      "Testing StructDefinitionError: Interval must consist of numbers\n",
      "Passed!\n",
      "Testing StructDefinitionError: Terms in interval must be strictly increasing\n",
      "Passed!\n",
      "Test 8\n",
      "Testing definition of SymLinearDifferentialOperator: symP_k are Function\n",
      "Passed!\n",
      "Testing definition of SymLinearDifferentialOperator: symP_k are constant\n",
      "Passed!\n",
      "Testing definition of SymLinearDifferentialOperator: symP_k are SymPy.Sym and Number\n",
      "Passed!\n",
      "Testing StructDefinitionError: symP_k should be SymPy.Sym or Number\n",
      "Passed!\n",
      "Testing StructDefinitionError: Only one free symbol is allowed in symP_k\n",
      "Passed!\n",
      "Testing StructDefinitionError: Interval must consist of numbers\n",
      "Passed!\n",
      "Testing StructDefinitionError: Terms in interval must be strictly increasing\n",
      "Passed!\n",
      "Test 9\n",
      "Testing definition of SymLinearDifferentialOperator: symP_k are Function\n",
      "Passed!\n",
      "Testing definition of SymLinearDifferentialOperator: symP_k are constant\n",
      "Passed!\n",
      "Testing definition of SymLinearDifferentialOperator: symP_k are SymPy.Sym and Number\n",
      "Passed!\n",
      "Testing StructDefinitionError: symP_k should be SymPy.Sym or Number\n",
      "Passed!\n",
      "Testing StructDefinitionError: Only one free symbol is allowed in symP_k\n",
      "Passed!\n",
      "Testing StructDefinitionError: Interval must consist of numbers\n",
      "Passed!\n",
      "Testing StructDefinitionError: Terms in interval must be strictly increasing\n",
      "Passed!\n",
      "Test 10\n",
      "Testing definition of SymLinearDifferentialOperator: symP_k are Function\n",
      "Passed!\n",
      "Testing definition of SymLinearDifferentialOperator: symP_k are constant\n",
      "Passed!\n",
      "Testing definition of SymLinearDifferentialOperator: symP_k are SymPy.Sym and Number\n",
      "Passed!\n",
      "Testing StructDefinitionError: symP_k should be SymPy.Sym or Number\n",
      "Passed!\n",
      "Testing StructDefinitionError: Only one free symbol is allowed in symP_k\n",
      "Passed!\n",
      "Testing StructDefinitionError: Interval must consist of numbers\n",
      "Passed!\n",
      "Testing StructDefinitionError: Terms in interval must be strictly increasing\n",
      "Passed!\n",
      "true\n"
     ]
    }
   ],
   "source": [
    "\n",
    "    println(test_symLinearDifferentialOperatorDef(n, 10))\n",
    "end"
   ]
  },
  {
   "cell_type": "code",
   "execution_count": 60,
   "metadata": {},
   "outputs": [
    {
     "name": "stdout",
     "output_type": "stream",
     "text": [
      "Test 1\n",
      "Testing definition of SymLinearDifferentialOperator: symP_k are Function\n",
      "Passed!\n",
      "Testing definition of SymLinearDifferentialOperator: symP_k are constant\n",
      "Passed!\n",
      "Testing definition of SymLinearDifferentialOperator: symP_k are SymPy.Sym and Number\n",
      "Passed!\n",
      "Testing StructDefinitionError: symP_k should be SymPy.Sym or Number\n",
      "Passed!\n",
      "Testing StructDefinitionError: Only one free symbol is allowed in symP_k\n",
      "Passed!\n",
      "Testing StructDefinitionError: Interval must consist of numbers\n",
      "Passed!\n",
      "Testing StructDefinitionError: Terms in interval must be strictly increasing\n",
      "Failed!\n",
      "Test 2\n",
      "Testing definition of SymLinearDifferentialOperator: symP_k are Function\n",
      "Passed!\n",
      "Testing definition of SymLinearDifferentialOperator: symP_k are constant\n",
      "Passed!\n",
      "Testing definition of SymLinearDifferentialOperator: symP_k are SymPy.Sym and Number\n",
      "Passed!\n",
      "Testing StructDefinitionError: symP_k should be SymPy.Sym or Number\n",
      "Passed!\n",
      "Testing StructDefinitionError: Only one free symbol is allowed in symP_k\n",
      "Passed!\n",
      "Testing StructDefinitionError: Interval must consist of numbers\n",
      "Passed!\n",
      "Testing StructDefinitionError: Terms in interval must be strictly increasing\n",
      "Failed!\n",
      "Test 3\n",
      "Testing definition of SymLinearDifferentialOperator: symP_k are Function\n",
      "Passed!\n",
      "Testing definition of SymLinearDifferentialOperator: symP_k are constant\n",
      "Passed!\n",
      "Testing definition of SymLinearDifferentialOperator: symP_k are SymPy.Sym and Number\n",
      "Passed!\n",
      "Testing StructDefinitionError: symP_k should be SymPy.Sym or Number\n",
      "Passed!\n",
      "Testing StructDefinitionError: Only one free symbol is allowed in symP_k\n",
      "Passed!\n",
      "Testing StructDefinitionError: Interval must consist of numbers\n",
      "Passed!\n",
      "Testing StructDefinitionError: Terms in interval must be strictly increasing\n",
      "Failed!\n",
      "Test 4\n",
      "Testing definition of SymLinearDifferentialOperator: symP_k are Function\n",
      "Passed!\n",
      "Testing definition of SymLinearDifferentialOperator: symP_k are constant\n",
      "Passed!\n",
      "Testing definition of SymLinearDifferentialOperator: symP_k are SymPy.Sym and Number\n",
      "Passed!\n",
      "Testing StructDefinitionError: symP_k should be SymPy.Sym or Number\n",
      "Passed!\n",
      "Testing StructDefinitionError: Only one free symbol is allowed in symP_k\n",
      "Passed!\n",
      "Testing StructDefinitionError: Interval must consist of numbers\n",
      "Passed!\n",
      "Testing StructDefinitionError: Terms in interval must be strictly increasing\n",
      "Failed!\n",
      "Test 5\n",
      "Testing definition of SymLinearDifferentialOperator: symP_k are Function\n",
      "Passed!\n",
      "Testing definition of SymLinearDifferentialOperator: symP_k are constant\n",
      "Passed!\n",
      "Testing definition of SymLinearDifferentialOperator: symP_k are SymPy.Sym and Number\n",
      "Passed!\n",
      "Testing StructDefinitionError: symP_k should be SymPy.Sym or Number\n",
      "Passed!\n",
      "Testing StructDefinitionError: Only one free symbol is allowed in symP_k\n",
      "Passed!\n",
      "Testing StructDefinitionError: Interval must consist of numbers\n",
      "Passed!\n",
      "Testing StructDefinitionError: Terms in interval must be strictly increasing\n",
      "Failed!\n",
      "Test 6\n",
      "Testing definition of SymLinearDifferentialOperator: symP_k are Function\n",
      "Passed!\n",
      "Testing definition of SymLinearDifferentialOperator: symP_k are constant\n",
      "Passed!\n",
      "Testing definition of SymLinearDifferentialOperator: symP_k are SymPy.Sym and Number\n",
      "Passed!\n",
      "Testing StructDefinitionError: symP_k should be SymPy.Sym or Number\n",
      "Passed!\n",
      "Testing StructDefinitionError: Only one free symbol is allowed in symP_k\n",
      "Passed!\n",
      "Testing StructDefinitionError: Interval must consist of numbers\n",
      "Passed!\n",
      "Testing StructDefinitionError: Terms in interval must be strictly increasing\n",
      "Failed!\n",
      "Test 7\n",
      "Testing definition of SymLinearDifferentialOperator: symP_k are Function\n",
      "Passed!\n",
      "Testing definition of SymLinearDifferentialOperator: symP_k are constant\n",
      "Passed!\n",
      "Testing definition of SymLinearDifferentialOperator: symP_k are SymPy.Sym and Number\n",
      "Passed!\n",
      "Testing StructDefinitionError: symP_k should be SymPy.Sym or Number\n",
      "Passed!\n",
      "Testing StructDefinitionError: Only one free symbol is allowed in symP_k\n",
      "Passed!\n",
      "Testing StructDefinitionError: Interval must consist of numbers\n",
      "Passed!\n",
      "Testing StructDefinitionError: Terms in interval must be strictly increasing\n",
      "Failed!\n",
      "Test 8\n",
      "Testing definition of SymLinearDifferentialOperator: symP_k are Function\n",
      "Passed!\n",
      "Testing definition of SymLinearDifferentialOperator: symP_k are constant\n",
      "Passed!\n",
      "Testing definition of SymLinearDifferentialOperator: symP_k are SymPy.Sym and Number\n",
      "Passed!\n",
      "Testing StructDefinitionError: symP_k should be SymPy.Sym or Number\n",
      "Passed!\n",
      "Testing StructDefinitionError: Only one free symbol is allowed in symP_k\n",
      "Passed!\n",
      "Testing StructDefinitionError: Interval must consist of numbers\n",
      "Passed!\n",
      "Testing StructDefinitionError: Terms in interval must be strictly increasing\n",
      "Failed!\n",
      "Test 9\n",
      "Testing definition of SymLinearDifferentialOperator: symP_k are Function\n",
      "Passed!\n",
      "Testing definition of SymLinearDifferentialOperator: symP_k are constant\n",
      "Passed!\n",
      "Testing definition of SymLinearDifferentialOperator: symP_k are SymPy.Sym and Number\n",
      "Passed!\n",
      "Testing StructDefinitionError: symP_k should be SymPy.Sym or Number\n",
      "Passed!\n",
      "Testing StructDefinitionError: Only one free symbol is allowed in symP_k\n",
      "Passed!\n",
      "Testing StructDefinitionError: Interval must consist of numbers\n",
      "Passed!\n",
      "Testing StructDefinitionError: Terms in interval must be strictly increasing\n",
      "Failed!\n",
      "Test 10\n",
      "Testing definition of SymLinearDifferentialOperator: symP_k are Function\n",
      "Passed!\n",
      "Testing definition of SymLinearDifferentialOperator: symP_k are constant\n",
      "Passed!\n",
      "Testing definition of SymLinearDifferentialOperator: symP_k are SymPy.Sym and Number\n",
      "Passed!\n",
      "Testing StructDefinitionError: symP_k should be SymPy.Sym or Number\n",
      "Passed!\n",
      "Testing StructDefinitionError: Only one free symbol is allowed in symP_k\n",
      "Passed!\n",
      "Testing StructDefinitionError: Interval must consist of numbers\n",
      "Passed!\n",
      "Testing StructDefinitionError: Terms in interval must be strictly increasing\n",
      "Failed!\n",
      "false\n"
     ]
    }
   ],
   "source": [
    "println(test_symLinearDifferentialOperatorDef(3, 10))"
   ]
  },
  {
   "cell_type": "markdown",
   "metadata": {},
   "source": [
    "## `test_LinearDifferentialOperatorDef`"
   ]
  },
  {
   "cell_type": "code",
   "execution_count": 61,
   "metadata": {},
   "outputs": [
    {
     "data": {
      "text/plain": [
       "test_LinearDifferentialOperatorDef (generic function with 1 method)"
      ]
     },
     "execution_count": 61,
     "metadata": {},
     "output_type": "execute_result"
    }
   ],
   "source": [
    "# Test the LinearDifferentialOperator definition\n",
    "function test_LinearDifferentialOperatorDef(n, k)\n",
    "    global results = [true]\n",
    "    global t = symbols(\"t\")\n",
    "    \n",
    "    for counter = 1:k\n",
    "        println(\"Test $counter\")\n",
    "\n",
    "        # Variable p_k\n",
    "        println(\"Testing definition of LinearDifferentialOperator: p_k are Function\")\n",
    "        (pFunctions, symPFunctions, pDerivMatrix, interval_1) = generate_pFunctionsAndSymPFunctions(n; random = false, constant = false)\n",
    "        symL = SymLinearDifferentialOperator(symPFunctions, interval_1, t)\n",
    "        passed = false\n",
    "        try\n",
    "            L = LinearDifferentialOperator(pFunctions, interval_1, symL)\n",
    "            passed = true\n",
    "        catch err\n",
    "            println(\"Failed with $err\")\n",
    "        end\n",
    "        if passed\n",
    "            println(\"Passed!\")\n",
    "        end\n",
    "        append!(results, passed)\n",
    "\n",
    "        # Constant coefficients\n",
    "        println(\"Testing definition of LinearDifferentialOperator: p_k are Constants\")\n",
    "        (pFunctions, symPFunctions, pDerivMatrix, interval_2) = generate_pFunctionsAndSymPFunctions(n; random = false, constant = true)\n",
    "        symL = SymLinearDifferentialOperator(symPFunctions, interval_2, t)\n",
    "        passed = false\n",
    "        try\n",
    "            LinearDifferentialOperator(pFunctions, interval_2, symL)\n",
    "            passed = true\n",
    "        catch err\n",
    "            println(\"Failed with $err\")\n",
    "        end\n",
    "        if passed\n",
    "            println(\"Passed!\")\n",
    "        end\n",
    "        append!(results, passed)\n",
    "\n",
    "        # Mixed coefficients\n",
    "        println(\"Testing definition of LinearDifferentialOperator: p_k are mixed\")\n",
    "        # (pFunctions, symPFunctions, pDerivMatrix) = generate_pFunctionsAndSymPFunctions(n; random = true)\n",
    "        symL = SymLinearDifferentialOperator([1 1 t+1], interval_2, t)\n",
    "        passed = false\n",
    "        try\n",
    "            LinearDifferentialOperator([1 t->1 t->t+1], interval_2, symL)\n",
    "            passed = true\n",
    "        catch err\n",
    "            println(\"Failed with $err\")\n",
    "        end\n",
    "        if passed\n",
    "            println(\"Passed!\")\n",
    "        end\n",
    "        append!(results, passed)\n",
    "\n",
    "        println(\"Testing StructDefinitionError: p_k should be Function or Number\")\n",
    "        pFunctions = hcat(generate_pFunctions(n-1; random = true)[1], [\"str\"])\n",
    "        passed = false\n",
    "        try\n",
    "            LinearDifferentialOperator(['s' 1 1], interval_2, symL)\n",
    "        catch err\n",
    "            if err.msg == \"p_k should be Function or Number\" && (isa(err,StructDefinitionError))\n",
    "                passed = true\n",
    "                println(\"Passed!\")\n",
    "            else\n",
    "                println(\"Failed with $err\")\n",
    "            end\n",
    "        end\n",
    "        if !passed\n",
    "            println(\"Failed!\")\n",
    "        end\n",
    "        append!(results, passed)\n",
    "\n",
    "        println(\"Testing StructDefinitionError: Number of p_k and symP_k do not match\")\n",
    "        symL = SymLinearDifferentialOperator([1 1 t+1], interval_2, t)\n",
    "        passed = false\n",
    "        try\n",
    "            LinearDifferentialOperator([1 t->1], interval_2, symL)\n",
    "        catch err\n",
    "            if err.msg == \"Number of p_k and symP_k do not match\" && (isa(err, StructDefinitionError))\n",
    "                passed = true\n",
    "                println(\"Passed!\")\n",
    "            else\n",
    "                println(\"Failed with $err\")\n",
    "            end\n",
    "        end\n",
    "        if !passed\n",
    "            println(\"Failed!\")\n",
    "        end\n",
    "        append!(results, passed)\n",
    "\n",
    "        println(\"Testing StructDefinitionError: Intervals of L and symL do not match\")\n",
    "        symL = SymLinearDifferentialOperator([1 1 t+1], interval_2, t)\n",
    "        interval_3 = generate_interval(n)\n",
    "        passed = false\n",
    "        try\n",
    "            LinearDifferentialOperator([1 t->1 t->t+1], interval_3, symL)\n",
    "        catch err\n",
    "            if err.msg == \"Intervals of L and symL do not match\" && (isa(err, StructDefinitionError))\n",
    "                passed = true\n",
    "                println(\"Passed!\")\n",
    "            else\n",
    "                println(\"Failed with $err\")\n",
    "            end\n",
    "        end\n",
    "        if !passed\n",
    "            println(\"Failed!\")\n",
    "        end\n",
    "        append!(results, passed)\n",
    "    \n",
    "    end\n",
    "    return all(results)\n",
    "end"
   ]
  },
  {
   "cell_type": "code",
   "execution_count": null,
   "metadata": {},
   "outputs": [
    {
     "name": "stdout",
     "output_type": "stream",
     "text": [
      "Test 1\n",
      "Testing definition of LinearDifferentialOperator: p_k are Function\n",
      "Passed!\n",
      "Testing definition of LinearDifferentialOperator: p_k are Constants\n",
      "Passed!\n",
      "Testing definition of LinearDifferentialOperator: p_k are mixed\n",
      "Passed!\n",
      "Testing StructDefinitionError: p_k should be Function or Number\n",
      "Passed!\n",
      "Testing StructDefinitionError: Number of p_k and symP_k do not match\n",
      "Passed!\n",
      "Testing StructDefinitionError: Intervals of L and symL do not match\n",
      "Passed!\n",
      "Test 2\n",
      "Testing definition of LinearDifferentialOperator: p_k are Function\n",
      "Passed!\n",
      "Testing definition of LinearDifferentialOperator: p_k are Constants\n",
      "Passed!\n",
      "Testing definition of LinearDifferentialOperator: p_k are mixed\n",
      "Passed!\n",
      "Testing StructDefinitionError: p_k should be Function or Number\n",
      "Passed!\n",
      "Testing StructDefinitionError: Number of p_k and symP_k do not match\n",
      "Passed!\n",
      "Testing StructDefinitionError: Intervals of L and symL do not match\n",
      "Passed!\n",
      "Test 3\n",
      "Testing definition of LinearDifferentialOperator: p_k are Function\n",
      "Failed with InterruptException()\n",
      "Testing definition of LinearDifferentialOperator: p_k are Constants\n",
      "Passed!\n",
      "Testing definition of LinearDifferentialOperator: p_k are mixed\n",
      "Passed!\n",
      "Testing StructDefinitionError: p_k should be Function or Number\n",
      "Passed!\n",
      "Testing StructDefinitionError: Number of p_k and symP_k do not match\n",
      "Passed!\n",
      "Testing StructDefinitionError: Intervals of L and symL do not match\n",
      "Passed!\n",
      "Test 4\n",
      "Testing definition of LinearDifferentialOperator: p_k are Function\n",
      "Failed with InterruptException()\n",
      "Testing definition of LinearDifferentialOperator: p_k are Constants\n",
      "Passed!\n",
      "Testing definition of LinearDifferentialOperator: p_k are mixed\n",
      "Passed!\n",
      "Testing StructDefinitionError: p_k should be Function or Number\n",
      "Passed!\n",
      "Testing StructDefinitionError: Number of p_k and symP_k do not match\n",
      "Passed!\n",
      "Testing StructDefinitionError: Intervals of L and symL do not match\n",
      "Passed!\n",
      "Test 5\n",
      "Testing definition of LinearDifferentialOperator: p_k are Function\n",
      "Passed!\n",
      "Testing definition of LinearDifferentialOperator: p_k are Constants\n",
      "Passed!\n",
      "Testing definition of LinearDifferentialOperator: p_k are mixed\n",
      "Passed!\n",
      "Testing StructDefinitionError: p_k should be Function or Number\n",
      "Passed!\n",
      "Testing StructDefinitionError: Number of p_k and symP_k do not match\n",
      "Passed!\n",
      "Testing StructDefinitionError: Intervals of L and symL do not match\n",
      "Passed!\n",
      "Test 6\n",
      "Testing definition of LinearDifferentialOperator: p_k are Function\n",
      "Failed with InterruptException()\n",
      "Testing definition of LinearDifferentialOperator: p_k are Constants\n",
      "Passed!\n",
      "Testing definition of LinearDifferentialOperator: p_k are mixed\n",
      "Passed!\n",
      "Testing StructDefinitionError: p_k should be Function or Number\n",
      "Passed!\n",
      "Testing StructDefinitionError: Number of p_k and symP_k do not match\n",
      "Passed!\n",
      "Testing StructDefinitionError: Intervals of L and symL do not match\n",
      "Passed!\n",
      "Test 7\n",
      "Testing definition of LinearDifferentialOperator: p_k are Function\n",
      "Passed!\n",
      "Testing definition of LinearDifferentialOperator: p_k are Constants\n",
      "Passed!\n",
      "Testing definition of LinearDifferentialOperator: p_k are mixed\n",
      "Passed!\n",
      "Testing StructDefinitionError: p_k should be Function or Number\n",
      "Passed!\n",
      "Testing StructDefinitionError: Number of p_k and symP_k do not match\n",
      "Passed!\n",
      "Testing StructDefinitionError: Intervals of L and symL do not match\n",
      "Passed!\n",
      "Test 8\n",
      "Testing definition of LinearDifferentialOperator: p_k are Function\n",
      "Failed with InterruptException()\n",
      "Testing definition of LinearDifferentialOperator: p_k are Constants\n",
      "Passed!\n",
      "Testing definition of LinearDifferentialOperator: p_k are mixed\n",
      "Failed with InterruptException()\n",
      "Testing StructDefinitionError: p_k should be Function or Number\n",
      "Passed!\n",
      "Testing StructDefinitionError: Number of p_k and symP_k do not match\n",
      "Passed!\n",
      "Testing StructDefinitionError: Intervals of L and symL do not match\n",
      "Passed!\n",
      "Test 9\n",
      "Testing definition of LinearDifferentialOperator: p_k are Function\n",
      "Failed with InterruptException()\n",
      "Testing definition of LinearDifferentialOperator: p_k are Constants\n",
      "Passed!\n",
      "Testing definition of LinearDifferentialOperator: p_k are mixed\n",
      "Passed!\n",
      "Testing StructDefinitionError: p_k should be Function or Number\n",
      "Passed!\n",
      "Testing StructDefinitionError: Number of p_k and symP_k do not match\n",
      "Passed!\n",
      "Testing StructDefinitionError: Intervals of L and symL do not match\n",
      "Passed!\n",
      "Test 10\n",
      "Testing definition of LinearDifferentialOperator: p_k are Function\n",
      "Failed with InterruptException()\n",
      "Testing definition of LinearDifferentialOperator: p_k are Constants\n",
      "Passed!\n",
      "Testing definition of LinearDifferentialOperator: p_k are mixed\n",
      "Passed!\n",
      "Testing StructDefinitionError: p_k should be Function or Number\n",
      "Passed!\n",
      "Testing StructDefinitionError: Number of p_k and symP_k do not match\n",
      "Passed!\n",
      "Testing StructDefinitionError: Intervals of L and symL do not match\n",
      "Passed!\n",
      "false\n",
      "Test 1\n",
      "Testing definition of LinearDifferentialOperator: p_k are Function\n",
      "Passed!\n",
      "Testing definition of LinearDifferentialOperator: p_k are Constants\n",
      "Passed!\n",
      "Testing definition of LinearDifferentialOperator: p_k are mixed\n",
      "Passed!\n",
      "Testing StructDefinitionError: p_k should be Function or Number\n",
      "Passed!\n",
      "Testing StructDefinitionError: Number of p_k and symP_k do not match\n",
      "Passed!\n",
      "Testing StructDefinitionError: Intervals of L and symL do not match\n",
      "Passed!\n",
      "Test 2\n",
      "Testing definition of LinearDifferentialOperator: p_k are Function\n",
      "Passed!\n",
      "Testing definition of LinearDifferentialOperator: p_k are Constants\n",
      "Passed!\n",
      "Testing definition of LinearDifferentialOperator: p_k are mixed\n"
     ]
    }
   ],
   "source": [
    "for n = 1:10\n",
    "    println(test_LinearDifferentialOperatorDef(n, 10))\n",
    "end"
   ]
  },
  {
   "cell_type": "code",
   "execution_count": null,
   "metadata": {
    "collapsed": true
   },
   "outputs": [],
   "source": [
    "3"
   ]
  },
  {
   "cell_type": "markdown",
   "metadata": {},
   "source": [
    "## `test_vectorBoundaryFormDef`"
   ]
  },
  {
   "cell_type": "code",
   "execution_count": 854,
   "metadata": {},
   "outputs": [
    {
     "data": {
      "text/plain": [
       "test_VectorMultiBoundaryFormDef (generic function with 1 method)"
      ]
     },
     "execution_count": 854,
     "metadata": {},
     "output_type": "execute_result"
    }
   ],
   "source": [
    "# Test the VectorBoundaryForm definition\n",
    "function test_VectorMultiBoundaryFormDef(n, k)\n",
    "    global results = [true]\n",
    "    if n == 1\n",
    "        n = 2\n",
    "    end\n",
    "    for counter = 1:k\n",
    "        println(\"Test $counter\")\n",
    "        \n",
    "        println(\"Testing the definition of VectorBoundaryForm\")\n",
    "        interval_1 = generate_interval(n)\n",
    "        m = length(interval_1) - 1\n",
    "        M = Array{Any}(undef, 1, m)\n",
    "        N = Array{Any}(undef, 1, m)\n",
    "        for j=1:m\n",
    "            MRe = rand(Uniform(1.0,10.0), n, n)\n",
    "            MIm = rand(Uniform(1.0,10.0), n, n)\n",
    "            M_j = MRe + MIm*im\n",
    "            M[j] = M_j\n",
    "            NRe = rand(Uniform(1.0,10.0), n, n)\n",
    "            NIm = rand(Uniform(1.0,10.0), n, n)\n",
    "            N_j = NRe + NIm*im\n",
    "            N[j] = N_j\n",
    "        end\n",
    "        passed = false\n",
    "        try\n",
    "            VectorMultiBoundaryForm(M, N)\n",
    "            passed = true\n",
    "        catch err\n",
    "            println(\"Failed with $err\")\n",
    "        end\n",
    "        if passed\n",
    "            println(\"Passed!\")\n",
    "        end\n",
    "        append!(results, passed)\n",
    "\n",
    "        println(\"Testing StructDefinitionError: Entries of M_i, N_i should be Number\")\n",
    "        interval_2 = generate_interval(n)\n",
    "        m = length(interval_2) - 1\n",
    "        M = Array{Any}(undef, 1, m)\n",
    "        N = Array{Any}(undef, 1, m)\n",
    "        for j=1:m\n",
    "            MRe = rand(Uniform(1.0,10.0), n, n)\n",
    "            MIm = rand(Uniform(1.0,10.0), n, n)\n",
    "            M_j = MRe + MIm*im\n",
    "            M_j = convert(Array{Any}, M_j)\n",
    "            M_j[j,j] = \"str\"\n",
    "            M[j] = M_j\n",
    "            NRe = rand(Uniform(1.0,10.0), n, n)\n",
    "            NIm = rand(Uniform(1.0,10.0), n, n)\n",
    "            N_j = NRe + NIm*im\n",
    "            N_j = convert(Array{Any}, N_j)\n",
    "            N_j[j,j] = \"str\"\n",
    "            N[j] = N_j\n",
    "        end\n",
    "        passed = false\n",
    "        try\n",
    "            VectorMultiBoundaryForm(M, N)\n",
    "        catch err\n",
    "            if err.msg == \"Entries of M_i, N_i should be Number\" && isa(err, StructDefinitionError)\n",
    "                passed = true\n",
    "                println(\"Passed!\")\n",
    "            else\n",
    "                println(\"Failed with $err\")\n",
    "            end\n",
    "        end\n",
    "        if !passed\n",
    "            println(\"Failed!\")\n",
    "        end\n",
    "        append!(results, passed)\n",
    "\n",
    "        println(\"Testing StructDefinitionError: M_i, N_i dimensions do not match\")\n",
    "        interval_3 = generate_interval(n)\n",
    "        m = length(interval_3) - 1\n",
    "        M = Array{Any}(undef, 1, m)\n",
    "        N = Array{Any}(undef, 1, m)\n",
    "        for j=1:m\n",
    "            MRe = rand(Uniform(1.0,10.0), n, n-1)\n",
    "            MIm = rand(Uniform(1.0,10.0), n, n-1)\n",
    "            M_j = MRe + MIm*im\n",
    "            M[j] = M_j\n",
    "            NRe = rand(Uniform(1.0,10.0), n, n)\n",
    "            NIm = rand(Uniform(1.0,10.0), n, n)\n",
    "            N_j = NRe + NIm*im\n",
    "            N[j] = N_j\n",
    "        end\n",
    "        passed = false\n",
    "        try\n",
    "            VectorMultiBoundaryForm(M, N)\n",
    "        catch err\n",
    "            if err.msg == \"M_i, N_i dimensions do not match\" && isa(err,StructDefinitionError)\n",
    "                passed = true\n",
    "                println(\"Passed!\")\n",
    "            else\n",
    "                println(\"Failed with $err\")\n",
    "            end\n",
    "        end\n",
    "        if !passed\n",
    "            println(\"Failed!\")\n",
    "        end\n",
    "        append!(results, passed)\n",
    "\n",
    "        println(\"Testing StructDefinitionError: M_i, N_i should be square matrices\")\n",
    "        interval_4 = generate_interval(n)\n",
    "        m = length(interval_4) - 1\n",
    "        M = Array{Any}(undef, 1, m)\n",
    "        N = Array{Any}(undef, 1, m)\n",
    "        for j=1:m\n",
    "            MRe = rand(Uniform(1.0,10.0), n, n-1)\n",
    "            MIm = rand(Uniform(1.0,10.0), n, n-1)\n",
    "            M_j = MRe + MIm*im\n",
    "            M[j] = M_j\n",
    "            NRe = rand(Uniform(1.0,10.0), n, n-1)\n",
    "            NIm = rand(Uniform(1.0,10.0), n, n-1)\n",
    "            N_j = NRe + NIm*im\n",
    "            N[j] = N_j\n",
    "        end\n",
    "        passed = false\n",
    "        try\n",
    "            VectorMultiBoundaryForm(M, N)\n",
    "        catch err\n",
    "            if err.msg == \"M_i, N_i should be square matrices\" && isa(err,StructDefinitionError)\n",
    "                passed = true\n",
    "                println(\"Passed!\")\n",
    "            else\n",
    "                println(\"Failed with $err\")\n",
    "            end\n",
    "        end\n",
    "        if !passed\n",
    "            println(\"Failed!\")\n",
    "        end\n",
    "        append!(results, passed)\n",
    "\n",
    "        println(\"Testing StructDefinitionError: Boundary operators not linearly independent\")\n",
    "        \n",
    "        interval_5 = generate_interval(n)\n",
    "        m = length(interval_5) - 1\n",
    "        M = Array{Any}(undef, 1, m)\n",
    "        N = Array{Any}(undef, 1, m)\n",
    "        for j=1:m\n",
    "            M[j] = rank_def(n)\n",
    "            N[j] = M[j]\n",
    "        end\n",
    "        passed = false\n",
    "        try\n",
    "            VectorMultiBoundaryForm(M, N)\n",
    "        catch err\n",
    "            if err.msg == \"Boundary operators not linearly independent\" && isa(err,StructDefinitionError)\n",
    "                passed = true\n",
    "                    println(\"Passed!\")\n",
    "                else\n",
    "                    println(\"Failed with $err\")\n",
    "                end\n",
    "            end\n",
    "        if !passed\n",
    "            println(\"Failed!\")\n",
    "        end\n",
    "        append!(results, passed)\n",
    "    end\n",
    "\n",
    "    return all(results)\n",
    "end"
   ]
  },
  {
   "cell_type": "code",
   "execution_count": 842,
   "metadata": {},
   "outputs": [
    {
     "name": "stdout",
     "output_type": "stream",
     "text": [
      "Test 1\n",
      "Testing the definition of VectorBoundaryForm\n",
      "Passed!\n",
      "Testing StructDefinitionError: Entries of M_i, N_i should be Number\n"
     ]
    },
    {
     "ename": "BoundsError",
     "evalue": "BoundsError: attempt to access 1×1 Array{Any,2} at index [2, 2]",
     "output_type": "error",
     "traceback": [
      "BoundsError: attempt to access 1×1 Array{Any,2} at index [2, 2]",
      "",
      "Stacktrace:",
      " [1] setindex! at ./array.jl:769 [inlined]",
      " [2] test_VectorMultiBoundaryFormDef(::Int64, ::Int64) at ./In[841]:47",
      " [3] top-level scope at ./In[842]:2"
     ]
    }
   ],
   "source": [
    "for n = 1:10\n",
    "    println(test_VectorMultiBoundaryFormDef(n, 10))\n",
    "end"
   ]
  }
 ],
 "metadata": {
  "kernelspec": {
   "display_name": "Julia 1.1.1",
   "language": "julia",
   "name": "julia-1.1"
  },
  "language_info": {
   "file_extension": ".jl",
   "mimetype": "application/julia",
   "name": "julia",
   "version": "1.1.1"
  },
  "toc": {
   "base_numbering": 1,
   "nav_menu": {},
   "number_sections": true,
   "sideBar": true,
   "skip_h1_title": false,
   "title_cell": "Table of Contents",
   "title_sidebar": "Contents",
   "toc_cell": false,
   "toc_position": {
    "height": "calc(100% - 180px)",
    "left": "10px",
    "top": "150px",
    "width": "165px"
   },
   "toc_section_display": true,
   "toc_window_display": false
  }
 },
 "nbformat": 4,
 "nbformat_minor": 2
}
