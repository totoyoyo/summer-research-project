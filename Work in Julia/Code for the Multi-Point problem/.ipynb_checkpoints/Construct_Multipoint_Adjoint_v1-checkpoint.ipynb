{
 "cells": [
  {
   "cell_type": "markdown",
   "metadata": {},
   "source": [
    "Construction of the adjoint multipoint problem in Julia v1\n",
    "\n",
    "* Date created: June 13, 2019\n",
    "* Name: Sultan Aitzhan\n",
    "* Description: The construction of the multipoint adjoint is encoded and the test functions in the spirit of \\textit{Construct_Adjoint_v1.ipynb} are implemented.\n",
    "* Latest update: August 4, 2019"
   ]
  },
  {
   "cell_type": "markdown",
   "metadata": {
    "heading_collapsed": true
   },
   "source": [
    "# Importing packages and modules"
   ]
  },
  {
   "cell_type": "code",
   "execution_count": 1,
   "metadata": {
    "hidden": true
   },
   "outputs": [],
   "source": [
    "using SymPy\n",
    "using Distributions\n",
    "using ApproxFun\n",
    "import LinearAlgebra"
   ]
  },
  {
   "cell_type": "markdown",
   "metadata": {
    "heading_collapsed": true
   },
   "source": [
    "# Global variables"
   ]
  },
  {
   "cell_type": "code",
   "execution_count": 2,
   "metadata": {
    "hidden": true
   },
   "outputs": [
    {
     "data": {
      "text/plain": [
       "10"
      ]
     },
     "execution_count": 2,
     "metadata": {},
     "output_type": "execute_result"
    }
   ],
   "source": [
    "TOL = 1e-05\n",
    "DIGITS = 3\n",
    "INFTY = 10"
   ]
  },
  {
   "cell_type": "markdown",
   "metadata": {
    "heading_collapsed": true
   },
   "source": [
    "# Helper functions\n",
    "Most of the functions from this section are copy-and-pasted from $\\textit{The_Fokas_Method_documentation_v1.ipynb}.$ Thus, the explanations and examples are mostly omitted."
   ]
  },
  {
   "cell_type": "markdown",
   "metadata": {
    "heading_collapsed": true,
    "hidden": true
   },
   "source": [
    "## `check_all(array, condition)`"
   ]
  },
  {
   "cell_type": "code",
   "execution_count": 3,
   "metadata": {
    "hidden": true
   },
   "outputs": [
    {
     "data": {
      "text/plain": [
       "check_all (generic function with 1 method)"
      ]
     },
     "execution_count": 3,
     "metadata": {},
     "output_type": "execute_result"
    }
   ],
   "source": [
    "function check_all(array, condition)\n",
    "    for x in array\n",
    "        if !condition(x)\n",
    "            return false\n",
    "        end\n",
    "    end\n",
    "    return true\n",
    "end"
   ]
  },
  {
   "cell_type": "markdown",
   "metadata": {
    "heading_collapsed": true,
    "hidden": true
   },
   "source": [
    "## `set_tol(x, y)`"
   ]
  },
  {
   "cell_type": "code",
   "execution_count": 4,
   "metadata": {
    "hidden": true
   },
   "outputs": [
    {
     "data": {
      "text/plain": [
       "set_tol (generic function with 1 method)"
      ]
     },
     "execution_count": 4,
     "metadata": {},
     "output_type": "execute_result"
    }
   ],
   "source": [
    "function set_tol(x::Union{Number, Array}, y::Union{Number, Array}; atol = TOL)\n",
    "    if isa(x, Number) && isa(y, Number)\n",
    "       return atol * mean([x y])\n",
    "    elseif isa(x, Array) && isa(y, Array)\n",
    "        if size(x) != size(y)\n",
    "            throw(error(\"Array dimensions do not match\"))\n",
    "        end\n",
    "        # Avoid InexactError() when taking norm()\n",
    "        x = convert(Array{Complex}, x)\n",
    "        y = convert(Array{Complex}, y)\n",
    "        return atol * (LinearAlgebra.norm(x) + LinearAlgebra.norm(y))\n",
    "    else\n",
    "        throw(error(\"Invalid input\"))\n",
    "    end\n",
    "end"
   ]
  },
  {
   "cell_type": "markdown",
   "metadata": {
    "heading_collapsed": true,
    "hidden": true
   },
   "source": [
    "## `evaluate(func, a)`"
   ]
  },
  {
   "cell_type": "code",
   "execution_count": 5,
   "metadata": {
    "hidden": true
   },
   "outputs": [
    {
     "data": {
      "text/plain": [
       "evaluate (generic function with 1 method)"
      ]
     },
     "execution_count": 5,
     "metadata": {},
     "output_type": "execute_result"
    }
   ],
   "source": [
    "function evaluate(func::Union{Function, SymPy.Sym, Number}, a::Number)\n",
    "    if isa(func, Function)\n",
    "        funcA = func(a)\n",
    "    elseif isa(func, SymPy.Sym) # SymPy.Sym must come before Number because SymPy.Sym will be recognized as Number\n",
    "        freeSymbols = free_symbols(func)\n",
    "        if length(freeSymbols) > 1\n",
    "            throw(error(\"func should be univariate\"))\n",
    "        elseif length(freeSymbols) == 1\n",
    "            t = free_symbols(func)[1,1]\n",
    "            if isa(a, SymPy.Sym) # if x is SymPy.Sym, do not convert result to Number to preserve pretty printing\n",
    "                funcA = subs(func, t, a)\n",
    "            else\n",
    "                funcA = SymPy.N(subs(func, t, a))\n",
    "            end\n",
    "        else\n",
    "            funcA = func\n",
    "        end\n",
    "    else # func is Number\n",
    "        funcA = func\n",
    "    end\n",
    "    return funcA\n",
    "end"
   ]
  },
  {
   "cell_type": "markdown",
   "metadata": {
    "heading_collapsed": true,
    "hidden": true
   },
   "source": [
    "## `partition(n)`"
   ]
  },
  {
   "cell_type": "code",
   "execution_count": 6,
   "metadata": {
    "hidden": true
   },
   "outputs": [
    {
     "data": {
      "text/plain": [
       "partition (generic function with 1 method)"
      ]
     },
     "execution_count": 6,
     "metadata": {},
     "output_type": "execute_result"
    }
   ],
   "source": [
    "function partition(n::Int)\n",
    "    output = []\n",
    "    for i = 0:n\n",
    "        j = n - i\n",
    "        push!(output, (i,j))\n",
    "    end\n",
    "    return output\n",
    "end"
   ]
  },
  {
   "cell_type": "markdown",
   "metadata": {
    "heading_collapsed": true,
    "hidden": true
   },
   "source": [
    "## `get_deriv(u, k)`"
   ]
  },
  {
   "cell_type": "code",
   "execution_count": 7,
   "metadata": {
    "hidden": true
   },
   "outputs": [
    {
     "data": {
      "text/plain": [
       "get_deriv (generic function with 1 method)"
      ]
     },
     "execution_count": 7,
     "metadata": {},
     "output_type": "execute_result"
    }
   ],
   "source": [
    "function get_deriv(u::Union{SymPy.Sym, Number}, k::Int)\n",
    "    if k < 0\n",
    "        throw(error(\"Non-negative k required\"))\n",
    "    end\n",
    "    if isa(u, SymPy.Sym)\n",
    "        freeSymbols = free_symbols(u)\n",
    "        if length(freeSymbols) > 1\n",
    "            throw(error(\"u should be univariate\"))\n",
    "        elseif length(freeSymbols) == 1\n",
    "            t = freeSymbols[1]\n",
    "            y = u\n",
    "            for i = 1:k\n",
    "                newY = diff(y, t) # diff is from SymPy\n",
    "                y = newY\n",
    "            end\n",
    "            return y\n",
    "        else\n",
    "            if k > 0\n",
    "                return 0\n",
    "            else\n",
    "                return u\n",
    "            end\n",
    "        end\n",
    "    else\n",
    "        if k > 0\n",
    "            return 0\n",
    "        else\n",
    "            return u\n",
    "        end\n",
    "    end\n",
    "end"
   ]
  },
  {
   "cell_type": "markdown",
   "metadata": {
    "heading_collapsed": true,
    "hidden": true
   },
   "source": [
    "## `add_func(f, g)`"
   ]
  },
  {
   "cell_type": "code",
   "execution_count": 8,
   "metadata": {
    "hidden": true
   },
   "outputs": [
    {
     "data": {
      "text/plain": [
       "add_func (generic function with 1 method)"
      ]
     },
     "execution_count": 8,
     "metadata": {},
     "output_type": "execute_result"
    }
   ],
   "source": [
    "# Function addition (f + g)(x) := f(x) + g(x)\n",
    "function add_func(f::Union{Number, Function}, g::Union{Number, Function})\n",
    "    function h(x)\n",
    "        if isa(f, Number)\n",
    "            if isa(g, Number)\n",
    "                return f + g\n",
    "            else\n",
    "                return f + g(x)\n",
    "            end\n",
    "        elseif isa(f, Function)\n",
    "            if isa(g, Number)\n",
    "                return f(x) + g\n",
    "            else\n",
    "                return f(x) + g(x)\n",
    "            end\n",
    "        end\n",
    "    end\n",
    "    return h\n",
    "end"
   ]
  },
  {
   "cell_type": "markdown",
   "metadata": {
    "heading_collapsed": true,
    "hidden": true
   },
   "source": [
    "## `mult_func(f, g)`"
   ]
  },
  {
   "cell_type": "code",
   "execution_count": 9,
   "metadata": {
    "hidden": true
   },
   "outputs": [
    {
     "data": {
      "text/plain": [
       "mult_func (generic function with 1 method)"
      ]
     },
     "execution_count": 9,
     "metadata": {},
     "output_type": "execute_result"
    }
   ],
   "source": [
    "# Function multiplication (f * g)(x) := f(x) * g(x)\n",
    "function mult_func(f::Union{Number, Function}, g::Union{Number, Function})\n",
    "    function h(x)\n",
    "        if isa(f, Number)\n",
    "            if isa(g, Number)\n",
    "                return f * g\n",
    "            else\n",
    "                return f * g(x)\n",
    "            end\n",
    "        elseif isa(f, Function)\n",
    "            if isa(g, Number)\n",
    "                return f(x) * g\n",
    "            else\n",
    "                return f(x) * g(x)\n",
    "            end\n",
    "        end\n",
    "    end\n",
    "    return h\n",
    "end"
   ]
  },
  {
   "cell_type": "markdown",
   "metadata": {
    "heading_collapsed": true,
    "hidden": true
   },
   "source": [
    "## `sym_to_func(sym)`"
   ]
  },
  {
   "cell_type": "code",
   "execution_count": 10,
   "metadata": {
    "hidden": true
   },
   "outputs": [
    {
     "data": {
      "text/plain": [
       "sym_to_func (generic function with 1 method)"
      ]
     },
     "execution_count": 10,
     "metadata": {},
     "output_type": "execute_result"
    }
   ],
   "source": [
    "function sym_to_func(sym::Union{SymPy.Sym, Number})\n",
    "    try\n",
    "        freeSymbols = free_symbols(sym)\n",
    "        if length(freeSymbols) > 1\n",
    "            throw(error(\"sym should be univariate\"))\n",
    "        else\n",
    "            function func(x)\n",
    "                if length(freeSymbols) == 0\n",
    "                    result = SymPy.N(sym)\n",
    "                else\n",
    "                    result = SymPy.N(subs(sym, freeSymbols[1], x))\n",
    "                end\n",
    "                return result\n",
    "            end\n",
    "            return func\n",
    "        end\n",
    "    catch\n",
    "        function func(x)\n",
    "            return sym\n",
    "        end\n",
    "        return func\n",
    "    end\n",
    "end"
   ]
  },
  {
   "cell_type": "markdown",
   "metadata": {
    "heading_collapsed": true,
    "hidden": true
   },
   "source": [
    "## `get_polynomial(coeffs)`\n",
    "Implement a polynomial in the form of Julia function given an array containing coefficients of $x^n, x^{n-1},..., x^2, x, 1.$\n"
   ]
  },
  {
   "cell_type": "code",
   "execution_count": 11,
   "metadata": {
    "hidden": true
   },
   "outputs": [
    {
     "data": {
      "text/plain": [
       "get_polynomial (generic function with 1 method)"
      ]
     },
     "execution_count": 11,
     "metadata": {},
     "output_type": "execute_result"
    }
   ],
   "source": [
    "function get_polynomial(coeffList::Array)\n",
    "    polynomial = 0\n",
    "    n = length(coeffList)-1\n",
    "    for i in 0:n\n",
    "        newTerm = t -> coeffList[i+1] * t^(n-i)\n",
    "        polynomial = add_func(polynomial, newTerm)\n",
    "    end\n",
    "    return polynomial\n",
    "end"
   ]
  },
  {
   "cell_type": "markdown",
   "metadata": {
    "heading_collapsed": true,
    "hidden": true
   },
   "source": [
    "## `get_polynomialDeriv(coeffs, k)`\n",
    "Get the $k$-th derivative of a polynomial implemented above."
   ]
  },
  {
   "cell_type": "code",
   "execution_count": 12,
   "metadata": {
    "hidden": true
   },
   "outputs": [
    {
     "data": {
      "text/plain": [
       "get_polynomialDeriv (generic function with 1 method)"
      ]
     },
     "execution_count": 12,
     "metadata": {},
     "output_type": "execute_result"
    }
   ],
   "source": [
    "function get_polynomialDeriv(coeffList::Array, k::Int)\n",
    "    if k < 0\n",
    "        throw(error(\"Only nonnegative degrees are allowed\"))\n",
    "    elseif k == 0\n",
    "        newCoeffList = coeffList\n",
    "    else\n",
    "        for counter = 1:k\n",
    "            n = length(coeffList)\n",
    "            newCoeffList = hcat([0],[(n-i)*coeffList[i] for i in 1:(n-1)]')\n",
    "            coeffList = newCoeffList\n",
    "        end\n",
    "    end\n",
    "    return get_polynomial(newCoeffList)\n",
    "end"
   ]
  },
  {
   "cell_type": "markdown",
   "metadata": {
    "heading_collapsed": true,
    "hidden": true
   },
   "source": [
    "## `prettyRound(x, digits)`"
   ]
  },
  {
   "cell_type": "code",
   "execution_count": 13,
   "metadata": {
    "hidden": true
   },
   "outputs": [
    {
     "data": {
      "text/plain": [
       "prettyRound (generic function with 1 method)"
      ]
     },
     "execution_count": 13,
     "metadata": {},
     "output_type": "execute_result"
    }
   ],
   "source": [
    "function prettyRound(x::Number; digs::Int = DIGITS)\n",
    "    if isa(x, Int)\n",
    "        return x\n",
    "    elseif isa(x, Real)\n",
    "        if isa(x, Rational) || isa(x, Irrational) # If x is rational or irrational numbers like e, pi\n",
    "            return x\n",
    "        elseif round(abs(x); digits = digs) == floor(abs(x))\n",
    "            return Int(round(x))\n",
    "        else\n",
    "            return round(x; digits = digs)\n",
    "        end\n",
    "    elseif isa(x, Complex)\n",
    "        roundedReal = prettyRound(real(x); digs = digs)\n",
    "        roundedComplex = prettyRound(imag(x); digs = digs)\n",
    "        return roundedReal + im*roundedComplex\n",
    "    else\n",
    "        return round(x; digits = digs)\n",
    "    end\n",
    "end"
   ]
  },
  {
   "cell_type": "markdown",
   "metadata": {
    "heading_collapsed": true,
    "hidden": true
   },
   "source": [
    "## `prettyPrint(x)`"
   ]
  },
  {
   "cell_type": "code",
   "execution_count": 14,
   "metadata": {
    "hidden": true
   },
   "outputs": [
    {
     "data": {
      "text/plain": [
       "prettyPrint (generic function with 1 method)"
      ]
     },
     "execution_count": 14,
     "metadata": {},
     "output_type": "execute_result"
    }
   ],
   "source": [
    "function prettyPrint(x::Union{Number, SymPy.Sym})\n",
    "    expr = x\n",
    "    if isa(expr, SymPy.Sym)\n",
    "        prettyExpr = expr\n",
    "        for a in sympy.preorder_traversal(expr)\n",
    "            if length(free_symbols(a)) == 0 && length(a.args) == 0\n",
    "                if !(a in [sympy.E, PI]) && length(intersect(a.args, [sympy.E, PI])) == 0 # keep the transcendental numbers as symbols\n",
    "                    prettyA = prettyRound.(SymPy.N(a))\n",
    "                    prettyExpr = subs(prettyExpr, (a, prettyA))\n",
    "                end\n",
    "            end\n",
    "        end\n",
    "    else\n",
    "        prettyExpr = prettyRound.(expr)\n",
    "        prettyExpr = convert(SymPy.Sym, prettyExpr)\n",
    "    end\n",
    "    return prettyExpr\n",
    "end"
   ]
  },
  {
   "cell_type": "code",
   "execution_count": 15,
   "metadata": {
    "hidden": true
   },
   "outputs": [
    {
     "data": {
      "text/latex": [
       "\\begin{equation*}\\frac{t}{3} + e^{2 t} + \\frac{1}{6} + \\sqrt{2} + \\frac{\\pi}{2} + 1.0 i\\end{equation*}"
      ],
      "text/plain": [
       "t    2⋅t   1        π        \n",
       "─ + ℯ    + ─ + √2 + ─ + 1.0⋅ⅈ\n",
       "3          6        2        "
      ]
     },
     "execution_count": 15,
     "metadata": {},
     "output_type": "execute_result"
    }
   ],
   "source": [
    "t = symbols(\"t\")\n",
    "x = 1//3*t + (sympy.E)^(2t) + PI/2 + 1.00001*im + sympy.sqrt(2) + 1//6\n",
    "prettyPrint(x)"
   ]
  },
  {
   "cell_type": "code",
   "execution_count": 16,
   "metadata": {
    "hidden": true
   },
   "outputs": [
    {
     "data": {
      "text/latex": [
       "\\[\\left[ \\begin{array}{rr}\\frac{t}{3}&\\pi\\\\\\frac{t^{2}}{6} + t&1\\end{array}\\right]\\]"
      ],
      "text/plain": [
       "2×2 Array{Sym,2}:\n",
       "       t/3  pi\n",
       " t^2/6 + t   1"
      ]
     },
     "execution_count": 16,
     "metadata": {},
     "output_type": "execute_result"
    }
   ],
   "source": [
    "t = symbols(\"t\")\n",
    "x = [1//3*t PI; 1//6*t^2+t 1]\n",
    "prettyPrint.(x)"
   ]
  },
  {
   "cell_type": "code",
   "execution_count": 17,
   "metadata": {
    "hidden": true
   },
   "outputs": [
    {
     "data": {
      "text/latex": [
       "\\[\\left[ \\begin{array}{rrrr}i&1&-1&- i\\end{array}\\right]\\]"
      ],
      "text/plain": [
       "1×4 Array{Sym,2}:\n",
       " I  1  -1  -I"
      ]
     },
     "execution_count": 17,
     "metadata": {},
     "output_type": "execute_result"
    }
   ],
   "source": [
    "x = [0.0+1.0*im 1.0+0.0*im -1.0+0.0*im 0.0-1.0*im]\n",
    "prettyPrint.(x)"
   ]
  },
  {
   "cell_type": "markdown",
   "metadata": {
    "heading_collapsed": true,
    "hidden": true
   },
   "source": [
    "## `array_hcat_helper(MM, NN)`\n",
    "Given two arrays of matrices\n",
    "$$\n",
    "\\begin{pmatrix}\n",
    "M[1], M[2], \\ldots, M[k]\n",
    "\\end{pmatrix}\n",
    "\\mbox{ and }\n",
    "\\begin{pmatrix}\n",
    "N[1], N[2], \\ldots, N[k]\n",
    "\\end{pmatrix}\n",
    "$$\n",
    "creates the following matrix:\n",
    "$$\n",
    "\\begin{bmatrix}\n",
    "M[1] & N[1] & M[2] & N[2] & \\ldots & M[k] & N[k]\n",
    "\\end{bmatrix}.\n",
    "$$"
   ]
  },
  {
   "cell_type": "code",
   "execution_count": 15,
   "metadata": {
    "hidden": true
   },
   "outputs": [
    {
     "data": {
      "text/plain": [
       "array_hcat_helper (generic function with 1 method)"
      ]
     },
     "execution_count": 15,
     "metadata": {},
     "output_type": "execute_result"
    }
   ],
   "source": [
    "function array_hcat_helper(matr1, matr2)\n",
    "    j = size(matr1[1])[2]\n",
    "    k = size(matr1[1])[1]\n",
    "    arr = convert(Array{Complex}, Array{Float64}(undef, size(matr1[1])[1], 2k)) # Avoid InexactError\n",
    "    t = 0\n",
    "    for i=1:length(matr1)\n",
    "        arr[1:k, (t*j+1):(t+1)*j] = matr1[i]\n",
    "        arr[1:k, ((t+1)*j+1):(t+2)*j] = matr2[i]\n",
    "        t +=2\n",
    "    end\n",
    "    return arr\n",
    "end"
   ]
  },
  {
   "cell_type": "markdown",
   "metadata": {
    "hidden": true
   },
   "source": [
    "**Parameters**\n",
    "* `MM`: `Array`\n",
    "    * Input array whose first entry will be the first entry of the new matrix.\n",
    "* `NN`: `Array`\n",
    "    * Input array whose last entry will be the last entry of the new matrix.\n",
    "\n",
    "**Returns**\n",
    "* `array_hcat_helper`: `Array`\n",
    "    * Return the new matrix as described.\n",
    "    \n",
    "**Example**"
   ]
  },
  {
   "cell_type": "code",
   "execution_count": 19,
   "metadata": {
    "hidden": true
   },
   "outputs": [
    {
     "data": {
      "text/plain": [
       "2-element Array{Array{Float64,2},1}:\n",
       " [3.0 7.0; 0.0 3.0; 3.0 0.0; 2.0 2.0] \n",
       " [1.0 0.0; 0.0 10.0; 0.0 0.0; 2.0 3.0]"
      ]
     },
     "execution_count": 19,
     "metadata": {},
     "output_type": "execute_result"
    }
   ],
   "source": [
    "M1 = [1. 2.; 1. 0.; 3. 4.; 0. 2.]\n",
    "M2 = [1. 0.; 0. 2.; 1. 1.; 3. 3.]\n",
    "M = [M1, M2]\n",
    "N1 = [3. 7.; 0. 3.; 3. 0.; 2. 2.]\n",
    "N2 = [1. 0.; 0. 10.; 0. 0.; 2. 3.]\n",
    "N = [N1, N2]"
   ]
  },
  {
   "cell_type": "code",
   "execution_count": 20,
   "metadata": {
    "hidden": true
   },
   "outputs": [
    {
     "data": {
      "text/plain": [
       "4×8 Array{Complex,2}:\n",
       " 1.0+0.0im  2.0+0.0im  3.0+0.0im  …  0.0+0.0im  1.0+0.0im   0.0+0.0im\n",
       " 1.0+0.0im  0.0+0.0im  0.0+0.0im     2.0+0.0im  0.0+0.0im  10.0+0.0im\n",
       " 3.0+0.0im  4.0+0.0im  3.0+0.0im     1.0+0.0im  0.0+0.0im   0.0+0.0im\n",
       " 0.0+0.0im  2.0+0.0im  2.0+0.0im     3.0+0.0im  2.0+0.0im   3.0+0.0im"
      ]
     },
     "execution_count": 20,
     "metadata": {},
     "output_type": "execute_result"
    }
   ],
   "source": [
    "array_hcat_helper(M, N)"
   ]
  },
  {
   "cell_type": "markdown",
   "metadata": {
    "heading_collapsed": true,
    "hidden": true
   },
   "source": [
    "## `checker_matrix(matr1, matr2, tol)`\n",
    "\n",
    "Given two matrices and a tolerance, checks whether two matrices are approximately equal, within the tolerance."
   ]
  },
  {
   "cell_type": "code",
   "execution_count": 16,
   "metadata": {
    "hidden": true
   },
   "outputs": [
    {
     "data": {
      "text/plain": [
       "checker_matrix (generic function with 1 method)"
      ]
     },
     "execution_count": 16,
     "metadata": {},
     "output_type": "execute_result"
    }
   ],
   "source": [
    "function checker_matrix(matr1, matr2, tol) \n",
    "    m = size(matr1)[1]\n",
    "    n = size(matr1)[2]\n",
    "    for i=1:m\n",
    "        for j=1:n\n",
    "            if isapprox(matr1[i,j], matr2[i,j]; atol = tol) == false\n",
    "                return false\n",
    "            end\n",
    "        end\n",
    "    end\n",
    "    return true\n",
    "end"
   ]
  },
  {
   "cell_type": "markdown",
   "metadata": {
    "hidden": true
   },
   "source": [
    "**Parameters**\n",
    "* `matr1`: `Array`\n",
    "    * Input matrix.\n",
    "* `matr2`: `Array`\n",
    "    * Input matrix.\n",
    "* `tol`: `Number`\n",
    "    * Given tolerance\n",
    "\n",
    "**Returns**\n",
    "* `checker_matrix`: `Bool`\n",
    "    * Return `false` if two entries are not approximately the same within tolerance, and `true` otherwise.\n",
    "    \n",
    "**Example**"
   ]
  },
  {
   "cell_type": "code",
   "execution_count": 69,
   "metadata": {
    "hidden": true
   },
   "outputs": [
    {
     "data": {
      "text/plain": [
       "true"
      ]
     },
     "execution_count": 69,
     "metadata": {},
     "output_type": "execute_result"
    }
   ],
   "source": [
    "M1 = [1 2; 3 4]\n",
    "M2 = [1 2; 3 4.2]\n",
    "checker_matrix(M1, M2, 0.3)"
   ]
  },
  {
   "cell_type": "code",
   "execution_count": 70,
   "metadata": {
    "hidden": true
   },
   "outputs": [
    {
     "data": {
      "text/plain": [
       "false"
      ]
     },
     "execution_count": 70,
     "metadata": {},
     "output_type": "execute_result"
    }
   ],
   "source": [
    "M1 = [1 2; 3 4]\n",
    "M2 = [1 2; 3 4.2]\n",
    "checker_matrix(M1, M2, 0.1)"
   ]
  },
  {
   "cell_type": "markdown",
   "metadata": {
    "heading_collapsed": true
   },
   "source": [
    "# Structs\n",
    "\n",
    "In this section, we developed the relevant structs. "
   ]
  },
  {
   "cell_type": "markdown",
   "metadata": {
    "heading_collapsed": true,
    "hidden": true
   },
   "source": [
    "## `StructDefinitionError`\n",
    "A struct definition error type is the class of all errors in struct definitions."
   ]
  },
  {
   "cell_type": "code",
   "execution_count": 17,
   "metadata": {
    "hidden": true
   },
   "outputs": [],
   "source": [
    "struct StructDefinitionError <: Exception\n",
    "    msg::String\n",
    "end"
   ]
  },
  {
   "cell_type": "markdown",
   "metadata": {
    "heading_collapsed": true,
    "hidden": true
   },
   "source": [
    "## `SymLinearDifferentialOperator(symPFunctions, interval, t)`"
   ]
  },
  {
   "cell_type": "code",
   "execution_count": 18,
   "metadata": {
    "hidden": true
   },
   "outputs": [],
   "source": [
    "struct SymLinearDifferentialOperator\n",
    "    # Entries in the array should be SymPy.Sym or Number. SymPy.Sym seems to be a subtype of Number, i.e., Array{Union{Number,SymPy.Sym}} returns Array{Number}. But specifying symPFunctions as Array{Number,2} gives a MethodError when the entries are Sympy.Sym objects.\n",
    "    symPFunctions::Array\n",
    "    interval::Tuple\n",
    "    t::SymPy.Sym\n",
    "    SymLinearDifferentialOperator(symPFunctions::Array, interval::Tuple, t::SymPy.Sym) =\n",
    "    try\n",
    "        symL = new(symPFunctions, interval, t)\n",
    "        check_symLinearDifferentialOperator_input(symL)\n",
    "        return symL\n",
    "    catch err\n",
    "        throw(err)\n",
    "    end\n",
    "end"
   ]
  },
  {
   "cell_type": "code",
   "execution_count": 19,
   "metadata": {
    "hidden": true
   },
   "outputs": [
    {
     "data": {
      "text/plain": [
       "check_symLinearDifferentialOperator_input (generic function with 1 method)"
      ]
     },
     "execution_count": 19,
     "metadata": {},
     "output_type": "execute_result"
    }
   ],
   "source": [
    "function check_symLinearDifferentialOperator_input(symL::SymLinearDifferentialOperator)\n",
    "    symPFunctions, interval_tuple, t = symL.symPFunctions, symL.interval, symL.t\n",
    "    for symPFunc in symPFunctions\n",
    "        if isa(symPFunc, SymPy.Sym)\n",
    "            if size(free_symbols(symPFunc)) != (1,) && size(free_symbols(symPFunc)) != (0,)\n",
    "                throw(StructDefinitionError(:\"Only one free symbol is allowed in symP_k\"))\n",
    "            end\n",
    "        elseif !isa(symPFunc, Number)\n",
    "            throw(StructDefinitionError(:\"symP_k should be SymPy.Sym or Number\"))\n",
    "        end\n",
    "    end\n",
    "    for x_i in interval_tuple\n",
    "        if !isa(x_i, Number)\n",
    "            throw(StructDefinitionError(:\"Interval must consist of numbers\"))\n",
    "        end\n",
    "    end\n",
    "    for i=1:length(interval_tuple)-1\n",
    "        if (interval_tuple[i] < interval_tuple[i+1]) == false\n",
    "            throw(StructDefinitionError(:\"Terms in interval must be strictly increasing\"))\n",
    "        end\n",
    "    end\n",
    "    return true\n",
    "end"
   ]
  },
  {
   "cell_type": "markdown",
   "metadata": {
    "hidden": true
   },
   "source": [
    "**Parameters**\n",
    "* `symPFunctions`: `Array` of `SymPy.Sym` or `Number`\n",
    "    * Array $[symP_0, symP_1, \\ldots, symP_n]$ of length $n+1$, corresponding to the symbolic linear differential operator $symL$ of order $n$ given by \n",
    "    $$symLx = symP_0x^{(n)} + symP_1x^{(n-1)} + \\cdots + symP_{n-1}x^{(1)} + symP_n x.$$\n",
    "* `interval`: `Tuple` \n",
    "    * Tuple of $k+1$ numbers $(a=x_0, x_1, \\ldots, x_{k-1}, x_k = b)$ corresponding to the real interval $[a=x_0, x_1, \\ldots, x_{k-1}, x_k = b]$ on which the symbolic differential operator $symL$ is defined. Note that the length of the tuple is not specified in the above, in order to provide flexibility.\n",
    "* `t`: `Sym` \n",
    "    * Free symbol in each entry of `symPFunctions`.\n",
    "\n",
    "**Returns**\n",
    "* `SymLinearDifferentialOperator`\n",
    "    * Returns a `SymLinearDifferentialOperator` of order $n$ with attributes `symPFunctions`, `interval`, and `t`.\n",
    "\n",
    "**Example**"
   ]
  },
  {
   "cell_type": "code",
   "execution_count": 24,
   "metadata": {
    "hidden": true
   },
   "outputs": [
    {
     "data": {
      "text/plain": [
       "SymLinearDifferentialOperator(Sym[1 t + 1 t^2 + t + 1], (0, 0.5, 1), t)"
      ]
     },
     "execution_count": 24,
     "metadata": {},
     "output_type": "execute_result"
    }
   ],
   "source": [
    "t = symbols(\"t\")\n",
    "symPFunctions = [1 t+1 t^2+t+1]\n",
    "interval = (0, 0.5, 1)\n",
    "symL = SymLinearDifferentialOperator(symPFunctions, interval, t)"
   ]
  },
  {
   "cell_type": "markdown",
   "metadata": {
    "heading_collapsed": true,
    "hidden": true
   },
   "source": [
    "## `LinearDifferentialOperator(pFunctions, interval, symL)`\n",
    "\n",
    "A linear differential operator $L$ of order $n$ given by \n",
    "$$Lx = p_0x^{(n)} + p_1x^{(n-1)} + \\cdots + p_{n-1}x^{(1)} + p_n x$$\n",
    "is encoded by an $1 \\times (n+1)$ array of univariate functions, a tuple $(a= x_0, x_1, \\ldots, x_{k-1},x_k = b)$, and its symbolic expression."
   ]
  },
  {
   "cell_type": "code",
   "execution_count": 20,
   "metadata": {
    "hidden": true
   },
   "outputs": [],
   "source": [
    "struct LinearDifferentialOperator\n",
    "    pFunctions::Array # Array of julia functions or numbers representing constant functions\n",
    "    interval::Tuple\n",
    "    symL::SymLinearDifferentialOperator\n",
    "    LinearDifferentialOperator(pFunctions::Array, interval::Tuple, symL::SymLinearDifferentialOperator) =\n",
    "    try\n",
    "        L = new(pFunctions, interval, symL)\n",
    "        check_linearDifferentialOperator_input(L)\n",
    "        return L\n",
    "    catch err\n",
    "        throw(err)\n",
    "    end\n",
    "end"
   ]
  },
  {
   "cell_type": "code",
   "execution_count": 21,
   "metadata": {
    "hidden": true
   },
   "outputs": [
    {
     "data": {
      "text/plain": [
       "check_linearDifferentialOperator_input (generic function with 1 method)"
      ]
     },
     "execution_count": 21,
     "metadata": {},
     "output_type": "execute_result"
    }
   ],
   "source": [
    "# Assume symFunc has only one free symbol, as required by the definition of SymLinearDifferentialOperator. \n",
    "# That is, assume the input symFunc comes from SymLinearDifferentialOperator.\n",
    "function check_func_sym_equal(func::Union{Function,Number}, symFunc, interval::Tuple, t::SymPy.Sym) # symFunc should be Union{SymPy.Sym, Number}, but somehow SymPy.Sym gets ignored\n",
    "    a = interval[1]\n",
    "    b = interval[length(interval)]\n",
    "    # Randomly sample 1000 points from (a,b) and check if func and symFunc agree on them\n",
    "    for i = 1:1000\n",
    "        # Check endpoints\n",
    "        if i == 1\n",
    "            x = a\n",
    "        elseif i == 2\n",
    "            x = b\n",
    "        else\n",
    "            x = rand(Uniform(a,b), 1)[1,1]\n",
    "        end\n",
    "        funcEvalX = evaluate(func, x)\n",
    "        if isa(symFunc, SymPy.Sym)\n",
    "            symFuncEvalX = SymPy.N(subs(symFunc,t,x))\n",
    "            # N() converts SymPy.Sym to Number\n",
    "            # https://docs.sympy.org/latest/modules/evalf.html\n",
    "            # subs() works no matter symFunc is Number or SymPy.Sym\n",
    "        else\n",
    "            symFuncEvalX = symFunc\n",
    "        end\n",
    "        tol = set_tol(funcEvalX, symFuncEvalX)\n",
    "        if !isapprox(real(funcEvalX), real(symFuncEvalX); atol = real(tol)) ||\n",
    "            !isapprox(imag(funcEvalX), imag(symFuncEvalX); atol = imag(tol))\n",
    "            println(\"x = $x\")\n",
    "            println(\"symFunc = $symFunc\")\n",
    "            println(\"funcEvalX = $funcEvalX\")\n",
    "            println(\"symFuncEvalX = $symFuncEvalX\")\n",
    "            return false\n",
    "        end\n",
    "    end\n",
    "    return true\n",
    "end\n",
    "\n",
    "# Check whether the inputs of L are valid.\n",
    "function check_linearDifferentialOperator_input(L::LinearDifferentialOperator)\n",
    "    pFunctions, interval, symL = L.pFunctions, L.interval, L.symL\n",
    "    symPFunctions, t = symL.symPFunctions, symL.t\n",
    "    # domainC = Complex(a..b, 0..0) # Domain [a,b] represented in the complex plane\n",
    "    p0 = pFunctions[1]\n",
    "    # p0Chebyshev = Fun(p0, a..b) # Chebysev polynomial approximation of p0 on [a,b]\n",
    "    if !check_all(pFunctions, pFunc -> (isa(pFunc, Function) || isa(pFunc, Number)))\n",
    "        throw(StructDefinitionError(:\"p_k should be Function or Number\"))\n",
    "    elseif length(pFunctions) != length(symPFunctions)\n",
    "        throw(StructDefinitionError(:\"Number of p_k and symP_k do not match\"))\n",
    "    elseif interval != symL.interval\n",
    "        throw(StructDefinitionError(:\"Intervals of L and symL do not match\"))\n",
    "    # # Assume p_k are in C^{n-k}. Check whether p0 vanishes on [a,b]. \n",
    "    # # roots() in IntervalRootFinding doesn't work if p0 is sth like t*im - 2*im. Neither does find_zero() in Roots.\n",
    "    # # ApproxFun.roots() \n",
    "    # elseif (isa(p0, Function) && (!isempty(roots(p0Chebyshev)) || all(x->x>b, roots(p0Chebyshev)) || all(x->x<b, roots(p0Chebyshev)) || p0(a) == 0 || p0(b) == 0)) || p0 == 0 \n",
    "    #     throw(StructDefinitionError(:\"p0 vanishes on [a,b]\"))\n",
    "    elseif !all(i -> check_func_sym_equal(pFunctions[i], symPFunctions[i], interval, t), 1:length(pFunctions))\n",
    "        # throw(StructDefinitionError(:\"symP_k does not agree with p_k on [a,b]\"))\n",
    "        warn(\"symP_k does not agree with p_k on the interval\") # Make this a warning instead of an error because the functionalities of Julia Functions may be more than those of SymPy objects; we do not want to compromise the functionalities of LinearDifferentialOperator because of the restrictions on SymPy.\n",
    "    else\n",
    "        return true\n",
    "    end\n",
    "end"
   ]
  },
  {
   "cell_type": "markdown",
   "metadata": {
    "hidden": true
   },
   "source": [
    "**Parameters**\n",
    "* `pFunctions`: `Array` of `Function` or `Number` \n",
    "    * Array $[p_0, p_1, \\ldots, p_n]$ of length $n+1$, corresponding to the linear differential operator $L$ of order $n$ given by\n",
    "    $$Lx = p_0x^{(n)} + p_1x^{(n-1)} + \\cdots + p_{n-1}x^{(1)} + p_n x.$$\n",
    "* `interval`: `Tuple`\n",
    "    * Tuple of $k+1$ numbers $(a = x_0, x_1,\\ldots, x_{k-1}, x_k = b)$ corresponding to the real interval $[a = x_0, x_1,\\ldots, x_{k-1}, x_k = b]$ on which the differential operator $L$ is defined.\n",
    "* `symL`: `SymLinearDifferentialOperator`\n",
    "    * Symbolic linear differential operator corresponding to $L$.\n",
    "    \n",
    "**Returns**\n",
    "* `LinearDifferentialOperator`\n",
    "    * Returns a `LinearDifferentialOperator` of order $n$ with attributes `pFunctions`, `interval`, and `symL`.\n",
    "    \n",
    "**Example**"
   ]
  },
  {
   "cell_type": "code",
   "execution_count": 27,
   "metadata": {
    "hidden": true
   },
   "outputs": [
    {
     "data": {
      "text/plain": [
       "LinearDifferentialOperator(Function[##17#20() ##18#21() ##19#22()], (0, 0.5, 1), SymLinearDifferentialOperator(Sym[1 t + 1 t^2 + t + 1], (0, 0.5, 1), t))"
      ]
     },
     "execution_count": 27,
     "metadata": {},
     "output_type": "execute_result"
    }
   ],
   "source": [
    "t = symbols(\"t\")\n",
    "interval = (0, 0.5, 1)\n",
    "\n",
    "symPFunctions = [1 t+1 t^2+t+1]\n",
    "symL = SymLinearDifferentialOperator(symPFunctions, interval, t)\n",
    "# Direct construction\n",
    "pFunctions = [t->1 t->t+1 t->t^2+t+1]\n",
    "L = LinearDifferentialOperator(pFunctions, interval, symL)"
   ]
  },
  {
   "cell_type": "markdown",
   "metadata": {
    "heading_collapsed": true,
    "hidden": true
   },
   "source": [
    "## `VectorMultipointForm`\n",
    "A set of homogeneous boundary conditions in vector form\n",
    "$$Uq = \\begin{bmatrix}U_1\\\\\\vdots\\\\ U_m\\end{bmatrix}q = \\sum^k_{l=1}\\sum_{j=1}^n\\begin{bmatrix} M_{1jl}q_l^{(j)}(x_{l-1}) + N_{1jl}q_l^{(j)}(x_{l})\\\\\\vdots\\\\  M_{mjl}q_l^{(j)}(x_{l-1}) + N_{mjl}q_l^{(j)}(x_{l})\\end{bmatrix} = \\begin{bmatrix}0\\\\\\vdots\\\\ 0\\end{bmatrix}$$\n",
    "is encoded by a list of $k+1$ ordered pairs of two linearly independent $m\\times n$ matrices $(M_l, N_l)$ where\n",
    "$$M_l = \\begin{bmatrix}M_{11l} & \\cdots & M_{1nl}\\\\ \\vdots & \\ddots & \\vdots\\\\ M_{m1l} & \\cdots & M_{mnl}\\end{bmatrix},\\quad N_l = \\begin{bmatrix}N_{11l} & \\cdots & N_{1nl}\\\\ \\vdots & \\ddots & \\vdots\\\\ N_{m1l} & \\cdots & N_{mnl}\\end{bmatrix}.$$"
   ]
  },
  {
   "cell_type": "code",
   "execution_count": 22,
   "metadata": {
    "hidden": true
   },
   "outputs": [],
   "source": [
    "struct VectorMultipointForm\n",
    "    MM::Array\n",
    "    NN::Array\n",
    "    VectorMultipointForm(MM::Array, NN::Array) =\n",
    "    try\n",
    "        U = new(MM, NN)\n",
    "        check_vectorMultipointForm_input(U)\n",
    "        return U\n",
    "    catch err\n",
    "        throw(err)\n",
    "    end\n",
    "end"
   ]
  },
  {
   "cell_type": "code",
   "execution_count": 23,
   "metadata": {
    "hidden": true
   },
   "outputs": [
    {
     "data": {
      "text/plain": [
       "check_vectorMultipointForm_input (generic function with 1 method)"
      ]
     },
     "execution_count": 23,
     "metadata": {},
     "output_type": "execute_result"
    }
   ],
   "source": [
    "function check_vectorMultipointForm_input(U::VectorMultipointForm)\n",
    "    # M, N = U.M, U.N\n",
    "    # Avoid Inexact() error when taking rank()\n",
    "    M = copy(U.MM)\n",
    "    N = copy(U.NN)\n",
    "    checker = Array{Bool}(undef, 1, length(M))\n",
    "    for i = 1:length(M)\n",
    "        M_i, N_i = M[i], N[i]\n",
    "        if !(check_all(M_i, x -> isa(x, Number)) && check_all(N_i, x -> isa(x, Number)))\n",
    "            throw(StructDefinitionError(:\"Entries of M_i, N_i should be Number\"))\n",
    "        elseif size(M_i) != size(N_i)\n",
    "            throw(StructDefinitionError(:\"M_i, N_i dimensions do not match\"))\n",
    "        else\n",
    "            checker[i] = true\n",
    "        end\n",
    "    end\n",
    "    if LinearAlgebra.rank(array_hcat_helper(M, N)) != size(M[1])[1]\n",
    "        throw(StructDefinitionError(:\"Boundary operators are not linearly independent\"))\n",
    "    end\n",
    "    for x in checker\n",
    "        if !(x == true)\n",
    "            return false\n",
    "        end\n",
    "    return true\n",
    "    end\n",
    "end"
   ]
  },
  {
   "cell_type": "markdown",
   "metadata": {
    "hidden": true
   },
   "source": [
    "**Parameters**\n",
    "* `M`, `N`: `Array` of `Array`\n",
    "    * Two arrays whose elements are matrices of the same dimension. These matrices are required to be linearly independent in a sense that $M[i]$ and $N[i]$ are linearly independent for all $i.$\n",
    "\n",
    "**Returns**\n",
    "* `VectorMultipointForm`\n",
    "    * Returns a `VectorMultipointForm` with attributes `MM` and `NN`. $MM$ and $NN$ are chosen to avoid confusion with `VectorBoundaryForm` where attributes are `M` and `N`.\n",
    "\n",
    "**Example**"
   ]
  },
  {
   "cell_type": "code",
   "execution_count": 35,
   "metadata": {
    "hidden": true
   },
   "outputs": [
    {
     "data": {
      "text/plain": [
       "VectorMultipointForm(Array{Float64,2}[[1.0 2.0; 1.0 0.0; 3.0 4.0; 0.0 2.0], [1.0 0.0; 0.0 2.0; 1.0 1.0; 3.0 3.0]], Array{Float64,2}[[3.0 7.0; 0.0 3.0; 3.0 0.0; 2.0 2.0], [1.0 0.0; 0.0 10.0; 0.0 0.0; 2.0 3.0]])"
      ]
     },
     "execution_count": 35,
     "metadata": {},
     "output_type": "execute_result"
    }
   ],
   "source": [
    "M1 = [1. 2.; 1. 0.; 3. 4.; 0. 2.]\n",
    "M2 = [1. 0.; 0. 2.; 1. 1.; 3. 3.]\n",
    "M = [M1, M2]\n",
    "N1 = [3. 7.; 0. 3.; 3. 0.; 2. 2.]\n",
    "N2 = [1. 0.; 0. 10.; 0. 0.; 2. 3.]\n",
    "N = [N1, N2]\n",
    "U = VectorMultipointForm(M, N)"
   ]
  },
  {
   "cell_type": "markdown",
   "metadata": {},
   "source": [
    "# Main functions\n",
    "Constructs a valid adjoint boundary condition from a given (homogeneous) multipoint condition based on IMVP-Adjoint-Construction.pdf."
   ]
  },
  {
   "cell_type": "markdown",
   "metadata": {
    "heading_collapsed": true
   },
   "source": [
    "## `get_L(symL)`\n",
    "Constructs a `LinearDifferentialOperator` from a given `SymLinearDifferentialOperator`."
   ]
  },
  {
   "cell_type": "code",
   "execution_count": 24,
   "metadata": {
    "hidden": true
   },
   "outputs": [
    {
     "data": {
      "text/plain": [
       "get_L (generic function with 1 method)"
      ]
     },
     "execution_count": 24,
     "metadata": {},
     "output_type": "execute_result"
    }
   ],
   "source": [
    "function get_L(symL::SymLinearDifferentialOperator)\n",
    "    symPFunctions, interval, t = symL.symPFunctions, symL.interval, symL.t\n",
    "    if check_all(symPFunctions, x->!isa(x, SymPy.Sym))\n",
    "        pFunctions = symPFunctions\n",
    "    else\n",
    "        pFunctions = sym_to_func.(symPFunctions)\n",
    "    end\n",
    "    L = LinearDifferentialOperator(pFunctions, interval, symL)\n",
    "    return L\n",
    "end"
   ]
  },
  {
   "cell_type": "markdown",
   "metadata": {
    "hidden": true
   },
   "source": [
    "**Parameters**\n",
    "* `symL`: `SymLinearDifferentialOperator`\n",
    "    * Symbolic linear differential operator to be converted.\n",
    "\n",
    "**Returns**\n",
    "* `get_L`: `LinearDifferentialOperator`\n",
    "    * Returns the linear differential operator converted from `symL`.\n",
    "\n",
    "**Example**"
   ]
  },
  {
   "cell_type": "code",
   "execution_count": 37,
   "metadata": {
    "hidden": true
   },
   "outputs": [
    {
     "data": {
      "text/plain": [
       "LinearDifferentialOperator(getfield(Main, Symbol(\"#func#6\")){Sym,Array{Sym,1}}[#func#6{Sym,Array{Sym,1}}(1, Sym[]) #func#6{Sym,Array{Sym,1}}(t + 1, Sym[t]) #func#6{Sym,Array{Sym,1}}(t^2 + t + 1, Sym[t])], (0, 0.5, 1), SymLinearDifferentialOperator(Sym[1 t + 1 t^2 + t + 1], (0, 0.5, 1), t))"
      ]
     },
     "execution_count": 37,
     "metadata": {},
     "output_type": "execute_result"
    }
   ],
   "source": [
    "t = symbols(\"t\")\n",
    "symPFunctions = [1 t+1 t^2+t+1]\n",
    "interval = (0, 0.5, 1)\n",
    "symL = SymLinearDifferentialOperator(symPFunctions, interval, t)\n",
    "L = get_L(symL)"
   ]
  },
  {
   "cell_type": "markdown",
   "metadata": {
    "heading_collapsed": true
   },
   "source": [
    "## `get_URank(U)`\n",
    "Computes the rank of a vector multipoint form $U$ by computing the equivalent $\\text{rank}[M_1~N_1~M_2~N_2 \\ldots M_k~N_k]$, where $M_l, N_l$ are the matrices associated with $U.$"
   ]
  },
  {
   "cell_type": "code",
   "execution_count": 25,
   "metadata": {
    "hidden": true
   },
   "outputs": [
    {
     "data": {
      "text/plain": [
       "get_URank (generic function with 1 method)"
      ]
     },
     "execution_count": 25,
     "metadata": {},
     "output_type": "execute_result"
    }
   ],
   "source": [
    "function get_URank(U::VectorMultipointForm)\n",
    "    M = U.MM\n",
    "    N = U.NN\n",
    "    checker = Array{Int64}(undef, 1, length(M))\n",
    "    for i=1:length(M) \n",
    "        M_i = convert(Array{Complex}, M[i])\n",
    "        N_i = convert(Array{Complex}, N[i])\n",
    "        MHcatN = hcat(M_i, N_i)\n",
    "        checker[i] = LinearAlgebra.rank(MHcatN)\n",
    "    end\n",
    "    if all(y->y == checker[1], checker) == true\n",
    "        return checker[1]\n",
    "    else\n",
    "        throw(StructDefinitionError(:\"Matrices M_i, N_i are not appropriate.\"))\n",
    "    end\n",
    "end"
   ]
  },
  {
   "cell_type": "markdown",
   "metadata": {
    "hidden": true
   },
   "source": [
    "**Parameters**\n",
    "* `U`: `VectorMultipointForm`\n",
    "    * Vector multiboundary form whose rank is to be computed.\n",
    "\n",
    "**Returns**\n",
    "* `get_URank`: `Number`\n",
    "    * Returns the rank of `U`.\n",
    "\n",
    "**Example**"
   ]
  },
  {
   "cell_type": "code",
   "execution_count": 39,
   "metadata": {
    "hidden": true
   },
   "outputs": [
    {
     "data": {
      "text/plain": [
       "4"
      ]
     },
     "execution_count": 39,
     "metadata": {},
     "output_type": "execute_result"
    }
   ],
   "source": [
    "M1 = [1. 2.; 1. 0.; 3. 4.; 0. 2.]\n",
    "M2 = [1. 0.; 0. 2.; 1. 1.; 3. 3.]\n",
    "M = [M1, M2]\n",
    "N1 = [3. 7.; 0. 3.; 3. 0.; 2. 2.]\n",
    "N2 = [1. 0.; 0. 10.; 0. 0.; 2. 3.]\n",
    "N = [N1, N2]\n",
    "U = VectorMultipointForm(M, N)\n",
    "get_URank(U)"
   ]
  },
  {
   "cell_type": "markdown",
   "metadata": {
    "heading_collapsed": true
   },
   "source": [
    "## `get_Uc(U)`\n",
    "Given a vector multipoint form $U = \\begin{bmatrix}U_1\\\\ \\vdots\\\\ U_m\\end{bmatrix}$ of rank $m$, finds a complementary vector form $U_c = \\begin{bmatrix}U_{m+1}\\\\ \\vdots\\\\ U_{2nk}\\end{bmatrix}$ of rank $2nk-m$ such that $\\begin{bmatrix}U_1\\\\ \\vdots\\\\ U_{2nk}\\end{bmatrix}$ has rank $2nk$."
   ]
  },
  {
   "cell_type": "code",
   "execution_count": 26,
   "metadata": {
    "hidden": true
   },
   "outputs": [
    {
     "data": {
      "text/plain": [
       "get_Uc (generic function with 1 method)"
      ]
     },
     "execution_count": 26,
     "metadata": {},
     "output_type": "execute_result"
    }
   ],
   "source": [
    "# Find Uc, a complementary form of U\n",
    "function get_Uc(U::VectorMultipointForm)\n",
    "    try\n",
    "        check_vectorMultipointForm_input(U)\n",
    "        M, N = copy(U.MM), copy(U.NN)\n",
    "        P = copy(M)\n",
    "        Q = copy(N)\n",
    "        m = length(M)\n",
    "        n = size(M[1])[2]\n",
    "        I = complex(Matrix{Float64}(LinearAlgebra.I, 2n*m, 2n*m))\n",
    "        H_top = array_hcat_helper(M, N)\n",
    "        \n",
    "        mat = convert(Array{Complex}, H_top) \n",
    "        for k = 1:(2n*m)\n",
    "            newMat = vcat(mat, I[k:k,:])\n",
    "            newMat = convert(Array{Complex}, newMat)\n",
    "            if LinearAlgebra.rank(newMat) == LinearAlgebra.rank(mat) + 1\n",
    "                mat = newMat\n",
    "            end\n",
    "        end\n",
    "        H_bottom = mat[(size(M[1])[1]+1):2n*m, :]\n",
    "        j = 0\n",
    "        for i = 1:length(M)\n",
    "            P[i] = H_bottom[:, (j*n+1):(j+1)*n]\n",
    "            Q[i] = H_bottom[:, ((j+1)*n+1):(j+2)*n]\n",
    "            j += 2\n",
    "        end\n",
    "        Uc = VectorMultipointForm(P, Q)\n",
    "        return Uc\n",
    "    catch err\n",
    "        return err\n",
    "    end\n",
    "end"
   ]
  },
  {
   "cell_type": "markdown",
   "metadata": {
    "hidden": true
   },
   "source": [
    "**Parameters**\n",
    "* `U`: `VectorMultipointForm`\n",
    "    * Vector multipoint form whose complementary vector multipoint form is to be found.\n",
    "\n",
    "**Returns**\n",
    "* `get_Uc`: `VectorMultipointForm`\n",
    "    * Returns a vector multipoint form complementary to `U`.\n",
    "\n",
    "**Example**"
   ]
  },
  {
   "cell_type": "code",
   "execution_count": 41,
   "metadata": {
    "hidden": true
   },
   "outputs": [
    {
     "data": {
      "text/plain": [
       "VectorMultipointForm(Array{Float64,2}[[1.0 0.0; 1.0 0.0; 3.0 0.0; 1.0 0.0], [3.0 0.0; -1.0 0.0; 5.0 0.0; 0.0 0.0]], Array{Float64,2}[[0.0 7.0; 0.0 3.0; 0.0 2.0; 0.0 2.0], [0.0 2.0; 0.0 -2.0; 0.0 -1.0; 0.0 9.0]])"
      ]
     },
     "execution_count": 41,
     "metadata": {},
     "output_type": "execute_result"
    }
   ],
   "source": [
    "M1 = [1. 0.; 1. 0.; 3. 0.; 1. 0.]\n",
    "M2 = [3. 0.; -1. 0.; 5. 0.; 0. 0.]\n",
    "M = [M1, M2]\n",
    "N1 = [0. 7.; 0. 3.; 0. 2.; 0. 2.]\n",
    "N2 = [0. 2.; 0. -2.; 0. -1.; 0. 9.]\n",
    "N = [N1, N2]\n",
    "U = VectorMultipointForm(M, N)"
   ]
  },
  {
   "cell_type": "code",
   "execution_count": 42,
   "metadata": {
    "hidden": true
   },
   "outputs": [
    {
     "name": "stdout",
     "output_type": "stream",
     "text": [
      "VectorMultipointForm(Array{Float64,2}[[0.0 1.0; 0.0 0.0; 0.0 0.0; 0.0 0.0], [0.0 0.0; 0.0 0.0; 0.0 1.0; 0.0 0.0]], Array{Float64,2}[[0.0 0.0; 1.0 0.0; 0.0 0.0; 0.0 0.0], [0.0 0.0; 0.0 0.0; 0.0 0.0; 1.0 0.0]])\n"
     ]
    }
   ],
   "source": [
    "Uc = get_Uc(U)\n",
    "println(Uc)"
   ]
  },
  {
   "cell_type": "markdown",
   "metadata": {
    "heading_collapsed": true
   },
   "source": [
    "## `get_H(U, Uc)`\n",
    "Given a vector multipoint form $U$ and a complementary vector multipoint form $U_c$, constructs \n",
    "$$H = \\begin{bmatrix}M_1&N_1 & M_2 & N_2 & \\ldots & M_k & N_k \\\\ (M_1)_c & (N_1)_c & (M_2)_c & (N_2)_c & \\ldots & (M_k)_c & (N_k)_c \\end{bmatrix},$$\n",
    "where $M_l, N_l$ are the matrices associated with $U$ and $(M_l)_c, (N_l)_c$ are associated with $U_c$."
   ]
  },
  {
   "cell_type": "code",
   "execution_count": 27,
   "metadata": {
    "hidden": true
   },
   "outputs": [
    {
     "data": {
      "text/plain": [
       "get_H (generic function with 1 method)"
      ]
     },
     "execution_count": 27,
     "metadata": {},
     "output_type": "execute_result"
    }
   ],
   "source": [
    "function get_H(U::VectorMultipointForm, Uc::VectorMultipointForm)\n",
    "    M, N = copy(U.MM), copy(U.NN) # need to use copies of U and Uc, not the actual things\n",
    "    P, Q = copy(Uc.MM), copy(Uc.NN)\n",
    "    MHcatN = array_hcat_helper(M, N)\n",
    "    McHcatNc = array_hcat_helper(P, Q)\n",
    "    H = vcat(MHcatN, McHcatNc)\n",
    "    return H\n",
    "end"
   ]
  },
  {
   "cell_type": "markdown",
   "metadata": {
    "hidden": true
   },
   "source": [
    "**Parameters**\n",
    "* `U`: `VectorMultipointForm`\n",
    "    * Vector multipoint form.\n",
    "* `Uc`: `VectorMultipointForm`\n",
    "    * Vector multipoint form complementary to `U`.\n",
    "\n",
    "**Returns**\n",
    "* `get_H`: `Array`\n",
    "    * Returns the matrix $H$ defined above.\n",
    "\n",
    "**Example**"
   ]
  },
  {
   "cell_type": "code",
   "execution_count": 44,
   "metadata": {
    "hidden": true
   },
   "outputs": [
    {
     "data": {
      "text/plain": [
       "VectorMultipointForm(Array{Float64,2}[[1.0 0.0; 0.0 1.0; 0.0 0.0; 0.0 0.0], [0.0 0.0; 0.0 0.0; 0.0 0.0; 0.0 0.0]], Array{Float64,2}[[0.0 0.0; 0.0 0.0; 1.0 0.0; 0.0 1.0], [0.0 0.0; 0.0 0.0; 0.0 0.0; 0.0 0.0]])"
      ]
     },
     "execution_count": 44,
     "metadata": {},
     "output_type": "execute_result"
    }
   ],
   "source": [
    "M1 = [1. 2.; 1. 0.; 3. 4.; 0. 2.]\n",
    "M2 = [1. 0.; 0. 2.; 1. 1.; 3. 3.]\n",
    "M = [M1, M2]\n",
    "N1 = [3. 7.; 0. 3.; 3. 0.; 2. 2.]\n",
    "N2 = [1. 0.; 0. 10.; 0. 0.; 2. 3.]\n",
    "N = [N1, N2]\n",
    "U = VectorMultipointForm(M, N)\n",
    "Uc = get_Uc(U)"
   ]
  },
  {
   "cell_type": "code",
   "execution_count": 45,
   "metadata": {
    "hidden": true
   },
   "outputs": [
    {
     "data": {
      "text/plain": [
       "8×8 Array{Complex,2}:\n",
       " 1.0+0.0im  2.0+0.0im  3.0+0.0im  …  0.0+0.0im  1.0+0.0im   0.0+0.0im\n",
       " 1.0+0.0im  0.0+0.0im  0.0+0.0im     2.0+0.0im  0.0+0.0im  10.0+0.0im\n",
       " 3.0+0.0im  4.0+0.0im  3.0+0.0im     1.0+0.0im  0.0+0.0im   0.0+0.0im\n",
       " 0.0+0.0im  2.0+0.0im  2.0+0.0im     3.0+0.0im  2.0+0.0im   3.0+0.0im\n",
       " 1.0+0.0im  0.0+0.0im  0.0+0.0im     0.0+0.0im  0.0+0.0im   0.0+0.0im\n",
       " 0.0+0.0im  1.0+0.0im  0.0+0.0im  …  0.0+0.0im  0.0+0.0im   0.0+0.0im\n",
       " 0.0+0.0im  0.0+0.0im  1.0+0.0im     0.0+0.0im  0.0+0.0im   0.0+0.0im\n",
       " 0.0+0.0im  0.0+0.0im  0.0+0.0im     0.0+0.0im  0.0+0.0im   0.0+0.0im"
      ]
     },
     "execution_count": 45,
     "metadata": {},
     "output_type": "execute_result"
    }
   ],
   "source": [
    "H = get_H(U, Uc)"
   ]
  },
  {
   "cell_type": "markdown",
   "metadata": {},
   "source": [
    "## `get_symPDerivMatrix(L; symbolic)`\n",
    "Given a `LinearDifferentialOperator` `L` where `L.pFunctions` is the array\n",
    "$$[p_0, p_1, \\ldots, p_n],$$\n",
    "constructs an $n\\times n$ matrix whose $(i+1)(j+1)$-entry is a function corresponding to the $j$th derivative of $p_i$:\n",
    "$$\\begin{bmatrix}p_0 & \\cdots & p_0^{(n-1)}\\\\ \\vdots & \\ddots & \\vdots\\\\ p_{n-1} & \\cdots & p_{n-1}^{(n-1)}\\end{bmatrix}.$$"
   ]
  },
  {
   "cell_type": "code",
   "execution_count": 28,
   "metadata": {},
   "outputs": [
    {
     "data": {
      "text/plain": [
       "get_pDerivMatrix (generic function with 1 method)"
      ]
     },
     "execution_count": 28,
     "metadata": {},
     "output_type": "execute_result"
    }
   ],
   "source": [
    "function get_pDerivMatrix(L::LinearDifferentialOperator; symbolic = false)\n",
    "    if symbolic\n",
    "        symL = L.symL\n",
    "        symPFunctions, t = symL.symPFunctions, symL.t\n",
    "        n = length(symPFunctions)-1\n",
    "        symPDerivMatrix = Array{SymPy.Sym}(undef, n,n)\n",
    "        pFunctionSymbols = symPFunctions\n",
    "        for i in 0:(n-1)\n",
    "            for j in 0:(n-1)\n",
    "                index, degree = i, j\n",
    "                symP = pFunctionSymbols[index+1]\n",
    "                # If symP is not a Sympy.Sym object (e.g., is a Number instead), then cannot use get_deriv()\n",
    "                if !isa(symP, SymPy.Sym)\n",
    "                    if degree > 0\n",
    "                        symPDeriv = 0\n",
    "                    else\n",
    "                        symPDeriv = symP\n",
    "                    end\n",
    "                else\n",
    "                    symPDeriv = get_deriv(symP, degree)\n",
    "                end\n",
    "                symPDerivMatrix[i+1,j+1] = symPDeriv\n",
    "            end\n",
    "        end\n",
    "        return symPDerivMatrix\n",
    "    else\n",
    "        symPDerivMatrix = get_pDerivMatrix(L; symbolic = true)\n",
    "        n = length(L.pFunctions)-1\n",
    "        pDerivMatrix = sym_to_func.(symPDerivMatrix)\n",
    "    end\n",
    "    return pDerivMatrix\n",
    "end"
   ]
  },
  {
   "cell_type": "markdown",
   "metadata": {},
   "source": [
    "**Parameters**\n",
    "* `L`: `LinearDifferentialOperator`\n",
    "    * Linear differential operator whose `pDerivMatrix` is to be constructed.\n",
    "* `symbolic*`: `Bool`\n",
    "    * Boolean indicating whether the output is symbolic.\n",
    "\n",
    "**Returns**\n",
    "* `get_pDerivMatrix`: `Array` of `Function`, `Number` or `SymPy.Sym`\n",
    "    * Returns an $n\\times n$ matrix whose $(i+1)(j+1)$-entry is\n",
    "        * the $j$th derivative of $p_i$ (`L.pFunctions[i]`) if `symbolic = false`, or\n",
    "        * the symbolic expression of the $j$th derivative of $p_i$ (`L.symL.symPFunctions[i]`) if `symbolic = true`.\n",
    "\n",
    "**Example**"
   ]
  },
  {
   "cell_type": "code",
   "execution_count": 47,
   "metadata": {},
   "outputs": [
    {
     "name": "stdout",
     "output_type": "stream",
     "text": [
      "pDerivMatrix(2) = [1 0; 3 1]\n"
     ]
    },
    {
     "data": {
      "text/latex": [
       "\\[\\left[ \\begin{array}{rr}1&0\\\\t + 1&1\\end{array}\\right]\\]"
      ],
      "text/plain": [
       "2×2 Array{Sym,2}:\n",
       "     1  0\n",
       " t + 1  1"
      ]
     },
     "execution_count": 47,
     "metadata": {},
     "output_type": "execute_result"
    }
   ],
   "source": [
    "t = symbols(\"t\")\n",
    "symPFunctions = [1 t+1 t^2+t+1]\n",
    "interval = (0, 0.5, 1)\n",
    "symL = SymLinearDifferentialOperator(symPFunctions, interval, t)\n",
    "L = get_L(symL)\n",
    "\n",
    "tVal = 2\n",
    "pDerivMatrix = get_pDerivMatrix(L; symbolic = false)\n",
    "println(\"pDerivMatrix($tVal) = $(evaluate.(pDerivMatrix,tVal))\")\n",
    "\n",
    "symPDerivMatrix = get_pDerivMatrix(L; symbolic = true)"
   ]
  },
  {
   "cell_type": "markdown",
   "metadata": {
    "heading_collapsed": true
   },
   "source": [
    "## `get_Bjk(L, j, k; symbolic, pDerivMatrix)`\n",
    "Given a `LinearDifferentialOperator` `L` of order $n$, for $j, k \\in \\{1,\\ldots,n\\}$, computes $B_{jk}$ defined as\n",
    "$$B_{jk}(t) := \\sum_{\\ell=j-1}^{n-k}\\binom{\\ell}{j-1}p^{(\\ell-j+1)}_{n-k-\\ell}(t)(-1)^\\ell.$$"
   ]
  },
  {
   "cell_type": "code",
   "execution_count": 29,
   "metadata": {
    "hidden": true
   },
   "outputs": [
    {
     "data": {
      "text/plain": [
       "get_Bjk (generic function with 1 method)"
      ]
     },
     "execution_count": 29,
     "metadata": {},
     "output_type": "execute_result"
    }
   ],
   "source": [
    "# Find Bjk using explicit formula\n",
    "function get_Bjk(L::LinearDifferentialOperator, j::Int, k::Int; symbolic = false, pDerivMatrix = get_pDerivMatrix(L; symbolic = symbolic))\n",
    "    n = length(L.pFunctions)-1\n",
    "    if j <= 0 || j > n || k <= 0 || k > n\n",
    "        throw(\"j, k should be in {1, ..., n}\")\n",
    "    end\n",
    "    sum = 0\n",
    "    if symbolic\n",
    "        symPDerivMatrix = get_pDerivMatrix(L; symbolic = true)\n",
    "        for l = (j-1):(n-k)\n",
    "            summand = binomial(l, j-1) * symPDerivMatrix[n-k-l+1, l-j+1+1] * (-1)^l\n",
    "            sum += summand\n",
    "        end\n",
    "    else\n",
    "        for l = (j-1):(n-k)\n",
    "            summand = mult_func(binomial(l, j-1) * (-1)^l, pDerivMatrix[n-k-l+1, l-j+1+1])\n",
    "            sum = add_func(sum, summand)\n",
    "        end\n",
    "    end\n",
    "    return sum\n",
    "end"
   ]
  },
  {
   "cell_type": "markdown",
   "metadata": {
    "hidden": true
   },
   "source": [
    "**Parameters**\n",
    "* `L`: `LinearDifferentialOperator`\n",
    "    * Linear differential operator whose `L.pFunctions` are to become the $p_{n-k-l}^{l-j+1}$ in $B_{jk}(t)$.\n",
    "* `j`, `k`: `Int`\n",
    "    * Integers corresponding to the $j$ and $k$ in $B_{jk}$.\n",
    "* `symbolic*`: `Bool`\n",
    "    * Boolean indicating whether the output is symbolic.\n",
    "* `pDerivMatrix*`: `Array`\n",
    "    * If `symbolic = false`, an $n\\times n$ matrix whose $(i+1)(j+1)$-entry is the $j$th derivative of $p_i$ (`L.pFunctions[i]`) implemented as a `Function`, `Number`, or `SymPy.Sym`. Default to the output of `get_pDerivMatrix(L)`.\n",
    "\n",
    "**Returns**\n",
    "* `get_Bjk`: `SymPy.Sym`, `Function`, or `Number`\n",
    "    * Returns $B_{jk}(t)$ defined above, \n",
    "        * as `Function` if `symbolic = false`, or\n",
    "        * as `SymPy.Sym` object if `symbolic = true`, where each $p_i$ is the generic expression $p_i(t)$.\n",
    "        \n",
    "**Example**"
   ]
  },
  {
   "cell_type": "code",
   "execution_count": 49,
   "metadata": {
    "hidden": true
   },
   "outputs": [
    {
     "data": {
      "text/latex": [
       "\\begin{equation*}t + 1\\end{equation*}"
      ],
      "text/plain": [
       "t + 1"
      ]
     },
     "execution_count": 49,
     "metadata": {},
     "output_type": "execute_result"
    }
   ],
   "source": [
    "t = symbols(\"t\")\n",
    "symPFunctions = [1 t+1 t^2+t+1]\n",
    "interval = (0, 0.5, 1)\n",
    "symL = SymLinearDifferentialOperator(symPFunctions, interval, t)\n",
    "L = get_L(symL)\n",
    "\n",
    "j, k = 1, 1\n",
    "BjkSym = get_Bjk(L, j, k; symbolic = true)"
   ]
  },
  {
   "cell_type": "code",
   "execution_count": 50,
   "metadata": {
    "hidden": true
   },
   "outputs": [
    {
     "name": "stdout",
     "output_type": "stream",
     "text": [
      "Bjk(1) = 2\n",
      "BjkSym(1) = 2\n"
     ]
    }
   ],
   "source": [
    "tVal = 1\n",
    "Bjk = get_Bjk(L, j, k; symbolic = false)\n",
    "println(\"Bjk($tVal) = $(Bjk(tVal))\")\n",
    "println(\"BjkSym($tVal) = $(evaluate.(BjkSym, tVal))\")"
   ]
  },
  {
   "cell_type": "markdown",
   "metadata": {
    "heading_collapsed": true
   },
   "source": [
    "## `get_B(L; symbolic, pDerivMatrix)`\n",
    "\n",
    "Given a `LinearDifferentialOperator` `L` where `L.pFunctions` is the array\n",
    "$$[p_0, p_1, \\ldots, p_n],$$ \n",
    "constructs the matrix $B(t)$ whose $ij$-entry is given by\n",
    "$$B_{jk}(t) := \\sum_{\\ell=j-1}^{n-k}\\binom{\\ell}{j-1}p^{(\\ell-j+1)}_{n-k-\\ell}(t)(-1)^\\ell.$$"
   ]
  },
  {
   "cell_type": "code",
   "execution_count": 30,
   "metadata": {
    "hidden": true
   },
   "outputs": [
    {
     "data": {
      "text/plain": [
       "get_B (generic function with 1 method)"
      ]
     },
     "execution_count": 30,
     "metadata": {},
     "output_type": "execute_result"
    }
   ],
   "source": [
    "function get_B(L::LinearDifferentialOperator; symbolic = false, pDerivMatrix = get_pDerivMatrix(L; symbolic = symbolic))\n",
    "    n = length(L.pFunctions)-1\n",
    "    B = Array{Union{Function, Number, SymPy.Sym}}(undef, n, n)\n",
    "    for j = 1:n\n",
    "        for k = 1:n\n",
    "            B[j,k] = get_Bjk(L, j, k; symbolic = symbolic, pDerivMatrix = pDerivMatrix)\n",
    "        end\n",
    "    end\n",
    "    return B\n",
    "end"
   ]
  },
  {
   "cell_type": "markdown",
   "metadata": {
    "hidden": true
   },
   "source": [
    "**Parameters**\n",
    "* `L`: `LinearDifferentialOperator`\n",
    "    * Linear differential operator whose `L.pFunctions` are to become the $p_{n-k-l}^{l-j+1}$ in $B_{jk}(t)$.\n",
    "* `symbolic*`: `Bool`\n",
    "    * Boolean indicating whether the output is symbolic.\n",
    "* `substitute*`: `Bool`\n",
    "    * If `symbolic = true`, boolean indicating whether to substitute the symbolic expression of $p_i$ in `L.pFunctions` for the generic expression $p_i(t)$ created using `SymFunction(\"pi\")(t)`. If `symbolic = false`, the value of `substitute` does not matter.\n",
    "* `pDerivMatrix*`: `Array`\n",
    "    * If `symbolic = false`, the non-symbolic version of `symPDerivMatrix`, i.e., an $n\\times n$ matrix whose $(i+1)(j+1)$-entry is the $j$th derivative of $p_i$ (`L.pFunctions[i]`) implemented as a `Function` or `Number`.\n",
    "\n",
    "**Returns**\n",
    "* `get_B`: `Array` of `Function`, `SymPy.Sym`, or `Number`\n",
    "    * Returns $B(t)$ defined above, where $B_{jk}(t)$ is\n",
    "        * `Function` if `symbolic = false`, or\n",
    "        * `SymPy.Sym` object if `symbolic = true`, where each $p_i$ is\n",
    "            * the generic expression $p_i(t)$ if `substitute = false`, or\n",
    "            * the symbolic expression of $p_i(t)$ (`L.symL.symPFunctions[i]`) if `substitute = true`.\n",
    "\n",
    "**Example**"
   ]
  },
  {
   "cell_type": "code",
   "execution_count": 52,
   "metadata": {
    "hidden": true
   },
   "outputs": [
    {
     "data": {
      "text/latex": [
       "\\[\\left[ \\begin{array}{rr}t + 1&1\\\\-1&0\\end{array}\\right]\\]"
      ],
      "text/plain": [
       "2×2 Array{Sym,2}:\n",
       " t + 1  1\n",
       "    -1  0"
      ]
     },
     "execution_count": 52,
     "metadata": {},
     "output_type": "execute_result"
    }
   ],
   "source": [
    "t = symbols(\"t\")\n",
    "symPFunctions = [1 t+1 t^2+t+1]\n",
    "interval = (0, 0.5, 1)\n",
    "symL = SymLinearDifferentialOperator(symPFunctions, interval, t)\n",
    "L = get_L(symL)\n",
    "\n",
    "BSym = get_B(L; symbolic = true)\n",
    "prettyPrint.(BSym)"
   ]
  },
  {
   "cell_type": "code",
   "execution_count": 53,
   "metadata": {
    "hidden": true
   },
   "outputs": [
    {
     "name": "stdout",
     "output_type": "stream",
     "text": [
      "B(1) = [2 1; -1 0]\n",
      "BSym(1) = Number[2 1; -1 0]\n"
     ]
    }
   ],
   "source": [
    "B = get_B(L; symbolic = false)\n",
    "tVal = 1\n",
    "println(\"B($tVal) = $(evaluate.(B, tVal))\")\n",
    "println(\"BSym($tVal) = $(evaluate.(BSym, tVal))\")"
   ]
  },
  {
   "cell_type": "markdown",
   "metadata": {
    "heading_collapsed": true
   },
   "source": [
    "## `get_BHat(L, B)`\n",
    "Given a `LinearDifferentialOperator` `L` where `L.pFunctions` is the array\n",
    "$$[p_0, p_1, \\ldots, p_n]$$\n",
    "and `L.interval` is $[x_0, x_1, x_2, \\ldots, x_{k-1}, x_k]$, constructs the matrix\n",
    "$$\\hat{B} =\n",
    "\\begin{bmatrix}-B(x_0) & 0 & 0 & 0 &\\ldots& 0 & 0 & 0 & 0\\\\\n",
    "0 & B(x_1) & 0 & 0 &\\dots& 0 & 0 & 0 & 0\\\\\n",
    "0 & 0 & -B(x_1) & 0 &\\dots& 0 & 0 & 0 & 0\\\\\n",
    "0 & 0 & 0 & B(x_2) &\\dots& 0 & 0 & 0 & 0\\\\\n",
    "\\vdots & \\vdots & \\vdots & \\vdots & \\ddots & \\vdots & \\vdots & \\vdots & \\vdots \\\\\n",
    "0 & 0 & 0 & 0 & \\ldots & -B(x_{k-2}) & 0 & 0 & 0\\\\\n",
    "0 & 0 & 0 & 0 & \\ldots & 0 & B(x_{k-1}) & 0 & 0\\\\\n",
    "0 & 0 & 0 & 0 & \\ldots & 0 & 0 & -B(x_{k-1}) & 0\\\\\n",
    "0 & 0 & 0 & 0 & \\ldots & 0 & 0 & 0 & B(x_{k})\n",
    "\\end{bmatrix}.$$"
   ]
  },
  {
   "cell_type": "code",
   "execution_count": 31,
   "metadata": {
    "hidden": true
   },
   "outputs": [
    {
     "data": {
      "text/plain": [
       "get_BHat (generic function with 1 method)"
      ]
     },
     "execution_count": 31,
     "metadata": {},
     "output_type": "execute_result"
    }
   ],
   "source": [
    "# Construct B_hat. Since all entries of B_hat are evaluated, BHat is a numeric matrix.\n",
    "function get_BHat(L::LinearDifferentialOperator, B::Array)\n",
    "    pFunctions, interval = L.pFunctions, L.interval\n",
    "    k = length(interval) - 1\n",
    "    BHats_Array = Array{Any}(undef, 1, k)\n",
    "    n = length(pFunctions)-1\n",
    "    for i=1:k\n",
    "        BHat = Array{Float64, 2}(undef, 2n, 2n)\n",
    "        BHat = convert(Array{Complex}, BHat)\n",
    "        BEvalA = evaluate.(B, interval[i]) # B at x_{l-1} \n",
    "        BEvalB = evaluate.(B, interval[i+1]) # B at x_l\n",
    "        BHat[1:n,1:n] = -BEvalA\n",
    "        BHat[(n+1):(2n),(n+1):(2n)] = BEvalB\n",
    "        BHat[1:n, (n+1):(2n)] = zeros(n, n)\n",
    "        BHat[(n+1):(2n), 1:n] = zeros(n, n)\n",
    "        BHats_Array[i] = BHat\n",
    "    end\n",
    "    BBHat = complex(Matrix{Float64}(LinearAlgebra.I, 2k*n, 2k*n))\n",
    "    j = 0\n",
    "    for i=1:k\n",
    "        BBHat[(j*n+1):(j+2)*n, (j*n+1):(j+2)*n] = BHats_Array[i]\n",
    "        j += 2\n",
    "    end\n",
    "    return BBHat\n",
    "end"
   ]
  },
  {
   "cell_type": "markdown",
   "metadata": {
    "hidden": true
   },
   "source": [
    "**Parameters**\n",
    "* `L`: `LinearDifferentialOperator`\n",
    "    * Linear differential operator whose `L.pFunctions` are to become the $p_{n-k-l}^{l-j+1}$ in $B_{jk}(t)$.\n",
    "* `B`: `Array` of `Number`\n",
    "    * Output of `get_B(L; symbolic = false)`.\n",
    "    \n",
    "**Returns**\n",
    "* `get_BHat`: `Array` of `Number`\n",
    "    * Returns $\\hat{B}$ defined above.\n",
    "\n",
    "**Example**"
   ]
  },
  {
   "cell_type": "code",
   "execution_count": 55,
   "metadata": {
    "hidden": true
   },
   "outputs": [
    {
     "data": {
      "text/plain": [
       "8×8 Array{Complex{Float64},2}:\n",
       " 0.0+0.0im  -1.0+0.0im   0.0+0.0im  …   0.0+0.0im   0.0+0.0im  0.0+0.0im\n",
       " 1.0+0.0im   0.0+0.0im   0.0+0.0im      0.0+0.0im   0.0+0.0im  0.0+0.0im\n",
       " 0.0+0.0im   0.0+0.0im   0.0+0.0im      0.0+0.0im   0.0+0.0im  0.0+0.0im\n",
       " 0.0+0.0im   0.0+0.0im  -1.0+0.0im      0.0+0.0im   0.0+0.0im  0.0+0.0im\n",
       " 0.0+0.0im   0.0+0.0im   0.0+0.0im     -1.0+0.0im   0.0+0.0im  0.0+0.0im\n",
       " 0.0+0.0im   0.0+0.0im   0.0+0.0im  …   0.0+0.0im   0.0+0.0im  0.0+0.0im\n",
       " 0.0+0.0im   0.0+0.0im   0.0+0.0im      0.0+0.0im   0.0+0.0im  1.0+0.0im\n",
       " 0.0+0.0im   0.0+0.0im   0.0+0.0im      0.0+0.0im  -1.0+0.0im  0.0+0.0im"
      ]
     },
     "execution_count": 55,
     "metadata": {},
     "output_type": "execute_result"
    }
   ],
   "source": [
    "t = symbols(\"t\")\n",
    "symPFunctions = [1 0 0]\n",
    "interval = (0, 0.75, 1)\n",
    "symL = SymLinearDifferentialOperator(symPFunctions, interval, t)\n",
    "L = get_L(symL)\n",
    "\n",
    "B = get_B(L; symbolic = false)\n",
    "BHat = get_BHat(L, B)"
   ]
  },
  {
   "cell_type": "markdown",
   "metadata": {
    "heading_collapsed": true
   },
   "source": [
    "## `get_J(BHat_Array, H_Array)`\n",
    "Given $\\hat{B}$ and $H$, constructs $J$ defined as \n",
    "$$J:=(\\hat{B} H^{-1})^\\star$$\n",
    "where $^*$ denotes conjugate transpose."
   ]
  },
  {
   "cell_type": "code",
   "execution_count": 32,
   "metadata": {
    "hidden": true
   },
   "outputs": [
    {
     "data": {
      "text/plain": [
       "get_J (generic function with 1 method)"
      ]
     },
     "execution_count": 32,
     "metadata": {},
     "output_type": "execute_result"
    }
   ],
   "source": [
    "function get_J(BHat, H)\n",
    "    J = (BHat * inv(H))'\n",
    "    return J\n",
    "end"
   ]
  },
  {
   "cell_type": "markdown",
   "metadata": {
    "hidden": true
   },
   "source": [
    "**Parameters**\n",
    "* `BHat_Array`: `Array` of `Array`\n",
    "    * Output of `get_BHat()`.\n",
    "* `H_Array`: `Array` of `Array`\n",
    "    * Output of `get_H()`.\n",
    "\n",
    "**Returns**\n",
    "* `get_J`: `Array` of `Array`\n",
    "    * Returns a tuple of $J_l$ defined above.\n",
    "\n",
    "**Example**"
   ]
  },
  {
   "cell_type": "code",
   "execution_count": 58,
   "metadata": {
    "hidden": true
   },
   "outputs": [
    {
     "data": {
      "text/plain": [
       "8×8 LinearAlgebra.Adjoint{Complex{Float64},Array{Complex{Float64},2}}:\n",
       "  1.22125e-15-0.0im   8.32667e-17-0.0im  …   0.285714-0.0im   0.428571-0.0im\n",
       "  3.33067e-16-0.0im  -1.11022e-16-0.0im      0.142857-0.0im   0.214286-0.0im\n",
       "  9.99201e-16-0.0im   5.55112e-17-0.0im      0.142857-0.0im    1.71429-0.0im\n",
       " -6.66134e-16-0.0im           0.0-0.0im     -0.142857-0.0im  -0.714286-0.0im\n",
       " -4.55191e-15-0.0im           1.0-0.0im     -0.857143-0.0im   -5.78571-0.0im\n",
       "         -1.0-0.0im  -3.48927e-16-0.0im  …  -0.857143-0.0im   -6.28571-0.0im\n",
       " -5.32907e-15-0.0im  -3.60822e-16-0.0im          -1.0-0.0im       -5.0-0.0im\n",
       " -8.32667e-15-0.0im  -1.22918e-16-0.0im      -2.14286-0.0im   -2.21429-0.0im"
      ]
     },
     "execution_count": 58,
     "metadata": {},
     "output_type": "execute_result"
    }
   ],
   "source": [
    "t = symbols(\"t\")\n",
    "symPFunctions = [1 0 0]\n",
    "interval = (0, 0.75, 1)\n",
    "symL = SymLinearDifferentialOperator(symPFunctions, interval, t)\n",
    "L = get_L(symL)\n",
    "\n",
    "B = get_B(L; symbolic = false)\n",
    "BHat = get_BHat(L, B)\n",
    "\n",
    "M1 = [1. 2.; 1. 0.; 3. 4.; 0. 2.]\n",
    "M2 = [1. 0.; 0. 2.; 1. 1.; 3. 3.]\n",
    "M = [M1, M2]\n",
    "N1 = [3. 7.; 0. 3.; 3. 0.; 2. 2.]\n",
    "N2 = [1. 0.; 0. 10.; 0. 0.; 2. 3.]\n",
    "N = [N1, N2]\n",
    "U = VectorMultipointForm(M, N)\n",
    "\n",
    "Uc = get_Uc(U)\n",
    "H = get_H(U, Uc)\n",
    "J = get_J(BHat, H)"
   ]
  },
  {
   "cell_type": "markdown",
   "metadata": {
    "heading_collapsed": true
   },
   "source": [
    "## `get_adjoint_Candidate(J)`\n",
    "Given $J$, constructs a candidate adjoint vector multipoint form $U^+$ from two tuples $\\{P^\\star_l\\}_{l=1}^k$, $\\{Q^\\star_l\\}_{l=1}^k,$ whose elements are matrices from the bottom half of $J$, respectively."
   ]
  },
  {
   "cell_type": "code",
   "execution_count": 33,
   "metadata": {
    "hidden": true
   },
   "outputs": [
    {
     "data": {
      "text/plain": [
       "get_adjoint_Candidate (generic function with 1 method)"
      ]
     },
     "execution_count": 33,
     "metadata": {},
     "output_type": "execute_result"
    }
   ],
   "source": [
    "# Construct U+\n",
    "function get_adjoint_Candidate(J, n, k) # n is the order of the problem, k is the number of points minus 1\n",
    "    PStar = Array{Any}(undef, 1, k)\n",
    "    QStar = Array{Any}(undef, 1, k)\n",
    "    J = J[(n*k+1):2n*k, :]\n",
    "    j = 0\n",
    "    for i=1:k\n",
    "        PStar[i] = J[:, (j*n+1):(j+1)*n]\n",
    "        QStar[i] = J[:, ((j+1)*n+1):(j+2)*n]\n",
    "        j += 2\n",
    "    end\n",
    "    adjointU = VectorMultipointForm(PStar, QStar)\n",
    "    return adjointU\n",
    "end"
   ]
  },
  {
   "cell_type": "markdown",
   "metadata": {
    "hidden": true
   },
   "source": [
    "**Parameters**\n",
    "* `J`: `Array` of `Array`\n",
    "    * Output of `get_J`.\n",
    "\n",
    "**Returns**\n",
    "* `get_adjoint`: `VectorMultipointForm`\n",
    "    * Returns $U^+$ defined above.\n",
    "\n",
    "**Example**"
   ]
  },
  {
   "cell_type": "code",
   "execution_count": 60,
   "metadata": {
    "hidden": true
   },
   "outputs": [
    {
     "data": {
      "text/plain": [
       "VectorMultipointForm(Any[Complex{Float64}[-1.0-0.0im 1.0-0.0im; -1.0-0.0im -3.48927e-16-0.0im; -4.96825e-15-0.0im -3.60822e-16-0.0im; -8.20376e-15-0.0im -1.22918e-16-0.0im] Complex{Float64}[6.39286-0.0im -6.78571-0.0im; 8.14286-0.0im -8.28571-0.0im; 7.0-0.0im -8.0-0.0im; 4.60714-0.0im -9.21429-0.0im]], Any[Complex{Float64}[-1.11022e-16-0.0im 0.0-0.0im; -1.11022e-16-0.0im 0.0-0.0im; 1.5-0.0im -1.0-0.0im; 1.0-0.0im 0.0-0.0im] Complex{Float64}[10.7143-0.0im -5.78571-0.0im; 11.7143-0.0im -6.28571-0.0im; 9.0-0.0im -5.0-0.0im; 2.28571-0.0im -2.21429-0.0im]])"
      ]
     },
     "execution_count": 60,
     "metadata": {},
     "output_type": "execute_result"
    }
   ],
   "source": [
    "t = symbols(\"t\")\n",
    "symPFunctions = [1 t+1 t^2+t+1]\n",
    "interval = (0, 0.5, 1)\n",
    "symL = SymLinearDifferentialOperator(symPFunctions, interval, t)\n",
    "L = get_L(symL)\n",
    "\n",
    "B = get_B(L; symbolic = false)\n",
    "BHat = get_BHat(L, B)\n",
    "\n",
    "M1 = [1. 2.; 1. 0.; 3. 4.; 0. 2.]\n",
    "M2 = [1. 0.; 0. 2.; 1. 1.; 3. 3.]\n",
    "M = [M1, M2]\n",
    "N1 = [3. 7.; 0. 3.; 3. 0.; 2. 2.]\n",
    "N2 = [1. 0.; 0. 10.; 0. 0.; 2. 3.]\n",
    "N = [N1, N2]\n",
    "\n",
    "U = VectorMultipointForm(M, N)\n",
    "Uc = get_Uc(U)\n",
    "H = get_H(U, Uc)\n",
    "J = get_J(BHat, H)\n",
    "\n",
    "adjoint = get_adjoint_Candidate(J, 2, 2)"
   ]
  },
  {
   "cell_type": "markdown",
   "metadata": {
    "heading_collapsed": true
   },
   "source": [
    "## `get_symXi(L; symbolic, xSym)`\n",
    "Given a `LinearDifferentialOperator` `L` of order $n$ in the differential equation $Lx=0$, constructs $\\xi(t)$, which is defined as the vector of derivatives of $x(t)$\n",
    "$$\\xi(t) := \\begin{bmatrix}x(t)\\\\ x^{(1)}(t)\\\\ x^{(2)}(t)\\\\ \\vdots\\\\ x^{(n-1)}(t)\\end{bmatrix}.$$"
   ]
  },
  {
   "cell_type": "code",
   "execution_count": 34,
   "metadata": {
    "hidden": true
   },
   "outputs": [
    {
     "data": {
      "text/plain": [
       "get_xi (generic function with 1 method)"
      ]
     },
     "execution_count": 34,
     "metadata": {},
     "output_type": "execute_result"
    }
   ],
   "source": [
    "function get_xi(L::LinearDifferentialOperator; symbolic = true, xSym= nothing)\n",
    "    if symbolic\n",
    "        t = L.symL.t\n",
    "        n = length(L.pFunctions)-1\n",
    "        symXi = Array{SymPy.Sym}(undef, n,1)\n",
    "        if isa(xSym, Nothing)\n",
    "            throw(error(\"xSymrequired\"))\n",
    "        else\n",
    "            for i = 1:n\n",
    "                symXi[i] = get_deriv(xSym, i-1)\n",
    "            end\n",
    "            return symXi\n",
    "        end\n",
    "    else\n",
    "        if isa(xSym, Nothing)\n",
    "            throw(error(\"xSym required\"))\n",
    "        elseif !isa(xSym, SymPy.Sym) && !isa(xSym, Number)\n",
    "            throw(error(\"xSym should be SymPy.Sym or Number\"))\n",
    "        else\n",
    "            symXi = get_xi(L; symbolic = true, xSym = xSym)\n",
    "            xi = sym_to_func.(symXi)\n",
    "        end\n",
    "    end\n",
    "end"
   ]
  },
  {
   "cell_type": "markdown",
   "metadata": {
    "hidden": true
   },
   "source": [
    "**Parameters**\n",
    "* `L`: `LinearDifferentialOperator`\n",
    "    * Linear differential operator in the differential equation $Lx=0$; derivatives of $x(t)$ will be entries of $\\xi(t)$.\n",
    "* `symbolic`: `Bool`\n",
    "    * Boolean indicating whether the output is symbolic.\n",
    "* `substitute*`: `Bool`\n",
    "    * If `symbolic = true`, boolean indicating whether to substitute the symbolic expression of $x(t)$ for the generic expression created using `SymFunction`.\n",
    "* `xSym*`: `SymPy.Sym`\n",
    "    * If `substitute = true`, symbolic expression of $x(t)$ to replace the generic expression with.\n",
    "\n",
    "**Returns**\n",
    "* `get_xi`: `Array` of `SymPy.Sym`\n",
    "    * Returns an array whose $i$th entry is\n",
    "        * the generic expression $\\displaystyle\\frac{d^{i-1}}{dt^{i-1}}x(t)$ if `substitute = false`, or\n",
    "        * the symbolic expression of the ($i-1$)th derivative of $x(t)$ if `substitute = true`.\n",
    "\n",
    "**Example**"
   ]
  },
  {
   "cell_type": "code",
   "execution_count": 62,
   "metadata": {
    "hidden": true
   },
   "outputs": [
    {
     "data": {
      "text/plain": [
       "LinearDifferentialOperator(getfield(Main, Symbol(\"#func#6\")){Sym,Array{Sym,1}}[#func#6{Sym,Array{Sym,1}}(1, Sym[]) #func#6{Sym,Array{Sym,1}}(t + 1, Sym[t]) #func#6{Sym,Array{Sym,1}}(t^2 + t + 1, Sym[t])], (0, 0.5, 1), SymLinearDifferentialOperator(Sym[1 t + 1 t^2 + t + 1], (0, 0.5, 1), t))"
      ]
     },
     "execution_count": 62,
     "metadata": {},
     "output_type": "execute_result"
    }
   ],
   "source": [
    "t = symbols(\"t\")\n",
    "symPFunctions = [1 t+1 t^2+t+1]\n",
    "interval = (0, 0.5, 1)\n",
    "symL = SymLinearDifferentialOperator(symPFunctions, interval, t)\n",
    "L = get_L(symL)"
   ]
  },
  {
   "cell_type": "code",
   "execution_count": 63,
   "metadata": {
    "hidden": true
   },
   "outputs": [
    {
     "data": {
      "text/latex": [
       "\\[\\left[ \\begin{array}{r}t^{2} + 2 t\\\\2 t + 2\\end{array}\\right]\\]"
      ],
      "text/plain": [
       "2×1 Array{Sym,2}:\n",
       " t^2 + 2*t\n",
       "   2*t + 2"
      ]
     },
     "execution_count": 63,
     "metadata": {},
     "output_type": "execute_result"
    }
   ],
   "source": [
    "xSym = t^2+2t\n",
    "symXi = get_xi(L; symbolic = true, xSym = xSym)"
   ]
  },
  {
   "cell_type": "code",
   "execution_count": 64,
   "metadata": {
    "hidden": true
   },
   "outputs": [
    {
     "name": "stdout",
     "output_type": "stream",
     "text": [
      "xi(1) = [3; 4]\n",
      "symXi(1) = [3; 4]\n"
     ]
    }
   ],
   "source": [
    "xi = get_xi(L; symbolic=false, xSym = xSym)\n",
    "tVal = 1\n",
    "println(\"xi($tVal) = $(evaluate.(xi, tVal))\")\n",
    "println(\"symXi($tVal) = $(evaluate.(symXi, tVal))\")"
   ]
  },
  {
   "cell_type": "markdown",
   "metadata": {
    "heading_collapsed": true
   },
   "source": [
    "## `get_Ux(L, U, xSym)`\n",
    "Given a `LinearDifferentialOperator` `L` and a `VectorMultipointForm` `U`, constructs the left hand side of the homogeneous boundary condition $Uq=0$, where\n",
    "$$\\begin{align*}\n",
    "    Uq &= \\sum_{l=1}^k \\begin{bmatrix}\n",
    "        \\sum_{j=1}^n (M_{1jl}q^{(j-1)}(x_{l-1}) + N_{1jl}q^{(j-1)}(x_{l}))\\\\\n",
    "        \\vdots\\\\\n",
    "        \\sum_{j=1}^n (M_{mjl}q^{(j-1)}(x_{l-1}) + N_{mjl}q^{(j-1)}(x_{l}))\n",
    "    \\end{bmatrix}\\\\\n",
    "    &= \\sum_{l=1}^k \\begin{bmatrix}\n",
    "        M_{11l} & \\cdots & M_{1nl} & N_{11} & \\cdots & N_{1nl}\\\\\n",
    "        \\vdots &  & \\vdots & \\vdots & & \\vdots\\\\\n",
    "        M_{m1l} & \\cdots & M_{mnl} & N_{m1} & \\cdots & N_{mnl}\n",
    "    \\end{bmatrix} \\begin{bmatrix}q(x_{l-1})\\\\\\vdots\\\\q^{(n-1)}(x_{l-1})\\\\ q(x_l)\\\\\\vdots\\\\q^{(n-1)}(x_l)\\end{bmatrix}\\\\\n",
    "    &= \\sum_{l=1}^k (M_l:N_l)\\begin{bmatrix}\n",
    "        \\xi(x_{l-1})\\\\\n",
    "        \\xi(x_l)\n",
    "    \\end{bmatrix}.\n",
    "\\end{align*}$$"
   ]
  },
  {
   "cell_type": "code",
   "execution_count": 35,
   "metadata": {
    "hidden": true
   },
   "outputs": [
    {
     "data": {
      "text/plain": [
       "get_Ux (generic function with 1 method)"
      ]
     },
     "execution_count": 35,
     "metadata": {},
     "output_type": "execute_result"
    }
   ],
   "source": [
    "function get_Ux(L::LinearDifferentialOperator, U::VectorMultipointForm, xSym)\n",
    "    interval = L.interval\n",
    "    n = length(L.pFunctions)-1 # order of the problem\n",
    "    k = length(interval)-1 # number of points minus 1\n",
    "    xi = get_xi(L; symbolic = false, xSym = xSym)\n",
    "    summand = zeros(n*k, 1)\n",
    "    M, N = copy(U.MM), copy(U.NN)\n",
    "    for i=1:k\n",
    "        xiEvalA = evaluate.(xi, interval[i])\n",
    "        xiEvalB = evaluate.(xi, interval[i+1])\n",
    "        Ux = M[i]*xiEvalA + N[i]*xiEvalB\n",
    "        summand = Ux + summand \n",
    "    end\n",
    "    return summand\n",
    "end"
   ]
  },
  {
   "cell_type": "code",
   "execution_count": 66,
   "metadata": {
    "hidden": true
   },
   "outputs": [
    {
     "data": {
      "text/plain": [
       "VectorMultipointForm(Array{Float64,2}[[1.0 2.0; 1.0 0.0; 3.0 4.0; 0.0 2.0], [1.0 0.0; 0.0 2.0; 1.0 1.0; 3.0 3.0]], Array{Float64,2}[[3.0 7.0; 0.0 3.0; 3.0 0.0; 2.0 2.0], [1.0 0.0; 0.0 10.0; 0.0 0.0; 2.0 3.0]])"
      ]
     },
     "execution_count": 66,
     "metadata": {},
     "output_type": "execute_result"
    }
   ],
   "source": [
    "t = symbols(\"t\")\n",
    "symPFunctions = [1 t+1 t^2+t+1]\n",
    "interval = (0, 0.5, 1)\n",
    "symL = SymLinearDifferentialOperator(symPFunctions, interval, t)\n",
    "L = get_L(symL)\n",
    "\n",
    "M1 = [1. 2.; 1. 0.; 3. 4.; 0. 2.]\n",
    "M2 = [1. 0.; 0. 2.; 1. 1.; 3. 3.]\n",
    "M = [M1, M2]\n",
    "N1 = [3. 7.; 0. 3.; 3. 0.; 2. 2.]\n",
    "N2 = [1. 0.; 0. 10.; 0. 0.; 2. 3.]\n",
    "N = [N1, N2]\n",
    "U = VectorMultipointForm(M, N)"
   ]
  },
  {
   "cell_type": "code",
   "execution_count": 67,
   "metadata": {
    "hidden": true
   },
   "outputs": [
    {
     "name": "stdout",
     "output_type": "stream",
     "text": [
      "U(t^2 + 2*t) = [33.0; 55.0; 16.0; 43.25]\n"
     ]
    }
   ],
   "source": [
    "xSym = t^2+2t\n",
    "Ux = get_Ux(L, U, xSym)\n",
    "println(\"U($xSym) = $Ux\")"
   ]
  },
  {
   "cell_type": "markdown",
   "metadata": {
    "heading_collapsed": true
   },
   "source": [
    "## `check_adjoint(L, U, adjointU, B)`\n",
    "Given a multipoint value problem\n",
    "$$Lq = 0,\\quad Uq=0$$\n",
    "with linear differential operator $L$ and vector multipoint form $U$, a candidate adjoint vector multipoint form $U^+$, and the matrix $B$ associated with $L$, checks whether the multipoint condition\n",
    "$$U^+q = 0$$\n",
    "is indeed adjoint to the multipoint condition\n",
    "$$Uq=0.$$"
   ]
  },
  {
   "cell_type": "code",
   "execution_count": 36,
   "metadata": {
    "hidden": true
   },
   "outputs": [
    {
     "data": {
      "text/plain": [
       "check_adjoint (generic function with 1 method)"
      ]
     },
     "execution_count": 36,
     "metadata": {},
     "output_type": "execute_result"
    }
   ],
   "source": [
    "function check_adjoint(L::LinearDifferentialOperator, U::VectorMultipointForm, adjointU::VectorMultipointForm, B::Array)\n",
    "    interval = L.interval\n",
    "    n = length(L.pFunctions) - 1\n",
    "    k = length(interval) - 1\n",
    "    M, N = copy(U.MM), copy(U.NN)\n",
    "    P, Q = (copy(adjointU.MM)), (copy(adjointU.NN))\n",
    "    checker = Array{Bool}(undef, 1, k)\n",
    "    left = convert(Array{Complex}, Array{Float64, 2}(undef, n*k, n*k))\n",
    "    right = convert(Array{Complex}, Array{Float64, 2}(undef, n*k, n*k))\n",
    "    for i=1:k\n",
    "        BEvalA = convert(Array{Complex}, evaluate.(B, interval[i]))\n",
    "        BEvalB = convert(Array{Complex}, evaluate.(B, interval[i+1]))\n",
    "    \n",
    "        left += M[i] * inv(BEvalA) * (P[i])'\n",
    "        right += N[i] * inv(BEvalB) * (Q[i])'\n",
    "    end\n",
    "    tol = set_tol(left, right)\n",
    "    return checker_matrix(left, right, tol) \n",
    "end"
   ]
  },
  {
   "cell_type": "markdown",
   "metadata": {
    "hidden": true
   },
   "source": [
    "**Parameters**\n",
    "* `L`: `LinearDifferentialOperator`\n",
    "    * Linear differential operator in the differential equation $Lx=0$.\n",
    "* `U`: `VectorMultipointForm`\n",
    "    * Vector multipoint form in the multipoint condition $Ux=0$.\n",
    "* `adjointU`: `VectorMultipointForm`\n",
    "    * Vector multipoint form in the candidate adjoint multipoint condition $U^+x=0$.\n",
    "* `B`: `Array` of `Number`\n",
    "    * Output of `get_B(L)`.\n",
    "\n",
    "**Returns**\n",
    "* `check_adjoint`: `Bool`\n",
    "    * Returns \n",
    "        * `true` if `adjointU` is indeed adjoint to `U`, or\n",
    "        * `false` otherwise.\n",
    "\n",
    "**Example**"
   ]
  },
  {
   "cell_type": "code",
   "execution_count": 86,
   "metadata": {
    "hidden": true
   },
   "outputs": [
    {
     "data": {
      "text/plain": [
       "8×8 Array{Complex{Float64},2}:\n",
       " 3.0+0.0im  -3.0+0.0im   0.0+0.0im  …   0.0+0.0im    0.0+0.0im   0.0+0.0im\n",
       " 3.0+0.0im   0.0+0.0im   0.0+0.0im      0.0+0.0im    0.0+0.0im   0.0+0.0im\n",
       " 0.0+0.0im   0.0+0.0im  -5.0+0.0im      0.0+0.0im    0.0+0.0im   0.0+0.0im\n",
       " 0.0+0.0im   0.0+0.0im  -7.0+0.0im      0.0+0.0im    0.0+0.0im   0.0+0.0im\n",
       " 0.0+0.0im   0.0+0.0im   0.0+0.0im     -7.0+0.0im    0.0+0.0im   0.0+0.0im\n",
       " 0.0+0.0im   0.0+0.0im   0.0+0.0im  …   0.0+0.0im    0.0+0.0im   0.0+0.0im\n",
       " 0.0+0.0im   0.0+0.0im   0.0+0.0im      0.0+0.0im   -7.0+0.0im  13.0+0.0im\n",
       " 0.0+0.0im   0.0+0.0im   0.0+0.0im      0.0+0.0im  -13.0+0.0im   0.0+0.0im"
      ]
     },
     "execution_count": 86,
     "metadata": {},
     "output_type": "execute_result"
    }
   ],
   "source": [
    "t = symbols(\"t\")\n",
    "symPFunctions = [t^2+t+1 0 0]\n",
    "interval = (1, 2, 3)\n",
    "symL = SymLinearDifferentialOperator(symPFunctions, interval, t)\n",
    "L = get_L(symL)\n",
    "\n",
    "B = get_B(L; symbolic = false)\n",
    "BHat = get_BHat(L, B)"
   ]
  },
  {
   "cell_type": "code",
   "execution_count": 87,
   "metadata": {
    "hidden": true
   },
   "outputs": [
    {
     "data": {
      "text/plain": [
       "VectorMultipointForm(Any[Complex{Float64}[3.0-0.0im 3.0-0.0im; -3.0-0.0im -1.04678e-15-0.0im; -1.70697e-14-0.0im -1.08247e-15-0.0im; -2.53488e-14-0.0im -3.68753e-16-0.0im] Complex{Float64}[-60.4286-0.0im -47.5-0.0im; -71.4286-0.0im -58.0-0.0im; -75.0-0.0im -56.0-0.0im; -110.571-0.0im -64.5-0.0im]], Any[Complex{Float64}[-7.77156e-16-0.0im 0.0-0.0im; -7.77156e-16-0.0im 0.0-0.0im; -5.0-0.0im -7.0-0.0im; 7.0-0.0im 0.0-0.0im] Complex{Float64}[-51.6429-0.0im -75.2143-0.0im; -55.1429-0.0im -81.7143-0.0im; -48.0-0.0im -65.0-0.0im; -43.3571-0.0im -28.7857-0.0im]])"
      ]
     },
     "execution_count": 87,
     "metadata": {},
     "output_type": "execute_result"
    }
   ],
   "source": [
    "M1 = [1. 2.; 1. 0.; 3. 4.; 0. 2.]\n",
    "M2 = [1. 0.; 0. 2.; 1. 1.; 3. 3.]\n",
    "M = [M1, M2]\n",
    "N1 = [3. 7.; 0. 3.; 3. 0.; 2. 2.]\n",
    "N2 = [1. 0.; 0. 10.; 0. 0.; 2. 3.]\n",
    "N = [N1, N2]\n",
    "U = VectorMultipointForm(M, N)\n",
    "Uc = get_Uc(U)\n",
    "\n",
    "H = get_H(U, Uc)\n",
    "J = get_J(BHat, H)\n",
    "adjointU = get_adjoint_Candidate(J, 2, 2)"
   ]
  },
  {
   "cell_type": "code",
   "execution_count": 92,
   "metadata": {
    "hidden": true,
    "scrolled": true
   },
   "outputs": [
    {
     "data": {
      "text/plain": [
       "true"
      ]
     },
     "execution_count": 92,
     "metadata": {},
     "output_type": "execute_result"
    }
   ],
   "source": [
    "check_adjoint(L, U, adjointU, B)"
   ]
  },
  {
   "cell_type": "markdown",
   "metadata": {},
   "source": [
    "## `get_adjointU(L, U, pDerivMatrix)`\n",
    "\n",
    "Given a multi-point boundary value problem\n",
    "$$Lq = p_0q^{(n)} + p_1q^{(n-1)} + \\cdots + p_{n-1}q^{(1)} + p_n q = 0,\\quad Uq=0$$\n",
    "with linear differential operator $L$ and vector boundary form $U$, an $n\\times n$ matrix of derivatives\n",
    "$$\\begin{bmatrix}p_0 & \\cdots & p_0^{(n-1)}\\\\ \\vdots & \\ddots & \\vdots\\\\ p_{n-1} & \\cdots & p_{n-1}^{(n-1)}\\end{bmatrix},$$\n",
    "construct $U^+$ such that the boundary condition $U^+q=0$ is adjoint to the original boundary condition $Uq=0$."
   ]
  },
  {
   "cell_type": "code",
   "execution_count": 37,
   "metadata": {
    "code_folding": []
   },
   "outputs": [
    {
     "data": {
      "text/plain": [
       "get_adjointU (generic function with 2 methods)"
      ]
     },
     "execution_count": 37,
     "metadata": {},
     "output_type": "execute_result"
    }
   ],
   "source": [
    "function get_adjointU(L::LinearDifferentialOperator, U::VectorMultipointForm, pDerivMatrix=get_pDerivMatrix(L))\n",
    "    B = get_B(L; pDerivMatrix = pDerivMatrix)\n",
    "    BHat_Arr = get_BHat(L, B)\n",
    "    Uc = get_Uc(U)\n",
    "    H_Arr = get_H(U, Uc)\n",
    "    J_Arr = get_J(BHat_Arr, H_Arr)\n",
    "    adjointU = get_adjoint_Candidate(J_Arr, length(L.pFunctions) -1, length(L.interval) - 1)\n",
    "    return adjointU\n",
    "    if check_adjoint(L, U, adjointU, B)\n",
    "        return adjointU\n",
    "    else\n",
    "        throw(error(\"Adjoint found not valid\"))\n",
    "    end\n",
    "end"
   ]
  },
  {
   "cell_type": "markdown",
   "metadata": {},
   "source": [
    "**Parameters**\n",
    "* `L`: `LinearDifferentialOperator`\n",
    "    * Linear differential operator in the differential equation $Lq=0$.\n",
    "* `U`: `VectorMultiBoundaryForm`\n",
    "    * Vector multi boundary form in the boundary condition $Uq=0$.\n",
    "* `pDerivMatrix`: `Array` of `Function`, `Number`, or `SymPy.#`\n",
    "    * An $n\\times n$ matrix defined above, which can be\n",
    "        * output of `get_pDerivMatrix` (`SymPy.#`), or\n",
    "        * user input.\n",
    "\n",
    "**Returns**\n",
    "* `get_adjointU`: `VectorMultiBoundaryForm`\n",
    "    * Returns a valid vector boundary form $U^+$ such that the boundary condition $U^+q=0$ is adjoint to $Uq=0$.\n",
    "\n",
    "**Example**"
   ]
  },
  {
   "cell_type": "code",
   "execution_count": 94,
   "metadata": {},
   "outputs": [
    {
     "data": {
      "text/plain": [
       "2×2 Array{getfield(Main, Symbol(\"#func#6\")){Sym,Array{Sym,1}},2}:\n",
       " #func#6{Sym,Array{Sym,1}}(1, Sym[])       …  #func#6{Sym,Array{Sym,1}}(0, Sym[])\n",
       " #func#6{Sym,Array{Sym,1}}(t + 1, Sym[t])     #func#6{Sym,Array{Sym,1}}(1, Sym[])"
      ]
     },
     "execution_count": 94,
     "metadata": {},
     "output_type": "execute_result"
    }
   ],
   "source": [
    "t = symbols(\"t\")\n",
    "symPFunctions = [1 t+1 t^2+t+1]\n",
    "interval = (0, 0.5, 1)\n",
    "symL = SymLinearDifferentialOperator(symPFunctions, interval, t)\n",
    "L = get_L(symL)\n",
    "M1 = [1. 2.; 1. 0.; 3. 4.; 0. 2.]\n",
    "M2 = [1. 0.; 0. 2.; 1. 1.; 3. 3.]\n",
    "M = [M1, M2]\n",
    "N1 = [3. 7.; 0. 3.; 3. 0.; 2. 2.]\n",
    "N2 = [1. 0.; 0. 10.; 0. 0.; 2. 3.]\n",
    "N = [N1, N2]\n",
    "U = VectorMultipointForm(M, N)\n",
    "\n",
    "pDerivMatrix = get_pDerivMatrix(L)"
   ]
  },
  {
   "cell_type": "code",
   "execution_count": 95,
   "metadata": {},
   "outputs": [
    {
     "data": {
      "text/plain": [
       "VectorMultipointForm(Any[Complex{Float64}[-1.0-0.0im 1.0-0.0im; -1.0-0.0im -3.48927e-16-0.0im; -4.96825e-15-0.0im -3.60822e-16-0.0im; -8.20376e-15-0.0im -1.22918e-16-0.0im] Complex{Float64}[6.39286-0.0im -6.78571-0.0im; 8.14286-0.0im -8.28571-0.0im; 7.0-0.0im -8.0-0.0im; 4.60714-0.0im -9.21429-0.0im]], Any[Complex{Float64}[-1.11022e-16-0.0im 0.0-0.0im; -1.11022e-16-0.0im 0.0-0.0im; 1.5-0.0im -1.0-0.0im; 1.0-0.0im 0.0-0.0im] Complex{Float64}[10.7143-0.0im -5.78571-0.0im; 11.7143-0.0im -6.28571-0.0im; 9.0-0.0im -5.0-0.0im; 2.28571-0.0im -2.21429-0.0im]])"
      ]
     },
     "execution_count": 95,
     "metadata": {},
     "output_type": "execute_result"
    }
   ],
   "source": [
    "adjointU = get_adjointU(L, U, pDerivMatrix)"
   ]
  },
  {
   "cell_type": "markdown",
   "metadata": {},
   "source": [
    "# Examples"
   ]
  },
  {
   "cell_type": "markdown",
   "metadata": {},
   "source": [
    "## Problem 1"
   ]
  },
  {
   "cell_type": "code",
   "execution_count": 69,
   "metadata": {},
   "outputs": [
    {
     "data": {
      "text/plain": [
       "LinearDifferentialOperator([-1 0 0 0], (0, 0.25, 0.7, 1), SymLinearDifferentialOperator([-1 0 0 0], (0, 0.25, 0.7, 1), t))"
      ]
     },
     "execution_count": 69,
     "metadata": {},
     "output_type": "execute_result"
    }
   ],
   "source": [
    "t = symbols(\"t\")\n",
    "symPFunctions_1 = [-1 0 0 0]\n",
    "interval_1 = (0, 0.25, 0.7, 1)\n",
    "symL_1 = SymLinearDifferentialOperator(symPFunctions_1, interval_1, t)\n",
    "L_1 = get_L(symL_1)"
   ]
  },
  {
   "cell_type": "code",
   "execution_count": 70,
   "metadata": {},
   "outputs": [
    {
     "data": {
      "text/plain": [
       "3×3 Array{getfield(Main, Symbol(\"#func#6\")){Sym,Array{Sym,1}},2}:\n",
       " #func#6{Sym,Array{Sym,1}}(-1, Sym[])  …  #func#6{Sym,Array{Sym,1}}(0, Sym[])\n",
       " #func#6{Sym,Array{Sym,1}}(0, Sym[])      #func#6{Sym,Array{Sym,1}}(0, Sym[])\n",
       " #func#6{Sym,Array{Sym,1}}(0, Sym[])      #func#6{Sym,Array{Sym,1}}(0, Sym[])"
      ]
     },
     "execution_count": 70,
     "metadata": {},
     "output_type": "execute_result"
    }
   ],
   "source": [
    "pDerivMatrix_1 = get_pDerivMatrix(L_1)"
   ]
  },
  {
   "cell_type": "code",
   "execution_count": 64,
   "metadata": {},
   "outputs": [
    {
     "data": {
      "text/plain": [
       "VectorMultipointForm(Array{Int64,2}[[2 0 0; 0 1 1; … ; -1 0 0; 0 -5 1], [1 0 1; 0 1 0; … ; 0 0 0; 0 0 0], [1 0 0; 0 -1 1; … ; 0 0 0; 0 0 -3]], Array{Int64,2}[[0 3 0; 1 0 0; … ; 0 0 -2; 0 0 0], [1 2 0; 0 0 0; … ; 0 0 0; 3 1 -2], [1 1 0; 0 0 0; … ; 0 -2 0; 1 0 -2]])"
      ]
     },
     "execution_count": 64,
     "metadata": {},
     "output_type": "execute_result"
    }
   ],
   "source": [
    "R1_1 = [2 0 0; 0 1 1; 0 0 1; 1 2 -3; 0 -1 0; 1 0 1; 0 0 0; -1 0 0; 0 -5 1]\n",
    "R2_1 = [1 0 1; 0 1 0; 0 0 2; 0 -1 2; 3 1 0; 1 1 1; -1 -1 -1; 0 0 0; 0 0 0]\n",
    "R3_1 = [1 0 0; 0 -1 1; 0 0 1; 1 2 2; 0 1 0; -1 0 1; 0 1 0; 0 0 0; 0 0 -3]\n",
    "N1_1 = [0 3 0; 1 0 0; 0 0 0; 1 1 0; 0 1 -2; 1 0 -3; 0 0 0; 0 0 -2; 0 0 0]\n",
    "N2_1 = [1 2 0; 0 0 0; 1 0 -1; 0 0 2; 0 0 0; 0 3 -4; 0 1 0; 0 0 0; 3 1 -2]\n",
    "N3_1 = [1 1 0; 0 0 0; 2 0 0; 0 0 0; 0 1 0; 1 0 0; 0 0 0; 0 -2 0; 1 0 -2]\n",
    "R_1 = [R1_1, R2_1, R3_1]\n",
    "N_1 = [N1_1, N2_1, N3_1]\n",
    "pr1 = array_hcat_helper(R_1, N_1)\n",
    "LinearAlgebra.rank(pr1)\n",
    "\n",
    "U_1 = VectorMultipointForm(R_1, N_1)"
   ]
  },
  {
   "cell_type": "code",
   "execution_count": 71,
   "metadata": {},
   "outputs": [
    {
     "data": {
      "text/plain": [
       "VectorMultipointForm(Any[Complex{Float64}[0.0-0.0im 2.08167e-17-0.0im 1.0-0.0im; 2.77556e-17-0.0im -1.0-0.0im -3.33067e-16-0.0im; … ; 0.0-0.0im 0.0-0.0im 6.10623e-16-0.0im; 0.0-0.0im 3.70074e-17-0.0im -2.12793e-16-0.0im] Complex{Float64}[0.0-0.0im 0.0-0.0im 1.66533e-16-0.0im; 0.0-0.0im 0.0-0.0im 2.77556e-16-0.0im; … ; 0.0-0.0im -1.0-0.0im -7.21645e-16-0.0im; 1.0-0.0im 0.0-0.0im 0.0-0.0im] Complex{Float64}[0.5-0.0im -0.5-0.0im -3.0-0.0im; -8.88178e-16-0.0im -1.0-0.0im -0.666667-0.0im; … ; -2.0-0.0im 1.0-0.0im -0.333333-0.0im; -3.32467e-16-0.0im 4.44089e-16-0.0im -5.33333-0.0im]], Any[Complex{Float64}[-1.11022e-16-0.0im -1.249e-16-0.0im 0.0-0.0im; -1.11022e-16-0.0im 1.11022e-16-0.0im -1.11022e-16-0.0im; … ; 3.05311e-16-0.0im -5.75928e-16-0.0im -2.22045e-16-0.0im; -1.06396e-16-0.0im -4.996e-16-0.0im -1.11022e-16-0.0im] Complex{Float64}[-4.44089e-16-0.0im -0.5-0.0im -5.5-0.0im; 1.66667-0.0im -1.0-0.0im -7.0-0.0im; … ; -3.66667-0.0im 2.0-0.0im 13.0-0.0im; -1.66667-0.0im 1.0-0.0im -5.0-0.0im] Complex{Float64}[-5.75-0.0im -0.5-0.0im 3.0-0.0im; -7.0-0.0im 0.0-0.0im 4.33333-0.0im; … ; 14.5-0.0im 0.0-0.0im -9.33333-0.0im; -5.0-0.0im 0.0-0.0im 2.66667-0.0im]])"
      ]
     },
     "execution_count": 71,
     "metadata": {},
     "output_type": "execute_result"
    }
   ],
   "source": [
    "adjointU1 = get_adjointU(L_1, U_1, pDerivMatrix_1)"
   ]
  },
  {
   "cell_type": "code",
   "execution_count": 92,
   "metadata": {},
   "outputs": [
    {
     "data": {
      "text/plain": [
       "9×3 Array{Complex{Float64},2}:\n",
       "          0.5-0.0im          -0.5-0.0im       -3.0-0.0im\n",
       " -8.88178e-16-0.0im          -1.0-0.0im  -0.666667-0.0im\n",
       "         -1.0-0.0im  -1.33227e-15-0.0im        5.0-0.0im\n",
       "         -1.0-0.0im  -5.55112e-16-0.0im   0.333333-0.0im\n",
       "         -1.0-0.0im           1.0-0.0im   -2.33333-0.0im\n",
       "          3.0-0.0im          -3.0-0.0im   0.666667-0.0im\n",
       "         -3.0-0.0im           3.0-0.0im   -2.66667-0.0im\n",
       "         -2.0-0.0im           1.0-0.0im  -0.333333-0.0im\n",
       " -3.32467e-16-0.0im   4.44089e-16-0.0im   -5.33333-0.0im"
      ]
     },
     "execution_count": 92,
     "metadata": {},
     "output_type": "execute_result"
    }
   ],
   "source": [
    "adjointU1.MM[3]"
   ]
  },
  {
   "cell_type": "markdown",
   "metadata": {},
   "source": [
    "## Problem 2"
   ]
  },
  {
   "cell_type": "code",
   "execution_count": 40,
   "metadata": {},
   "outputs": [
    {
     "data": {
      "text/plain": [
       "2-element Array{Array{Int64,2},1}:\n",
       " [1 1 0; 0 1 1; … ; 0 1 0; 0 0 0]  \n",
       " [0 0 -1; 0 1 0; … ; 1 0 -1; 0 0 4]"
      ]
     },
     "execution_count": 40,
     "metadata": {},
     "output_type": "execute_result"
    }
   ],
   "source": [
    "R1_2 = [0 -2 1; 1 0 1; 1 1 0; 1 0 0; 0 -1 0; 0 0 1]\n",
    "R2_2 = [0 0 1; 0 1 0; 1 0 0; 0 0 -2; 1 1 0; 0 -2 0]\n",
    "N1_2 = [1 1 0; 0 1 1; -2 0 0; 0 0 3; 0 1 0; 0 0 0]\n",
    "N2_2 = [0 0 -1; 0 1 0; 1 1 1; 0 0 0; 1 0 -1; 0 0 4]\n",
    "R_2 = [R1_2, R2_2]\n",
    "N_2 = [N1_2, N2_2]"
   ]
  },
  {
   "cell_type": "code",
   "execution_count": 43,
   "metadata": {},
   "outputs": [
    {
     "data": {
      "text/plain": [
       "6"
      ]
     },
     "execution_count": 43,
     "metadata": {},
     "output_type": "execute_result"
    }
   ],
   "source": [
    "pr2 = array_hcat_helper(R_2, N_2)\n",
    "LinearAlgebra.rank(pr2)"
   ]
  },
  {
   "cell_type": "markdown",
   "metadata": {},
   "source": [
    "## Problem 3"
   ]
  },
  {
   "cell_type": "code",
   "execution_count": 46,
   "metadata": {},
   "outputs": [
    {
     "data": {
      "text/plain": [
       "2-element Array{Array{Int64,2},1}:\n",
       " [0 1; -2 0; 0 3; 0 0]\n",
       " [1 -1; 0 1; 1 1; 0 4]"
      ]
     },
     "execution_count": 46,
     "metadata": {},
     "output_type": "execute_result"
    }
   ],
   "source": [
    "R1_3 = [0 -2; 1 0; 1 1; 1 0]\n",
    "R2_3 = [0 1; 0 1; 1 0; 0 -2]\n",
    "N1_3 = [0 1; -2 0; 0 3; 0 0]\n",
    "N2_3 = [1 -1; 0 1; 1 1; 0 4]\n",
    "R_3 = [R1_3, R2_3]\n",
    "N_3 = [N1_3, N2_3]"
   ]
  },
  {
   "cell_type": "code",
   "execution_count": 47,
   "metadata": {},
   "outputs": [
    {
     "data": {
      "text/plain": [
       "4"
      ]
     },
     "execution_count": 47,
     "metadata": {},
     "output_type": "execute_result"
    }
   ],
   "source": [
    "pr3 = array_hcat_helper(R_3, N_3)\n",
    "LinearAlgebra.rank(pr3)"
   ]
  },
  {
   "cell_type": "markdown",
   "metadata": {},
   "source": [
    "## Problem 4"
   ]
  },
  {
   "cell_type": "code",
   "execution_count": 50,
   "metadata": {},
   "outputs": [
    {
     "data": {
      "text/plain": [
       "3-element Array{Array{Int64,2},1}:\n",
       " [0 1; -2 0; … ; 0 0; 1 -2]\n",
       " [1 -1; 0 1; … ; 1 0; 0 0] \n",
       " [0 0; 0 2; … ; -1 2; 0 0] "
      ]
     },
     "execution_count": 50,
     "metadata": {},
     "output_type": "execute_result"
    }
   ],
   "source": [
    "R1_4 = [0 -2; 1 0; 1 1; 1 0; 0 -1; 0 0]\n",
    "R2_4 = [0 1; 0 1; 1 0; 0 -2; 3 1; 0 -1]\n",
    "R3_4 = [1 0; 0 0; -2 1; 0 1; 0 0; 1 0 ]\n",
    "N1_4 = [0 1; -2 0; 0 3; 0 0; 0 0; 1 -2]\n",
    "N2_4 = [1 -1; 0 1; 1 1; 0 4; 1 0; 0 0 ]\n",
    "N3_4 = [0 0; 0 2; 0 0; 1 -1; -1 2; 0 0]\n",
    "R_4 = [R1_4, R2_4, R3_4]\n",
    "N_4 = [N1_4, N2_4, N3_4]"
   ]
  },
  {
   "cell_type": "code",
   "execution_count": 53,
   "metadata": {},
   "outputs": [
    {
     "data": {
      "text/plain": [
       "6"
      ]
     },
     "execution_count": 53,
     "metadata": {},
     "output_type": "execute_result"
    }
   ],
   "source": [
    "pr4 = array_hcat_helper(R_4, N_4)\n",
    "LinearAlgebra.rank(pr4)"
   ]
  },
  {
   "cell_type": "markdown",
   "metadata": {},
   "source": [
    "## Problem 5 "
   ]
  },
  {
   "cell_type": "code",
   "execution_count": 55,
   "metadata": {},
   "outputs": [
    {
     "data": {
      "text/plain": [
       "3-element Array{Array{Int64,2},1}:\n",
       " [0 1; 1 0; … ; -1 0; 1 0]\n",
       " [2 0; 0 5; … ; 1 0; 0 1] \n",
       " [1 1; 0 0; … ; -1 2; 0 0]"
      ]
     },
     "execution_count": 55,
     "metadata": {},
     "output_type": "execute_result"
    }
   ],
   "source": [
    "R1_5 = [3 -2; 0 3; 0 0; -1 1; -1 -1; 3 0]\n",
    "R2_5 = [4 0; 0 -1; 0 -1; 0 2; 0 -1; 1 1]\n",
    "R3_5 = [0 2; -1 1; 0 1; -2 1; 1 0; -1 1]\n",
    "N1_5 = [0 1; 1 0; 0 0; 2 2; -1 0; 1 0]\n",
    "N2_5 = [2 0; 0 5; 1 -2; 1 1; 1 0; 0 1]\n",
    "N3_5 = [1 1; 0 0; 0 0; 0 0; -1 2; 0 0]\n",
    "R_5 = [R1_5, R2_5, R3_5]\n",
    "N_5 = [N1_5, N2_5, N3_5]"
   ]
  },
  {
   "cell_type": "code",
   "execution_count": 56,
   "metadata": {},
   "outputs": [
    {
     "data": {
      "text/plain": [
       "6"
      ]
     },
     "execution_count": 56,
     "metadata": {},
     "output_type": "execute_result"
    }
   ],
   "source": [
    "pr5 = array_hcat_helper(R_5, N_5)\n",
    "LinearAlgebra.rank(pr5)"
   ]
  },
  {
   "cell_type": "markdown",
   "metadata": {
    "heading_collapsed": true
   },
   "source": [
    "# Helper Functions for Testing"
   ]
  },
  {
   "cell_type": "markdown",
   "metadata": {
    "heading_collapsed": true,
    "hidden": true
   },
   "source": [
    "## `generate_symPFunctions`"
   ]
  },
  {
   "cell_type": "code",
   "execution_count": 41,
   "metadata": {
    "hidden": true
   },
   "outputs": [
    {
     "data": {
      "text/plain": [
       "generate_symPFunctions (generic function with 1 method)"
      ]
     },
     "execution_count": 41,
     "metadata": {},
     "output_type": "execute_result"
    }
   ],
   "source": [
    "function generate_symPFunctions(n; random = false, constant = false)\n",
    "    global t = symbols(\"t\")\n",
    "    if random\n",
    "        symPFunctions = Array{Number}(undef, 1,n+1)\n",
    "        for i = 1:(n+1)\n",
    "            seed = rand(0:1)\n",
    "            if seed == 0 # constant\n",
    "                symPFunctionRe = rand(Uniform(1.0,10.0), 1, 1)[1]\n",
    "                symPFunctionIm = rand(Uniform(1.0,10.0), 1, 1)[1]\n",
    "                symPFunction = symPFunctionRe + symPFunctionIm*im\n",
    "            else # variable\n",
    "                coeffsNo = rand(1:5)\n",
    "                pFunctionCoeffsRe = rand(Uniform(1.0,10.0), 1, coeffsNo)\n",
    "                pFunctionCoeffsIm = rand(Uniform(1.0,10.0), 1,  coeffsNo)\n",
    "                pFunctionCoeffs = pFunctionCoeffsRe + pFunctionCoeffsIm*im\n",
    "                symPFunction = sum([pFunctionCoeffs[i+1]*t^(length(pFunctionCoeffs)-1-i) for i in 0:(length(pFunctionCoeffs)-1)])\n",
    "            end\n",
    "            symPFunctions[i] = symPFunction\n",
    "        end\n",
    "    else\n",
    "        if constant # constant\n",
    "            symPFunctionsRe = rand(Uniform(1.0,10.0), 1, (n+1))\n",
    "            symPFunctionsIm = rand(Uniform(1.0,10.0), 1, (n+1))\n",
    "            symPFunctions = symPFunctionsRe + symPFunctionsIm*im\n",
    "        else # variable\n",
    "            symPFunctions = Array{Number}(undef, 1,n+1)\n",
    "            for i = 1:(n+1)\n",
    "                # Each p_k is a polynomial function with random degree between 0 to 4 and random coefficients between 0 and 10\n",
    "                coeffsNo = rand(1:5)\n",
    "                pFunctionCoeffsRe = rand(Uniform(1.0,10.0), 1, coeffsNo)\n",
    "                pFunctionCoeffsIm = rand(Uniform(1.0,10.0), 1,  coeffsNo)\n",
    "                pFunctionCoeffs = pFunctionCoeffsRe + pFunctionCoeffsIm*im\n",
    "                symPFunction = sum([pFunctionCoeffs[i+1]*t^(length(pFunctionCoeffs)-1-i) for i in 0:(length(pFunctionCoeffs)-1)])\n",
    "                symPFunctions[i] = symPFunction\n",
    "            end\n",
    "        end\n",
    "    end\n",
    "    return symPFunctions\n",
    "end "
   ]
  },
  {
   "cell_type": "code",
   "execution_count": 42,
   "metadata": {
    "hidden": true
   },
   "outputs": [
    {
     "data": {
      "text/plain": [
       "generate_fake_symPFunctions (generic function with 1 method)"
      ]
     },
     "execution_count": 42,
     "metadata": {},
     "output_type": "execute_result"
    }
   ],
   "source": [
    "function generate_fake_symPFunctions(n; random = false)\n",
    "    global t = symbols(\"t\")\n",
    "    global r = symbols(\"r\")\n",
    "    if random\n",
    "        symPFunctions = Array{Number}(undef, 1,n+1)\n",
    "        for i = 1:(n+1)\n",
    "            seed = rand(0:1)\n",
    "            if seed == 0 # constant\n",
    "                symPFunctionRe = rand(Uniform(1.0,10.0), 1, 1)[1]\n",
    "                symPFunctionIm = rand(Uniform(1.0,10.0), 1, 1)[1]\n",
    "                symPFunction = symPFunctionRe + symPFunctionIm*im\n",
    "            else # variable\n",
    "                coeffsNo = rand(1:5)\n",
    "                pFunctionCoeffsRe = rand(Uniform(1.0,10.0), 1, coeffsNo)\n",
    "                pFunctionCoeffsIm = rand(Uniform(1.0,10.0), 1,  coeffsNo)\n",
    "                pFunctionCoeffs = pFunctionCoeffsRe + pFunctionCoeffsIm*im\n",
    "                symPFunction = sum([pFunctionCoeffs[i+1]*t^(length(pFunctionCoeffs)-1-i) for i in 0:(length(pFunctionCoeffs)-1)])\n",
    "            end\n",
    "            symPFunctions[i] = symPFunction\n",
    "        end\n",
    "    else\n",
    "        symPFunctions = Array{Number}(undef, 1,n+1)\n",
    "        for i = 1:(n+1)\n",
    "                # Each p_k is a polynomial function with random degree between 0 to 4 and random coefficients between 0 and 10\n",
    "            coeffsNo = rand(1:5)\n",
    "            pFunctionCoeffsRe = rand(Uniform(1.0,10.0), 1, coeffsNo)\n",
    "            pFunctionCoeffsIm = rand(Uniform(1.0,10.0), 1,  coeffsNo)\n",
    "            pFunctionCoeffs = pFunctionCoeffsRe + pFunctionCoeffsIm*im\n",
    "            symPFunction = sum([pFunctionCoeffs[i+1]*r*t^(length(pFunctionCoeffs)-1-i) for i in 0:(length(pFunctionCoeffs)-1)])\n",
    "            symPFunctions[i] = symPFunction\n",
    "        end\n",
    "    end\n",
    "    return symPFunctions\n",
    "end "
   ]
  },
  {
   "cell_type": "markdown",
   "metadata": {
    "heading_collapsed": true,
    "hidden": true
   },
   "source": [
    "## `generate_pFunctions`"
   ]
  },
  {
   "cell_type": "code",
   "execution_count": 43,
   "metadata": {
    "hidden": true
   },
   "outputs": [
    {
     "data": {
      "text/plain": [
       "generate_pFunctions (generic function with 1 method)"
      ]
     },
     "execution_count": 43,
     "metadata": {},
     "output_type": "execute_result"
    }
   ],
   "source": [
    "function generate_pFunctions(n; random = false, constant = false)\n",
    "    if random\n",
    "        pFunctions = Array{Union{Function, Number}}(undef,1,n+1)\n",
    "        pDerivMatrix = Array{Union{Function, Number}}(undef, n,n)\n",
    "        for i = 1:(n+1)\n",
    "            seed = rand(0:1)\n",
    "            if seed == 0 # constant\n",
    "                pFunctionRe = rand(Uniform(1.0,10.0), 1, 1)[1]\n",
    "                pFunctionIm = rand(Uniform(1.0,10.0), 1, 1)[1]\n",
    "                pFunction = pFunctionRe + pFunctionIm*im\n",
    "                if i < n+1\n",
    "                    pDerivMatrix[i,1] = pFunction\n",
    "                    pDerivMatrix[i:i, 2:n] = zeros(1, n-1)\n",
    "                end\n",
    "            else # variable\n",
    "                coeffsNo = rand(1:5)\n",
    "                pFunctionCoeffsRe = rand(Uniform(1.0,10.0), 1, coeffsNo)\n",
    "                pFunctionCoeffsIm = rand(Uniform(1.0,10.0), 1, coeffsNo)\n",
    "                pFunctionCoeffs = pFunctionCoeffsRe + pFunctionCoeffsIm*im\n",
    "                pFunction = get_polynomial(pFunctionCoeffs)\n",
    "                if i < n+1\n",
    "                    pDerivMatrix[i:i, 1:n] = [get_polynomialDeriv(pFunctionCoeffs, k) for k = 0:(n-1)]\n",
    "                end\n",
    "            end\n",
    "            pFunctions[i] = pFunction\n",
    "        end\n",
    "    else\n",
    "        if constant # constant\n",
    "            pFunctionsRe = rand(Uniform(1.0,10.0), 1, (n+1))\n",
    "            pFunctionsIm = rand(Uniform(1.0,10.0), 1, (n+1))\n",
    "            pFunctions = pFunctionsRe + pFunctionsIm*im\n",
    "            pDerivMatrix = complex(Matrix{Float64}(LinearAlgebra.I, n, n))\n",
    "            for i = 1:n\n",
    "                for j = 1:n\n",
    "                    if j == 1\n",
    "                        pDerivMatrix[i,j] = pFunctions[i]\n",
    "                    else\n",
    "                        pDerivMatrix[i,j] = 0\n",
    "                    end\n",
    "                end\n",
    "            end\n",
    "        else # variable\n",
    "            pFunctions = Array{Union{Function, Number}}(undef,1,n+1)\n",
    "            pDerivMatrix = Array{Union{Function, Number}}(undef,n,n)\n",
    "            for i = 1:(n+1)\n",
    "                # Each p_k is a polynomial function with random degree between 0 to 4 and random coefficients between 0 and 10\n",
    "                coeffsNo = rand(1:5)\n",
    "                pFunctionCoeffsRe = rand(Uniform(1.0,10.0), 1, coeffsNo)\n",
    "                pFunctionCoeffsIm = rand(Uniform(1.0,10.0), 1, coeffsNo)\n",
    "                pFunctionCoeffs = pFunctionCoeffsRe + pFunctionCoeffsIm*im\n",
    "                if i < n+1\n",
    "                    pDerivMatrix[i:i, 1:n] = [get_polynomialDeriv(pFunctionCoeffs, k) for k = 0:(n-1)]\n",
    "                end\n",
    "                pFunction = get_polynomial(pFunctionCoeffs)\n",
    "                pFunctions[i] = pFunction\n",
    "            end\n",
    "        end\n",
    "    end\n",
    "    return pFunctions\n",
    "end"
   ]
  },
  {
   "cell_type": "markdown",
   "metadata": {
    "heading_collapsed": true,
    "hidden": true
   },
   "source": [
    "## `generate_interval`"
   ]
  },
  {
   "cell_type": "code",
   "execution_count": 44,
   "metadata": {
    "hidden": true
   },
   "outputs": [
    {
     "data": {
      "text/plain": [
       "generate_interval (generic function with 3 methods)"
      ]
     },
     "execution_count": 44,
     "metadata": {},
     "output_type": "execute_result"
    }
   ],
   "source": [
    "function generate_interval(n, a = 0, b = 1)\n",
    "    if n == 2\n",
    "        return (a, b)\n",
    "    end\n",
    "    array = Array{Any}(undef, 1, n)\n",
    "    t = a\n",
    "    for j=2:(n-1)\n",
    "        array[j] = rand(Uniform(t, b))\n",
    "        t = array[j]\n",
    "    end\n",
    "    array[1] = a\n",
    "    array[n] = b\n",
    "    interval = ntuple(i -> array[i], n)\n",
    "    return interval\n",
    "end"
   ]
  },
  {
   "cell_type": "code",
   "execution_count": 45,
   "metadata": {
    "hidden": true
   },
   "outputs": [
    {
     "data": {
      "text/plain": [
       "generate_fake_interval_1 (generic function with 3 methods)"
      ]
     },
     "execution_count": 45,
     "metadata": {},
     "output_type": "execute_result"
    }
   ],
   "source": [
    "function generate_fake_interval_1(n, a = 0, b = 1) # adds a string\n",
    "    if n == 2\n",
    "        return (\"str\", b)\n",
    "    end\n",
    "    array = Array{Any}(undef, 1, n)\n",
    "    t = 0\n",
    "    for j=2:(n-1)\n",
    "        array[j] = rand(Uniform(t, b))\n",
    "        t = array[j]\n",
    "    end\n",
    "    array[1] = a\n",
    "    array[n] = \"str\"\n",
    "    interval = ntuple(i -> array[i], n)\n",
    "    return interval\n",
    "end"
   ]
  },
  {
   "cell_type": "code",
   "execution_count": 46,
   "metadata": {
    "hidden": true
   },
   "outputs": [
    {
     "data": {
      "text/plain": [
       "generate_fake_interval_2 (generic function with 3 methods)"
      ]
     },
     "execution_count": 46,
     "metadata": {},
     "output_type": "execute_result"
    }
   ],
   "source": [
    "function generate_fake_interval_2(n, a = 0, b = 1) # make interval non increasing\n",
    "    if n == 2\n",
    "        return (b, a)\n",
    "    end\n",
    "    array = Array{Any}(undef, 1, n)\n",
    "    t = 0\n",
    "    for j=2:(n-1)\n",
    "        array[n-j+1] = rand(Uniform(t, b))\n",
    "        t = array[n-j+1]\n",
    "    end\n",
    "    array[1] = b\n",
    "    array[n] = a\n",
    "    interval = ntuple(i -> array[i], n)\n",
    "    return interval\n",
    "end"
   ]
  },
  {
   "cell_type": "markdown",
   "metadata": {
    "heading_collapsed": true,
    "hidden": true
   },
   "source": [
    "## `generate_pFunctionsAndSymPFunctions`"
   ]
  },
  {
   "cell_type": "code",
   "execution_count": 47,
   "metadata": {
    "hidden": true
   },
   "outputs": [
    {
     "data": {
      "text/plain": [
       "generate_pFunctionsAndSymPFunctions (generic function with 1 method)"
      ]
     },
     "execution_count": 47,
     "metadata": {},
     "output_type": "execute_result"
    }
   ],
   "source": [
    "function generate_pFunctionsAndSymPFunctions(n; random = false, constant = false)\n",
    "    global t = symbols(\"t\")\n",
    "    interval = generate_interval(n, 1.0, 10.0)\n",
    "    if random\n",
    "        pFunctions = Array{Union{Function, Number}}(undef,1,n+1)\n",
    "        symPFunctions = Array{Number}(undef, 1,n+1)\n",
    "        pDerivMatrix = Array{Union{Function, Number}}(undef,n,n)\n",
    "        for i = 1:(n+1)\n",
    "            seed = rand(0:1)\n",
    "            if seed == 0 # constant\n",
    "                pFunctionRe = rand(Uniform(1.0,10.0), 1, 1)[1]\n",
    "                pFunctionIm = rand(Uniform(1.0,10.0), 1, 1)[1]\n",
    "                pFunction = pFunctionRe + pFunctionIm*im\n",
    "                symPFunction = pFunction\n",
    "                if i < n+1\n",
    "                    pDerivMatrix[i,1] = pFunction\n",
    "                    pDerivMatrix[i:i, 2:n] = zeros(1, n-1)\n",
    "                end\n",
    "            else # variable\n",
    "                coeffsNo = rand(1:5)\n",
    "                pFunctionCoeffsRe = rand(Uniform(1.0,10.0), 1, coeffsNo)\n",
    "                pFunctionCoeffsIm = rand(Uniform(1.0,10.0), 1, coeffsNo)\n",
    "                pFunctionCoeffs = pFunctionCoeffsRe + pFunctionCoeffsIm*im\n",
    "                if i < n+1\n",
    "                    pDerivMatrix[i:i, 1:n] = [get_polynomialDeriv(pFunctionCoeffs, k) for k = 0:(n-1)]\n",
    "                end\n",
    "                pFunction = get_polynomial(pFunctionCoeffs)\n",
    "                symPFunction = sum([pFunctionCoeffs[i+1]*t^(length(pFunctionCoeffs)-1-i) for i in 0:(length(pFunctionCoeffs)-1)])\n",
    "            end\n",
    "            pFunctions[i] = pFunction\n",
    "            symPFunctions[i] = symPFunction\n",
    "        end\n",
    "    else\n",
    "        if constant # constant\n",
    "            pFunctionsRe = rand(Uniform(1.0,10.0), 1, (n+1))\n",
    "            pFunctionsIm = rand(Uniform(1.0,10.0), 1, (n+1))\n",
    "            pFunctions = pFunctionsRe + pFunctionsIm*im\n",
    "            symPFunctions = pFunctions\n",
    "            pDerivMatrix = Array{Union{Function, Number}}(undef, n, n)\n",
    "            for i = 1:n\n",
    "                for j = 1:n\n",
    "                    if j == 1\n",
    "                        pDerivMatrix[i,j] = pFunctions[i]\n",
    "                    else\n",
    "                        pDerivMatrix[i,j] = 0\n",
    "                    end\n",
    "                end\n",
    "            end\n",
    "        else # variable\n",
    "            t = symbols(\"t\")\n",
    "            pFunctions = Array{Function}(undef, 1, n+1)\n",
    "            symPFunctions = Array{Number}(undef, 1, n+1)\n",
    "            pDerivMatrix = Array{Union{Function, Number}}(undef, n,n)\n",
    "            for i = 1:(n+1)\n",
    "                # Each p_k is a polynomial function with random degree between 0 to 4 and random coefficients between 0 and 10\n",
    "                coeffsNo = rand(1:5)\n",
    "                pFunctionCoeffsRe = rand(Uniform(1.0,10.0), 1, coeffsNo)\n",
    "                pFunctionCoeffsIm = rand(Uniform(1.0,10.0), 1, coeffsNo)\n",
    "                pFunctionCoeffs = pFunctionCoeffsRe + pFunctionCoeffsIm*im\n",
    "                if i < n+1\n",
    "                    pDerivMatrix[i:i, 1:n] = [get_polynomialDeriv(pFunctionCoeffs, k) for k = 0:(n-1)]\n",
    "                end\n",
    "                pFunction = get_polynomial(pFunctionCoeffs)\n",
    "                pFunctions[i] = pFunction\n",
    "                symPFunction = sum([pFunctionCoeffs[i+1]*t^(length(pFunctionCoeffs)-1-i) for i in 0:(length(pFunctionCoeffs)-1)])\n",
    "                symPFunctions[i] = symPFunction\n",
    "            end\n",
    "        end\n",
    "    end  \n",
    "    return pFunctions, symPFunctions, pDerivMatrix, interval\n",
    "end"
   ]
  },
  {
   "cell_type": "markdown",
   "metadata": {
    "heading_collapsed": true
   },
   "source": [
    "# Tests"
   ]
  },
  {
   "cell_type": "markdown",
   "metadata": {
    "heading_collapsed": true,
    "hidden": true
   },
   "source": [
    "## `test_generate_adjoint`"
   ]
  },
  {
   "cell_type": "code",
   "execution_count": 302,
   "metadata": {
    "hidden": true
   },
   "outputs": [
    {
     "data": {
      "text/plain": [
       "test_generate_adjoint (generic function with 1 method)"
      ]
     },
     "execution_count": 302,
     "metadata": {},
     "output_type": "execute_result"
    }
   ],
   "source": [
    "# Test the algorithm to generate valid adjoint U+\n",
    "function test_generate_adjoint(n, k)\n",
    "    global results = [true]\n",
    "    global t = symbols(\"t\")\n",
    "\n",
    "    for counter = 1:k\n",
    "        println(\"Test $counter\")\n",
    "        println(\"Testing the algorithm to generate valid adjoint U+: Constant p_k\")\n",
    "        (pFunctions, symPFunctions, pDerivMatrix, interval) = generate_pFunctionsAndSymPFunctions(n; random = false, constant = true)\n",
    "        symL = SymLinearDifferentialOperator(symPFunctions, interval, t)\n",
    "        L = LinearDifferentialOperator(pFunctions, interval, symL)\n",
    "        m = length(interval)\n",
    "        M = Array{Any}(undef, 1, m-1)\n",
    "        N = Array{Any}(undef, 1, m-1)\n",
    "        for i=1:(m-1)\n",
    "            MCandRe = rand(Uniform(1.0,10.0), (m-1)*n, n)\n",
    "            MCandIm = rand(Uniform(1.0,10.0), (m-1)*n, n)\n",
    "            MCand = MCandRe + MCandIm*im\n",
    "            NCandRe = rand(Uniform(1.0,10.0), (m-1)*n, n)\n",
    "            NCandIm = rand(Uniform(1.0,10.0), (m-1)*n, n)\n",
    "            NCand = NCandRe + NCandIm*im\n",
    "            M[i] = MCand\n",
    "            N[i] = NCand\n",
    "        end\n",
    "        U = VectorMultipointForm(M, N)\n",
    "        println(\"Testing: order of L = $n\")\n",
    "        passed = false\n",
    "        try\n",
    "            adjoint = get_adjointU(L, U, pDerivMatrix)\n",
    "            passed = true\n",
    "            append!(results, passed)\n",
    "        catch err\n",
    "            println(\"Failed with $err\")\n",
    "        end\n",
    "        if passed\n",
    "            println(\"Passed!\")\n",
    "        end\n",
    "\n",
    "        println(\"Testing the algorithm to generate valid adjoint U+: Variable p_k\")\n",
    "        # Generate variable p_k\n",
    "        (pFunctions, symPFunctions, pDerivMatrix, interval) = generate_pFunctionsAndSymPFunctions(n; random = false, constant = false)\n",
    "        symL = SymLinearDifferentialOperator(symPFunctions, interval, t)\n",
    "        L = LinearDifferentialOperator(pFunctions, interval, symL)\n",
    "        m = length(interval)\n",
    "        M = Array{Any}(undef, 1, m-1)\n",
    "        N = Array{Any}(undef, 1, m-1)\n",
    "        for i=1:(m-1)\n",
    "            MCandRe = rand(Uniform(1.0,10.0), (m-1)*n, n)\n",
    "            MCandIm = rand(Uniform(1.0,10.0), (m-1)*n, n)\n",
    "            MCand = MCandRe + MCandIm*im\n",
    "            NCandRe = rand(Uniform(1.0,10.0), (m-1)*n, n)\n",
    "            NCandIm = rand(Uniform(1.0,10.0), (m-1)*n, n)\n",
    "            NCand = NCandRe + NCandIm*im\n",
    "            M[i] = MCand\n",
    "            N[i] = NCand\n",
    "        end\n",
    "        U = VectorMultipointForm(M, N)\n",
    "        println(\"Testing: order of L = $n\")\n",
    "        try\n",
    "            adjoint = get_adjointU(L, U, pDerivMatrix)\n",
    "            passed = true\n",
    "            append!(results, passed)\n",
    "        catch err\n",
    "            println(\"Failed with $err\")\n",
    "        end\n",
    "        if passed\n",
    "            println(\"Passed!\")\n",
    "        end\n",
    "\n",
    "        println(\"Testing the algorithm to generate valid adjoint U+: Constant or variable p_k\")\n",
    "        # Generate p_k\n",
    "        (pFunctions, symPFunctions, pDerivMatrix, interval) = generate_pFunctionsAndSymPFunctions(n; random = true)\n",
    "        symL = SymLinearDifferentialOperator(symPFunctions, interval, t)\n",
    "        L = LinearDifferentialOperator(pFunctions, interval, symL)\n",
    "        m = length(interval)\n",
    "        M = Array{Any}(undef, 1, m -1)\n",
    "        N = Array{Any}(undef, 1, m -1)\n",
    "        for i=1:(m-1)\n",
    "            MCandRe = rand(Uniform(1.0,10.0), (m-1)*n, n)\n",
    "            MCandIm = rand(Uniform(1.0,10.0), (m-1)*n, n)\n",
    "            MCand = MCandRe + MCandIm*im\n",
    "            NCandRe = rand(Uniform(1.0,10.0), (m-1)*n, n)\n",
    "            NCandIm = rand(Uniform(1.0,10.0), (m-1)*n, n)\n",
    "            NCand = NCandRe + NCandIm*im\n",
    "            M[i] = MCand\n",
    "            N[i] = NCand\n",
    "        end\n",
    "        U = VectorMultipointForm(M, N)\n",
    "        println(\"Testing: order of L = $n\")\n",
    "        try\n",
    "            adjoint = get_adjointU(L, U, pDerivMatrix)\n",
    "            passed = true\n",
    "            append!(results, passed)\n",
    "        catch err\n",
    "            println(\"Failed with $err\")\n",
    "        end\n",
    "        if passed\n",
    "            println(\"Passed!\")\n",
    "        end\n",
    "    end\n",
    "\n",
    "    return all(results)\n",
    "end"
   ]
  },
  {
   "cell_type": "code",
   "execution_count": null,
   "metadata": {
    "collapsed": true,
    "hidden": true
   },
   "outputs": [],
   "source": [
    "for n = 2:10\n",
    "    println(test_generate_adjoint(n, 10))\n",
    "end"
   ]
  },
  {
   "cell_type": "markdown",
   "metadata": {
    "heading_collapsed": true,
    "hidden": true
   },
   "source": [
    "## `test_symLinearDifferentialOperatorDef`"
   ]
  },
  {
   "cell_type": "code",
   "execution_count": 99,
   "metadata": {
    "hidden": true
   },
   "outputs": [
    {
     "data": {
      "text/plain": [
       "test_symLinearDifferentialOperatorDef (generic function with 1 method)"
      ]
     },
     "execution_count": 99,
     "metadata": {},
     "output_type": "execute_result"
    }
   ],
   "source": [
    "# Test the SymLinearDifferentialOperator definition\n",
    "function test_symLinearDifferentialOperatorDef(n, k)\n",
    "    global results = [true]\n",
    "    global t = symbols(\"t\")\n",
    "\n",
    "    for counter = 1:k\n",
    "        println(\"Test $counter\")\n",
    "        println(\"Testing definition of SymLinearDifferentialOperator: symP_k are Function\")\n",
    "        symPFunctions_1 = generate_symPFunctions(n; random = false, constant = false)\n",
    "        interval_1 = generate_interval(n, 1, 10)\n",
    "        passed = false\n",
    "        try\n",
    "            SymLinearDifferentialOperator(symPFunctions_1, interval_1, t)\n",
    "            passed = true\n",
    "        catch err\n",
    "            println(\"Failed with $err\")\n",
    "        end\n",
    "        if passed\n",
    "            println(\"Passed!\")\n",
    "        end\n",
    "        append!(results, passed)\n",
    "\n",
    "        println(\"Testing definition of SymLinearDifferentialOperator: symP_k are constant\")\n",
    "        symPFunctions_2 = generate_symPFunctions(n; random = false, constant = true)\n",
    "        interval_2 = generate_interval(n, 1, 10)\n",
    "        passed = false\n",
    "        try\n",
    "            SymLinearDifferentialOperator(symPFunctions_2, interval_2, t)\n",
    "            passed = true\n",
    "        catch err\n",
    "            println(\"Failed with $err\")\n",
    "        end\n",
    "        if passed\n",
    "            println(\"Passed!\")\n",
    "        end\n",
    "        append!(results, passed)\n",
    "\n",
    "        println(\"Testing definition of SymLinearDifferentialOperator: symP_k are SymPy.Sym and Number\")\n",
    "        symPFunctions_3 = generate_symPFunctions(n; random = true)\n",
    "        interval_3 = generate_interval(n, 1, 10)\n",
    "        passed = false\n",
    "        try\n",
    "            SymLinearDifferentialOperator(symPFunctions_3, interval_3, t)\n",
    "            passed = true\n",
    "        catch err\n",
    "            println(\"Failed with $err\")\n",
    "        end\n",
    "        if passed\n",
    "            println(\"Passed!\")\n",
    "        end\n",
    "        append!(results, passed)\n",
    "\n",
    "        println(\"Testing StructDefinitionError: symP_k should be SymPy.Sym or Number\")\n",
    "        symPFunctions_4 = hcat(generate_symPFunctions(n-1; random = true), [\"str\"])\n",
    "        interval_4 = generate_interval(n, 1, 10)\n",
    "        passed = false\n",
    "        try\n",
    "            SymLinearDifferentialOperator(symPFunctions_4, interval_4, t)\n",
    "        catch err\n",
    "            if isa(err,StructDefinitionError) && err.msg == \"symP_k should be SymPy.Sym or Number\"\n",
    "                passed = true\n",
    "                println(\"Passed!\")\n",
    "            else\n",
    "                println(\"Failed with $err\")\n",
    "            end\n",
    "        end\n",
    "        if !passed\n",
    "            println(\"Failed!\")\n",
    "        end\n",
    "        append!(results, passed)\n",
    "\n",
    "        println(\"Testing StructDefinitionError: Only one free symbol is allowed in symP_k\")\n",
    "        interval_5 = generate_interval(n, 1, 10)\n",
    "        symPFunctions_5 = generate_fake_symPFunctions(n)\n",
    "        passed = false\n",
    "        try\n",
    "            SymLinearDifferentialOperator(symPFunctions_5, interval_5, t)\n",
    "        catch err\n",
    "            if isa(err,StructDefinitionError) && err.msg == \"Only one free symbol is allowed in symP_k\"\n",
    "                passed = true\n",
    "                println(\"Passed!\")\n",
    "            else\n",
    "                println(\"Failed with $err\")\n",
    "            end\n",
    "        end\n",
    "        if !passed\n",
    "            println(\"Failed!\")\n",
    "        end\n",
    "        append!(results, passed)\n",
    "            \n",
    "        println(\"Testing StructDefinitionError: Interval must consist of numbers\")\n",
    "        symPFunctions_6 = generate_symPFunctions(n; random = false, constant = false)\n",
    "        interval_6 = generate_fake_interval_1(n)\n",
    "        passed = false\n",
    "        try\n",
    "            SymLinearDifferentialOperator(symPFunctions_6, interval_6, t)\n",
    "        catch err\n",
    "            if isa(err,StructDefinitionError) && err.msg == \"Interval must consist of numbers\"\n",
    "                passed = true\n",
    "                println(\"Passed!\")\n",
    "            else\n",
    "                println(\"Failed with $err\")\n",
    "            end\n",
    "        end\n",
    "        if !passed\n",
    "            println(\"Failed!\")\n",
    "        end\n",
    "        append!(results, passed)\n",
    "    \n",
    "        println(\"Testing StructDefinitionError: Terms in interval must be strictly increasing\")\n",
    "        symPFunctions_7 = generate_symPFunctions(n; random = false, constant = false)\n",
    "        interval_7 = generate_fake_interval_2(n)\n",
    "        passed = false\n",
    "        try\n",
    "            SymLinearDifferentialOperator(symPFunctions_7, interval_7, t)\n",
    "        catch err\n",
    "            if isa(err,StructDefinitionError) && err.msg == \"Terms in interval must be strictly increasing\"\n",
    "                passed = true\n",
    "                println(\"Passed!\")\n",
    "            else\n",
    "                println(\"Failed with $err\")\n",
    "            end\n",
    "        end\n",
    "        if !passed\n",
    "            println(\"Failed!\")\n",
    "        end\n",
    "        append!(results, passed)\n",
    "    end\n",
    "    return all(results)\n",
    "end"
   ]
  },
  {
   "cell_type": "code",
   "execution_count": null,
   "metadata": {
    "collapsed": true,
    "hidden": true
   },
   "outputs": [],
   "source": [
    "for n = 2:10\n",
    "    println(test_symLinearDifferentialOperatorDef(n, 10))\n",
    "end"
   ]
  },
  {
   "cell_type": "markdown",
   "metadata": {
    "heading_collapsed": true,
    "hidden": true
   },
   "source": [
    "## `test_LinearDifferentialOperatorDef`"
   ]
  },
  {
   "cell_type": "code",
   "execution_count": 54,
   "metadata": {
    "hidden": true
   },
   "outputs": [
    {
     "data": {
      "text/plain": [
       "test_LinearDifferentialOperatorDef (generic function with 1 method)"
      ]
     },
     "execution_count": 54,
     "metadata": {},
     "output_type": "execute_result"
    }
   ],
   "source": [
    "# Test the LinearDifferentialOperator definition\n",
    "function test_LinearDifferentialOperatorDef(n, k)\n",
    "    global results = [true]\n",
    "    global t = symbols(\"t\")\n",
    "    \n",
    "    for counter = 1:k\n",
    "        println(\"Test $counter\")\n",
    "\n",
    "        # Variable p_k\n",
    "        println(\"Testing definition of LinearDifferentialOperator: p_k are Function\")\n",
    "        (pFunctions_1, symPFunctions_1, pDerivMatrix_1, interval_1) = generate_pFunctionsAndSymPFunctions(n; random = false, constant = false)\n",
    "        symL_1 = SymLinearDifferentialOperator(symPFunctions_1, interval_1, t)\n",
    "        passed = false\n",
    "        try\n",
    "            L = LinearDifferentialOperator(pFunctions_1, interval_1, symL_1)\n",
    "            passed = true\n",
    "        catch err\n",
    "            println(\"Failed with $err\")\n",
    "        end\n",
    "        if passed\n",
    "            println(\"Passed!\")\n",
    "        end\n",
    "        append!(results, passed)\n",
    "\n",
    "        # Constant coefficients\n",
    "        println(\"Testing definition of LinearDifferentialOperator: p_k are Constants\")\n",
    "        (pFunctions_2, symPFunctions_2, pDerivMatrix_2, interval_2) = generate_pFunctionsAndSymPFunctions(n; random = false, constant = true)\n",
    "        symL_2 = SymLinearDifferentialOperator(symPFunctions_2, interval_2, t)\n",
    "        passed = false\n",
    "        try\n",
    "            LinearDifferentialOperator(pFunctions_2, interval_2, symL_2)\n",
    "            passed = true\n",
    "        catch err\n",
    "            println(\"Failed with $err\")\n",
    "        end\n",
    "        if passed\n",
    "            println(\"Passed!\")\n",
    "        end\n",
    "        append!(results, passed)\n",
    "\n",
    "        # Mixed coefficients\n",
    "        println(\"Testing definition of LinearDifferentialOperator: p_k are mixed\")\n",
    "        (pFunctions_3, symPFunctions_3, pDerivMatrix_3, interval_3) = generate_pFunctionsAndSymPFunctions(n; random = false)\n",
    "        symL_3 = SymLinearDifferentialOperator(symPFunctions_3, interval_3, t)\n",
    "        passed = false\n",
    "        try\n",
    "            LinearDifferentialOperator(pFunctions_3, interval_3, symL_3)\n",
    "            passed = true\n",
    "        catch err\n",
    "            println(\"Failed with $err\")\n",
    "        end\n",
    "        if passed\n",
    "            println(\"Passed!\")\n",
    "        end\n",
    "        append!(results, passed)\n",
    "\n",
    "        println(\"Testing StructDefinitionError: p_k should be Function or Number\")\n",
    "        pFunctions_4 = hcat(generate_pFunctions(n-1; random = true)[1], [\"str\"])\n",
    "        interval_4 = interval_3\n",
    "        symL_4 = symL_3\n",
    "        passed = false\n",
    "        try\n",
    "            LinearDifferentialOperator(['s' 1 1], interval_4, symL_4)\n",
    "        catch err\n",
    "            if err.msg == \"p_k should be Function or Number\" && (isa(err,StructDefinitionError))\n",
    "                passed = true\n",
    "                println(\"Passed!\")\n",
    "            else\n",
    "                println(\"Failed with $err\")\n",
    "            end\n",
    "        end\n",
    "        if !passed\n",
    "            println(\"Failed!\")\n",
    "        end\n",
    "        append!(results, passed)\n",
    "\n",
    "        println(\"Testing StructDefinitionError: Number of p_k and symP_k do not match\")\n",
    "        interval_5 = interval_4\n",
    "        sym_PFunctions_5 = generate_symPFunctions(n; random = false, constant = true)\n",
    "        symL_5 = SymLinearDifferentialOperator(sym_PFunctions_5, interval_5, t) \n",
    "        pFunctions_5 = generate_pFunctions(n+1; random = false, constant = true)\n",
    "        passed = false\n",
    "        try\n",
    "            LinearDifferentialOperator(pFunctions_5, interval_5, symL_5)\n",
    "        catch err\n",
    "\n",
    "            if err.msg == \"Number of p_k and symP_k do not match\" && (isa(err, StructDefinitionError))\n",
    "                passed = true\n",
    "                println(\"Passed!\")\n",
    "            else\n",
    "                println(\"Failed with $err\")\n",
    "            end\n",
    "        end\n",
    "        if !passed\n",
    "            println(\"Failed!\")\n",
    "        end\n",
    "        append!(results, passed)\n",
    "\n",
    "        println(\"Testing StructDefinitionError: Intervals of L and symL do not match\") # done\n",
    "        interval_6 = interval_5\n",
    "        symL_6 = SymLinearDifferentialOperator([1 1 t+1], interval_6, t)\n",
    "        interval_fake = generate_interval(n, 1, 9)\n",
    "        passed = false\n",
    "        try\n",
    "            LinearDifferentialOperator([1 t->1 t->t+1], interval_fake, symL_6)\n",
    "        catch err\n",
    "            if err.msg == \"Intervals of L and symL do not match\" && (isa(err, StructDefinitionError))\n",
    "                passed = true\n",
    "                println(\"Passed!\")\n",
    "            else\n",
    "                println(\"Failed with $err\")\n",
    "            end\n",
    "        end\n",
    "        if !passed\n",
    "            println(\"Failed!\")\n",
    "        end\n",
    "        append!(results, passed)\n",
    "    \n",
    "    end\n",
    "    return all(results)\n",
    "end"
   ]
  },
  {
   "cell_type": "code",
   "execution_count": null,
   "metadata": {
    "collapsed": true,
    "hidden": true
   },
   "outputs": [],
   "source": [
    "for n = 2:10\n",
    "    println(test_LinearDifferentialOperatorDef(n, 10))\n",
    "end"
   ]
  },
  {
   "cell_type": "markdown",
   "metadata": {
    "heading_collapsed": true,
    "hidden": true
   },
   "source": [
    "## `test_VectorMultipointFormDef`"
   ]
  },
  {
   "cell_type": "code",
   "execution_count": 287,
   "metadata": {
    "hidden": true
   },
   "outputs": [
    {
     "data": {
      "text/plain": [
       "test_VectorMultipointFormDef (generic function with 1 method)"
      ]
     },
     "execution_count": 287,
     "metadata": {},
     "output_type": "execute_result"
    }
   ],
   "source": [
    "function test_VectorMultipointFormDef(n, k)\n",
    "    global results = [true]\n",
    "    for counter = 1:k\n",
    "        println(\"Test $counter\")\n",
    "        \n",
    "        println(\"Testing the definition of VectorMultipointForm\")\n",
    "        interval_1 = generate_interval(n)\n",
    "        m = length(interval_1)\n",
    "        M = Array{Any}(undef, 1, m-1)\n",
    "        N = Array{Any}(undef, 1, m-1)\n",
    "        for j=1:(m-1)\n",
    "            MRe = rand(Uniform(1.0,10.0), (m-1)*n, n)\n",
    "            MIm = rand(Uniform(1.0,10.0), (m-1)*n, n)\n",
    "            M_j = MRe + MIm*im\n",
    "            M[j] = M_j\n",
    "            NRe = rand(Uniform(1.0,10.0), (m-1)*n, n)\n",
    "            NIm = rand(Uniform(1.0,10.0), (m-1)*n, n)\n",
    "            N_j = NRe + NIm*im\n",
    "            N[j] = N_j\n",
    "        end\n",
    "        passed = false\n",
    "        try\n",
    "            VectorMultipointForm(M, N)\n",
    "            passed = true\n",
    "        catch err\n",
    "            println(\"Failed with $err\")\n",
    "        end\n",
    "        if passed\n",
    "            println(\"Passed!\")\n",
    "        end\n",
    "        append!(results, passed)\n",
    "\n",
    "        println(\"Testing StructDefinitionError: Entries of M_i, N_i should be Number\")\n",
    "        interval_2 = generate_interval(n)\n",
    "        m = length(interval_2) \n",
    "        M = Array{Any}(undef, 1, m-1)\n",
    "        N = Array{Any}(undef, 1, m-1)\n",
    "        for j=1:(m-1)\n",
    "            MRe = rand(Uniform(1.0,10.0), (m-1)*n, n)\n",
    "            MIm = rand(Uniform(1.0,10.0), (m-1)*n, n)\n",
    "            M_j = MRe + MIm*im\n",
    "            M_j = convert(Array{Any}, M_j)\n",
    "            M_j[j,j] = \"str\"\n",
    "            M[j] = M_j\n",
    "            NRe = rand(Uniform(1.0,10.0), (m-1)*n, n)\n",
    "            NIm = rand(Uniform(1.0,10.0), (m-1)*n, n)\n",
    "            N_j = NRe + NIm*im\n",
    "            N_j = convert(Array{Any}, N_j)\n",
    "            N_j[j,j] = \"str\"\n",
    "            N[j] = N_j\n",
    "        end\n",
    "        passed = false\n",
    "        try\n",
    "            VectorMultipointForm(M, N)\n",
    "        catch err\n",
    "            if err.msg == \"Entries of M_i, N_i should be Number\" && isa(err, StructDefinitionError)\n",
    "                passed = true\n",
    "                println(\"Passed!\")\n",
    "            else\n",
    "                println(\"Failed with $err\")\n",
    "            end\n",
    "        end\n",
    "        if !passed\n",
    "            println(\"Failed!\")\n",
    "        end\n",
    "        append!(results, passed)\n",
    "\n",
    "        println(\"Testing StructDefinitionError: M_i, N_i dimensions do not match\")\n",
    "        interval_3 = generate_interval(n)\n",
    "        m = length(interval_3) \n",
    "        M = Array{Any}(undef, 1, m-1)\n",
    "        N = Array{Any}(undef, 1, m-1)\n",
    "        for j=1:(m-1)\n",
    "            MRe = rand(Uniform(1.0,10.0), (m-1)*n, n+1)\n",
    "            MIm = rand(Uniform(1.0,10.0), (m-1)*n, n+1)\n",
    "            M_j = MRe + MIm*im\n",
    "            M[j] = M_j\n",
    "            NRe = rand(Uniform(1.0,10.0), (m-1)*n, n)\n",
    "            NIm = rand(Uniform(1.0,10.0), (m-1)*n, n)\n",
    "            N_j = NRe + NIm*im\n",
    "            N[j] = N_j\n",
    "        end\n",
    "        passed = false\n",
    "        try\n",
    "            VectorMultipointForm(M, N)\n",
    "        catch err\n",
    "            if err.msg == \"M_i, N_i dimensions do not match\" && isa(err,StructDefinitionError)\n",
    "                passed = true\n",
    "                println(\"Passed!\")\n",
    "            else\n",
    "                println(\"Failed with $err\")\n",
    "            end\n",
    "        end\n",
    "        if !passed\n",
    "            println(\"Failed!\")\n",
    "        end\n",
    "        append!(results, passed)\n",
    "\n",
    "        println(\"Testing StructDefinitionError: Boundary operators not linearly independent\")\n",
    "        \n",
    "        interval_5 = generate_interval(n)\n",
    "        m = length(interval_5)\n",
    "        M = Array{Any}(undef, 1, m-1)\n",
    "        N = Array{Any}(undef, 1, m-1)\n",
    "        for j=1:(m-1)\n",
    "            MRe = rand(Uniform(1.0,10.0), (m-1)*n, n)\n",
    "            MIm = rand(Uniform(1.0,10.0), (m-1)*n, n)\n",
    "            M_j = MRe + MIm*im\n",
    "            M_j[(m-1)*n, :] = zeros(1,n)\n",
    "            M[j] = M_j\n",
    "            NRe = rand(Uniform(1.0,10.0), (m-1)*n, n)\n",
    "            NIm = rand(Uniform(1.0,10.0), (m-1)*n, n)\n",
    "            N_j = NRe + NIm*im\n",
    "            N_j[(m-1)*n, :] = zeros(1,n)\n",
    "            N[j] = N_j\n",
    "        end\n",
    "        passed = false\n",
    "        try\n",
    "            VectorMultipointForm(M, N)\n",
    "        catch err\n",
    "            if err.msg == \"Boundary operators are not linearly independent\" && isa(err,StructDefinitionError)\n",
    "                passed = true\n",
    "                    println(\"Passed!\")\n",
    "                else\n",
    "                    println(\"Failed with $err\")\n",
    "                end\n",
    "            end\n",
    "        if !passed\n",
    "            println(\"Failed!\")\n",
    "        end\n",
    "        append!(results, passed)\n",
    "    end\n",
    "\n",
    "    return all(results)\n",
    "end"
   ]
  },
  {
   "cell_type": "code",
   "execution_count": null,
   "metadata": {
    "collapsed": true,
    "hidden": true
   },
   "outputs": [],
   "source": [
    "for n = 2:10\n",
    "    println(test_VectorMultipointFormDef(n, 10))\n",
    "end"
   ]
  }
 ],
 "metadata": {
  "kernelspec": {
   "display_name": "Julia 1.1.1",
   "language": "julia",
   "name": "julia-1.1"
  },
  "language_info": {
   "file_extension": ".jl",
   "mimetype": "application/julia",
   "name": "julia",
   "version": "1.1.1"
  },
  "toc": {
   "base_numbering": 1,
   "nav_menu": {
    "height": "475px",
    "width": "359px"
   },
   "number_sections": true,
   "sideBar": true,
   "skip_h1_title": false,
   "title_cell": "Table of Contents",
   "title_sidebar": "Contents",
   "toc_cell": false,
   "toc_position": {
    "height": "calc(100% - 180px)",
    "left": "10px",
    "top": "150px",
    "width": "165px"
   },
   "toc_section_display": true,
   "toc_window_display": false
  }
 },
 "nbformat": 4,
 "nbformat_minor": 2
}
