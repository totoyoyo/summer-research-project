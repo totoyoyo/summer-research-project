{
 "cells": [
  {
   "cell_type": "markdown",
   "metadata": {},
   "source": [
    "* 2019 Summer Research Program\n",
    "* Date created: June 11, 2019\n",
    "* Name: Sultan Aitzhan\n",
    "* Description: Linfan Xiao's code of the algorithm as ported to Julia v1.1.1\n",
    "\n",
    "Let $C=C^{\\infty}[0,1]$ be the set of functions with derivatives of all orders on $[0,1]$. \n",
    "\n",
    "Define $n$ linearly independent boundary forms $\\{B_j: C\\to\\mathbb{C}\\mid j\\in\\{1,2,\\ldots,n\\}\\}$ as follows:\n",
    "$$\n",
    "\\begin{align}\n",
    "B_j\\phi &= \\sum_{k=0}^{n-1} \\left(b_{jk}\\phi^{(k)}(0) + \\beta_{jk}\\phi^{(k)}(1)\\right),\\quad j\\in \\{1,2,\\ldots, n\\},\n",
    "\\end{align}\n",
    "$$\n",
    "where $b_{jk}, \\beta_{jk}\\in\\mathbb{R}$ are boundary coefficients. Define \n",
    "$$\n",
    "\\begin{align}\n",
    "\\Phi &= \\{\\phi\\in C: B_j\\phi = 0\\,\\forall j \\in \\{1,2,\\ldots, n\\}\\}\n",
    "\\end{align}\n",
    "$$\n",
    "to be the set of $n$ homogeneous boundary conditions\n",
    "$$\n",
    "\\begin{align}\n",
    "\\left(b_{11}\\phi^{(0)}(0) + \\beta_{11}\\phi^{(0)}(1)\\right) + \\cdots +\\left(b_{1n}\\phi^{(n-1)}(0) + \\beta_{1n}\\phi^{(n-1)}(1)\\right) &= 0\\\\\n",
    "&\\vdots\\\\\n",
    "\\left(b_{n1}\\phi^{(0)}(0) + \\beta_{n1}\\phi^{(0)}(1)\\right) + \\cdots +\\left(b_{nn}\\phi^{(n-1)}(0) + \\beta_{nn}\\phi^{(n-1)}(1)\\right) &= 0.\n",
    "\\end{align}\n",
    "$$\n",
    "Let $S:\\Phi\\to C$ be the linear differential operator \n",
    "$$S\\phi(x) = (-i)^n \\phi^{(n)}(x).$$\n",
    "\n",
    "Let $a\\in\\mathbb{C}$ be a constant. Consider the homogeneous initial-boundary value problem (IBVP):\n",
    "$$\\begin{alignat*}{2}\n",
    "(\\partial_t + aS)q(x,t) &= 0,\\quad&(x,t)\\in (0,1)\\times (0,T)\\\\\n",
    "q(x,0)&\\in\\Phi,\\quad &x\\in [0,1]\\\\\n",
    "q(\\cdot, t) &\\in\\Phi,\\quad &t\\in [0,T]\n",
    "\\end{alignat*}\n",
    "$$\n",
    "Let $f(x):=q(x,0)$. We reqire that if $n$ is odd then $a=\\pm i$ and if $n$ is even then $\\Re(a)\\geq 0$. We solve the IBVP for $q(x,t)$."
   ]
  },
  {
   "cell_type": "markdown",
   "metadata": {
    "heading_collapsed": true
   },
   "source": [
    "# Importing Packages"
   ]
  },
  {
   "cell_type": "code",
   "execution_count": 806,
   "metadata": {
    "collapsed": true,
    "hidden": true
   },
   "outputs": [],
   "source": [
    "using SymPy\n",
    "using PyCall\n",
    "sympy = pyimport(\"sympy\")\n",
    "using Distributions\n",
    "using ApproxFun\n",
    "using Plots\n",
    "using NBInclude\n",
    "using QuadGK\n",
    "import QuadGK.quadgk\n",
    "using Roots\n",
    "using Gadfly\n",
    "using PyPlot\n",
    "using StrLiterals\n",
    "import LinearAlgebra\n",
    "using TickTock"
   ]
  },
  {
   "cell_type": "markdown",
   "metadata": {
    "heading_collapsed": true
   },
   "source": [
    "# Global Variables"
   ]
  },
  {
   "cell_type": "markdown",
   "metadata": {
    "hidden": true
   },
   "source": [
    "## `TOL`\n",
    "Error tolerance level."
   ]
  },
  {
   "cell_type": "code",
   "execution_count": 2,
   "metadata": {
    "hidden": true
   },
   "outputs": [
    {
     "data": {
      "text/plain": [
       "1.0e-5"
      ]
     },
     "execution_count": 2,
     "metadata": {},
     "output_type": "execute_result"
    }
   ],
   "source": [
    "TOL = 1e-05"
   ]
  },
  {
   "cell_type": "markdown",
   "metadata": {
    "hidden": true
   },
   "source": [
    "## `DIGITS`\n",
    "The number of digits to display in symbolic expressions."
   ]
  },
  {
   "cell_type": "code",
   "execution_count": 3,
   "metadata": {
    "hidden": true
   },
   "outputs": [
    {
     "data": {
      "text/plain": [
       "3"
      ]
     },
     "execution_count": 3,
     "metadata": {},
     "output_type": "execute_result"
    }
   ],
   "source": [
    "DIGITS = 3"
   ]
  },
  {
   "cell_type": "markdown",
   "metadata": {
    "hidden": true
   },
   "source": [
    "## `INFTY`\n",
    "A number representing infinity in numerical approximations."
   ]
  },
  {
   "cell_type": "code",
   "execution_count": 4,
   "metadata": {
    "hidden": true
   },
   "outputs": [
    {
     "data": {
      "text/plain": [
       "10"
      ]
     },
     "execution_count": 4,
     "metadata": {},
     "output_type": "execute_result"
    }
   ],
   "source": [
    "INFTY = 10"
   ]
  },
  {
   "cell_type": "markdown",
   "metadata": {
    "heading_collapsed": true
   },
   "source": [
    "# Helper Functions "
   ]
  },
  {
   "cell_type": "markdown",
   "metadata": {
    "hidden": true
   },
   "source": [
    "This section defines a number of helper functions. Some helper functions are modified from existing functions in Base Julia or SymPy, tailored for usage in later sections. "
   ]
  },
  {
   "cell_type": "markdown",
   "metadata": {
    "hidden": true
   },
   "source": [
    "## `func(object)`\n",
    "Returns the type of an object."
   ]
  },
  {
   "cell_type": "code",
   "execution_count": 1,
   "metadata": {
    "hidden": true
   },
   "outputs": [
    {
     "data": {
      "text/plain": [
       "func (generic function with 1 method)"
      ]
     },
     "execution_count": 1,
     "metadata": {},
     "output_type": "execute_result"
    }
   ],
   "source": [
    "function func(object)\n",
    "    return object.__class__\n",
    "end"
   ]
  },
  {
   "cell_type": "markdown",
   "metadata": {
    "hidden": true
   },
   "source": [
    "## `check_all(array, condition)`\n",
    "Checks whether all elements in an array satisfy a given condition."
   ]
  },
  {
   "cell_type": "code",
   "execution_count": 5,
   "metadata": {
    "hidden": true
   },
   "outputs": [
    {
     "data": {
      "text/plain": [
       "check_all (generic function with 1 method)"
      ]
     },
     "execution_count": 5,
     "metadata": {},
     "output_type": "execute_result"
    }
   ],
   "source": [
    "function check_all(array, condition)\n",
    "    for x in array\n",
    "        if !condition(x)\n",
    "            return false\n",
    "        end\n",
    "    end\n",
    "    return true\n",
    "end"
   ]
  },
  {
   "cell_type": "markdown",
   "metadata": {
    "hidden": true
   },
   "source": [
    "## `check_any(array, condition)`\n",
    "Checks whether any element in an array satisfies a given condition."
   ]
  },
  {
   "cell_type": "code",
   "execution_count": 6,
   "metadata": {
    "hidden": true
   },
   "outputs": [
    {
     "data": {
      "text/plain": [
       "check_any (generic function with 1 method)"
      ]
     },
     "execution_count": 6,
     "metadata": {},
     "output_type": "execute_result"
    }
   ],
   "source": [
    "function check_any(array, condition)\n",
    "    for x in array\n",
    "        if condition(x)\n",
    "            return true\n",
    "        end\n",
    "    end\n",
    "    return false\n",
    "end"
   ]
  },
  {
   "cell_type": "markdown",
   "metadata": {
    "hidden": true
   },
   "source": [
    "## `set_tol(x,y)`\n",
    "Sets an appropriate tolerance for checking whether two numbers or two arrays of numbers are approximately equal."
   ]
  },
  {
   "cell_type": "code",
   "execution_count": 7,
   "metadata": {
    "hidden": true
   },
   "outputs": [
    {
     "data": {
      "text/plain": [
       "set_tol (generic function with 1 method)"
      ]
     },
     "execution_count": 7,
     "metadata": {},
     "output_type": "execute_result"
    }
   ],
   "source": [
    "function set_tol(x::Union{Number, Array}, y::Union{Number, Array}; atol = TOL)\n",
    "    if isa(x, Number) && isa(y, Number)\n",
    "       return atol * mean([x y])\n",
    "    elseif isa(x, Array) && isa(y, Array)\n",
    "        if size(x) != size(y)\n",
    "            throw(error(\"Array dimensions do not match\"))\n",
    "        end\n",
    "        # Avoid InexactError() when taking norm()\n",
    "        x = convert(Array{Complex}, x)\n",
    "        y = convert(Array{Complex}, y)\n",
    "        return atol * (LinearAlgebra.norm(x) + LinearAlgebra.norm(y))\n",
    "    else\n",
    "        throw(error(\"Invalid input\"))\n",
    "    end\n",
    "end"
   ]
  },
  {
   "cell_type": "markdown",
   "metadata": {
    "hidden": true
   },
   "source": [
    "## `evaluate(func, a)`\n",
    "Evaluate a univariate function or any array of them at a given value."
   ]
  },
  {
   "cell_type": "code",
   "execution_count": 8,
   "metadata": {
    "hidden": true
   },
   "outputs": [
    {
     "data": {
      "text/plain": [
       "evaluate (generic function with 1 method)"
      ]
     },
     "execution_count": 8,
     "metadata": {},
     "output_type": "execute_result"
    }
   ],
   "source": [
    "function evaluate(func::Union{Function, SymPy.Sym, Number}, a::Number)\n",
    "    if isa(func, Function)\n",
    "        funcA = func(a)\n",
    "    elseif isa(func, SymPy.Sym) # SymPy.Sym must come before Number because SymPy.Sym will be recognized as Number\n",
    "        freeSymbols = free_symbols(func)\n",
    "        if length(freeSymbols) > 1\n",
    "            throw(error(\"func should be univariate\"))\n",
    "        elseif length(freeSymbols) == 1\n",
    "            t = free_symbols(func)[1,1]\n",
    "            if isa(a, SymPy.Sym) # if x is SymPy.Sym, do not convert result to Number to preserve pretty printing\n",
    "                funcA = subs(func, t, a)\n",
    "            else\n",
    "                funcA = SymPy.N(subs(func, t, a))\n",
    "            end\n",
    "        else\n",
    "            funcA = func\n",
    "        end\n",
    "    else # func is Number\n",
    "        funcA = func\n",
    "    end\n",
    "    return funcA\n",
    "end"
   ]
  },
  {
   "cell_type": "markdown",
   "metadata": {
    "hidden": true
   },
   "source": [
    "## `partition(n)`\n",
    "Generate ordered two-integer partitions (0 included) of a given non-negative integer."
   ]
  },
  {
   "cell_type": "code",
   "execution_count": 9,
   "metadata": {
    "hidden": true
   },
   "outputs": [
    {
     "data": {
      "text/plain": [
       "partition (generic function with 1 method)"
      ]
     },
     "execution_count": 9,
     "metadata": {},
     "output_type": "execute_result"
    }
   ],
   "source": [
    "function partition(n::Int)\n",
    "    if n < 0\n",
    "        throw(error(\"Non-negative n required\"))\n",
    "    end\n",
    "    output = []\n",
    "    for i = 0:n\n",
    "        j = n - i\n",
    "        push!(output, (i,j))\n",
    "    end\n",
    "    return output\n",
    "end"
   ]
  },
  {
   "cell_type": "markdown",
   "metadata": {
    "hidden": true
   },
   "source": [
    "## `get_deriv(u,k)`\n",
    "Constructs the symbolic expression for the $k$th derivative of a univariate function $u.$"
   ]
  },
  {
   "cell_type": "code",
   "execution_count": 10,
   "metadata": {
    "hidden": true
   },
   "outputs": [
    {
     "data": {
      "text/plain": [
       "get_deriv (generic function with 1 method)"
      ]
     },
     "execution_count": 10,
     "metadata": {},
     "output_type": "execute_result"
    }
   ],
   "source": [
    "function get_deriv(u::Union{SymPy.Sym, Number}, k::Int)\n",
    "    if k < 0\n",
    "        throw(error(\"Non-negative k required\"))\n",
    "    end\n",
    "    if isa(u, SymPy.Sym)\n",
    "        freeSymbols = free_symbols(u)\n",
    "        if length(freeSymbols) > 1\n",
    "            throw(error(\"u should be univariate\"))\n",
    "        elseif length(freeSymbols) == 1\n",
    "            t = freeSymbols[1]\n",
    "            y = u\n",
    "            for i = 1:k\n",
    "                newY = diff(y, t) # diff is from SymPy\n",
    "                y = newY\n",
    "            end\n",
    "            return y\n",
    "        else\n",
    "            if k > 0\n",
    "                return 0\n",
    "            else\n",
    "                return u\n",
    "            end\n",
    "        end\n",
    "    else\n",
    "        if k > 0\n",
    "            return 0\n",
    "        else\n",
    "            return u\n",
    "        end\n",
    "    end\n",
    "end"
   ]
  },
  {
   "cell_type": "markdown",
   "metadata": {
    "hidden": true
   },
   "source": [
    "## `add_func(f, g)`\n",
    "Computes the sum of two functions using the function addition given by $(f+g)(x):= f(x) + g(x).$"
   ]
  },
  {
   "cell_type": "code",
   "execution_count": 11,
   "metadata": {
    "hidden": true
   },
   "outputs": [
    {
     "data": {
      "text/plain": [
       "add_func (generic function with 1 method)"
      ]
     },
     "execution_count": 11,
     "metadata": {},
     "output_type": "execute_result"
    }
   ],
   "source": [
    "function add_func(f::Union{Number, Function}, g::Union{Number, Function})\n",
    "    function h(x)\n",
    "        if isa(f, Number)\n",
    "            if isa(g, Number)\n",
    "                return f + g\n",
    "            else\n",
    "                return f + g(x)\n",
    "            end\n",
    "        elseif isa(f, Function)\n",
    "            if isa(g, Number)\n",
    "                return f(x) + g\n",
    "            else\n",
    "                return f(x) + g(x)\n",
    "            end\n",
    "        end\n",
    "    end\n",
    "    return h\n",
    "end"
   ]
  },
  {
   "cell_type": "markdown",
   "metadata": {
    "hidden": true
   },
   "source": [
    "## `mult_func(f, g)`\n",
    "Computes the product of two functions using the function multiplication given by $(f\\cdot g)(x):= f(x)\\cdot g(x).$ "
   ]
  },
  {
   "cell_type": "code",
   "execution_count": 12,
   "metadata": {
    "hidden": true
   },
   "outputs": [
    {
     "data": {
      "text/plain": [
       "mult_func (generic function with 1 method)"
      ]
     },
     "execution_count": 12,
     "metadata": {},
     "output_type": "execute_result"
    }
   ],
   "source": [
    "function mult_func(f::Union{Number, Function}, g::Union{Number, Function})\n",
    "    function h(x)\n",
    "        if isa(f, Number)\n",
    "            if isa(g, Number)\n",
    "                return f * g\n",
    "            else\n",
    "                return f * g(x)\n",
    "            end\n",
    "        elseif isa(f, Function)\n",
    "            if isa(g, Number)\n",
    "                return f(x) * g\n",
    "            else\n",
    "                return f(x) * g(x)\n",
    "            end\n",
    "        end\n",
    "    end\n",
    "    return h\n",
    "end"
   ]
  },
  {
   "cell_type": "markdown",
   "metadata": {
    "hidden": true
   },
   "source": [
    "## `sym_to_func(sym)`\n",
    "Create a univariate symbolic expression to a function."
   ]
  },
  {
   "cell_type": "code",
   "execution_count": 13,
   "metadata": {
    "hidden": true
   },
   "outputs": [
    {
     "data": {
      "text/plain": [
       "sym_to_func (generic function with 1 method)"
      ]
     },
     "execution_count": 13,
     "metadata": {},
     "output_type": "execute_result"
    }
   ],
   "source": [
    "function sym_to_func(sym::Union{SymPy.Sym, Number})\n",
    "    try\n",
    "        freeSymbols = free_symbols(sym)\n",
    "        if length(freeSymbols) > 1\n",
    "            throw(error(\"sym should be univariate\"))\n",
    "        else\n",
    "            function func(x)\n",
    "                if length(freeSymbols) == 0\n",
    "                    result = SymPy.N(sym)\n",
    "                else\n",
    "                    result = SymPy.N(subs(sym, freeSymbols[1], x))\n",
    "                end\n",
    "                return result\n",
    "            end\n",
    "            return func\n",
    "        end\n",
    "    catch\n",
    "        function func(x)\n",
    "            return sym\n",
    "        end\n",
    "        return func\n",
    "    end\n",
    "end"
   ]
  },
  {
   "cell_type": "markdown",
   "metadata": {
    "hidden": true
   },
   "source": [
    "## `prettyRound(x, digits)`\n",
    "Round a number at a given number of digits."
   ]
  },
  {
   "cell_type": "code",
   "execution_count": 14,
   "metadata": {
    "hidden": true
   },
   "outputs": [
    {
     "data": {
      "text/plain": [
       "prettyRound (generic function with 1 method)"
      ]
     },
     "execution_count": 14,
     "metadata": {},
     "output_type": "execute_result"
    }
   ],
   "source": [
    "function prettyRound(x::Number; digs::Int = DIGITS)\n",
    "    if isa(x, Int)\n",
    "        return x\n",
    "    elseif isa(x, Real)\n",
    "        if isa(x, Rational) || isa(x, Irrational) # If x is rational or irrational numbers like e, pi\n",
    "            return x\n",
    "        elseif round(abs(x); digits = digs) == floor(abs(x))\n",
    "            return Int(round(x))\n",
    "        else\n",
    "            return round(x; digits = digs)\n",
    "        end\n",
    "    elseif isa(x, Complex)\n",
    "        roundedReal = prettyRound(real(x); digs = digs)\n",
    "        roundedComplex = prettyRound(imag(x); digs = digs)\n",
    "        return roundedReal + im*roundedComplex\n",
    "    else\n",
    "        return round(x; digits = digs)\n",
    "    end\n",
    "end"
   ]
  },
  {
   "cell_type": "markdown",
   "metadata": {
    "hidden": true
   },
   "source": [
    "## `prettyPrint(x)`\n",
    "Prints symbolic scalar pretty-rounded floating numbers."
   ]
  },
  {
   "cell_type": "code",
   "execution_count": 93,
   "metadata": {
    "hidden": true
   },
   "outputs": [
    {
     "data": {
      "text/plain": [
       "prettyPrint (generic function with 1 method)"
      ]
     },
     "execution_count": 93,
     "metadata": {},
     "output_type": "execute_result"
    }
   ],
   "source": [
    "function prettyPrint(x::Union{Number, SymPy.Sym})\n",
    "    expr = x\n",
    "    if isa(expr, SymPy.Sym)\n",
    "        prettyExpr = expr\n",
    "        for a in sympy[:preorder_traversal](expr)\n",
    "            if length(free_symbols(a)) == 0 && length(a.args) == 0\n",
    "                if !(a in [sympy.E, PI]) && length(intersect(a.args, [sympy.E, PI])) == 0 # keep the transcendental numbers as symbols\n",
    "                    prettyA = prettyRound.(SymPy.N(a))\n",
    "                    prettyExpr = subs(prettyExpr, (a, prettyA))\n",
    "                end\n",
    "            end\n",
    "        end\n",
    "    else\n",
    "        prettyExpr = prettyRound.(expr)\n",
    "        prettyExpr = convert(SymPy.Sym, prettyExpr)\n",
    "    end\n",
    "    return prettyExpr\n",
    "end"
   ]
  },
  {
   "cell_type": "markdown",
   "metadata": {
    "hidden": true
   },
   "source": [
    "## `is_approxLess(x, y; atol)`\n",
    "Checks whether $x$ is approximately less than $y$ within a tolerance. That is, whether $x \\not\\approx y$ and $x < y.$"
   ]
  },
  {
   "cell_type": "code",
   "execution_count": 601,
   "metadata": {
    "hidden": true
   },
   "outputs": [
    {
     "data": {
      "text/plain": [
       "is_approxLess (generic function with 1 method)"
      ]
     },
     "execution_count": 601,
     "metadata": {},
     "output_type": "execute_result"
    }
   ],
   "source": [
    "function is_approxLess(x::Number, y::Number; atol = TOL)\n",
    "    if isa(x, Sym) == true || isa(y, Sym) == true\n",
    "        x = convert(Float64, x)\n",
    "        y = convert(Float64, x)\n",
    "    end\n",
    "    return !isapprox(x, y; atol = atol) && x < y\n",
    "end"
   ]
  },
  {
   "cell_type": "markdown",
   "metadata": {
    "hidden": true
   },
   "source": [
    "## `is_approx(x, y; tol)`\n",
    "Checks whether $x$ is approximately equal to $y$ within a tolerance."
   ]
  },
  {
   "cell_type": "code",
   "execution_count": 604,
   "metadata": {
    "hidden": true
   },
   "outputs": [
    {
     "data": {
      "text/plain": [
       "is_approx (generic function with 1 method)"
      ]
     },
     "execution_count": 604,
     "metadata": {},
     "output_type": "execute_result"
    }
   ],
   "source": [
    "function is_approx(x::Number, y::Number; atol = TOL)\n",
    "    if isa(x, Sym) == true || isa(y, Sym) == true\n",
    "        x = convert(Float64, x)\n",
    "        y = convert(Float64, x)\n",
    "    end\n",
    "    return isapprox(x, y; atol = atol)\n",
    "end"
   ]
  },
  {
   "cell_type": "markdown",
   "metadata": {
    "hidden": true
   },
   "source": [
    "## `argument(z)`\n",
    "Finds the argument of a complex number in $[0, 2\\pi).$"
   ]
  },
  {
   "cell_type": "code",
   "execution_count": 606,
   "metadata": {
    "hidden": true
   },
   "outputs": [
    {
     "data": {
      "text/plain": [
       "argument (generic function with 1 method)"
      ]
     },
     "execution_count": 606,
     "metadata": {},
     "output_type": "execute_result"
    }
   ],
   "source": [
    "function argument(z::Number)\n",
    "    if angle(z) >= 0 # in [0,pi]\n",
    "        return angle(z)\n",
    "    else \n",
    "        # angle(z) is in (-pi, 0]\n",
    "        # Shift it up to (pi,2pi]\n",
    "        argument = 2pi + angle(z) # This is in (pi,2pi]\n",
    "        if is_approx(argument, 2pi) # Map 2pi to 0\n",
    "            return 0\n",
    "        else\n",
    "            return argument # This is now in [0,2pi)\n",
    "        end\n",
    "    end\n",
    "end"
   ]
  },
  {
   "cell_type": "markdown",
   "metadata": {
    "hidden": true
   },
   "source": [
    "## `trace_contour(a, n, infty, sampleSize)`\n",
    "\n",
    "Plots the contour sectors encircled by $\\Gamma_a^+$, $\\Gamma_a^-$, $\\Gamma_0^+$, and $\\Gamma_0^-$ defined as\n",
    "\\begin{align*}\n",
    "    \\Gamma_a^{\\pm} &:= \\partial(\\{\\lambda\\in\\mathbb{C}^{\\pm}:\\, \\Re(a\\lambda^n)>0\\}\\setminus \\bigcup_{\\substack{\\sigma\\in\\mathbb{C};\\\\\\Delta(\\sigma)=0}} D(\\sigma, 2\\epsilon))\\quad\\mbox{($D$ for disk)},\\\\\n",
    "    \\Gamma_0^+ &:= \\bigcup_{\\substack{\\sigma\\in\\overline{\\mathbb{C}^+};\\\\ \\Delta(\\sigma)=0}} C(\\sigma, \\epsilon)\\quad\\mbox{($C$ for circle)},\\\\\n",
    "    \\Gamma_0^- &:= \\bigcup_{\\substack{\\sigma\\in\\mathbb{C}^-;\\\\ \\Delta(\\sigma)=0}} C(\\sigma, \\epsilon)\n",
    "\\end{align*}\n",
    "by sampling points."
   ]
  },
  {
   "cell_type": "code",
   "execution_count": 19,
   "metadata": {
    "hidden": true
   },
   "outputs": [
    {
     "data": {
      "text/plain": [
       "trace_contour (generic function with 1 method)"
      ]
     },
     "execution_count": 19,
     "metadata": {},
     "output_type": "execute_result"
    }
   ],
   "source": [
    "function trace_contour(a::Number, n::Int, sampleSize::Int; infty = INFTY)\n",
    "    lambdaVec = []\n",
    "    for counter = 1:sampleSize\n",
    "        x = rand(Uniform(-infty,infty), 1, 1)[1]\n",
    "        y = rand(Uniform(-infty,infty), 1, 1)[1]\n",
    "        lambda = x + y*im\n",
    "        if real(a*lambda^n)>0\n",
    "            append!(lambdaVec, lambda)\n",
    "        end\n",
    "    end\n",
    "    Gadfly.plot(x=real(lambdaVec), y=imag(lambdaVec), Guide.xlabel(\"Re\"), Guide.ylabel(\"Im\"), Coord.Cartesian(ymin=-infty,ymax=infty, xmin=-infty, xmax=infty, fixed = true))\n",
    "end"
   ]
  },
  {
   "cell_type": "markdown",
   "metadata": {
    "hidden": true
   },
   "source": [
    "## `get_distancePointLine(z, theta)`\n",
    "\n",
    "Finds the distance between a complex number $z$ and a line through the origin given by an angle $\\theta \\in [0, 2\\pi).$ "
   ]
  },
  {
   "cell_type": "code",
   "execution_count": 20,
   "metadata": {
    "hidden": true
   },
   "outputs": [
    {
     "data": {
      "text/plain": [
       "get_distancePointLine (generic function with 1 method)"
      ]
     },
     "execution_count": 20,
     "metadata": {},
     "output_type": "execute_result"
    }
   ],
   "source": [
    "function get_distancePointLine(z::Number, theta::Number)\n",
    "    if theta >= 2pi && theta < 0\n",
    "        throw(error(\"Theta must be in [0,2pi)\"))\n",
    "    else\n",
    "        if is_approx(argument(z), theta)\n",
    "            return 0\n",
    "        else\n",
    "            x0, y0 = real(z), imag(z)\n",
    "            if is_approx(theta, pi/2) || is_approx(theta, 3pi/2)\n",
    "                return abs(x0)\n",
    "            elseif is_approx(theta, 0) || is_approx(theta, 2pi)\n",
    "                return abs(y0)\n",
    "            else\n",
    "                k = tan(theta)\n",
    "                x = (y0+1/k*x0)/(k+1/k)\n",
    "                y = k*x\n",
    "                distance = LinearAlgebra.norm(z-(x+im*y))\n",
    "                return distance\n",
    "            end\n",
    "        end\n",
    "    end\n",
    "end"
   ]
  },
  {
   "cell_type": "markdown",
   "metadata": {
    "heading_collapsed": true
   },
   "source": [
    "# Structs"
   ]
  },
  {
   "cell_type": "markdown",
   "metadata": {
    "hidden": true
   },
   "source": [
    "## `StructDefinitionError`\n",
    "\n",
    "A struct definition error type is the class of all errors in struct definitions."
   ]
  },
  {
   "cell_type": "code",
   "execution_count": 21,
   "metadata": {
    "collapsed": true,
    "hidden": true
   },
   "outputs": [],
   "source": [
    "struct StructDefinitionError <: Exception\n",
    "    msg::String\n",
    "end"
   ]
  },
  {
   "cell_type": "markdown",
   "metadata": {
    "hidden": true
   },
   "source": [
    "## `SymLinearDifferentialOperator(SymPFunctions, interval, t)`\n",
    "\n",
    "A symbolic linear differential operator of order $n$ is encoded by an $1 \\times (n+1)$ array of symbolic expressions with at most one free symbol, an interval $[a,b]$ and that free symbol."
   ]
  },
  {
   "cell_type": "code",
   "execution_count": 22,
   "metadata": {
    "hidden": true
   },
   "outputs": [
    {
     "data": {
      "text/plain": [
       "check_symLinearDifferentialOperator_input (generic function with 1 method)"
      ]
     },
     "execution_count": 22,
     "metadata": {},
     "output_type": "execute_result"
    }
   ],
   "source": [
    "struct SymLinearDifferentialOperator\n",
    "    # Entries in the array should be SymPy.Sym or Number. SymPy.Sym seems to be a subtype of Number, i.e., Array{Union{Number,SymPy.Sym}} returns Array{Number}. But specifying symPFunctions as Array{Number,2} gives a MethodError when the entries are Sympy.Sym objects.\n",
    "    symPFunctions::Array\n",
    "    interval::Tuple{Number,Number}\n",
    "    t::SymPy.Sym\n",
    "    SymLinearDifferentialOperator(symPFunctions::Array, interval::Tuple{Number,Number}, t::SymPy.Sym) =\n",
    "    try\n",
    "        symL = new(symPFunctions, interval, t)\n",
    "        check_symLinearDifferentialOperator_input(symL)\n",
    "        return symL\n",
    "    catch err\n",
    "        throw(err)\n",
    "    end\n",
    "end\n",
    "\n",
    "function check_symLinearDifferentialOperator_input(symL::SymLinearDifferentialOperator)\n",
    "    symPFunctions, (a,b), t = symL.symPFunctions, symL.interval, symL.t\n",
    "    for symPFunc in symPFunctions\n",
    "        if isa(symPFunc, SymPy.Sym)\n",
    "            if size(free_symbols(symPFunc)) != (1,) && size(free_symbols(symPFunc)) != (0,)\n",
    "                throw(StructDefinitionError(:\"Only one free symbol is allowed in symP_k\"))\n",
    "            end\n",
    "        elseif !isa(symPFunc, Number)\n",
    "            throw(StructDefinitionError(:\"symP_k should be SymPy.Sym or Number\"))\n",
    "        end\n",
    "    end\n",
    "    return true\n",
    "end"
   ]
  },
  {
   "cell_type": "markdown",
   "metadata": {
    "hidden": true
   },
   "source": [
    "## `LinearDifferentialOperator(pFunctions, interval, symL)`\n",
    "\n",
    "A linear differential operator $L$ of order $n$ given by \n",
    "$$Lx = p_0x^{(n)} + p_1x^{(n-1)} + \\cdots + p_{n-1}x^{(1)} + p_n x$$\n",
    "is encoded by an $1 \\times (n+1)$ array of univariate functions, an interval $[a,b]$, and its symbolic expression."
   ]
  },
  {
   "cell_type": "code",
   "execution_count": 23,
   "metadata": {
    "hidden": true
   },
   "outputs": [
    {
     "data": {
      "text/plain": [
       "check_linearDifferentialOperator_input (generic function with 1 method)"
      ]
     },
     "execution_count": 23,
     "metadata": {},
     "output_type": "execute_result"
    }
   ],
   "source": [
    "# symL is an attribute of L that needs to be input by the user. There are checks to make sure symL is indeed the symbolic version of L.\n",
    "# Principle: Functionalities of Julia Functions >= Functionalities of SymPy. If p_k has no SymPy representation, the only consequence should be that outputs by functions that take L as arugment has no symbolic expression. E.g., we allow L.pFunctions and L.symL.pFunctions to differ.\n",
    "struct LinearDifferentialOperator\n",
    "    pFunctions::Array # Array of julia functions or numbers representing constant functions\n",
    "    interval::Tuple{Number,Number}\n",
    "    symL::SymLinearDifferentialOperator\n",
    "    LinearDifferentialOperator(pFunctions::Array, interval::Tuple{Number,Number}, symL::SymLinearDifferentialOperator) =\n",
    "    try\n",
    "        L = new(pFunctions, interval, symL)\n",
    "        check_linearDifferentialOperator_input(L)\n",
    "        return L\n",
    "    catch err\n",
    "        throw(err)\n",
    "    end\n",
    "end\n",
    "\n",
    "# Assume symFunc has only one free symbol, as required by the definition of SymLinearDifferentialOperator. \n",
    "# That is, assume the input symFunc comes from SymLinearDifferentialOperator.\n",
    "function check_func_sym_equal(func::Union{Function,Number}, symFunc, interval::Tuple{Number,Number}, t::SymPy.Sym) # symFunc should be Union{SymPy.Sym, Number}, but somehow SymPy.Sym gets ignored\n",
    "    (a,b) = interval\n",
    "    # Randomly sample 1000 points from (a,b) and check if func and symFunc agree on them\n",
    "    for i = 1:1000\n",
    "        # Check endpoints\n",
    "        if i == 1\n",
    "            x = a\n",
    "        elseif i == 2\n",
    "            x = b\n",
    "        else\n",
    "            x = rand(Uniform(a,b), 1)[1,1]\n",
    "        end\n",
    "        funcEvalX = evaluate.(func, x)\n",
    "        if isa(symFunc, SymPy.Sym)\n",
    "            symFuncEvalX = SymPy.N(subs(symFunc,t,x))\n",
    "            # N() converts SymPy.Sym to Number\n",
    "            # https://docs.sympy.org/latest/modules/evalf.html\n",
    "            # subs() works no matter symFunc is Number or SymPy.Sym\n",
    "        else\n",
    "            symFuncEvalX = symFunc\n",
    "        end\n",
    "        tol = set_tol(funcEvalX, symFuncEvalX)\n",
    "        if !isapprox(real(funcEvalX), real(symFuncEvalX); atol = real(tol)) ||\n",
    "            !isapprox(imag(funcEvalX), imag(symFuncEvalX); atol = imag(tol))\n",
    "            println(\"x = $x\")\n",
    "            println(\"symFunc = $symFunc\")\n",
    "            println(\"funcEvalX = $funcEvalX\")\n",
    "            println(\"symFuncEvalX = $symFuncEvalX\")\n",
    "            return false\n",
    "        end\n",
    "    end\n",
    "    return true\n",
    "end\n",
    "\n",
    "# Check whether the inputs of L are valid.\n",
    "function check_linearDifferentialOperator_input(L::LinearDifferentialOperator)\n",
    "    pFunctions, (a,b), symL = L.pFunctions, L.interval, L.symL\n",
    "    symPFunctions, t = symL.symPFunctions, symL.t\n",
    "    # domainC = Complex(a..b, 0..0) # Domain [a,b] represented in the complex plane\n",
    "    p0 = pFunctions[1]\n",
    "    # p0Chebyshev = Fun(p0, a..b) # Chebysev polynomial approximation of p0 on [a,b]\n",
    "    if !check_all(pFunctions, pFunc -> (isa(pFunc, Function) || isa(pFunc, Number)))\n",
    "        throw(StructDefinitionError(:\"p_k should be Function or Number\"))\n",
    "    elseif length(pFunctions) != length(symPFunctions)\n",
    "        throw(StructDefinitionError(:\"Number of p_k and symP_k do not match\"))\n",
    "    elseif (a,b) != symL.interval\n",
    "        throw(StructDefinitionError(:\"Intervals of L and symL do not match\"))\n",
    "    # # Assume p_k are in C^{n-k}. Check whether p0 vanishes on [a,b]. \n",
    "    # # roots() in IntervalRootFinding doesn't work if p0 is sth like t*im - 2*im. Neither does find_zero() in Roots.\n",
    "    # # ApproxFun.roots() \n",
    "    # elseif (isa(p0, Function) && (!isempty(roots(p0Chebyshev)) || all(x->x>b, roots(p0Chebyshev)) || all(x->x<b, roots(p0Chebyshev)) || p0(a) == 0 || p0(b) == 0)) || p0 == 0 \n",
    "    #     throw(StructDefinitionError(:\"p0 vanishes on [a,b]\"))\n",
    "    elseif !all(i -> check_func_sym_equal(pFunctions[i], symPFunctions[i], (a,b), t), 1:length(pFunctions))\n",
    "        # throw(StructDefinitionError(:\"symP_k does not agree with p_k on [a,b]\"))\n",
    "        warn(\"symP_k does not agree with p_k on [a,b]\") # Make this a warning instead of an error because the functionalities of Julia Functions may be more than those of SymPy objects; we do not want to compromise the functionalities of LinearDifferentialOperator because of the restrictions on SymPy.\n",
    "    else\n",
    "        return true\n",
    "    end\n",
    "end"
   ]
  },
  {
   "cell_type": "markdown",
   "metadata": {
    "hidden": true
   },
   "source": [
    "## `VectorBoundaryForm(M, N)`\n",
    "\n",
    "A set of homogeneous boundary conditions in vector form\n",
    "$$Ux = \\begin{bmatrix}U_1\\\\\\vdots\\\\ U_m\\end{bmatrix}x = \\begin{bmatrix}\\sum_{j=1}^n M_{1j}x^{(j-1)}(a) + N_{1j}x^{(j-1)}(b)\\\\\\vdots\\\\ \\sum_{j=1}^n M_{mj}x^{(j-1)}(a) + N_{mj}x^{(j-1)}(b)\\end{bmatrix} = \\begin{bmatrix}0\\\\\\vdots\\\\ 0\\end{bmatrix}$$\n",
    "is encoded by an ordered pair of two linearly independent $m\\times n$ matrices $(M, N)$ where\n",
    "$$M = \\begin{bmatrix}M_{11} & \\cdots & M_{1n}\\\\ \\vdots & \\ddots & \\vdots\\\\ M_{m1} & \\cdots & M_{mn}\\end{bmatrix},\\quad N = \\begin{bmatrix}N_{11} & \\cdots & N_{1n}\\\\ \\vdots & \\ddots & \\vdots\\\\ N_{m1} & \\cdots & N_{mn}\\end{bmatrix}.$$"
   ]
  },
  {
   "cell_type": "code",
   "execution_count": 26,
   "metadata": {
    "hidden": true
   },
   "outputs": [
    {
     "data": {
      "text/plain": [
       "check_vectorBoundaryForm_input (generic function with 1 method)"
      ]
     },
     "execution_count": 26,
     "metadata": {},
     "output_type": "execute_result"
    }
   ],
   "source": [
    "struct VectorBoundaryForm\n",
    "    M::Array # Why can't I specify Array{Number,2} without having a MethodError?\n",
    "    N::Array # We can also use Matrix{<:Number}, and so we will need to alter the below checker\n",
    "    VectorBoundaryForm(M::Array, N::Array) =\n",
    "    try\n",
    "        U = new(M, N)\n",
    "        check_vectorBoundaryForm_input(U)\n",
    "        return U\n",
    "    catch err\n",
    "        throw(err)\n",
    "    end\n",
    "end\n",
    "\n",
    "# Check whether the input matrices that characterize U are valid\n",
    "function check_vectorBoundaryForm_input(U::VectorBoundaryForm)\n",
    "    # M, N = U.M, U.N\n",
    "    # Avoid Inexact() error when taking rank()\n",
    "    M = convert(Array{Complex}, U.M)\n",
    "    N = convert(Array{Complex}, U.N)\n",
    "    if !(check_all(U.M, x -> isa(x, Number)) && check_all(U.N, x -> isa(x, Number)))\n",
    "        throw(StructDefinitionError(:\"Entries of M, N should be Number\"))\n",
    "    elseif size(U.M) != size(U.N)\n",
    "        throw(StructDefinitionError(:\"M, N dimensions do not match\"))\n",
    "    elseif size(U.M)[1] != size(U.M)[2]\n",
    "        throw(StructDefinitionError(:\"M, N should be square matrices\"))\n",
    "    elseif LinearAlgebra.rank(hcat(M, N)) != size(M)[1] # rank() throws weird \"InexactError()\" when taking some complex matrices\n",
    "        throw(StructDefinitionError(:\"Boundary operators not linearly independent\"))\n",
    "    else\n",
    "        return true\n",
    "    end\n",
    "end"
   ]
  },
  {
   "cell_type": "markdown",
   "metadata": {
    "heading_collapsed": true
   },
   "source": [
    "# Construct adjoint boundary conditions \n",
    "Constructs a valid adjoint boundary condition from a given (homogeneous) boundary condition based on Chapter 11 in Theory of Ordinary Differential Equations (Coddington & Levinson)."
   ]
  },
  {
   "cell_type": "markdown",
   "metadata": {
    "hidden": true
   },
   "source": [
    "## `get_L(symL)`\n",
    "\n",
    "Constructs a `LinearDifferentialOperator` from a given `SymLinearDifferentialOperator`."
   ]
  },
  {
   "cell_type": "code",
   "execution_count": 28,
   "metadata": {
    "hidden": true
   },
   "outputs": [
    {
     "data": {
      "text/plain": [
       "get_L (generic function with 1 method)"
      ]
     },
     "execution_count": 28,
     "metadata": {},
     "output_type": "execute_result"
    }
   ],
   "source": [
    "function get_L(symL::SymLinearDifferentialOperator)\n",
    "    symPFunctions, (a,b), t = symL.symPFunctions, symL.interval, symL.t\n",
    "    if check_all(symPFunctions, x->!isa(x, SymPy.Sym))\n",
    "        pFunctions = symPFunctions\n",
    "    else\n",
    "        pFunctions = sym_to_func.(symPFunctions)\n",
    "    end\n",
    "    L = LinearDifferentialOperator(pFunctions, (a,b), symL)\n",
    "    return L\n",
    "end"
   ]
  },
  {
   "cell_type": "markdown",
   "metadata": {
    "hidden": true
   },
   "source": [
    "## `get_Urank(U)`\n",
    "\n",
    "Computes the rank of a vector boundary form $U$ by computing the equivalent $\\text{rank}(M:N)$, where $M, N$ are the matrices associated with $U$ and\n",
    "$$(M:N) = \\begin{bmatrix}M_{11} & \\cdots & M_{1n} & N_{11} & \\cdots & N_{1n}\\\\ \\vdots & \\ddots & \\vdots & \\vdots & \\ddots & \\vdots\\\\ M_{m1} & \\cdots & M_{mn} & N_{m1} & \\cdots & N_{mn}\\end{bmatrix}.$$"
   ]
  },
  {
   "cell_type": "code",
   "execution_count": 33,
   "metadata": {
    "hidden": true
   },
   "outputs": [
    {
     "data": {
      "text/plain": [
       "get_URank (generic function with 1 method)"
      ]
     },
     "execution_count": 33,
     "metadata": {},
     "output_type": "execute_result"
    }
   ],
   "source": [
    "function get_URank(U::VectorBoundaryForm)\n",
    "    # Avoid InexactError() when taking hcat() and rank()\n",
    "    M = convert(Array{Complex}, U.M)\n",
    "    N = convert(Array{Complex}, U.N)\n",
    "    MHcatN = hcat(M, N)\n",
    "    return LinearAlgebra.rank(MHcatN)\n",
    "end"
   ]
  },
  {
   "cell_type": "markdown",
   "metadata": {
    "hidden": true
   },
   "source": [
    "## `get_Uc(U)`\n",
    "\n",
    "Given a vector boundary form $U = \\begin{bmatrix}U_1\\\\ \\vdots\\\\ U_m\\end{bmatrix}$ of rank $m$, finds a complementary form $U_c = \\begin{bmatrix}U_{m+1}\\\\ \\vdots\\\\ U_{2n}\\end{bmatrix}$ of rank $2n-m$ such that $\\begin{bmatrix}U_1\\\\ \\vdots\\\\ U_{2n}\\end{bmatrix}$ has rank $2n$."
   ]
  },
  {
   "cell_type": "code",
   "execution_count": 57,
   "metadata": {
    "hidden": true
   },
   "outputs": [
    {
     "data": {
      "text/plain": [
       "get_Uc (generic function with 1 method)"
      ]
     },
     "execution_count": 57,
     "metadata": {},
     "output_type": "execute_result"
    }
   ],
   "source": [
    "function get_Uc(U::VectorBoundaryForm)\n",
    "    try\n",
    "        check_vectorBoundaryForm_input(U)\n",
    "        n = get_URank(U)\n",
    "        I = complex(Matrix{Float64}(LinearAlgebra.I, 2n, 2n))\n",
    "        M, N = U.M, U.N\n",
    "        MHcatN = hcat(M, N)\n",
    "        # Avoid InexactError() when taking rank()\n",
    "        mat = convert(Array{Complex}, MHcatN)\n",
    "        for i = 1:(2*n)\n",
    "            newMat = vcat(mat, I[i:i,:])\n",
    "            newMat = convert(Array{Complex}, newMat)\n",
    "            if LinearAlgebra.rank(newMat) == LinearAlgebra.rank(mat) + 1\n",
    "                mat = newMat\n",
    "            end\n",
    "        end\n",
    "        UcHcat = mat[(n+1):(2n),:]\n",
    "        Uc = VectorBoundaryForm(UcHcat[:,1:n], UcHcat[:,(n+1):(2n)])\n",
    "        return Uc\n",
    "    catch err\n",
    "        return err\n",
    "    end\n",
    "end"
   ]
  },
  {
   "cell_type": "markdown",
   "metadata": {
    "hidden": true
   },
   "source": [
    "## `get_H(U, Uc)`\n",
    "\n",
    "Given a vector boundary form $U$ and a complementary vector boundary form $U_c$, constructs \n",
    "$$H = \\begin{bmatrix}M&N\\\\ M_c & N_c\\end{bmatrix},$$\n",
    "where $M, N$ are the matrices associated with $U$ and $M_c, N_c$ are associated with $U_c$."
   ]
  },
  {
   "cell_type": "code",
   "execution_count": 59,
   "metadata": {
    "hidden": true
   },
   "outputs": [
    {
     "data": {
      "text/plain": [
       "get_H (generic function with 1 method)"
      ]
     },
     "execution_count": 59,
     "metadata": {},
     "output_type": "execute_result"
    }
   ],
   "source": [
    "function get_H(U::VectorBoundaryForm, Uc::VectorBoundaryForm)\n",
    "    MHcatN = hcat(convert(Array{Complex}, U.M), convert(Array{Complex}, U.N))\n",
    "    McHcatNc = hcat(convert(Array{Complex}, Uc.M), convert(Array{Complex}, Uc.N))\n",
    "    H = vcat(MHcatN, McHcatNc)\n",
    "    return H\n",
    "end"
   ]
  },
  {
   "cell_type": "markdown",
   "metadata": {
    "hidden": true
   },
   "source": [
    "## `get_pDerivMatrix(L; symbolic)`\n",
    "\n",
    "Given a `LinearDifferentialOperator` `L` where `L.pFunctions` is the array\n",
    "$$[p_0, p_1, \\ldots, p_n],$$\n",
    "constructs an $n\\times n$ matrix whose $(i+1)(j+1)$-entry is a function corresponding to the $j$th derivative of $p_i$:\n",
    "$$\\begin{bmatrix}p_0 & \\cdots & p_0^{(n-1)}\\\\ \\vdots & \\ddots & \\vdots\\\\ p_{n-1} & \\cdots & p_{n-1}^{(n-1)}\\end{bmatrix}.$$"
   ]
  },
  {
   "cell_type": "code",
   "execution_count": 75,
   "metadata": {
    "hidden": true
   },
   "outputs": [
    {
     "data": {
      "text/plain": [
       "get_pDerivMatrix (generic function with 1 method)"
      ]
     },
     "execution_count": 75,
     "metadata": {},
     "output_type": "execute_result"
    }
   ],
   "source": [
    "function get_pDerivMatrix(L::LinearDifferentialOperator; symbolic = false)\n",
    "    if symbolic\n",
    "        symL = L.symL\n",
    "        symPFunctions, t = symL.symPFunctions, symL.t\n",
    "        n = length(symPFunctions)-1\n",
    "        symPDerivMatrix = Array{SymPy.Sym}(undef, n,n)\n",
    "        pFunctionSymbols = symPFunctions\n",
    "        for i in 0:(n-1)\n",
    "            for j in 0:(n-1)\n",
    "                index, degree = i, j\n",
    "                symP = pFunctionSymbols[index+1]\n",
    "                # If symP is not a Sympy.Sym object (e.g., is a Number instead), then cannot use get_deriv()\n",
    "                if !isa(symP, SymPy.Sym)\n",
    "                    if degree > 0\n",
    "                        symPDeriv = 0\n",
    "                    else\n",
    "                        symPDeriv = symP\n",
    "                    end\n",
    "                else\n",
    "                    symPDeriv = get_deriv(symP, degree)\n",
    "                end\n",
    "                symPDerivMatrix[i+1,j+1] = symPDeriv\n",
    "            end\n",
    "        end\n",
    "        return symPDerivMatrix\n",
    "    else\n",
    "        symPDerivMatrix = get_pDerivMatrix(L; symbolic = true)\n",
    "        n = length(L.pFunctions)-1\n",
    "        pDerivMatrix = sym_to_func.(symPDerivMatrix)\n",
    "    end\n",
    "    return pDerivMatrix\n",
    "end"
   ]
  },
  {
   "cell_type": "markdown",
   "metadata": {
    "hidden": true
   },
   "source": [
    "## `get_Bjk(L, j, k; symbolic, pDerivMatrix)`\n",
    "\n",
    "Given a `LinearDifferentialOperator` `L` of order $n$, for $j, k \\in \\{1,\\ldots,n\\}$, computes $B_{jk}$ defined as\n",
    "$$B_{jk}(t) := \\sum_{\\ell=j-1}^{n-k}\\binom{\\ell}{j-1}p^{(\\ell-j+1)}_{n-k-\\ell}(t)(-1)^\\ell.$$"
   ]
  },
  {
   "cell_type": "code",
   "execution_count": 77,
   "metadata": {
    "hidden": true
   },
   "outputs": [
    {
     "data": {
      "text/plain": [
       "get_Bjk (generic function with 1 method)"
      ]
     },
     "execution_count": 77,
     "metadata": {},
     "output_type": "execute_result"
    }
   ],
   "source": [
    "function get_Bjk(L::LinearDifferentialOperator, j::Int, k::Int; symbolic = false, pDerivMatrix = get_pDerivMatrix(L; symbolic = symbolic))\n",
    "    n = length(L.pFunctions)-1\n",
    "    if j <= 0 || j > n || k <= 0 || k > n\n",
    "        throw(\"j, k should be in {1, ..., n}\")\n",
    "    end\n",
    "    sum = 0\n",
    "    if symbolic\n",
    "        symPDerivMatrix = get_pDerivMatrix(L; symbolic = true)\n",
    "        for l = (j-1):(n-k)\n",
    "            summand = binomial(l, j-1) * symPDerivMatrix[n-k-l+1, l-j+1+1] * (-1)^l\n",
    "            sum += summand\n",
    "        end\n",
    "    else\n",
    "        for l = (j-1):(n-k)\n",
    "            summand = mult_func(binomial(l, j-1) * (-1)^l, pDerivMatrix[n-k-l+1, l-j+1+1])\n",
    "            sum = add_func(sum, summand)\n",
    "        end\n",
    "    end\n",
    "    return sum\n",
    "end"
   ]
  },
  {
   "cell_type": "markdown",
   "metadata": {
    "hidden": true
   },
   "source": [
    "## `get_B(L; symbolic, pDerivMatrix)`\n",
    "\n",
    "Given a `LinearDifferentialOperator` `L` where `L.pFunctions` is the array\n",
    "$$[p_0, p_1, \\ldots, p_n],$$ \n",
    "constructs the matrix $B(t)$ whose $ij$-entry is given by\n",
    "$$B_{jk}(t) := \\sum_{\\ell=j-1}^{n-k}\\binom{\\ell}{j-1}p^{(\\ell-j+1)}_{n-k-\\ell}(t)(-1)^\\ell.$$"
   ]
  },
  {
   "cell_type": "code",
   "execution_count": 86,
   "metadata": {
    "hidden": true
   },
   "outputs": [
    {
     "data": {
      "text/plain": [
       "get_B (generic function with 1 method)"
      ]
     },
     "execution_count": 86,
     "metadata": {},
     "output_type": "execute_result"
    }
   ],
   "source": [
    "function get_B(L::LinearDifferentialOperator; symbolic = false, pDerivMatrix = get_pDerivMatrix(L; symbolic = symbolic))\n",
    "    n = length(L.pFunctions)-1\n",
    "    B = Array{Union{Function, Number, SymPy.Sym}}(undef, n, n)\n",
    "    for j = 1:n\n",
    "        for k = 1:n\n",
    "            B[j,k] = get_Bjk(L, j, k; symbolic = symbolic, pDerivMatrix = pDerivMatrix)\n",
    "        end\n",
    "    end\n",
    "    return B\n",
    "end"
   ]
  },
  {
   "cell_type": "markdown",
   "metadata": {
    "hidden": true
   },
   "source": [
    "## `get_BHat(L, B)`\n",
    "\n",
    "Given a `LinearDifferentialOperator` `L` where `L.pFunctions` is the array\n",
    "$$[p_0, p_1, \\ldots, p_n]$$\n",
    "and `L.interval` is $[a,b]$, constructs $\\hat{B}$ defined as the block matrix\n",
    "$$\\hat{B}:=\\begin{bmatrix}-B(a) & 0_n\\\\0_n & B(b)\\end{bmatrix}.$$"
   ]
  },
  {
   "cell_type": "code",
   "execution_count": 174,
   "metadata": {
    "hidden": true
   },
   "outputs": [
    {
     "data": {
      "text/plain": [
       "get_BHat (generic function with 1 method)"
      ]
     },
     "execution_count": 174,
     "metadata": {},
     "output_type": "execute_result"
    }
   ],
   "source": [
    "function get_BHat(L::LinearDifferentialOperator, B::Array)\n",
    "#     if check_any(B, x->isa(x, SymPy.Sym))\n",
    "#         throw(\"Entries of B should be Function or Number\")\n",
    "#     end\n",
    "    pFunctions, (a,b) = L.pFunctions, L.interval\n",
    "    n = length(pFunctions)-1\n",
    "    BHat = Array{Float64, 2}(undef, 2n, 2n)\n",
    "    BHat = convert(Array{Complex}, BHat)\n",
    "    BEvalA = evaluate.(B, a)\n",
    "    BEvalB = evaluate.(B, b)\n",
    "    BHat[1:n,1:n] = -BEvalA\n",
    "    BHat[(n+1):(2n),(n+1):(2n)] = BEvalB\n",
    "    BHat[1:n, (n+1):(2n)] = zeros(n, n)\n",
    "    BHat[(n+1):(2n), 1:n] = zeros(n, n)\n",
    "    return BHat\n",
    "end"
   ]
  },
  {
   "cell_type": "markdown",
   "metadata": {
    "hidden": true
   },
   "source": [
    "## `get_J(BHat, H)`\n",
    "\n",
    "Given $\\hat{B}$ and $H$, constructs $J$ defined as \n",
    "$$J:=(\\hat{B}H^{-1})^\\star$$\n",
    "where $^*$ denotes conjugate transpose."
   ]
  },
  {
   "cell_type": "code",
   "execution_count": 177,
   "metadata": {
    "hidden": true
   },
   "outputs": [
    {
     "data": {
      "text/plain": [
       "get_J (generic function with 1 method)"
      ]
     },
     "execution_count": 177,
     "metadata": {},
     "output_type": "execute_result"
    }
   ],
   "source": [
    "function get_J(BHat, H)\n",
    "    n = size(H)[1]\n",
    "    H = convert(Array{Complex}, H)\n",
    "    J = (BHat * inv(H))'\n",
    "    # J = convert(Array{Complex}, J)\n",
    "    return J\n",
    "end"
   ]
  },
  {
   "cell_type": "markdown",
   "metadata": {
    "hidden": true
   },
   "source": [
    "## `get_adjointCand(J)`\n",
    "\n",
    "Given $J$, constructs a candidate adjoint vector boundary form $U^+$ from two matrices $P^\\star$, $Q^\\star$, which are the lower-left $n\\times n$ submatrix of $J$, and the lower-right $n\\times n$ submatrix of $J$, respectively."
   ]
  },
  {
   "cell_type": "code",
   "execution_count": 183,
   "metadata": {
    "hidden": true
   },
   "outputs": [
    {
     "data": {
      "text/plain": [
       "get_adjointCand (generic function with 1 method)"
      ]
     },
     "execution_count": 183,
     "metadata": {},
     "output_type": "execute_result"
    }
   ],
   "source": [
    "function get_adjointCand(J)\n",
    "    n = convert(Int, size(J)[1]/2)\n",
    "    J = convert(Array{Complex}, J)\n",
    "    PStar = J[(n+1):2n,1:n]\n",
    "    QStar = J[(n+1):2n, (n+1):2n]\n",
    "    adjointU = VectorBoundaryForm(PStar, QStar)\n",
    "    return adjointU\n",
    "end"
   ]
  },
  {
   "cell_type": "markdown",
   "metadata": {
    "hidden": true
   },
   "source": [
    "## `get_xi(L; symbolic, xSym)`\n",
    "\n",
    "Given a `LinearDifferentialOperator` `L` of order $n$ in the differential equation $Lx=0$, constructs $\\xi(t)$, which is defined as the vector of derivatives of $x(t)$\n",
    "$$\\xi(t) := \\begin{bmatrix}x(t)\\\\ x^{(1)}(t)\\\\ x^{(2)}(t)\\\\ \\vdots\\\\ x^{(n-1)}(t)\\end{bmatrix}.$$"
   ]
  },
  {
   "cell_type": "code",
   "execution_count": 196,
   "metadata": {
    "hidden": true
   },
   "outputs": [
    {
     "data": {
      "text/plain": [
       "get_xi (generic function with 1 method)"
      ]
     },
     "execution_count": 196,
     "metadata": {},
     "output_type": "execute_result"
    }
   ],
   "source": [
    "function get_xi(L::LinearDifferentialOperator; symbolic = true, xSym= nothing)\n",
    "    if symbolic\n",
    "        t = L.symL.t\n",
    "        n = length(L.pFunctions)-1\n",
    "        symXi = Array{SymPy.Sym}(undef, n,1)\n",
    "        if isa(xSym, Nothing)\n",
    "            throw(error(\"xSymrequired\"))\n",
    "        else\n",
    "            for i = 1:n\n",
    "                symXi[i] = get_deriv(xSym, i-1)\n",
    "            end\n",
    "            return symXi\n",
    "        end\n",
    "    else\n",
    "        if isa(xSym, Nothing)\n",
    "            throw(error(\"xSym required\"))\n",
    "        elseif !isa(xSym, SymPy.Sym) && !isa(xSym, Number)\n",
    "            throw(error(\"xSym should be SymPy.Sym or Number\"))\n",
    "        else\n",
    "            symXi = get_xi(L; symbolic = true, xSym = xSym)\n",
    "            xi = sym_to_func.(symXi)\n",
    "        end\n",
    "    end\n",
    "end"
   ]
  },
  {
   "cell_type": "markdown",
   "metadata": {
    "hidden": true
   },
   "source": [
    "## `get_Ux(L, U, xSym)`\n",
    "\n",
    "Given a `LinearDifferentialOperator` `L` and a `VectorBoundaryForm` `U`, constructs the left hand side\n",
    "$$Ux = M\\xi(a) + N\\xi(b)$$\n",
    "of the homogeneous boundary condition $Ux=0$, where\n",
    "\\begin{align*}\n",
    "    Ux &= \\begin{bmatrix}\n",
    "        \\sum_{j=1}^n (M_{1j}x^{(j-1)}(a) + N_{1j}x^{(j-1)}(b))\\\\\n",
    "        \\vdots\\\\\n",
    "        \\sum_{j=1}^n (M_{mj}x^{(j-1)}(a) + N_{mj}x^{(j-1)}(b))\n",
    "    \\end{bmatrix}\\\\\n",
    "    &= \\begin{bmatrix}\n",
    "        M_{11} & \\cdots & M_{1n} & N_{11} & \\cdots & N_{1n}\\\\\n",
    "        \\vdots &  & \\vdots & \\vdots & & \\vdots\\\\\n",
    "        M_{m1} & \\cdots & M_{mn} & N_{m1} & \\cdots & N_{mn}\n",
    "    \\end{bmatrix} \\begin{bmatrix}x(a)\\\\\\vdots\\\\x^{(n-1)}(a)\\\\ x(b)\\\\\\vdots\\\\x^{(n-1)}(b)\\end{bmatrix}\\\\\n",
    "    &= (M:N)\\begin{bmatrix}\n",
    "        \\xi(a)\\\\\n",
    "        \\xi(b)\n",
    "    \\end{bmatrix}.\n",
    "\\end{align*}"
   ]
  },
  {
   "cell_type": "code",
   "execution_count": 201,
   "metadata": {
    "hidden": true
   },
   "outputs": [
    {
     "data": {
      "text/plain": [
       "get_Ux (generic function with 1 method)"
      ]
     },
     "execution_count": 201,
     "metadata": {},
     "output_type": "execute_result"
    }
   ],
   "source": [
    "function get_Ux(L::LinearDifferentialOperator, U::VectorBoundaryForm, xSym)\n",
    "    (a, b) = L.interval\n",
    "    xi = get_xi(L; symbolic = false, xSym = xSym)\n",
    "    xiEvalA = evaluate.(xi, a)\n",
    "    xiEvalB = evaluate.(xi, b)\n",
    "    M, N = U.M, U.N\n",
    "    Ux = M*xiEvalA + N*xiEvalB\n",
    "    return Ux\n",
    "end"
   ]
  },
  {
   "cell_type": "markdown",
   "metadata": {
    "hidden": true
   },
   "source": [
    "## `check_adjoint(L, U, adjointU, B)`\n",
    "\n",
    "Given a boundary value problem\n",
    "$$Lx = 0,\\quad Ux=0$$\n",
    "with linear differential operator $L$ and vector boundary form $U$, a candidate adjoint vector boundary form $U^+$, and the matrix $B$ associated with $L$, checks whether the boundary condition\n",
    "$$U^+x = 0$$\n",
    "is indeed adjoint to the boundary condition\n",
    "$$Ux=0.$$"
   ]
  },
  {
   "cell_type": "code",
   "execution_count": 203,
   "metadata": {
    "hidden": true
   },
   "outputs": [
    {
     "data": {
      "text/plain": [
       "check_adjoint (generic function with 1 method)"
      ]
     },
     "execution_count": 203,
     "metadata": {},
     "output_type": "execute_result"
    }
   ],
   "source": [
    "function check_adjoint(L::LinearDifferentialOperator, U::VectorBoundaryForm, adjointU::VectorBoundaryForm, B::Array)\n",
    "    (a, b) = L.interval\n",
    "    M, N = U.M, U.N\n",
    "    P, Q = (adjointU.M)', (adjointU.N)'\n",
    "    # Avoid InexactError() when taking inv()\n",
    "    BEvalA = convert(Array{Complex}, evaluate.(B, a))\n",
    "    BEvalB = convert(Array{Complex}, evaluate.(B, b))\n",
    "    left = M * inv(BEvalA) * P\n",
    "    right = N * inv(BEvalB) * Q\n",
    "#     println(\"left = $left\")\n",
    "#     println(\"right = $right\")\n",
    "    tol = set_tol(left, right)\n",
    "    return all(i -> isapprox(left[i], right[i]; atol = tol), 1:length(left)) # Can't use == to deterimine equality because left and right are arrays of floats\n",
    "end"
   ]
  },
  {
   "cell_type": "markdown",
   "metadata": {
    "hidden": true
   },
   "source": [
    "## `get_adjointU(L, U, pDerivMatrix)`\n",
    "\n",
    "Given a boundary value problem\n",
    "$$Lx = p_0x^{(n)} + p_1x^{(n-1)} + \\cdots + p_{n-1}x^{(1)} + p_n x = 0,\\quad Ux=0$$\n",
    "with linear differential operator $L$ and vector boundary form $U$, an $n\\times n$ matrix of derivatives\n",
    "$$\\begin{bmatrix}p_0 & \\cdots & p_0^{(n-1)}\\\\ \\vdots & \\ddots & \\vdots\\\\ p_{n-1} & \\cdots & p_{n-1}^{(n-1)}\\end{bmatrix},$$\n",
    "construct $U^+$ such that the boundary condition $U^+=0$ is adjoint to the original boundary condition $Ux=0$."
   ]
  },
  {
   "cell_type": "code",
   "execution_count": 205,
   "metadata": {
    "hidden": true
   },
   "outputs": [
    {
     "data": {
      "text/plain": [
       "get_adjointU (generic function with 2 methods)"
      ]
     },
     "execution_count": 205,
     "metadata": {},
     "output_type": "execute_result"
    }
   ],
   "source": [
    "function get_adjointU(L::LinearDifferentialOperator, U::VectorBoundaryForm, pDerivMatrix=get_pDerivMatrix(L))\n",
    "    B = get_B(L; pDerivMatrix = pDerivMatrix)\n",
    "    BHat = get_BHat(L, B)\n",
    "    Uc = get_Uc(U)\n",
    "    H = get_H(U, Uc)\n",
    "    J = get_J(BHat, H)\n",
    "    adjointU = get_adjointCand(J)\n",
    "    if check_adjoint(L, U, adjointU, B)\n",
    "        return adjointU\n",
    "    else\n",
    "        throw(error(\"Adjoint found not valid\"))\n",
    "    end\n",
    "end"
   ]
  },
  {
   "cell_type": "markdown",
   "metadata": {
    "heading_collapsed": true
   },
   "source": [
    "# Approximate roots of exponential polynomial\n",
    "Helps user to find the roots of an exponential polynomial $\\Delta(\\lambda)$ where $\\lambda\\in\\mathbb{C}$ by visualizing the roots as the intersections of the level curves $\\Re(\\Delta) = 0$ and $\\Im(\\Delta) = 0$."
   ]
  },
  {
   "cell_type": "markdown",
   "metadata": {
    "hidden": true
   },
   "source": [
    "## `separate_real_imaginary(delta)`\n",
    "\n",
    "Separates real and imaginary parts of the symbolic expression of $\\Delta(\\lambda)$, an exponential polynomial in one variable. \n",
    "\n",
    "This function is technically not needed when applying the Fokas method but could be helpful if the user would like an idea of what the real and imaginary parts of $\\Delta$ look like.\n",
    "\n",
    "First, we define the following sample expressions of type addition, multiplication, power, and exponential in `SymPy`."
   ]
  },
  {
   "cell_type": "code",
   "execution_count": 207,
   "metadata": {
    "hidden": true
   },
   "outputs": [
    {
     "data": {
      "text/latex": [
       "\\begin{equation*}x + 1\\end{equation*}"
      ],
      "text/plain": [
       "x + 1"
      ]
     },
     "execution_count": 207,
     "metadata": {},
     "output_type": "execute_result"
    }
   ],
   "source": [
    "x = symbols(\"x\")\n",
    "sympyAddExpr = 1 + x"
   ]
  },
  {
   "cell_type": "code",
   "execution_count": 208,
   "metadata": {
    "hidden": true
   },
   "outputs": [
    {
     "data": {
      "text/latex": [
       "\\begin{equation*}2 x\\end{equation*}"
      ],
      "text/plain": [
       "2⋅x"
      ]
     },
     "execution_count": 208,
     "metadata": {},
     "output_type": "execute_result"
    }
   ],
   "source": [
    "sympyMultExpr = 2*x"
   ]
  },
  {
   "cell_type": "code",
   "execution_count": 209,
   "metadata": {
    "hidden": true
   },
   "outputs": [
    {
     "data": {
      "text/latex": [
       "\\begin{equation*}x^{2}\\end{equation*}"
      ],
      "text/plain": [
       " 2\n",
       "x "
      ]
     },
     "execution_count": 209,
     "metadata": {},
     "output_type": "execute_result"
    }
   ],
   "source": [
    "sympyPowerExpr = x^2"
   ]
  },
  {
   "cell_type": "code",
   "execution_count": 211,
   "metadata": {
    "hidden": true
   },
   "outputs": [
    {
     "data": {
      "text/latex": [
       "\\begin{equation*}e^{x}\\end{equation*}"
      ],
      "text/plain": [
       " x\n",
       "ℯ "
      ]
     },
     "execution_count": 211,
     "metadata": {},
     "output_type": "execute_result"
    }
   ],
   "source": [
    "sympyExpExpr = sympy.E^x"
   ]
  },
  {
   "cell_type": "markdown",
   "metadata": {
    "hidden": true
   },
   "source": [
    "### `separate_real_imaginary_exp(expr)`\n",
    "Helper function that deals with the case where the toplevel operation is exponentiation."
   ]
  },
  {
   "cell_type": "code",
   "execution_count": 212,
   "metadata": {
    "hidden": true
   },
   "outputs": [
    {
     "data": {
      "text/plain": [
       "separate_real_imaginary_exp (generic function with 1 method)"
      ]
     },
     "execution_count": 212,
     "metadata": {},
     "output_type": "execute_result"
    }
   ],
   "source": [
    "# although the function body is the same as \"power\" and \"others\", this case is isolated because negative exponents, e.g., factor_list(e^(-im*x)), give PolynomialError('a polynomial expected, got exp(-I*x)',), while factor_list(cos(x)) runs normally\n",
    "function separate_real_imaginary_exp(expr::SymPy.Sym)\n",
    "    result = real(expr) + im*imag(expr)\n",
    "    return result\n",
    "end"
   ]
  },
  {
   "cell_type": "markdown",
   "metadata": {
    "hidden": true
   },
   "source": [
    "### `separate_real_imaginary_power(expr)`\n",
    "\n",
    "Helper function that deals with the case where the toplevel operation is power."
   ]
  },
  {
   "cell_type": "code",
   "execution_count": 249,
   "metadata": {
    "hidden": true
   },
   "outputs": [
    {
     "data": {
      "text/plain": [
       "separate_real_imaginary_power (generic function with 1 method)"
      ]
     },
     "execution_count": 249,
     "metadata": {},
     "output_type": "execute_result"
    }
   ],
   "source": [
    "# we won't be dealing with cases like x^(x^x)\n",
    "function separate_real_imaginary_power(expr::SymPy.Sym)\n",
    "    result = real(expr) + im*imag(expr)\n",
    "    return result\n",
    "end"
   ]
  },
  {
   "cell_type": "markdown",
   "metadata": {
    "hidden": true
   },
   "source": [
    "### `separate_real_imaginary_mult(expr)`\n",
    "\n",
    "Helper function that deals with the case where the toplevel operation is multiplication."
   ]
  },
  {
   "cell_type": "code",
   "execution_count": 276,
   "metadata": {
    "hidden": true
   },
   "outputs": [
    {
     "data": {
      "text/plain": [
       "separate_real_imaginary_mult (generic function with 1 method)"
      ]
     },
     "execution_count": 276,
     "metadata": {},
     "output_type": "execute_result"
    }
   ],
   "source": [
    "function separate_real_imaginary_mult(expr::SymPy.Sym)\n",
    "    terms = expr.args\n",
    "    result = 1\n",
    "    # if the expanded expression contains toplevel multiplication, the individual terms must all be exponentials or powers\n",
    "    for term in terms\n",
    "        # println(\"term = $term\")\n",
    "        # if term is exponential\n",
    "        if func(term) == func(sympyExpExpr)\n",
    "            termSeparated = separate_real_imaginary_exp(term)\n",
    "        # if term is power (not sure if this case and the case below overlaps)\n",
    "        elseif func(term) == func(sympyPowerExpr)\n",
    "            termSeparated = separate_real_imaginary_power(term)\n",
    "            # else, further split each product term into indivdual factors (this case also includes the case where term is a number, which would go into the \"constant\" below)\n",
    "        else\n",
    "            termSeparated = term # term is a number\n",
    "#             (constant, factors) = factor_list(term)\n",
    "#             termSeparated = constant\n",
    "#             # separate each factor into real and imaginary parts and collect the product of separated factors\n",
    "#             for (factor, power) in factors\n",
    "#                 factor = factor^power\n",
    "#                 termSeparated = termSeparated * (real(factor) + im*imag(factor))\n",
    "#             end\n",
    "        end\n",
    "        # println(\"termSeparated = $termSeparated\") \n",
    "        # collect the product of separated term, i.e., product of separated factors\n",
    "        result = result * termSeparated\n",
    "    end\n",
    "    result = real(result) + im*imag(result)\n",
    "    return result\n",
    "end"
   ]
  },
  {
   "cell_type": "markdown",
   "metadata": {
    "hidden": true
   },
   "source": [
    "### `separate_real_imaginary_add(expr)`\n",
    "\n",
    "Helper function that deals with the case where the toplevel operation is addition."
   ]
  },
  {
   "cell_type": "code",
   "execution_count": 282,
   "metadata": {
    "hidden": true
   },
   "outputs": [
    {
     "data": {
      "text/plain": [
       "separate_real_imaginary_add (generic function with 1 method)"
      ]
     },
     "execution_count": 282,
     "metadata": {},
     "output_type": "execute_result"
    }
   ],
   "source": [
    "function separate_real_imaginary_add(expr::SymPy.Sym)\n",
    "    x = symbols(\"x\")\n",
    "    # if the expanded expression contains toplevel addition, the individual terms must all be products or symbols\n",
    "    terms = expr.args\n",
    "    result = 0\n",
    "    # termSeparated = 0 # to avoid undefined error if there is no else (case incomplete)\n",
    "    for term in terms\n",
    "        # println(\"term = $term\")\n",
    "        # if term is a symbol\n",
    "        if func(term) == func(x)\n",
    "            termSeparated = term\n",
    "        # if term is exponential\n",
    "        elseif func(term) == func(sympyExpExpr)\n",
    "            termSeparated = separate_real_imaginary_exp(term)\n",
    "        # if term is a power\n",
    "        elseif func(term) == func(sympyPowerExpr)\n",
    "            termSeparated = separate_real_imaginary_power(term)\n",
    "        # if term is a product\n",
    "        elseif func(term) == func(sympyMultExpr)\n",
    "            termSeparated = separate_real_imaginary_mult(term)\n",
    "        # if term is a number\n",
    "        else\n",
    "            termSeparated = term\n",
    "        end\n",
    "        # println(\"termSeparated = $termSeparated\")\n",
    "        result = result + termSeparated\n",
    "    end\n",
    "    result = real(result) + im*imag(result)\n",
    "    return result\n",
    "end"
   ]
  },
  {
   "cell_type": "markdown",
   "metadata": {
    "hidden": true
   },
   "source": [
    "### `separate_real_imaginary_power_mult_add(expr)`\n",
    "\n",
    "Helper function that deals with the cases where the toplevel operation is power, addition, or multiplication."
   ]
  },
  {
   "cell_type": "code",
   "execution_count": 285,
   "metadata": {
    "hidden": true
   },
   "outputs": [
    {
     "data": {
      "text/plain": [
       "separate_real_imaginary_power_mult_add (generic function with 1 method)"
      ]
     },
     "execution_count": 285,
     "metadata": {},
     "output_type": "execute_result"
    }
   ],
   "source": [
    "function separate_real_imaginary_power_mult_add(expr::SymPy.Sym)\n",
    "    if func(expr) == func(sympyPowerExpr)\n",
    "        result = separate_real_imaginary_power(expr)\n",
    "    elseif func(expr) == func(sympyMultExpr)\n",
    "        result = separate_real_imaginary_mult(expr)\n",
    "        else #if SymPy.func(expr) == SymPy.func(sympyAddExpr)\n",
    "        result = separate_real_imaginary_add(expr)\n",
    "#     else\n",
    "#         result = expr\n",
    "    end\n",
    "    return result\n",
    "end"
   ]
  },
  {
   "cell_type": "markdown",
   "metadata": {
    "hidden": true
   },
   "source": [
    "### `separate_real_imaginary_others(expr)`\n",
    "\n",
    "Helper function that deals with the case where the toplevel operation is not exponentiation, power, multiplication or addition. In this case, `expr` must be a single term, e.g., `x` or `cos(2x+1)`, which is a function wrapping around an expression. So we use the other helper functions to separate the expression wrapped in the function and feed it back to the function."
   ]
  },
  {
   "cell_type": "code",
   "execution_count": 288,
   "metadata": {
    "hidden": true
   },
   "outputs": [
    {
     "data": {
      "text/plain": [
       "separate_real_imaginary_others (generic function with 1 method)"
      ]
     },
     "execution_count": 288,
     "metadata": {},
     "output_type": "execute_result"
    }
   ],
   "source": [
    "function separate_real_imaginary_others(expr::SymPy.Sym)\n",
    "    # if the expanded expression is neither of the above, it must be a single term, e.g., x or cos(2x+1), which is a function wrapping around an expression; in this case, use the helper function to clean up the expression and feed it back to the function\n",
    "    term = expr.args[1]\n",
    "    termCleaned = separate_real_imaginary_power_mult_add(term)\n",
    "    result = subs(expr,expr.args[1],termCleaned)\n",
    "    result = real(result) + im*imag(result)\n",
    "    return result\n",
    "end"
   ]
  },
  {
   "cell_type": "markdown",
   "metadata": {
    "hidden": true
   },
   "source": [
    "### `separate_real_imaginary(delta)`\n",
    "\n",
    "The main function that separates the real and imaginary parts of $\\Delta$, an exponential polynomial in one variable."
   ]
  },
  {
   "cell_type": "code",
   "execution_count": 290,
   "metadata": {
    "hidden": true
   },
   "outputs": [
    {
     "data": {
      "text/plain": [
       "separate_real_imaginary (generic function with 1 method)"
      ]
     },
     "execution_count": 290,
     "metadata": {},
     "output_type": "execute_result"
    }
   ],
   "source": [
    "function separate_real_imaginary(delta::SymPy.Sym)\n",
    "    x = symbols(\"x\", real = true)\n",
    "    y = symbols(\"y\", real = true)\n",
    "    \n",
    "    freeSymbols = free_symbols(delta)\n",
    "    # check if delta has one and only one free symbol (e.g., global variable lambda)\n",
    "    if length(freeSymbols) == 1\n",
    "        lambda = freeSymbols[1]\n",
    "        # substitute lambda with x+iy\n",
    "        expr = subs(delta, lambda, x+im*y)\n",
    "        # expand the new expression\n",
    "        expr = expand(expr)\n",
    "        \n",
    "        if func(expr) == func(sympyPowerExpr)\n",
    "#             println(expr)\n",
    "#             println(\"power!\")\n",
    "            result = separate_real_imaginary_power(expr)\n",
    "#             println(\"result = $result\")\n",
    "        elseif func(expr) == func(sympyAddExpr)\n",
    "#             println(expr)\n",
    "#             println(\"addition!\")\n",
    "            result = separate_real_imaginary_add(expr)\n",
    "#             println(\"result = $result\")\n",
    "        elseif func(expr) == func(sympyMultExpr)\n",
    "#             println(expr)\n",
    "#             println(\"multiplication!\")\n",
    "            result = separate_real_imaginary_mult(expr)\n",
    "#             println(\"result = $result\")\n",
    "        else\n",
    "#             println(expr)\n",
    "#             println(\"single term!\")\n",
    "            result = separate_real_imaginary_others(expr)\n",
    "#             println(\"result = $result\")\n",
    "        end\n",
    "        result = expand(result)\n",
    "        return real(result) + im*imag(result)\n",
    "        \n",
    "    else\n",
    "        throw(\"Delta has more than one variable\")\n",
    "    end\n",
    "end"
   ]
  },
  {
   "cell_type": "markdown",
   "metadata": {
    "hidden": true
   },
   "source": [
    "## `plot_levelCurves(bivariateDelta; realFunc, imagFunc, xRange, yRange, step, width, height)`\n",
    "\n",
    "Plots the level curves $\\Re(\\Delta(x+iy)) = 0$ and $\\Im(\\Delta(x+iy)) = 0$ in the $\\Re-\\Im$ plane."
   ]
  },
  {
   "cell_type": "code",
   "execution_count": 398,
   "metadata": {
    "hidden": true
   },
   "outputs": [
    {
     "data": {
      "text/plain": [
       "plot_levelCurves (generic function with 1 method)"
      ]
     },
     "execution_count": 398,
     "metadata": {},
     "output_type": "execute_result"
    }
   ],
   "source": [
    "function plot_levelCurves(bivariateDelta::SymPy.Sym; realFunc = real(bivariateDelta), imagFunc = imag(bivariateDelta), xRange = (-INFTY, INFTY), yRange = (-INFTY, INFTY), step = INFTY/1000, width = 1000, height = 800)\n",
    "    gr(size=(width,height), leg=false)\n",
    "    freeSymbols = free_symbols(bivariateDelta)\n",
    "    x = symbols(\"x\", real = true)\n",
    "    y = symbols(\"y\", real = true)\n",
    "    \n",
    "    xGridStep = (xRange[2] - xRange[1])/20\n",
    "    yGridStep = (yRange[2] - yRange[1])/20\n",
    "    \n",
    "    if freeSymbols == [x, y]\n",
    "        Plots.contour(xRange[1]:step:xRange[2], yRange[1]:step:yRange[2], realFunc, levels=[0], size = (width, height), tickfontsize = 8, seriescolor=:reds, transpose = false, linewidth = 4, linealpha = 1, xticks = xRange[1]:xGridStep:xRange[2], yticks = yRange[1]:yGridStep:yRange[2], grid = true, gridalpha = 0.5)\n",
    "        Plots.contour!(xRange[1]:step:xRange[2], yRange[1]:step:yRange[2], imagFunc, levels=[0], size = (width, height), tickfontsize = 8, seriescolor=:blues, transpose = false, linewidth = 4, linealpha = 1, xticks = xRange[1]:xGridStep:xRange[2], yticks = yRange[1]:yGridStep:yRange[2], grid = true, gridalpha = 0.5)\n",
    "    else\n",
    "        Plots.contour(xRange[1]:step:xRange[2], yRange[1]:step:yRange[2], realFunc, levels=[0], size = (width, height), tickfontsize = 8, seriescolor=:reds, transpose = true, linewidth = 4, linealpha = 1, xticks = xRange[1]:xGridStep:xRange[2], yticks = yRange[1]:yGridStep:yRange[2], grid = true, gridalpha = 0.5)\n",
    "        Plots.contour!(xRange[1]:step:xRange[2], yRange[1]:step:yRange[2], imagFunc, levels=[0], size = (width, height), tickfontsize = 8, seriescolor=:blues, transpose = true, linewidth = 4, linealpha = 1, xticks = xRange[1]:xGridStep:xRange[2], yticks = yRange[1]:yGridStep:yRange[2], grid = true, gridalpha = 0.5)\n",
    "    end\n",
    "end"
   ]
  },
  {
   "cell_type": "markdown",
   "metadata": {
    "heading_collapsed": true
   },
   "source": [
    "# The Fokas Transform pair\n",
    "\n",
    "Implement the transform pair (2.15a), (2.15b) on page 10 of \"Evolution PDEs and augmented eigenfunctions. Finite interval,\" given by\n",
    "\n",
    "\\begin{alignat*}{2}\n",
    "F_\\lambda: f(x)&\\mapsto F(\\lambda):\\quad F_\\lambda(f) &= \n",
    "\\begin{cases}\n",
    "F_\\lambda^+(f),&\\quad\\mbox{if $\\lambda\\in \\Gamma_0^+\\cup \\Gamma_a^+$}\\\\\n",
    "F_\\lambda^-(f),&\\quad\\mbox{if $\\lambda\\in \\Gamma_0^-\\cup \\Gamma_a^-$}\\\\\n",
    "\\end{cases}\\\\\n",
    "f_x: F(\\lambda)&\\mapsto f(x):\\quad f_x(F) &= \\int_\\Gamma e^{i\\lambda x}F(\\lambda)\\,d\\lambda,\\quad x\\in [0,1].\n",
    "\\end{alignat*}"
   ]
  },
  {
   "cell_type": "markdown",
   "metadata": {
    "hidden": true
   },
   "source": [
    "## `check_boundaryConditions(L, U, fSym)`\n",
    "\n",
    "Checks whether $f$ satisfies the boundary conditions, i.e., whether $f\\in\\Phi$."
   ]
  },
  {
   "cell_type": "code",
   "execution_count": 401,
   "metadata": {
    "hidden": true
   },
   "outputs": [
    {
     "data": {
      "text/plain": [
       "check_boundaryConditions (generic function with 1 method)"
      ]
     },
     "execution_count": 401,
     "metadata": {},
     "output_type": "execute_result"
    }
   ],
   "source": [
    "function check_boundaryConditions(L::LinearDifferentialOperator, U::VectorBoundaryForm, fSym::Union{SymPy.Sym, Number})\n",
    "    # Checks whether f satisfies the homogeneous boundary conditions\n",
    "    Ux = get_Ux(L, U, fSym)\n",
    "    return check_all(Ux, x->is_approx(x, 0))\n",
    "end"
   ]
  },
  {
   "cell_type": "markdown",
   "metadata": {
    "hidden": true
   },
   "source": [
    "## `get_MPlusMinus(adjointU; symbolic, generic)`\n",
    "\n",
    "Let $\\alpha=e^{2\\pi i/n}$; given adjoint vector boundary form associated with two matrices $b^\\star$, $\\beta^\\star$, computes matrices $M^+(\\lambda)$, $M^-(\\lambda)$ given by\n",
    "\\begin{align*}\n",
    "M^+_{kj}(\\lambda) &= \\sum_{r=0}^{n-1}(-i\\alpha^{k-1}\\lambda)^rb^\\star_{jr}\\\\\n",
    "M^-_{kj}(\\lambda) &= \\sum_{r=0}^{n-1}(-i\\alpha^{k-1}\\lambda)^r\\beta^\\star_{jr}\n",
    "\\end{align*}\n",
    "as functions of $\\lambda$ (for fixed $b^\\star$, $\\beta^\\star$) or their symbolic expressions."
   ]
  },
  {
   "cell_type": "code",
   "execution_count": 457,
   "metadata": {
    "hidden": true
   },
   "outputs": [
    {
     "data": {
      "text/plain": [
       "get_MPlusMinus (generic function with 1 method)"
      ]
     },
     "execution_count": 457,
     "metadata": {},
     "output_type": "execute_result"
    }
   ],
   "source": [
    "function get_MPlusMinus(adjointU::VectorBoundaryForm; symbolic = false, generic = false)\n",
    "    # these are numeric matrices\n",
    "    bStar, betaStar = adjointU.M, adjointU.N\n",
    "    n = size(bStar)[1]\n",
    "    if symbolic\n",
    "        # return MPlus and MMinus as symbolic expressions with (the global variable) lambda as free variable\n",
    "        lambda = symbols(\"lambda\")\n",
    "        if generic\n",
    "            alpha = symbols(\"alpha\")\n",
    "        else\n",
    "            alpha = sympy.E^(2*PI*im/n)\n",
    "        end\n",
    "        MPlusMat = Array{SymPy.Sym}(undef, n,n)\n",
    "        for k = 1:n\n",
    "            for j = 1:n\n",
    "                sumPlus = 0\n",
    "                for r = 0:(n-1)\n",
    "                    summandPlus = (-im*alpha^(k-1)*lambda)^r * bStar[j,r+1]\n",
    "                    sumPlus += summandPlus\n",
    "                end\n",
    "                sumPlus = simplify(sumPlus)\n",
    "                MPlusMat[k,j] = sumPlus\n",
    "            end\n",
    "        end\n",
    "        MPlusSym = MPlusMat\n",
    "        MMinusMat = Array{SymPy.Sym}(undef, n,n)\n",
    "        for k = 1:n\n",
    "            for j = 1:n\n",
    "                sumMinus = 0\n",
    "                for r = 0:(n-1)\n",
    "                    summandMinus = (-im*alpha^(k-1)*lambda)^r * betaStar[j,r+1]\n",
    "                    sumMinus += summandMinus\n",
    "                end\n",
    "                sumMinus = simplify(sumMinus)\n",
    "                MMinusMat[k,j] = sumMinus\n",
    "            end\n",
    "        end\n",
    "        MMinusSym = MMinusMat\n",
    "        return (MPlusSym, MMinusSym)\n",
    "    else\n",
    "        alpha = sympy.E^(2*pi*im/n)\n",
    "        # if not symbolic, return MPlus and MMinus as functions of lambda\n",
    "        function MPlus(lambda::Number)\n",
    "            MPlusMat = complex(Matrix{Float64}(LinearAlgebra.I, n, n)) # Initialise as a complex-valued identity matrix\n",
    "            for k = 1:n\n",
    "                for j = 1:n\n",
    "                    sumPlus = 0\n",
    "                    for r = 0:(n-1)\n",
    "                        summandPlus = (-im*alpha^(k-1)*lambda)^r * bStar[j,r+1]\n",
    "                        sumPlus += summandPlus\n",
    "                    end\n",
    "                    MPlusMat[k,j] = sumPlus\n",
    "                end\n",
    "            end\n",
    "            return MPlusMat\n",
    "        end\n",
    "        function MMinus(lambda::Number)\n",
    "            MMinusMat = complex(Matrix{Float64}(LinearAlgebra.I, n, n)) # Initialise as a complex-valued identity matrix\n",
    "            for k = 1:n\n",
    "                for j = 1:n\n",
    "                    sumMinus = 0\n",
    "                    for r = 0:(n-1)\n",
    "                        summandMinus = (-im*alpha^(k-1)*lambda)^r * betaStar[j,r+1]\n",
    "                        sumMinus += summandMinus\n",
    "                    end\n",
    "                    MMinusMat[k,j] = sumMinus\n",
    "                end\n",
    "            end\n",
    "            return MMinusMat\n",
    "        end\n",
    "    end\n",
    "    return (MPlus, MMinus)\n",
    "end"
   ]
  },
  {
   "cell_type": "markdown",
   "metadata": {
    "hidden": true
   },
   "source": [
    "## `get_M(adjointU; symbolic, generic)`\n",
    "\n",
    "Computes $M$ given by\n",
    "$$M_{kj}(\\lambda) = M^+_{kj}(\\lambda) + M^-_{kj}(\\lambda)e^{-i\\alpha^{k-1}\\lambda}$$\n",
    "as a function of $\\lambda$ or its symbolic expression."
   ]
  },
  {
   "cell_type": "code",
   "execution_count": 465,
   "metadata": {
    "hidden": true
   },
   "outputs": [
    {
     "data": {
      "text/plain": [
       "get_M (generic function with 1 method)"
      ]
     },
     "execution_count": 465,
     "metadata": {},
     "output_type": "execute_result"
    }
   ],
   "source": [
    "function get_M(adjointU::VectorBoundaryForm; symbolic = false, generic = false)\n",
    "    bStar, betaStar = adjointU.M, adjointU.N\n",
    "    n = size(bStar)[1]\n",
    "    if symbolic\n",
    "        # return M as a symbolic expression with lambda as free variable\n",
    "        lambda = symbols(\"lambda\")\n",
    "        if generic\n",
    "            alpha = symbols(\"alpha\")\n",
    "        else\n",
    "            alpha = sympy.E^(2*PI*im/n)\n",
    "        end\n",
    "        (MPlusSym, MMinusSym) = get_MPlusMinus(adjointU; symbolic = true, generic = generic)\n",
    "        MLambdaSym = Array{SymPy.Sym}(undef, n,n)\n",
    "        for k = 1:n\n",
    "            for j = 1:n\n",
    "                MLambdaSym[k,j] = simplify(MPlusSym[k,j] + MMinusSym[k,j] * sympy.E^(-im*alpha^(k-1)*lambda))\n",
    "            end\n",
    "        end\n",
    "        MSym = simplify.(MLambdaSym)\n",
    "        return MSym\n",
    "    else\n",
    "        alpha = sympy.E^(2*pi*im/n)\n",
    "        function M(lambda::Number)\n",
    "            (MPlus, MMinus) = get_MPlusMinus(adjointU)\n",
    "            MPlusLambda, MMinusLambda = MPlus(lambda), MMinus(lambda)\n",
    "            MLambda = complex(Matrix{Float64}(LinearAlgebra.I, n, n))\n",
    "            for k = 1:n\n",
    "                for j = 1:n\n",
    "                    MLambda[k,j] = MPlusLambda[k,j] + MMinusLambda[k,j] * sympy.E^(-im*alpha^(k-1)*lambda)\n",
    "                end\n",
    "            end\n",
    "            return MLambda\n",
    "        end\n",
    "        return M \n",
    "    end\n",
    "end"
   ]
  },
  {
   "cell_type": "markdown",
   "metadata": {
    "hidden": true
   },
   "source": [
    "## `get_delta(adjointU; symbolic, generic)`\n",
    "\n",
    "Computes $\\Delta := \\det(M)$ as a function of $\\lambda$ (for fixed `adjointU`) or its symbolic expression."
   ]
  },
  {
   "cell_type": "code",
   "execution_count": 476,
   "metadata": {
    "hidden": true
   },
   "outputs": [
    {
     "data": {
      "text/plain": [
       "get_delta (generic function with 1 method)"
      ]
     },
     "execution_count": 476,
     "metadata": {},
     "output_type": "execute_result"
    }
   ],
   "source": [
    "function get_delta(adjointU::VectorBoundaryForm; symbolic = false, generic = false)\n",
    "    if symbolic\n",
    "        MSym = get_M(adjointU; symbolic = true, generic = generic)\n",
    "        deltaSym = simplify(sympy.det(MSym))\n",
    "        return deltaSym\n",
    "    else\n",
    "       function delta(lambda::Number)\n",
    "            M = get_M(adjointU; symbolic = false)\n",
    "            MLambda = convert(Array{Complex}, M(lambda))\n",
    "            return LinearAlgebra.det(MLambda)\n",
    "        end\n",
    "        return delta \n",
    "    end\n",
    "end"
   ]
  },
  {
   "cell_type": "markdown",
   "metadata": {
    "hidden": true
   },
   "source": [
    "## `get_Xlj(adjointU, l, j; symbolic, generic)`\n",
    "\n",
    "Gets $X_{lj}$, which is the $(n-1)\\times (n-1)$ submatrix of $M(\\lambda)$ whose $11$-entry is the $(l+1)(j+1)$-entry of $M(\\lambda)$, as a function of $\\lambda$ (for fixed `adjointU`, $M$, $l$, $j$), or its symbolic expression."
   ]
  },
  {
   "cell_type": "code",
   "execution_count": 479,
   "metadata": {
    "hidden": true
   },
   "outputs": [
    {
     "data": {
      "text/plain": [
       "get_Xlj (generic function with 1 method)"
      ]
     },
     "execution_count": 479,
     "metadata": {},
     "output_type": "execute_result"
    }
   ],
   "source": [
    "function get_Xlj(adjointU::VectorBoundaryForm, l::Number, j::Number; symbolic = false, generic = false)\n",
    "    bStar, betaStar = adjointU.M, adjointU.N\n",
    "    n = size(bStar)[1]\n",
    "    if symbolic\n",
    "        MSym = get_M(adjointU; symbolic = true, generic = generic)\n",
    "        MBlockSym = [MSym MSym; MSym MSym]\n",
    "        XljSym = MBlockSym[(l+1):(l+1+n-2), (j+1):(j+1+n-2)]\n",
    "        return XljSym\n",
    "    else\n",
    "        M = get_M(adjointU; symbolic = false)\n",
    "        function Xlj(lambda::Number)\n",
    "            MLambda = M(lambda)\n",
    "            MLambdaBlock = [MLambda MLambda; MLambda MLambda]\n",
    "            XljLambda = MLambdaBlock[(l+1):(l+1+n-2), (j+1):(j+1+n-2)]\n",
    "            return XljLambda\n",
    "        end\n",
    "        return Xlj \n",
    "    end\n",
    "end"
   ]
  },
  {
   "cell_type": "markdown",
   "metadata": {
    "hidden": true
   },
   "source": [
    "## `get_ChebyshevIntegral(l, f; symbolic, lambda, alpha)`\n",
    "\n",
    "Computes\n",
    "$$\\int_0^1 e^{-i\\alpha^{l-1}\\lambda x}f(x)\\,dx$$\n",
    "by approximating $f(x)$ using Chebyshev polynomials and obtaining an explicit expression for the integral.\n",
    "\n",
    "<!--\n",
    "Since the Chebyshev coefficients are given on $[-1,1]$, we need to shift the interval via some function $g(x)$ such that\n",
    "$$f(x) = \\sum_{n=0}^N b_n T_n(g(x)).$$\n",
    "Define $g(x):[0,1]\\to [-1,1]$ by $g(x)=2x-1$. We want to compute\n",
    "$$\\int_0^1 e^{-i\\alpha^{l-1}\\lambda x}f(x)\\,dx.$$\n",
    "With the change of variable $t=g(x)=2x-1$, we have $x=g^{-1}(t)=\\frac{t+1}{2}$. Writing $c=\\frac{\\alpha^{l-1}\\lambda}{2}$, we have\n",
    "\\begin{align*}\n",
    "    \\int_0^1 e^{-i\\alpha^{l-1}\\lambda x}f(x)\\,dx &= \\int_0^1 e^{-i2c\\frac{t+1}{2}}f(\\frac{t+1}{2})\\,d(\\frac{t+1}{2})\\\\\n",
    "    &= \\int_{-1}^1 e^{-ict}e^{-ic}f(\\frac{t+1}{2})\\frac{1}{2}\\,dt\\\\\n",
    "    &= \\frac{1}{2e^{ic}}\\int_{-1}^1 e^{-ict} f(\\frac{t+1}{2})\\,dt\\\\\n",
    "    &= \\frac{1}{2e^{ic}}\\int_{-1}^1 e^{-ict} q(t)\\,dt,\n",
    "\\end{align*}\n",
    "where $q(t) := f\\circ g^{-1}(t)$.\n",
    "\n",
    "In summary,\n",
    "$$f(x) = f\\circ g^{-1}(g(x)) = q(g(x)) = q(t) = \\sum_{n=0}^N b_n T_n(t) = \\sum_{n=0}^N b_n T_n(g(x)),$$\n",
    "and\n",
    "\\begin{align*}\n",
    "    \\int_{-1}^1 e^{-ic t}q(t)\\,dt &= \\sum_{n=0}^N b_n \\int_{-1}^1 e^{-ic t} \\cos(n\\cdot\\cos^{-1}(t))\\,dt\\\\\n",
    "    &= \\sum_{n=0}^N b_n \\tilde{T}_n(\\frac{\\alpha^{l-1}\\lambda}{2}),\n",
    "\\end{align*}\n",
    "where \n",
    "\\begin{alignat*}{2}\n",
    "    \\tilde{T}_n(c) = \\int_0^\\pi e^{-ic\\cos\\theta}\\cos(n\\theta)\\sin\\theta\\,d\\theta &= \n",
    "    \\begin{cases}\n",
    "        2 &\\quad\\mbox{if $n=0$}\\\\\n",
    "        0 &\\quad\\mbox{if $n=1$}\\\\\n",
    "        \\frac{(-1)^{n+1}-1}{n^2-1} &\\quad\\mbox{if $n\\geq 2$}\n",
    "    \\end{cases},\n",
    "    &\\quad\\mbox{if $c=0$}\\\\\n",
    "    &= \\frac{1}{ic}\\left(nK_n(-ic) + (-1)^n e^{ic} - e^{-ic}\\right)&\\quad\\mbox{if $c\\neq 0$},\n",
    "\\end{alignat*}\n",
    "where \n",
    "\\begin{align*}\n",
    "    K_0(z) &= 0\\\\\n",
    "    K_1(z) &= \\frac{e^z-e^{-z}}{z}\\\\\n",
    "    K_{n}(z) &= K_{n-2}(z) + 2\\left(\\frac{e^z}{z} + (-1)^{n}\\frac{e^{-z}}{z} - \\frac{n-1}{z}K_{n-1}(z)\\right),\\quad n\\geq 2.\n",
    "\\end{align*} -->"
   ]
  },
  {
   "cell_type": "markdown",
   "metadata": {
    "hidden": true
   },
   "source": [
    "### `get_ChebyshevTermIntegral(n; symbolic, c)`\n",
    "\n",
    "Computes $\\tilde{T}_n(c)$ given by \n",
    "\\begin{alignat*}{2}\n",
    "    \\tilde{T}_n(c) = \\int_0^\\pi e^{-ic\\cos\\theta}\\cos(n\\theta)\\sin\\theta\\,d\\theta &= \n",
    "    \\begin{cases}\n",
    "        2 &\\quad\\mbox{if $n=0$}\\\\\n",
    "        0 &\\quad\\mbox{if $n=1$}\\\\\n",
    "        \\frac{(-1)^{n+1}-1}{n^2-1} &\\quad\\mbox{if $n\\geq 2$}\n",
    "    \\end{cases},\n",
    "    &\\quad\\mbox{if $c=0$}\\\\\n",
    "    &= \\sum_{m=1}^{n+1}\\alpha(m,n)\\left[\\frac{e^{i\\lambda}}{(i\\lambda)^m} + (-1)^{m+n}\\frac{e^{-i\\lambda}}{(i\\lambda)^m}\\right]&\\quad\\mbox{if $c\\neq 0$},\n",
    "\\end{alignat*}\n",
    "where\n",
    "\\begin{align*}\n",
    "\\alpha(m,n) =\n",
    "\\begin{cases}\n",
    "(-1)^n&\\quad\\mbox{if $m=1$}\\\\\n",
    "(-1)^{n+1}n^2&\\quad\\mbox{if $m=2$}\\\\\n",
    "(-1)^{n+m-1}2^{m-2}n\\sum_{k=1}^{n-m+2}\\binom{m+k-3}{k-1}\\prod_{j=k}^{m+k-3}(n-j)&\\quad\\mbox{else}\n",
    "\\end{cases}\n",
    "\\end{align*}\n",
    "or its symbolic expression."
   ]
  },
  {
   "cell_type": "markdown",
   "metadata": {
    "hidden": true
   },
   "source": [
    "#### `get_alpha(m, n)`\n",
    "\n",
    "Computes $\\alpha(m,n)$."
   ]
  },
  {
   "cell_type": "code",
   "execution_count": 483,
   "metadata": {
    "hidden": true
   },
   "outputs": [
    {
     "data": {
      "text/plain": [
       "get_alpha (generic function with 1 method)"
      ]
     },
     "execution_count": 483,
     "metadata": {},
     "output_type": "execute_result"
    }
   ],
   "source": [
    "function get_alpha(m::Int, n::Int)\n",
    "    if m == 1\n",
    "        result = (-1)^n\n",
    "    elseif m == 2\n",
    "        result = (-1)^(n+1)*n^2\n",
    "    else\n",
    "        sum = 0\n",
    "        for k = 1:(n-m+2)\n",
    "            product = 1\n",
    "            for j = k:(m+k-3)\n",
    "                product *= (n-j)\n",
    "            end\n",
    "            sum += binomial(m+k-3, k-1) * product\n",
    "        end\n",
    "        result = (-1)^(n+m-1)*2^(m-2)*n*sum\n",
    "    end\n",
    "    return result\n",
    "end"
   ]
  },
  {
   "cell_type": "code",
   "execution_count": 506,
   "metadata": {
    "hidden": true
   },
   "outputs": [
    {
     "data": {
      "text/plain": [
       "get_ChebyshevTermIntegral (generic function with 1 method)"
      ]
     },
     "execution_count": 506,
     "metadata": {},
     "output_type": "execute_result"
    }
   ],
   "source": [
    "function get_ChebyshevTermIntegral(n::Int; symbolic = true, c = symbols(\"c\"))\n",
    "    if symbolic\n",
    "        if c == 0\n",
    "            if n == 0\n",
    "                expr = 2\n",
    "            elseif n == 1\n",
    "                expr = 0\n",
    "            else\n",
    "                expr = ((-1)^(n+1)-1)/(n^2-1)\n",
    "            end\n",
    "        else\n",
    "            expr = 0\n",
    "            for m = 1:(n+1)\n",
    "                summand = get_alpha(m, n) * (sympy.E^(im*c)/(im*c)^m  + (-1)^(m+n)*sympy.E^(-im*c)/(im*c)^m)\n",
    "                expr += summand\n",
    "            end\n",
    "        end\n",
    "        expr = simplify(expr)\n",
    "        return expr\n",
    "    else\n",
    "        function TTilde(c)\n",
    "            if c == 0\n",
    "                if n == 0\n",
    "                    result = 2\n",
    "                elseif n == 1\n",
    "                    result = 0\n",
    "                else\n",
    "                    result = ((-1)^(n+1)-1)/(n^2-1)\n",
    "                end\n",
    "            else\n",
    "                result = 0\n",
    "                for i = 1:(n+1)\n",
    "                    summand = get_alpha(i, n) * (MathConstants.e^(im*c)/(im*c)^i  + (-1)^(i+n)*MathConstants.e^(-im*c)/(im*c)^i)\n",
    "                    result += summand\n",
    "                end\n",
    "            end\n",
    "            return result\n",
    "        end\n",
    "        return TTilde\n",
    "    end\n",
    "end"
   ]
  },
  {
   "cell_type": "markdown",
   "metadata": {
    "hidden": true
   },
   "source": [
    "### `get_ChebyshevCoefficients(f)`\n",
    "\n",
    "Obtains the coefficients in the Chebyshev approximation of $f$ on $[0,1]$. \n",
    "\n",
    "Note that the coefficients are obtained by shifting the interval $[0,1]$ to $[-1,1]$ and then back. That is, define $g:[0,1]\\to [-1,1]$ by $g(x) = 2x-1$. For $t\\in [-1,1]$, define $q(t)=f\\circ g^{-1}(t) = f(\\frac{t+1}{2}) =: f(x)$ for $x\\in [0,1]$. Then the returned coefficients are $\\{b_0,\\ldots, b_N\\}$ in\n",
    "$$f(x) = f\\circ g^{-1}(g(x)) = q(g(x)) = q(t) = \\sum_{n=0}^N b_n T_n(t) = \\sum_{n=0}^N b_n T_n(g(x)) = \\sum_{n=0}^N b_n T_n(2x-1)$$\n",
    "instead of $\\{a_0,\\ldots, a_N\\}$ in\n",
    "$$f(x) = \\sum_{n=0}^N a_n T_n(x).$$"
   ]
  },
  {
   "cell_type": "code",
   "execution_count": 516,
   "metadata": {
    "hidden": true
   },
   "outputs": [
    {
     "data": {
      "text/plain": [
       "get_ChebyshevCoefficients (generic function with 1 method)"
      ]
     },
     "execution_count": 516,
     "metadata": {},
     "output_type": "execute_result"
    }
   ],
   "source": [
    "function get_ChebyshevCoefficients(f::Union{Function,Number})\n",
    "    fCheb = ApproxFun.Fun(f, 0..1) # Approximate f on [0,1] using chebyshev polynomials\n",
    "    chebCoefficients = ApproxFun.coefficients(fCheb) # get coefficients of the Chebyshev polynomial\n",
    "    return chebCoefficients\n",
    "end"
   ]
  },
  {
   "cell_type": "markdown",
   "metadata": {
    "hidden": true
   },
   "source": [
    "### `get_ChebyshevIntegral(l, f; symbolic, lambda, alpha)`\n",
    "\n",
    "Computes\n",
    "$$\\int_0^1 e^{-i\\alpha^{l-1}\\lambda x}f(x)\\,dx$$\n",
    "by computing\n",
    "\\begin{align*}\n",
    "    \\frac{1}{2e^{ic}}\\int_{-1}^1 e^{-ict} q(t)\\,dt = \\int_0^1 e^{-i\\alpha^{l-1}\\lambda x}f(x)\\,dx\n",
    "\\end{align*}\n",
    "where $c=\\frac{\\alpha^{l-1}\\lambda}{2}$, $q(t) := f\\circ g^{-1}(t)$,\n",
    "and\n",
    "\\begin{align*}\n",
    "    \\int_{-1}^1 e^{-ic t}q(t)\\,dt &= \\int_{-1}^1 e^{-ic t} \\sum_{n=0}^N b_n T_n(t)\\,dt\\\\\n",
    "    &= \\sum_{n=0}^N b_n \\int_{-1}^1 e^{-ic t} T_n(t)\\,dt\\\\\n",
    "    &= \\sum_{n=0}^N b_n \\int_{-1}^1 e^{-ic t} \\cos(n\\cdot\\cos^{-1}(t))\\,dt\\\\\n",
    "    &= \\sum_{n=0}^N b_n \\tilde{T}_n(c).\n",
    "\\end{align*}"
   ]
  },
  {
   "cell_type": "code",
   "execution_count": 527,
   "metadata": {
    "hidden": true
   },
   "outputs": [
    {
     "data": {
      "text/plain": [
       "get_ChebyshevIntegral (generic function with 1 method)"
      ]
     },
     "execution_count": 527,
     "metadata": {},
     "output_type": "execute_result"
    }
   ],
   "source": [
    "function get_ChebyshevIntegral(l::Number, f::Union{Function, Number}; symbolic = false, lambda = nothing, alpha = nothing)\n",
    "    fChebCoeffs = get_ChebyshevCoefficients(f)\n",
    "    # Replace coefficients too close to 0 by 0\n",
    "    # fChebCoeffs = [if is_approx(x, 0) 0 else x end for x in fChebCoeffs]\n",
    "    if symbolic\n",
    "        lambda = symbols(\"lambda\")\n",
    "        c = alpha^(l-1)*lambda/2\n",
    "        integralSym = 0\n",
    "        for m = 1:length(fChebCoeffs)\n",
    "            fChebCoeff = fChebCoeffs[m]\n",
    "            if is_approx(fChebCoeff, 0)\n",
    "                continue\n",
    "            else\n",
    "            integralSym += fChebCoeffs[m] * get_ChebyshevTermIntegral(m-1; symbolic = true, c = c)\n",
    "            end\n",
    "        end\n",
    "        integralSym = integralSym/(2*sympy.E^(im*c))\n",
    "        integralSym = simplify(integralSym)\n",
    "        return integralSym\n",
    "    else\n",
    "        if isa(lambda, Nothing) || isa(alpha, Nothing)\n",
    "            throw(\"lambda, alpha required\")\n",
    "        else\n",
    "            c = alpha^(l-1)*lambda/2\n",
    "            integral = 0\n",
    "            for m = 1:length(fChebCoeffs)\n",
    "                fChebCoeff = fChebCoeffs[m]\n",
    "                if is_approx(fChebCoeff, 0)\n",
    "                    continue\n",
    "                else\n",
    "                    integral += fChebCoeff * get_ChebyshevTermIntegral(m-1; symbolic = false)(c)\n",
    "                end\n",
    "            end\n",
    "            integral = integral/(2*MathConstants.e^(im*c))\n",
    "            return integral\n",
    "        end\n",
    "    end\n",
    "end"
   ]
  },
  {
   "cell_type": "markdown",
   "metadata": {
    "hidden": true
   },
   "source": [
    "## `get_FPlusMinus(adjointU; symbolic, generic)`\n",
    "\n",
    "Gets $F^+_\\lambda$, $F^-_\\lambda$ given by \n",
    "\\begin{align*}\n",
    "    F^+_\\lambda(f) &= \\frac{1}{2\\pi \\Delta(\\lambda)} \\sum_{l=1}^n\\sum_{j=1}(-1)^{(n-1)(l+j)}\\det X^{lj}(\\lambda)M^+_{1j}(\\lambda)\\int_0^1 e^{-i\\alpha^{l-1}\\lambda x}f(x)\\,dx,\\\\\n",
    "    F^-_\\lambda(f) &= \\frac{-e^{-i\\lambda}}{2\\pi \\Delta(\\lambda)} \\sum_{l=1}^n\\sum_{j=1}(-1)^{(n-1)(l+j)}\\det X^{lj}(\\lambda)M^-_{1j}(\\lambda)\\int_0^1 e^{-i\\alpha^{l-1}\\lambda x}f(x)\\,dx.\n",
    "\\end{align*}\n",
    "as functions of $f$ or their symbolic expressions."
   ]
  },
  {
   "cell_type": "code",
   "execution_count": 534,
   "metadata": {
    "hidden": true
   },
   "outputs": [
    {
     "data": {
      "text/plain": [
       "get_FPlusMinus (generic function with 1 method)"
      ]
     },
     "execution_count": 534,
     "metadata": {},
     "output_type": "execute_result"
    }
   ],
   "source": [
    "function get_FPlusMinus(adjointU::VectorBoundaryForm; symbolic = false, generic = false)\n",
    "    bStar, betaStar = adjointU.M, adjointU.N\n",
    "    n = size(bStar)[1]\n",
    "    if symbolic\n",
    "        lambda = symbols(\"lambda\")\n",
    "        (MPlusSym, MMinusSym) = get_MPlusMinus(adjointU; symbolic = true, generic = generic)\n",
    "        deltaSym = get_delta(adjointU; symbolic = true, generic = generic)\n",
    "        if generic\n",
    "            alpha = symbols(\"alpha\")\n",
    "            c = symbols(\"c\")\n",
    "            FT = SymFunction(\"FT[f]\")(c)\n",
    "            sumPlusSymGeneric = 0\n",
    "            sumMinusSymGeneric = 0\n",
    "            for l = 1:n\n",
    "                summandPlusSymGeneric = 0\n",
    "                summandMinusSymGeneric = 0\n",
    "                for j = 1:n\n",
    "                    XljSym = get_Xlj(adjointU, l, j; symbolic = true, generic = true)\n",
    "                    integralSymGeneric = subs(FT, c, alpha^(l-1)*lambda)\n",
    "                    summandPlusSymGeneric += (-1)^((n-1)*(l+j)) * SymPy.det(XljSym) * MPlusSym[1,j] * integralSymGeneric\n",
    "                    summandMinusSymGeneric += (-1)^((n-1)*(l+j)) * SymPy.det(XljSym) * MMinusSym[1,j] * integralSymGeneric\n",
    "                end\n",
    "                sumPlusSymGeneric += summandPlusSymGeneric\n",
    "                sumMinusSymGeneric += summandMinusSymGeneric\n",
    "            end\n",
    "            FPlusSymGeneric = simplify(1/(2*PI*deltaSym)*sumPlusSymGeneric)\n",
    "            FMinusSymGeneric = simplify((-sympy.E^(-im*lambda))/(2*PI*deltaSym)*sumMinusSymGeneric)\n",
    "            return (FPlusSymGeneric, FMinusSymGeneric)\n",
    "        else\n",
    "            alpha = sympy.E^(2*PI*im/n)\n",
    "            function FPlusSym(f::Union{Function, Number})\n",
    "                sumPlusSym = 0\n",
    "                for l = 1:n\n",
    "                    summandPlusSym = 0\n",
    "                    for j = 1:n\n",
    "                        XljSym = get_Xlj(adjointU, l, j; symbolic = true)\n",
    "                        integralSym = get_ChebyshevIntegral(l, f; symbolic = true, lambda = lambda, alpha = alpha)\n",
    "                        summandPlusSym += (-1)^((n-1)*(l+j)) * SymPy.det(XljSym) * MPlusSym[1,j] * integralSym\n",
    "                    end\n",
    "                    sumPlusSym += summandPlusSym\n",
    "                end\n",
    "                return simplify(1/(2*PI*deltaSym)*sumPlusSym)\n",
    "            end\n",
    "            function FMinusSym(f::Union{Function, Number})\n",
    "                sumMinusSym = 0\n",
    "                for l = 1:n\n",
    "                    summandMinusSym = 0\n",
    "                    for j = 1:n\n",
    "                        XljSym = get_Xlj(adjointU, l, j; symbolic = true)\n",
    "                        c = alpha^(l-1)*lambda/2\n",
    "                        integralSym = get_ChebyshevIntegral(l, f; symbolic = true, lambda = lambda, alpha = alpha)\n",
    "                        summandMinusSym += (-1)^((n-1)*(l+j)) * SymPy.det(XljSym) * MMinusSym[1,j] * integralSym\n",
    "                    end\n",
    "                    sumMinusSym += summandMinusSym\n",
    "                end\n",
    "                return simplify((-sympy.E^(-im*lambda))/(2*PI*deltaSym)*sumMinusSym)\n",
    "            end\n",
    "            return (FPlusSym, FMinusSym)\n",
    "            end\n",
    "    else\n",
    "        alpha = MathConstants.e^(2pi*im/n)\n",
    "        (MPlus, MMinus) = get_MPlusMinus(adjointU; symbolic = false)\n",
    "        function FPlus(lambda::Number, f::Union{Function, Number})\n",
    "            MPlusLambda, MMinusLambda = MPlus(lambda), MMinus(lambda)\n",
    "            M = get_M(adjointU; symbolic = false)\n",
    "            MLambda = convert(Array{Complex}, M(lambda))\n",
    "            deltaLambda = LinearAlgebra.det(MLambda) # or deltaLambda = (get_delta(adjointU))(lambda)\n",
    "            sumPlus = 0\n",
    "            for l = 1:n\n",
    "                summandPlus = 0\n",
    "                for j = 1:n\n",
    "                    Xlj = get_Xlj(adjointU, l, j; symbolic = false)\n",
    "                    XljLambda = convert(Array{Complex}, Xlj(lambda))\n",
    "                    integral = get_ChebyshevIntegral(l, f; symbolic = false, lambda = lambda, alpha = alpha)\n",
    "                    summandPlus += (-1)^((n-1)*(l+j)) * LinearAlgebra.det(XljLambda) * MPlusLambda[1,j] * integral\n",
    "                end\n",
    "                sumPlus += summandPlus\n",
    "            end\n",
    "            return 1/(2pi*deltaLambda)*sumPlus\n",
    "        end\n",
    "        function FMinus(lambda::Number, f::Union{Function, Number})\n",
    "            MPlusLambda, MMinusLambda = MPlus(lambda), MMinus(lambda)\n",
    "            M = get_M(adjointU; symbolic = false)\n",
    "            MLambda = convert(Array{Complex}, M(lambda))\n",
    "            deltaLambda = LinearAlgebra.det(MLambda) # or deltaLambda = (get_delta(adjointU))(lambda)\n",
    "            sumMinus = 0\n",
    "            for l = 1:n\n",
    "                summandMinus = 0\n",
    "                for j = 1:n\n",
    "                    Xlj = get_Xlj(adjointU, l, j)\n",
    "                    XljLambda = convert(Array{Complex}, Xlj(lambda))\n",
    "                    integral = get_ChebyshevIntegral(l, f; symbolic = false, lambda = lambda, alpha = alpha)\n",
    "                    summandMinus += (-1)^((n-1)*(l+j)) * LinearAlgebra.det(XljLambda) * MMinusLambda[1,j] * integral\n",
    "                end\n",
    "                sumMinus += summandMinus\n",
    "            end\n",
    "            return (-MathConstants.e^(-im*lambda))/(2pi*deltaLambda)*sumMinus\n",
    "        end\n",
    "        return (FPlus, FMinus)\n",
    "    end\n",
    "end"
   ]
  },
  {
   "cell_type": "markdown",
   "metadata": {
    "hidden": true
   },
   "source": [
    "## `get_gamma(a, n, zeroList; infty, nGon)`\n",
    "\n",
    "Computes the contour $\\Gamma$ given by\n",
    "\\begin{align*}\n",
    "    \\Gamma &:= \\Gamma_0\\cup \\Gamma_a,\n",
    "\\end{align*}\n",
    "where\n",
    "\\begin{align*}\n",
    "\\Gamma_a^{\\pm} &:= \\partial(\\{\\lambda\\in\\mathbb{C}^{\\pm}:\\, \\Re(a\\lambda^n)>0\\}\\setminus \\bigcup_{\\substack{\\sigma\\in\\mathbb{C};\\\\\\Delta(\\sigma)=0}} D(\\sigma, 2\\epsilon))\\quad\\mbox{($D$ for disk)},\\\\\n",
    "    \\Gamma_a &:= \\Gamma_a^+\\cup \\Gamma_a^-,\\\\\n",
    "    \\Gamma_0^+ &:= \\bigcup_{\\substack{\\sigma\\in\\overline{\\mathbb{C}^+};\\\\ \\Delta(\\sigma)=0}} C(\\sigma, \\epsilon)\\quad\\mbox{($C$ for circle)},\\\\\n",
    "    \\Gamma_0^- &:= \\bigcup_{\\substack{\\sigma\\in\\mathbb{C}^-;\\\\ \\Delta(\\sigma)=0}} C(\\sigma, \\epsilon),\\\\\n",
    "    \\Gamma_0 &:= \\Gamma_0^+\\cup \\Gamma_0^-.\n",
    "\\end{align*}"
   ]
  },
  {
   "cell_type": "markdown",
   "metadata": {
    "hidden": true
   },
   "source": [
    "### `get_gammaAAngles(a, n; symbolic)`\n",
    "\n",
    "Finds the angles (in $[-2\\pi, 2\\pi)$) representing the lines through the origin that mark the beginning and end of the sectors encircled by $\\Gamma_a$, boundary of the domain $\\{\\lambda\\in \\mathbb{C}: \\Re(a\\lambda^n)>0\\}$. \n",
    "\n",
    "Note that we choose the interval $[-2\\pi, 2\\pi)$ to ensure that \"`z` is in a sector\" if and only if \"`angle(z)` is greater than or equal to the start of the sector and smaller than or equal to the end of the sector."
   ]
  },
  {
   "cell_type": "code",
   "execution_count": 625,
   "metadata": {
    "hidden": true
   },
   "outputs": [
    {
     "data": {
      "text/plain": [
       "get_gammaAAngles (generic function with 1 method)"
      ]
     },
     "execution_count": 625,
     "metadata": {},
     "output_type": "execute_result"
    }
   ],
   "source": [
    "function get_gammaAAngles(a::Number, n::Int; symbolic = false)\n",
    "    # thetaA = argument(a)\n",
    "    thetaA = angle(a)\n",
    "    if symbolic\n",
    "        thetaStartList = Array{SymPy.Sym}(undef, n) # List of angles that characterize where domain sectors start\n",
    "        thetaEndList = Array{SymPy.Sym}(undef, n) # List of angles that characterize where domain sectors end\n",
    "        k = symbols(\"k\")\n",
    "        counter = 0\n",
    "        while (2pi*counter + pi/2 - thetaA)/n < 2pi\n",
    "        # Substituting counter for k\n",
    "        # while SymPy.N(subs((2PI*k + PI/2 - thetaA)/n, k, counter)) < 2pi\n",
    "            thetaStart = (2*PI*counter - PI/2 - rationalize(thetaA/pi)*PI)/n\n",
    "            thetaEnd = (2*PI*counter + PI/2 - rationalize(thetaA/pi)*PI)/n\n",
    "            counter += 1\n",
    "            thetaStartList[counter] = thetaStart\n",
    "            thetaEndList[counter] = thetaEnd\n",
    "        end\n",
    "    else\n",
    "        thetaStartList = Array{Number}(undef, n)\n",
    "        thetaEndList = Array{Number}(undef, n)\n",
    "        k = 0\n",
    "        while (2pi*k + pi/2 - thetaA)/n < 2pi\n",
    "            thetaStart = (2pi*k - pi/2 - thetaA)/n\n",
    "            thetaEnd = (2pi*k + pi/2 - thetaA)/n\n",
    "            k += 1\n",
    "            thetaStartList[k] = thetaStart\n",
    "            thetaEndList[k] = thetaEnd\n",
    "        end\n",
    "    end\n",
    "    return (thetaStartList, thetaEndList)\n",
    "end"
   ]
  },
  {
   "cell_type": "markdown",
   "metadata": {
    "hidden": true
   },
   "source": [
    "### `get_gammaAAnglesSplit(a, n; symbolic)`\n",
    "\n",
    "On top of the sectors characterized by the array of start angles and the array of end angles obtained via `get_gammaAAngles()`, splits the sectors that contain the real line."
   ]
  },
  {
   "cell_type": "code",
   "execution_count": 797,
   "metadata": {
    "hidden": true
   },
   "outputs": [
    {
     "data": {
      "text/plain": [
       "get_gammaAAnglesSplit (generic function with 1 method)"
      ]
     },
     "execution_count": 797,
     "metadata": {},
     "output_type": "execute_result"
    }
   ],
   "source": [
    "function get_gammaAAnglesSplit(a::Number, n::Int; symbolic = false)\n",
    "    (thetaStartList, thetaEndList) = get_gammaAAngles(a, n; symbolic = symbolic)\n",
    "    # Split sectors that contain the positive half of the real line (angle = 0)\n",
    "    zeroIndex = findall(i -> ((is_approxLess(convert(Float64, thetaStartList[i]), 0) && is_approxLess(0, convert(Float64, thetaEndList[i])))), 1:length(thetaStartList))\n",
    "    if !isempty(zeroIndex)\n",
    "        index = zeroIndex[1]\n",
    "        # Insert 0 after thetaStart\n",
    "        splice!(thetaStartList, (index+1):index, 0)\n",
    "        # Insert 0 before thetaEnd\n",
    "        splice!(thetaEndList, index:(index-1), 0)\n",
    "    end\n",
    "    # Split sectors that contain the negative half of the real line (angle = pi)\n",
    "    piIndex = findall(i -> ((is_approxLess( convert(Float64, thetaStartList[i]), pi) && is_approxLess(pi, convert(Float64, thetaEndList[i]) ))), 1:length(thetaStartList))\n",
    "    if !isempty(piIndex)\n",
    "        index = piIndex[1]\n",
    "        if symbolic\n",
    "            # Insert pi after thetaStart\n",
    "            splice!(thetaStartList, (index+1):index, pi)\n",
    "            # Insert pi before thetaEnd\n",
    "            splice!(thetaEndList, index:(index-1), pi)\n",
    "        else\n",
    "            # Use pi*1 instead of pi to avoid \"<= not defined for Irrational{:pi}\" error in get_gamma()\n",
    "            splice!(thetaStartList, (index+1):index, pi*1)\n",
    "            splice!(thetaEndList, index:(index-1), pi*1)\n",
    "        end\n",
    "    end\n",
    "    return (thetaStartList, thetaEndList)\n",
    "end"
   ]
  },
  {
   "cell_type": "markdown",
   "metadata": {
    "hidden": true
   },
   "source": [
    "### `pointOnSector(z, sectorAngles)`\n",
    "\n",
    "Determines whether a point $z$ is on the boundary of a sector characterized by a start angle and an end angle."
   ]
  },
  {
   "cell_type": "code",
   "execution_count": 688,
   "metadata": {
    "hidden": true
   },
   "outputs": [
    {
     "data": {
      "text/plain": [
       "pointOnSector (generic function with 1 method)"
      ]
     },
     "execution_count": 688,
     "metadata": {},
     "output_type": "execute_result"
    }
   ],
   "source": [
    "function pointOnSector(z::Number, sectorAngles::Tuple{Number, Number})\n",
    "    (startAngle, endAngle) = sectorAngles\n",
    "    return is_approx(argument(z), startAngle) || is_approx(argument(z), endAngle) || is_approx(angle(z), startAngle) || is_approx(angle(z), endAngle)\n",
    "end"
   ]
  },
  {
   "cell_type": "markdown",
   "metadata": {
    "hidden": true
   },
   "source": [
    "### `pointInSector(z, sectorAngles)`\n",
    "\n",
    "Determines whether a point $z$ is in the interior of a sector characterized by a start angle and an end angle."
   ]
  },
  {
   "cell_type": "code",
   "execution_count": 690,
   "metadata": {
    "hidden": true
   },
   "outputs": [
    {
     "data": {
      "text/plain": [
       "pointInSector (generic function with 1 method)"
      ]
     },
     "execution_count": 690,
     "metadata": {},
     "output_type": "execute_result"
    }
   ],
   "source": [
    "function pointInSector(z::Number, sectorAngles::Tuple{Number, Number})\n",
    "    (startAngle, endAngle) = sectorAngles\n",
    "    # First check if z is on the sector boundary\n",
    "    if pointOnSector(z, sectorAngles)\n",
    "        return false\n",
    "    else\n",
    "        # angle(z) would work if it's in the sector with positive real parts and both positive and negative imaginary parts; argument(z) would work if it's in the sector with negative real parts and both positive and negative imaginary parts\n",
    "        return (angle(z) > startAngle && angle(z) < endAngle) || (argument(z) > startAngle && argument(z) < endAngle) # no need to use is_approxLess because the case of approximatedly equal is already checked in pointOnSector\n",
    "    end\n",
    "end"
   ]
  },
  {
   "cell_type": "markdown",
   "metadata": {
    "hidden": true
   },
   "source": [
    "### `pointExSector(z, sectorAngles)`\n",
    "\n",
    "Determines whether a point $z$ is in the exterior of a sector characterized by a start angle and an end angle."
   ]
  },
  {
   "cell_type": "code",
   "execution_count": 692,
   "metadata": {
    "hidden": true
   },
   "outputs": [
    {
     "data": {
      "text/plain": [
       "pointExSector (generic function with 1 method)"
      ]
     },
     "execution_count": 692,
     "metadata": {},
     "output_type": "execute_result"
    }
   ],
   "source": [
    "function pointExSector(z::Number, sectorAngles::Tuple{Number, Number})\n",
    "    return !pointOnSector(z, sectorAngles) && !pointInSector(z, sectorAngles)\n",
    "end"
   ]
  },
  {
   "cell_type": "markdown",
   "metadata": {
    "hidden": true
   },
   "source": [
    "### `get_epsilon(zeroList, a, n)`\n",
    "\n",
    "Given a list of zeroes of $\\Delta(\\lambda)$, using the arrays of angles that characterize the starts and ends of sectors, computes an appropriate value for the radius $\\epsilon$ of the circle to be drawn around each zero of $\\Delta(\\lambda)$ in the contours $\\Gamma_0^{\\pm}$. This is the minimum of pairwise distances between zeroes that are not interior to any sector (since interior zeroes would not matter in any way) and the distances from any of these zeroes to any line that mark the boundary of some sector."
   ]
  },
  {
   "cell_type": "code",
   "execution_count": 795,
   "metadata": {
    "hidden": true
   },
   "outputs": [
    {
     "data": {
      "text/plain": [
       "get_epsilon (generic function with 1 method)"
      ]
     },
     "execution_count": 795,
     "metadata": {},
     "output_type": "execute_result"
    }
   ],
   "source": [
    "function get_epsilon(zeroList::Array, a::Number, n::Int)\n",
    "    (thetaStartList, thetaEndList) = get_gammaAAnglesSplit(a, n; symbolic = false)\n",
    "    thetaStartEndList = collect(Iterators.flatten([thetaStartList, thetaEndList]))\n",
    "    truncZeroList = []\n",
    "    for zero in zeroList\n",
    "        # If zero is interior to any sector, discard it\n",
    "        if any(i -> pointInSector(zero, (thetaStartList[i], thetaEndList[i])), 1:n)\n",
    "        else # If not, append it to truncZeroList\n",
    "            append!(truncZeroList, zero)\n",
    "        end\n",
    "    end\n",
    "    # List of distance between each zero and each line marking the boundary of some sector\n",
    "    pointLineDistances = [get_distancePointLine(z, theta) for z in zeroList for theta in thetaStartEndList]\n",
    "    if length(truncZeroList)>1\n",
    "        # List of distance between every two zeroes\n",
    "        pairwiseDistances = [LinearAlgebra.norm(z1-z2) for z1 in zeroList for z2 in truncZeroList]\n",
    "    else\n",
    "        pairwiseDistances = []\n",
    "    end\n",
    "    distances = collect(Iterators.flatten([pairwiseDistances, pointLineDistances]))\n",
    "    # Distances of nearly 0 could be instances where the zero is actually on some sector boundary\n",
    "    distances = filter(x -> !is_approx(x, 0), distances)\n",
    "    epsilon = minimum(distances)/4\n",
    "    return epsilon\n",
    "end"
   ]
  },
  {
   "cell_type": "markdown",
   "metadata": {
    "hidden": true
   },
   "source": [
    "### `get_nGonAroundZero(zero, epsilon, n)`\n",
    "\n",
    "Given a zero of $\\Delta(\\lambda)$, returns an array of $n$ complex numbers representing the vertices of an $n$-gon around the zero in the complex plane; each vertex is of distance $\\epsilon$ from the zero."
   ]
  },
  {
   "cell_type": "code",
   "execution_count": 698,
   "metadata": {
    "hidden": true
   },
   "outputs": [
    {
     "data": {
      "text/plain": [
       "get_nGonAroundZero (generic function with 1 method)"
      ]
     },
     "execution_count": 698,
     "metadata": {},
     "output_type": "execute_result"
    }
   ],
   "source": [
    "function get_nGonAroundZero(zero::Number, epsilon::Number, n::Int)\n",
    "    z = zero\n",
    "    theta = argument(zero)\n",
    "    deltaAngle = 2pi/n\n",
    "    vertices = []\n",
    "    for i = 1:n\n",
    "        newAngle = pi-deltaAngle*(i-1)\n",
    "        vertex = z + epsilon*MathConstants.e^(im*(theta+newAngle))\n",
    "        append!(vertices, vertex)\n",
    "    end\n",
    "    # vertices = vcat(vertices, vertices[1])\n",
    "    return vertices\n",
    "end"
   ]
  },
  {
   "cell_type": "markdown",
   "metadata": {
    "hidden": true
   },
   "source": [
    "### `get_gamma(a, n, zeroList; infty, nGon)`\n",
    "\n",
    "Finds the contours $\\Gamma_a^+$, $\\Gamma_a^-$, $\\Gamma_0^+$, $\\Gamma_0^-$ as arrays of points ordered in the order they will be integrated over."
   ]
  },
  {
   "cell_type": "code",
   "execution_count": 785,
   "metadata": {
    "hidden": true
   },
   "outputs": [
    {
     "data": {
      "text/plain": [
       "get_gamma (generic function with 1 method)"
      ]
     },
     "execution_count": 785,
     "metadata": {},
     "output_type": "execute_result"
    }
   ],
   "source": [
    "function get_gamma(a::Number, n::Int, zeroList::Array; infty = INFTY, nGon = 8)\n",
    "    (thetaStartList, thetaEndList) = get_gammaAAnglesSplit(a, n; symbolic = false)\n",
    "    nSplit = length(thetaStartList)\n",
    "    gammaAPlus, gammaAMinus, gamma0Plus, gamma0Minus = [], [], [], []\n",
    "    epsilon = get_epsilon(zeroList, a, n)\n",
    "    for i in 1:nSplit\n",
    "        thetaStart = thetaStartList[i]\n",
    "        thetaEnd = thetaEndList[i]\n",
    "        # Initialize the boundary of each sector with the ending boundary, the origin, and the starting boundary (start and end boundaries refer to the order in which the boundaries are passed if tracked counterclockwise)\n",
    "        initialPath = [infty*MathConstants.e^(im*thetaEnd), 0+0*im, infty*MathConstants.e^(im*thetaStart)]\n",
    "        initialPath = convert(Array{Complex{Float64}}, initialPath)\n",
    "        if thetaStart >= 0 && thetaStart <= pi && thetaEnd >= 0 && thetaEnd <= pi # if in the upper half plane, push the boundary path to gamma_a+\n",
    "            push!(gammaAPlus, initialPath) # list of lists\n",
    "        else # if in the lower half plane, push the boundary path to gamma_a-\n",
    "            push!(gammaAMinus, initialPath)\n",
    "        end\n",
    "    end\n",
    "    # Sort the zeroList by norm, so that possible zero at the origin comes last. We need to leave the origin in the initial path unchanged until we have finished dealing with all non-origin zeros because we use the origin in the initial path as a reference point to decide where to insert the deformed path\n",
    "    zeroList = sort(zeroList, lt=(x,y)->!isless(LinearAlgebra.norm(x), LinearAlgebra.norm(y)))\n",
    "    for zero in zeroList\n",
    "        # println(zero)\n",
    "        # If zero is not at the origin\n",
    "        if !is_approx(zero, 0+0*im)\n",
    "            # Draw an n-gon around it\n",
    "            vertices = get_nGonAroundZero(zero, epsilon, nGon)\n",
    "            # If zero is on the boundary of some sector\n",
    "            if any(i -> pointOnSector(zero, (thetaStartList[i], thetaEndList[i])), 1:nSplit)\n",
    "                # Find which sector(s) zero is on\n",
    "                indices = findall(i -> pointOnSector(zero, (thetaStartList[i], thetaEndList[i])), 1:nSplit)\n",
    "                # If zero is on the boundary of one sector\n",
    "                if length(indices) == 1\n",
    "                    # if vertices[2] is interior to any sector, include vertices on the other half of the n-gon in the contour approximation\n",
    "                    z0 = vertices[2]\n",
    "                    if any(i -> pointInSector(z0, (thetaStartList[i], thetaEndList[i])), 1:nSplit)\n",
    "                        # Find which sector vertices[2] is in\n",
    "                        index = findall(i -> pointInSector(z0, (thetaStartList[i], thetaEndList[i])), 1:nSplit)[1]\n",
    "                    else # if vertices[2] is exterior, include vertices on this half of the n-gon in the contour approximation\n",
    "                        # Find which sector vertices[length(vertices)] is in\n",
    "                        z1 = vertices[length(vertices)]\n",
    "                        index = findall(i -> pointInSector(z1, (thetaStartList[i], thetaEndList[i])), 1:nSplit)[1]\n",
    "                    end\n",
    "                    thetaStart = thetaStartList[index]\n",
    "                    thetaEnd = thetaEndList[index]\n",
    "                    # Find all vertices exterior to or on the boundary of this sector, which would form the nGonPath around the zero\n",
    "                    nGonPath = vertices[findall(vertex -> !pointInSector(vertex, (thetaStart, thetaEnd)), vertices)]\n",
    "                    # If this sector is in the upper half plane, deform gamma_a+\n",
    "                    if thetaStart >= 0 && thetaStart <= pi && thetaEnd >= 0 && thetaEnd <= pi\n",
    "                        gammaAPlusIndex = findall(path -> (is_approx(argument(zero), argument(path[1])) || is_approx(argument(zero), argument(path[length(path)]))), gammaAPlus)[1]\n",
    "                        deformedPath = copy(gammaAPlus[gammaAPlusIndex])\n",
    "                        if any(i -> is_approx(argument(zero), thetaStartList[i]) || is_approx(angle(zero), thetaStartList[i]), 1:nSplit) # if zero is on the starting boundary, insert the n-gon path after 0+0*im\n",
    "                            splice!(deformedPath, length(deformedPath):(length(deformedPath)-1), nGonPath)\n",
    "                        else # if zero is on the ending boundary, insert the n-gon path before 0+0*im\n",
    "                            splice!(deformedPath, 2:1, nGonPath)\n",
    "                        end\n",
    "                        deformedPath = convert(Array{Complex{Float64}}, deformedPath)\n",
    "                        gammaAPlus[gammaAPlusIndex] = deformedPath\n",
    "                    else # if sector is in the lower half plane, deform gamma_a-\n",
    "                        # # Find all vertices interior to or on the boundary of this sector, which would form the nGonPath around the zero\n",
    "                        # nGonPath = vertices[find(vertex -> !pointExSector(vertex, (thetaStart, thetaEnd)), vertices)]\n",
    "                        gammaAMinusIndex = findall(path -> (is_approx(argument(zero), argument(path[1])) || is_approx(argument(zero), argument(path[length(path)]))), gammaAMinus)[1]\n",
    "                        deformedPath = copy(gammaAMinus[gammaAMinusIndex])\n",
    "                        if any(i -> is_approx(argument(zero), thetaStartList[i]) || is_approx(angle(zero), thetaStartList[i]), 1:nSplit) # if zero is on the starting boundary, insert the n-gon path after 0+0*im\n",
    "                            splice!(deformedPath, length(deformedPath):(length(deformedPath)-1), nGonPath)\n",
    "                        else # if zero is on the ending boundary, insert the n-gon path before 0+0*im\n",
    "                            splice!(deformedPath, 2:1, nGonPath) \n",
    "                        end\n",
    "                        deformedPath = convert(Array{Complex{Float64}}, deformedPath)\n",
    "                        gammaAMinus[gammaAMinusIndex] = deformedPath\n",
    "                    end\n",
    "                else # If zero is on the boundary of two sectors, then it must be on the real line, and we need to deform two sectors\n",
    "                    # Find out which vertices are in the lower half plane\n",
    "                    nGonPath = vertices[findall(vertex -> !pointInSector(vertex, (0, pi)), vertices)]\n",
    "                    for index in indices\n",
    "                        thetaStart = thetaStartList[index]\n",
    "                        thetaEnd = thetaEndList[index]\n",
    "                        # If this is the sector in the upper half plane, deform gamma_a+\n",
    "                        if thetaStart >= 0 && thetaStart <= pi && thetaEnd >= 0 && thetaEnd <= pi\n",
    "                            gammaAPlusIndex = findall(path -> (is_approx(argument(zero), argument(path[1])) || is_approx(argument(zero), argument(path[length(path)]))), gammaAPlus)[1]\n",
    "                            deformedPath = copy(gammaAPlus[gammaAPlusIndex])\n",
    "                            if is_approx(argument(zero), argument(deformedPath[length(deformedPath)])) # if zero is on the starting boundary, insert the n-gon path after 0+0*im\n",
    "                                splice!(deformedPath, length(deformedPath):(length(deformedPath)-1), nGonPath)\n",
    "                            else # if zero is on the ending boundary, insert the n-gon path before 0+0*im\n",
    "                                splice!(deformedPath, 2:1, nGonPath)\n",
    "                            end\n",
    "                            deformedPath = convert(Array{Complex{Float64}}, deformedPath)\n",
    "                            gammaAPlus[gammaAPlusIndex] = deformedPath\n",
    "                        else # If this is the sector in the lower half plane, deform gamma_a-\n",
    "                            gammaAMinusIndex = findall(path -> (is_approx(argument(zero), argument(path[1])) || is_approx(argument(zero), argument(path[length(path)]))), gammaAMinus)[1]\n",
    "                            deformedPath = copy(gammaAMinus[gammaAMinusIndex])\n",
    "                            if is_approx(argument(zero), argument(deformedPath[length(deformedPath)])) # if zero is on the starting boundary, insert the n-gon path after 0+0*im\n",
    "                                splice!(deformedPath, length(deformedPath):(length(deformedPath)-1), nGonPath)\n",
    "                            else # if zero is on the ending boundary, insert the n-gon path before 0+0*im\n",
    "                                splice!(deformedPath, 2:1, nGonPath)\n",
    "                            end\n",
    "                            deformedPath = convert(Array{Complex{Float64}}, deformedPath)\n",
    "                            gammaAMinus[gammaAMinusIndex] = deformedPath\n",
    "                        end\n",
    "                    end\n",
    "                end\n",
    "                # Sort each sector's path in the order in which they are integrated over\n",
    "                gammaAs = [gammaAPlus, gammaAMinus]\n",
    "                for j = 1:length(gammaAs)\n",
    "                    gammaA = gammaAs[j]\n",
    "                    for k = 1:length(gammaA)\n",
    "                        inOutPath = gammaA[k]\n",
    "                        originIndex = findall(x->x==0+0*im, inOutPath)[1]\n",
    "                        inwardPath = inOutPath[1:(originIndex-1)]\n",
    "                        outwardPath = inOutPath[(originIndex+1):length(inOutPath)]\n",
    "                        # Sort the inward path and outward path\n",
    "                        if length(inwardPath) > 0\n",
    "                            inwardPath = sort(inwardPath, lt=(x,y)->!isless(LinearAlgebra.norm(x), LinearAlgebra.norm(y)))\n",
    "                        end\n",
    "                        if length(outwardPath) > 0\n",
    "                            outwardPath = sort(outwardPath, lt=(x,y)->isless(LinearAlgebra.norm(x), LinearAlgebra.norm(y)))\n",
    "                        end\n",
    "                        inOutPath = vcat(inwardPath, 0+0*im, outwardPath)\n",
    "                        inOutPath = convert(Array{Complex{Float64}}, inOutPath)\n",
    "                        gammaA[k] = inOutPath\n",
    "                    end\n",
    "                    gammaAs[j] = gammaA \n",
    "                end\n",
    "                gammaAPlus, gammaAMinus = gammaAs[1], gammaAs[2]\n",
    "            # If zero is interior to any sector (after splitting by real line), ignore it\n",
    "            # If zero is exterior to the sectors, avoid it\n",
    "            elseif all(i -> pointExSector(zero, (thetaStartList[i], thetaEndList[i])), 1:nSplit)\n",
    "                nGonPath = vcat(vertices, vertices[1]) # counterclockwise\n",
    "                nGonPath = convert(Array{Complex{Float64}}, nGonPath)\n",
    "                # If zero is in the upper half plane, add the n-gon path to gamma_0+\n",
    "                if argument(zero) >= 0 && argument(zero) <= pi\n",
    "                    push!(gamma0Plus, nGonPath)\n",
    "                else # If zero is in the lower half plane, add the n-gon path to gamma_0-\n",
    "                    push!(gamma0Minus, nGonPath)\n",
    "                end\n",
    "            end\n",
    "        else # If zero is at the origin, we deform all sectors and draw an n-gon around the origin\n",
    "            # deform each sector in gamma_a+\n",
    "            for i = 1:length(gammaAPlus)\n",
    "                deformedPath = gammaAPlus[i]\n",
    "                # find the index of the zero at origin in the sector boundary path\n",
    "                index = findall(j -> is_approx(deformedPath[j], 0+0*im), 1:length(deformedPath))\n",
    "                # If the origin is not in the path, then it has already been bypassed\n",
    "                if isempty(index)\n",
    "                else # If not, find its index\n",
    "                    index = index[1]\n",
    "                end\n",
    "                # create a path around zero (origin); the origin will not be the first or the last point in any sector boundary because it was initialized to be in the middle, and only insertions are performed. Moreover, the boundary path has already been sorted into the order in which they will be integrated over, so squarePath defined below has deformedPath[index-1], deformedPath[index+1] in the correct order.\n",
    "                squarePath = [2*epsilon*MathConstants.e^(im*argument(deformedPath[index-1])), 2*epsilon*MathConstants.e^(im*argument(deformedPath[index+1]))]\n",
    "                # replace the zero with the deformed path\n",
    "                deleteat!(deformedPath, index) # delete the origin\n",
    "                splice!(deformedPath, index:(index-1), squarePath) # insert squarePath into where the origin was at\n",
    "                deformedPath = convert(Array{Complex{Float64}}, deformedPath)\n",
    "                gammaAPlus[i] = deformedPath\n",
    "            end\n",
    "            # deform each sector in gamma_a-\n",
    "            for i = 1:length(gammaAMinus)\n",
    "                deformedPath = gammaAMinus[i]\n",
    "                index = findall(j -> is_approx(deformedPath[j], 0+0*im), 1:length(deformedPath))\n",
    "                if isempty(index)\n",
    "                else\n",
    "                    index = index[1]\n",
    "                end\n",
    "                squarePath = [2*epsilon*MathConstants.e^(im*argument(deformedPath[index-1])), 2*epsilon*MathConstants.e^(im*argument(deformedPath[index+1]))]\n",
    "                deleteat!(deformedPath, index)\n",
    "                splice!(deformedPath, index:(index-1), squarePath)\n",
    "                deformedPath = convert(Array{Complex{Float64}}, deformedPath)\n",
    "                gammaAMinus[i] = deformedPath\n",
    "            end\n",
    "            # Draw an n-gon around the origin and add to gamma_0+\n",
    "            vertices = get_nGonAroundZero(zero, epsilon, nGon)\n",
    "            nGonPath = vcat(vertices, vertices[1])\n",
    "            nGonPath = convert(Array{Complex{Float64}}, nGonPath)\n",
    "            push!(gamma0Plus, nGonPath)\n",
    "        end\n",
    "    end\n",
    "    return (gammaAPlus, gammaAMinus, gamma0Plus, gamma0Minus)\n",
    "end"
   ]
  },
  {
   "cell_type": "markdown",
   "metadata": {
    "hidden": true
   },
   "source": [
    "## `plot_contour(gamma; infty)`\n",
    "\n",
    "Visualize the contours $\\Gamma_a^+$, $\\Gamma_a^-$, $\\Gamma_0^+$, $\\Gamma_0^-$."
   ]
  },
  {
   "cell_type": "code",
   "execution_count": 787,
   "metadata": {
    "hidden": true
   },
   "outputs": [
    {
     "data": {
      "text/plain": [
       "plot_contour (generic function with 1 method)"
      ]
     },
     "execution_count": 787,
     "metadata": {},
     "output_type": "execute_result"
    }
   ],
   "source": [
    "function plot_contour(gamma::Array; infty = INFTY)\n",
    "    sectorPathList = Array{Any}(undef,length(gamma),1)\n",
    "    for i = 1:length(gamma)\n",
    "        # For each sector path in the gamma contour, plot the points in the path and connect them in the order in which they appear in the path\n",
    "        sectorPath = gamma[i]\n",
    "        # labels = map(string, collect(1:1:length(sectorPath)))\n",
    "        sectorPathList[i] = layer(x = real(sectorPath), y = imag(sectorPath), Geom.line(preserve_order=true))\n",
    "    end\n",
    "    coord = Coord.cartesian(xmin=-infty, xmax=infty, ymin=-infty, ymax=infty, fixed=true)\n",
    "    Gadfly.plot(Guide.xlabel(\"Re\"), Guide.ylabel(\"Im\"), coord, sectorPathList...)\n",
    "end"
   ]
  },
  {
   "cell_type": "markdown",
   "metadata": {
    "hidden": true
   },
   "source": [
    "## `solve_IBVP(L, U, a, zeroList, f; FPlusFunc, FMinusFunc, pDerivMatrix, infty)`\n",
    "\n",
    "Computes the solution\n",
    "\\begin{align*}\n",
    "q(x,t) &= f_x\\left(e^{-a\\lambda^n t}F_\\lambda(f)\\right)\\\\\n",
    "&= \\int_{\\Gamma_0^+}e^{i\\lambda x}e^{-a\\lambda^n t}F_\\lambda^+(f)\\,d\\lambda + \\int_{\\Gamma_a^+}e^{i\\lambda x}e^{-a\\lambda^n t}F_\\lambda^+(f)\\,d\\lambda + \\int_{\\Gamma_0^-}e^{i\\lambda x}e^{-a\\lambda^n t}F_\\lambda^-(f)\\,d\\lambda + \\int_{\\Gamma_a^-}e^{i\\lambda x}e^{-a\\lambda^n t}F_\\lambda^-(f)\\,d\\lambda\\\\\n",
    "&= \\left\\{\\int_{\\Gamma_0^+} + \\int_{\\Gamma_a^+} \\right\\} e^{ix\\lambda - at\\lambda^n}F_\\lambda^+(f)\\,d\\lambda + \\left\\{\\int_{\\Gamma_0^-} + \\int_{\\Gamma_a^-} \\right\\}e^{ix\\lambda - at\\lambda^n}F_\\lambda^-(f)\\,d\\lambda.\n",
    "\\end{align*}"
   ]
  },
  {
   "cell_type": "code",
   "execution_count": 807,
   "metadata": {
    "hidden": true
   },
   "outputs": [
    {
     "data": {
      "text/plain": [
       "solve_IBVP (generic function with 1 method)"
      ]
     },
     "execution_count": 807,
     "metadata": {},
     "output_type": "execute_result"
    }
   ],
   "source": [
    "function solve_IBVP(L::LinearDifferentialOperator, U::VectorBoundaryForm, a::Number, zeroList::Array, f::Function; FPlusFunc = lambda->get_FPlusMinus(adjointU; symbolic = false)[1](lambda, f), FMinusFunc = lambda->get_FPlusMinus(adjointU; symbolic = false)[2](lambda, f), pDerivMatrix = get_pDerivMatrix(L), infty = INFTY)\n",
    "    n = length(L.pFunctions)-1\n",
    "    adjointU = get_adjointU(L, U, pDerivMatrix)\n",
    "    (gammaAPlus, gammaAMinus, gamma0Plus, gamma0Minus) = get_gamma(a, n, zeroList)\n",
    "    function q(x,t)\n",
    "        integrandPlus(lambda) = MathConstants.e^(im*lambda*x)*MathConstants.e^(-a*lambda^n*t) * FPlusFunc(lambda)\n",
    "        integrandMinus(lambda) = MathConstants.e^(im*lambda*x)*MathConstants.e^(-a*lambda^n*t) * FMinusFunc(lambda)\n",
    "        tick()\n",
    "            println(\"integrandPlus = $(integrandPlus(1+im))\")\n",
    "            println(\"integrandMinus = $(integrandMinus(1+im))\")\n",
    "        tock()\n",
    "        # Integrate over individual paths in the Gamma contours\n",
    "        println(\"gamma0Plus = $gamma0Plus\")\n",
    "        tick()\n",
    "            integralGamma0Plus = 0\n",
    "            for path in gamma0Plus\n",
    "                println(\"path = $path\")\n",
    "                if length(path) == 0\n",
    "                    path = [im,im]\n",
    "                end\n",
    "                tick()\n",
    "                integralGamma0Plus += quadgk(integrandPlus, path...)[1]\n",
    "                tock()\n",
    "            end\n",
    "        tock()\n",
    "        \n",
    "        println(\"int_0_+ = $integralGamma0Plus\")\n",
    "        \n",
    "        println(\"gammaAPlus = $gammaAPlus\")\n",
    "        tick()\n",
    "        \n",
    "            integralGammaAPlus = 0\n",
    "            for path in gammaAPlus\n",
    "                println(\"path = $path\")\n",
    "                if length(path) == 0\n",
    "                    path = [im,im]\n",
    "                end\n",
    "                tick()\n",
    "                integralGammaAPlus += quadgk(integrandPlus, path...)[1]\n",
    "                tock()\n",
    "            end\n",
    "        tock()\n",
    "        \n",
    "        println(\"int_a_+ = $integralGammaAPlus\")\n",
    "        \n",
    "        println(\"gamma0Minus = $gamma0Minus\")\n",
    "        tick()\n",
    "            integralGamma0Minus = 0\n",
    "            for path in gamma0Minus\n",
    "                println(\"path = $path\")\n",
    "                if length(path) == 0\n",
    "                    path = [-im,-im]\n",
    "                end\n",
    "                tick()\n",
    "                integralGamma0Minus += quadgk(integrandMinus, path...)[1]\n",
    "                tock()\n",
    "            end\n",
    "        tock()\n",
    "\n",
    "        println(\"int_0_- = $integralGamma0Minus\")\n",
    "        \n",
    "        println(\"gammaAMinus = $gammaAMinus\")\n",
    "        tick() \n",
    "            integralGammaAMinus = 0\n",
    "            for path in gammaAMinus\n",
    "                println(\"path = $path\")\n",
    "                if length(path) == 0\n",
    "                    path = [-im,-im]\n",
    "                end\n",
    "                tick()\n",
    "                integralGammaAMinus += quadgk(integrandMinus, path...)[1]\n",
    "                tock()\n",
    "            end\n",
    "        tock()\n",
    "        println(\"int_a_- = $integralGammaAMinus\")\n",
    "        return (integralGamma0Plus + integralGammaAPlus + integralGamma0Minus + integralGammaAMinus)\n",
    "    end\n",
    "    return q\n",
    "end"
   ]
  }
 ],
 "metadata": {
  "kernelspec": {
   "display_name": "Julia 1.1.1",
   "language": "julia",
   "name": "julia-1.1"
  },
  "language_info": {
   "file_extension": ".jl",
   "mimetype": "application/julia",
   "name": "julia",
   "version": "1.1.1"
  },
  "toc": {
   "base_numbering": 1,
   "nav_menu": {},
   "number_sections": true,
   "sideBar": true,
   "skip_h1_title": false,
   "title_cell": "Table of Contents",
   "title_sidebar": "Contents",
   "toc_cell": false,
   "toc_position": {},
   "toc_section_display": true,
   "toc_window_display": false
  }
 },
 "nbformat": 4,
 "nbformat_minor": 2
}
